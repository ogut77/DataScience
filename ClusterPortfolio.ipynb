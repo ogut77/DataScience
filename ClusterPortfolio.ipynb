{
  "nbformat": 4,
  "nbformat_minor": 0,
  "metadata": {
    "colab": {
      "provenance": [],
      "authorship_tag": "ABX9TyMsu/6B2GiPNbGs/zZVUPna",
      "include_colab_link": true
    },
    "kernelspec": {
      "name": "python3",
      "display_name": "Python 3"
    },
    "language_info": {
      "name": "python"
    }
  },
  "cells": [
    {
      "cell_type": "markdown",
      "metadata": {
        "id": "view-in-github",
        "colab_type": "text"
      },
      "source": [
        "<a href=\"https://colab.research.google.com/github/ogut77/DataScience/blob/main/ClusterPortfolio.ipynb\" target=\"_parent\"><img src=\"https://colab.research.google.com/assets/colab-badge.svg\" alt=\"Open In Colab\"/></a>"
      ]
    },
    {
      "cell_type": "code",
      "source": [
        "!pip install openbb\n",
        "!pip install Riskfolio-Lib"
      ],
      "metadata": {
        "colab": {
          "base_uri": "https://localhost:8080/",
          "height": 1000
        },
        "id": "0bQ9SAf29X0J",
        "outputId": "b8f7f2aa-8121-4f41-fcb9-12fc67ef1be6"
      },
      "execution_count": null,
      "outputs": [
        {
          "output_type": "stream",
          "name": "stdout",
          "text": [
            "Collecting openbb\n",
            "  Downloading openbb-4.1.6-py3-none-any.whl (183 kB)\n",
            "\u001b[2K     \u001b[90m━━━━━━━━━━━━━━━━━━━━━━━━━━━━━━━━━━━━━━━━\u001b[0m \u001b[32m183.3/183.3 kB\u001b[0m \u001b[31m2.1 MB/s\u001b[0m eta \u001b[36m0:00:00\u001b[0m\n",
            "\u001b[?25hCollecting openbb-benzinga<2.0.0,>=1.1.4 (from openbb)\n",
            "  Downloading openbb_benzinga-1.1.4-py3-none-any.whl (12 kB)\n",
            "Collecting openbb-commodity<2.0.0,>=1.0.2 (from openbb)\n",
            "  Downloading openbb_commodity-1.0.2-py3-none-any.whl (2.4 kB)\n",
            "Collecting openbb-core<2.0.0,>=1.1.5 (from openbb)\n",
            "  Downloading openbb_core-1.1.5-py3-none-any.whl (225 kB)\n",
            "\u001b[2K     \u001b[90m━━━━━━━━━━━━━━━━━━━━━━━━━━━━━━━━━━━━━━━━\u001b[0m \u001b[32m225.9/225.9 kB\u001b[0m \u001b[31m12.7 MB/s\u001b[0m eta \u001b[36m0:00:00\u001b[0m\n",
            "\u001b[?25hCollecting openbb-crypto<2.0.0,>=1.1.4 (from openbb)\n",
            "  Downloading openbb_crypto-1.1.4-py3-none-any.whl (3.3 kB)\n",
            "Collecting openbb-currency<2.0.0,>=1.1.4 (from openbb)\n",
            "  Downloading openbb_currency-1.1.4-py3-none-any.whl (4.5 kB)\n",
            "Collecting openbb-derivatives<2.0.0,>=1.1.4 (from openbb)\n",
            "  Downloading openbb_derivatives-1.1.4-py3-none-any.whl (4.0 kB)\n",
            "Collecting openbb-economy<2.0.0,>=1.1.4 (from openbb)\n",
            "  Downloading openbb_economy-1.1.4-py3-none-any.whl (4.9 kB)\n",
            "Collecting openbb-equity<2.0.0,>=1.1.4 (from openbb)\n",
            "  Downloading openbb_equity-1.1.4-py3-none-any.whl (14 kB)\n",
            "Collecting openbb-etf<2.0.0,>=1.1.4 (from openbb)\n",
            "  Downloading openbb_etf-1.1.4-py3-none-any.whl (3.8 kB)\n",
            "Collecting openbb-federal-reserve<2.0.0,>=1.1.4 (from openbb)\n",
            "  Downloading openbb_federal_reserve-1.1.4-py3-none-any.whl (6.2 kB)\n",
            "Collecting openbb-fixedincome<2.0.0,>=1.1.4 (from openbb)\n",
            "  Downloading openbb_fixedincome-1.1.4-py3-none-any.whl (9.9 kB)\n",
            "Collecting openbb-fmp<2.0.0,>=1.1.4 (from openbb)\n",
            "  Downloading openbb_fmp-1.1.4-py3-none-any.whl (94 kB)\n",
            "\u001b[2K     \u001b[90m━━━━━━━━━━━━━━━━━━━━━━━━━━━━━━━━━━━━━━━━\u001b[0m \u001b[32m94.4/94.4 kB\u001b[0m \u001b[31m8.5 MB/s\u001b[0m eta \u001b[36m0:00:00\u001b[0m\n",
            "\u001b[?25hCollecting openbb-fred<2.0.0,>=1.1.4 (from openbb)\n",
            "  Downloading openbb_fred-1.1.4-py3-none-any.whl (50 kB)\n",
            "\u001b[2K     \u001b[90m━━━━━━━━━━━━━━━━━━━━━━━━━━━━━━━━━━━━━━━━\u001b[0m \u001b[32m50.7/50.7 kB\u001b[0m \u001b[31m7.1 MB/s\u001b[0m eta \u001b[36m0:00:00\u001b[0m\n",
            "\u001b[?25hCollecting openbb-index<2.0.0,>=1.1.4 (from openbb)\n",
            "  Downloading openbb_index-1.1.4-py3-none-any.whl (3.8 kB)\n",
            "Collecting openbb-intrinio<2.0.0,>=1.1.4 (from openbb)\n",
            "  Downloading openbb_intrinio-1.1.4-py3-none-any.whl (75 kB)\n",
            "\u001b[2K     \u001b[90m━━━━━━━━━━━━━━━━━━━━━━━━━━━━━━━━━━━━━━━━\u001b[0m \u001b[32m75.8/75.8 kB\u001b[0m \u001b[31m8.7 MB/s\u001b[0m eta \u001b[36m0:00:00\u001b[0m\n",
            "\u001b[?25hCollecting openbb-news<2.0.0,>=1.1.4 (from openbb)\n",
            "  Downloading openbb_news-1.1.4-py3-none-any.whl (2.7 kB)\n",
            "Collecting openbb-oecd<2.0.0,>=1.1.4 (from openbb)\n",
            "  Downloading openbb_oecd-1.1.4-py3-none-any.whl (19 kB)\n",
            "Collecting openbb-polygon<2.0.0,>=1.1.4 (from openbb)\n",
            "  Downloading openbb_polygon-1.1.4-py3-none-any.whl (29 kB)\n",
            "Collecting openbb-regulators<2.0.0,>=1.1.4 (from openbb)\n",
            "  Downloading openbb_regulators-1.1.4-py3-none-any.whl (4.6 kB)\n",
            "Collecting openbb-sec<2.0.0,>=1.1.4 (from openbb)\n",
            "  Downloading openbb_sec-1.1.4-py3-none-any.whl (28 kB)\n",
            "Collecting openbb-tiingo<2.0.0,>=1.1.4 (from openbb)\n",
            "  Downloading openbb_tiingo-1.1.4-py3-none-any.whl (13 kB)\n",
            "Collecting openbb-tradingeconomics<2.0.0,>=1.1.4 (from openbb)\n",
            "  Downloading openbb_tradingeconomics-1.1.4-py3-none-any.whl (6.6 kB)\n",
            "Collecting openbb-yfinance<2.0.0,>=1.1.4 (from openbb)\n",
            "  Downloading openbb_yfinance-1.1.4-py3-none-any.whl (54 kB)\n",
            "\u001b[2K     \u001b[90m━━━━━━━━━━━━━━━━━━━━━━━━━━━━━━━━━━━━━━━━\u001b[0m \u001b[32m54.4/54.4 kB\u001b[0m \u001b[31m6.6 MB/s\u001b[0m eta \u001b[36m0:00:00\u001b[0m\n",
            "\u001b[?25hRequirement already satisfied: aiohttp<4.0.0,>=3.9.0 in /usr/local/lib/python3.10/dist-packages (from openbb-core<2.0.0,>=1.1.5->openbb) (3.9.3)\n",
            "Collecting fastapi<0.105.0,>=0.104.1 (from openbb-core<2.0.0,>=1.1.5->openbb)\n",
            "  Downloading fastapi-0.104.1-py3-none-any.whl (92 kB)\n",
            "\u001b[2K     \u001b[90m━━━━━━━━━━━━━━━━━━━━━━━━━━━━━━━━━━━━━━━━\u001b[0m \u001b[32m92.9/92.9 kB\u001b[0m \u001b[31m8.7 MB/s\u001b[0m eta \u001b[36m0:00:00\u001b[0m\n",
            "\u001b[?25hRequirement already satisfied: html5lib<2.0,>=1.1 in /usr/local/lib/python3.10/dist-packages (from openbb-core<2.0.0,>=1.1.5->openbb) (1.1)\n",
            "Collecting importlib-metadata<7.0.0,>=6.8.0 (from openbb-core<2.0.0,>=1.1.5->openbb)\n",
            "  Downloading importlib_metadata-6.11.0-py3-none-any.whl (23 kB)\n",
            "Requirement already satisfied: pandas>=1.5.3 in /usr/local/lib/python3.10/dist-packages (from openbb-core<2.0.0,>=1.1.5->openbb) (2.0.3)\n",
            "Collecting posthog<4.0.0,>=3.3.1 (from openbb-core<2.0.0,>=1.1.5->openbb)\n",
            "  Downloading posthog-3.5.0-py2.py3-none-any.whl (41 kB)\n",
            "\u001b[2K     \u001b[90m━━━━━━━━━━━━━━━━━━━━━━━━━━━━━━━━━━━━━━━━\u001b[0m \u001b[32m41.3/41.3 kB\u001b[0m \u001b[31m4.0 MB/s\u001b[0m eta \u001b[36m0:00:00\u001b[0m\n",
            "\u001b[?25hRequirement already satisfied: pydantic<3.0.0,>=2.5.1 in /usr/local/lib/python3.10/dist-packages (from openbb-core<2.0.0,>=1.1.5->openbb) (2.6.4)\n",
            "Collecting python-dotenv<2.0.0,>=1.0.0 (from openbb-core<2.0.0,>=1.1.5->openbb)\n",
            "  Downloading python_dotenv-1.0.1-py3-none-any.whl (19 kB)\n",
            "Collecting python-jose<4.0.0,>=3.3.0 (from openbb-core<2.0.0,>=1.1.5->openbb)\n",
            "  Downloading python_jose-3.3.0-py2.py3-none-any.whl (33 kB)\n",
            "Collecting python-multipart<0.0.7,>=0.0.6 (from openbb-core<2.0.0,>=1.1.5->openbb)\n",
            "  Downloading python_multipart-0.0.6-py3-none-any.whl (45 kB)\n",
            "\u001b[2K     \u001b[90m━━━━━━━━━━━━━━━━━━━━━━━━━━━━━━━━━━━━━━━━\u001b[0m \u001b[32m45.7/45.7 kB\u001b[0m \u001b[31m4.8 MB/s\u001b[0m eta \u001b[36m0:00:00\u001b[0m\n",
            "\u001b[?25hRequirement already satisfied: requests<3.0.0,>=2.31.0 in /usr/local/lib/python3.10/dist-packages (from openbb-core<2.0.0,>=1.1.5->openbb) (2.31.0)\n",
            "Collecting ruff<0.2.0,>=0.1.6 (from openbb-core<2.0.0,>=1.1.5->openbb)\n",
            "  Downloading ruff-0.1.15-py3-none-manylinux_2_17_x86_64.manylinux2014_x86_64.whl (7.5 MB)\n",
            "\u001b[2K     \u001b[90m━━━━━━━━━━━━━━━━━━━━━━━━━━━━━━━━━━━━━━━━\u001b[0m \u001b[32m7.5/7.5 MB\u001b[0m \u001b[31m7.8 MB/s\u001b[0m eta \u001b[36m0:00:00\u001b[0m\n",
            "\u001b[?25hCollecting uuid7<0.2.0,>=0.1.0 (from openbb-core<2.0.0,>=1.1.5->openbb)\n",
            "  Downloading uuid7-0.1.0-py2.py3-none-any.whl (7.5 kB)\n",
            "Collecting uvicorn<0.25,>=0.24 (from openbb-core<2.0.0,>=1.1.5->openbb)\n",
            "  Downloading uvicorn-0.24.0.post1-py3-none-any.whl (59 kB)\n",
            "\u001b[2K     \u001b[90m━━━━━━━━━━━━━━━━━━━━━━━━━━━━━━━━━━━━━━━━\u001b[0m \u001b[32m59.7/59.7 kB\u001b[0m \u001b[31m5.6 MB/s\u001b[0m eta \u001b[36m0:00:00\u001b[0m\n",
            "\u001b[?25hCollecting websockets<13.0,>=12.0 (from openbb-core<2.0.0,>=1.1.5->openbb)\n",
            "  Downloading websockets-12.0-cp310-cp310-manylinux_2_5_x86_64.manylinux1_x86_64.manylinux_2_17_x86_64.manylinux2014_x86_64.whl (130 kB)\n",
            "\u001b[2K     \u001b[90m━━━━━━━━━━━━━━━━━━━━━━━━━━━━━━━━━━━━━━━━\u001b[0m \u001b[32m130.2/130.2 kB\u001b[0m \u001b[31m6.2 MB/s\u001b[0m eta \u001b[36m0:00:00\u001b[0m\n",
            "\u001b[?25hCollecting requests-cache<2.0.0,>=1.1.0 (from openbb-intrinio<2.0.0,>=1.1.4->openbb)\n",
            "  Downloading requests_cache-1.2.0-py3-none-any.whl (61 kB)\n",
            "\u001b[2K     \u001b[90m━━━━━━━━━━━━━━━━━━━━━━━━━━━━━━━━━━━━━━━━\u001b[0m \u001b[32m61.4/61.4 kB\u001b[0m \u001b[31m3.5 MB/s\u001b[0m eta \u001b[36m0:00:00\u001b[0m\n",
            "\u001b[?25hCollecting defusedxml<0.9.0,>=0.8.0rc2 (from openbb-oecd<2.0.0,>=1.1.4->openbb)\n",
            "  Downloading defusedxml-0.8.0rc2-py2.py3-none-any.whl (25 kB)\n",
            "Requirement already satisfied: urllib3>1.26.16 in /usr/local/lib/python3.10/dist-packages (from openbb-oecd<2.0.0,>=1.1.4->openbb) (2.0.7)\n",
            "Collecting pytest-freezegun<0.5.0,>=0.4.2 (from openbb-sec<2.0.0,>=1.1.4->openbb)\n",
            "  Downloading pytest_freezegun-0.4.2-py2.py3-none-any.whl (4.6 kB)\n",
            "Collecting xmltodict<0.14.0,>=0.13.0 (from openbb-sec<2.0.0,>=1.1.4->openbb)\n",
            "  Downloading xmltodict-0.13.0-py2.py3-none-any.whl (10.0 kB)\n",
            "Requirement already satisfied: yfinance<0.3.0,>=0.2.27 in /usr/local/lib/python3.10/dist-packages (from openbb-yfinance<2.0.0,>=1.1.4->openbb) (0.2.37)\n",
            "Requirement already satisfied: aiosignal>=1.1.2 in /usr/local/lib/python3.10/dist-packages (from aiohttp<4.0.0,>=3.9.0->openbb-core<2.0.0,>=1.1.5->openbb) (1.3.1)\n",
            "Requirement already satisfied: attrs>=17.3.0 in /usr/local/lib/python3.10/dist-packages (from aiohttp<4.0.0,>=3.9.0->openbb-core<2.0.0,>=1.1.5->openbb) (23.2.0)\n",
            "Requirement already satisfied: frozenlist>=1.1.1 in /usr/local/lib/python3.10/dist-packages (from aiohttp<4.0.0,>=3.9.0->openbb-core<2.0.0,>=1.1.5->openbb) (1.4.1)\n",
            "Requirement already satisfied: multidict<7.0,>=4.5 in /usr/local/lib/python3.10/dist-packages (from aiohttp<4.0.0,>=3.9.0->openbb-core<2.0.0,>=1.1.5->openbb) (6.0.5)\n",
            "Requirement already satisfied: yarl<2.0,>=1.0 in /usr/local/lib/python3.10/dist-packages (from aiohttp<4.0.0,>=3.9.0->openbb-core<2.0.0,>=1.1.5->openbb) (1.9.4)\n",
            "Requirement already satisfied: async-timeout<5.0,>=4.0 in /usr/local/lib/python3.10/dist-packages (from aiohttp<4.0.0,>=3.9.0->openbb-core<2.0.0,>=1.1.5->openbb) (4.0.3)\n",
            "Requirement already satisfied: anyio<4.0.0,>=3.7.1 in /usr/local/lib/python3.10/dist-packages (from fastapi<0.105.0,>=0.104.1->openbb-core<2.0.0,>=1.1.5->openbb) (3.7.1)\n",
            "Collecting starlette<0.28.0,>=0.27.0 (from fastapi<0.105.0,>=0.104.1->openbb-core<2.0.0,>=1.1.5->openbb)\n",
            "  Downloading starlette-0.27.0-py3-none-any.whl (66 kB)\n",
            "\u001b[2K     \u001b[90m━━━━━━━━━━━━━━━━━━━━━━━━━━━━━━━━━━━━━━━━\u001b[0m \u001b[32m67.0/67.0 kB\u001b[0m \u001b[31m6.0 MB/s\u001b[0m eta \u001b[36m0:00:00\u001b[0m\n",
            "\u001b[?25hRequirement already satisfied: typing-extensions>=4.8.0 in /usr/local/lib/python3.10/dist-packages (from fastapi<0.105.0,>=0.104.1->openbb-core<2.0.0,>=1.1.5->openbb) (4.11.0)\n",
            "Requirement already satisfied: six>=1.9 in /usr/local/lib/python3.10/dist-packages (from html5lib<2.0,>=1.1->openbb-core<2.0.0,>=1.1.5->openbb) (1.16.0)\n",
            "Requirement already satisfied: webencodings in /usr/local/lib/python3.10/dist-packages (from html5lib<2.0,>=1.1->openbb-core<2.0.0,>=1.1.5->openbb) (0.5.1)\n",
            "Requirement already satisfied: zipp>=0.5 in /usr/local/lib/python3.10/dist-packages (from importlib-metadata<7.0.0,>=6.8.0->openbb-core<2.0.0,>=1.1.5->openbb) (3.18.1)\n",
            "Requirement already satisfied: python-dateutil>=2.8.2 in /usr/local/lib/python3.10/dist-packages (from pandas>=1.5.3->openbb-core<2.0.0,>=1.1.5->openbb) (2.8.2)\n",
            "Requirement already satisfied: pytz>=2020.1 in /usr/local/lib/python3.10/dist-packages (from pandas>=1.5.3->openbb-core<2.0.0,>=1.1.5->openbb) (2023.4)\n",
            "Requirement already satisfied: tzdata>=2022.1 in /usr/local/lib/python3.10/dist-packages (from pandas>=1.5.3->openbb-core<2.0.0,>=1.1.5->openbb) (2024.1)\n",
            "Requirement already satisfied: numpy>=1.21.0 in /usr/local/lib/python3.10/dist-packages (from pandas>=1.5.3->openbb-core<2.0.0,>=1.1.5->openbb) (1.25.2)\n",
            "Collecting monotonic>=1.5 (from posthog<4.0.0,>=3.3.1->openbb-core<2.0.0,>=1.1.5->openbb)\n",
            "  Downloading monotonic-1.6-py2.py3-none-any.whl (8.2 kB)\n",
            "Collecting backoff>=1.10.0 (from posthog<4.0.0,>=3.3.1->openbb-core<2.0.0,>=1.1.5->openbb)\n",
            "  Downloading backoff-2.2.1-py3-none-any.whl (15 kB)\n",
            "Requirement already satisfied: annotated-types>=0.4.0 in /usr/local/lib/python3.10/dist-packages (from pydantic<3.0.0,>=2.5.1->openbb-core<2.0.0,>=1.1.5->openbb) (0.6.0)\n",
            "Requirement already satisfied: pydantic-core==2.16.3 in /usr/local/lib/python3.10/dist-packages (from pydantic<3.0.0,>=2.5.1->openbb-core<2.0.0,>=1.1.5->openbb) (2.16.3)\n",
            "Collecting freezegun>0.3 (from pytest-freezegun<0.5.0,>=0.4.2->openbb-sec<2.0.0,>=1.1.4->openbb)\n",
            "  Downloading freezegun-1.4.0-py3-none-any.whl (17 kB)\n",
            "Requirement already satisfied: pytest>=3.0.0 in /usr/local/lib/python3.10/dist-packages (from pytest-freezegun<0.5.0,>=0.4.2->openbb-sec<2.0.0,>=1.1.4->openbb) (7.4.4)\n",
            "Collecting ecdsa!=0.15 (from python-jose<4.0.0,>=3.3.0->openbb-core<2.0.0,>=1.1.5->openbb)\n",
            "  Downloading ecdsa-0.19.0-py2.py3-none-any.whl (149 kB)\n",
            "\u001b[2K     \u001b[90m━━━━━━━━━━━━━━━━━━━━━━━━━━━━━━━━━━━━━━━━\u001b[0m \u001b[32m149.3/149.3 kB\u001b[0m \u001b[31m7.4 MB/s\u001b[0m eta \u001b[36m0:00:00\u001b[0m\n",
            "\u001b[?25hRequirement already satisfied: rsa in /usr/local/lib/python3.10/dist-packages (from python-jose<4.0.0,>=3.3.0->openbb-core<2.0.0,>=1.1.5->openbb) (4.9)\n",
            "Requirement already satisfied: pyasn1 in /usr/local/lib/python3.10/dist-packages (from python-jose<4.0.0,>=3.3.0->openbb-core<2.0.0,>=1.1.5->openbb) (0.6.0)\n",
            "Requirement already satisfied: charset-normalizer<4,>=2 in /usr/local/lib/python3.10/dist-packages (from requests<3.0.0,>=2.31.0->openbb-core<2.0.0,>=1.1.5->openbb) (3.3.2)\n",
            "Requirement already satisfied: idna<4,>=2.5 in /usr/local/lib/python3.10/dist-packages (from requests<3.0.0,>=2.31.0->openbb-core<2.0.0,>=1.1.5->openbb) (3.6)\n",
            "Requirement already satisfied: certifi>=2017.4.17 in /usr/local/lib/python3.10/dist-packages (from requests<3.0.0,>=2.31.0->openbb-core<2.0.0,>=1.1.5->openbb) (2024.2.2)\n",
            "Collecting cattrs>=22.2 (from requests-cache<2.0.0,>=1.1.0->openbb-intrinio<2.0.0,>=1.1.4->openbb)\n",
            "  Downloading cattrs-23.2.3-py3-none-any.whl (57 kB)\n",
            "\u001b[2K     \u001b[90m━━━━━━━━━━━━━━━━━━━━━━━━━━━━━━━━━━━━━━━━\u001b[0m \u001b[32m57.5/57.5 kB\u001b[0m \u001b[31m6.7 MB/s\u001b[0m eta \u001b[36m0:00:00\u001b[0m\n",
            "\u001b[?25hRequirement already satisfied: platformdirs>=2.5 in /usr/local/lib/python3.10/dist-packages (from requests-cache<2.0.0,>=1.1.0->openbb-intrinio<2.0.0,>=1.1.4->openbb) (4.2.0)\n",
            "Collecting url-normalize>=1.4 (from requests-cache<2.0.0,>=1.1.0->openbb-intrinio<2.0.0,>=1.1.4->openbb)\n",
            "  Downloading url_normalize-1.4.3-py2.py3-none-any.whl (6.8 kB)\n",
            "Requirement already satisfied: click>=7.0 in /usr/local/lib/python3.10/dist-packages (from uvicorn<0.25,>=0.24->openbb-core<2.0.0,>=1.1.5->openbb) (8.1.7)\n",
            "Collecting h11>=0.8 (from uvicorn<0.25,>=0.24->openbb-core<2.0.0,>=1.1.5->openbb)\n",
            "  Downloading h11-0.14.0-py3-none-any.whl (58 kB)\n",
            "\u001b[2K     \u001b[90m━━━━━━━━━━━━━━━━━━━━━━━━━━━━━━━━━━━━━━━━\u001b[0m \u001b[32m58.3/58.3 kB\u001b[0m \u001b[31m5.7 MB/s\u001b[0m eta \u001b[36m0:00:00\u001b[0m\n",
            "\u001b[?25hRequirement already satisfied: multitasking>=0.0.7 in /usr/local/lib/python3.10/dist-packages (from yfinance<0.3.0,>=0.2.27->openbb-yfinance<2.0.0,>=1.1.4->openbb) (0.0.11)\n",
            "Requirement already satisfied: lxml>=4.9.1 in /usr/local/lib/python3.10/dist-packages (from yfinance<0.3.0,>=0.2.27->openbb-yfinance<2.0.0,>=1.1.4->openbb) (4.9.4)\n",
            "Requirement already satisfied: appdirs>=1.4.4 in /usr/local/lib/python3.10/dist-packages (from yfinance<0.3.0,>=0.2.27->openbb-yfinance<2.0.0,>=1.1.4->openbb) (1.4.4)\n",
            "Requirement already satisfied: frozendict>=2.3.4 in /usr/local/lib/python3.10/dist-packages (from yfinance<0.3.0,>=0.2.27->openbb-yfinance<2.0.0,>=1.1.4->openbb) (2.4.1)\n",
            "Requirement already satisfied: peewee>=3.16.2 in /usr/local/lib/python3.10/dist-packages (from yfinance<0.3.0,>=0.2.27->openbb-yfinance<2.0.0,>=1.1.4->openbb) (3.17.1)\n",
            "Requirement already satisfied: beautifulsoup4>=4.11.1 in /usr/local/lib/python3.10/dist-packages (from yfinance<0.3.0,>=0.2.27->openbb-yfinance<2.0.0,>=1.1.4->openbb) (4.12.3)\n",
            "Requirement already satisfied: sniffio>=1.1 in /usr/local/lib/python3.10/dist-packages (from anyio<4.0.0,>=3.7.1->fastapi<0.105.0,>=0.104.1->openbb-core<2.0.0,>=1.1.5->openbb) (1.3.1)\n",
            "Requirement already satisfied: exceptiongroup in /usr/local/lib/python3.10/dist-packages (from anyio<4.0.0,>=3.7.1->fastapi<0.105.0,>=0.104.1->openbb-core<2.0.0,>=1.1.5->openbb) (1.2.0)\n",
            "Requirement already satisfied: soupsieve>1.2 in /usr/local/lib/python3.10/dist-packages (from beautifulsoup4>=4.11.1->yfinance<0.3.0,>=0.2.27->openbb-yfinance<2.0.0,>=1.1.4->openbb) (2.5)\n",
            "Requirement already satisfied: iniconfig in /usr/local/lib/python3.10/dist-packages (from pytest>=3.0.0->pytest-freezegun<0.5.0,>=0.4.2->openbb-sec<2.0.0,>=1.1.4->openbb) (2.0.0)\n",
            "Requirement already satisfied: packaging in /usr/local/lib/python3.10/dist-packages (from pytest>=3.0.0->pytest-freezegun<0.5.0,>=0.4.2->openbb-sec<2.0.0,>=1.1.4->openbb) (24.0)\n",
            "Requirement already satisfied: pluggy<2.0,>=0.12 in /usr/local/lib/python3.10/dist-packages (from pytest>=3.0.0->pytest-freezegun<0.5.0,>=0.4.2->openbb-sec<2.0.0,>=1.1.4->openbb) (1.4.0)\n",
            "Requirement already satisfied: tomli>=1.0.0 in /usr/local/lib/python3.10/dist-packages (from pytest>=3.0.0->pytest-freezegun<0.5.0,>=0.4.2->openbb-sec<2.0.0,>=1.1.4->openbb) (2.0.1)\n",
            "Installing collected packages: monotonic, xmltodict, websockets, uuid7, url-normalize, ruff, python-multipart, python-dotenv, importlib-metadata, h11, ecdsa, defusedxml, cattrs, backoff, uvicorn, starlette, requests-cache, python-jose, posthog, freezegun, pytest-freezegun, fastapi, openbb-core, openbb-yfinance, openbb-tradingeconomics, openbb-tiingo, openbb-sec, openbb-regulators, openbb-polygon, openbb-oecd, openbb-news, openbb-intrinio, openbb-index, openbb-fred, openbb-fmp, openbb-fixedincome, openbb-federal-reserve, openbb-etf, openbb-equity, openbb-economy, openbb-derivatives, openbb-currency, openbb-crypto, openbb-commodity, openbb-benzinga, openbb\n",
            "  Attempting uninstall: importlib-metadata\n",
            "    Found existing installation: importlib_metadata 7.1.0\n",
            "    Uninstalling importlib_metadata-7.1.0:\n",
            "      Successfully uninstalled importlib_metadata-7.1.0\n",
            "  Attempting uninstall: defusedxml\n",
            "    Found existing installation: defusedxml 0.7.1\n",
            "    Uninstalling defusedxml-0.7.1:\n",
            "      Successfully uninstalled defusedxml-0.7.1\n",
            "Successfully installed backoff-2.2.1 cattrs-23.2.3 defusedxml-0.8.0rc2 ecdsa-0.19.0 fastapi-0.104.1 freezegun-1.4.0 h11-0.14.0 importlib-metadata-6.11.0 monotonic-1.6 openbb-4.1.6 openbb-benzinga-1.1.4 openbb-commodity-1.0.2 openbb-core-1.1.5 openbb-crypto-1.1.4 openbb-currency-1.1.4 openbb-derivatives-1.1.4 openbb-economy-1.1.4 openbb-equity-1.1.4 openbb-etf-1.1.4 openbb-federal-reserve-1.1.4 openbb-fixedincome-1.1.4 openbb-fmp-1.1.4 openbb-fred-1.1.4 openbb-index-1.1.4 openbb-intrinio-1.1.4 openbb-news-1.1.4 openbb-oecd-1.1.4 openbb-polygon-1.1.4 openbb-regulators-1.1.4 openbb-sec-1.1.4 openbb-tiingo-1.1.4 openbb-tradingeconomics-1.1.4 openbb-yfinance-1.1.4 posthog-3.5.0 pytest-freezegun-0.4.2 python-dotenv-1.0.1 python-jose-3.3.0 python-multipart-0.0.6 requests-cache-1.2.0 ruff-0.1.15 starlette-0.27.0 url-normalize-1.4.3 uuid7-0.1.0 uvicorn-0.24.0.post1 websockets-12.0 xmltodict-0.13.0\n"
          ]
        },
        {
          "output_type": "display_data",
          "data": {
            "application/vnd.colab-display-data+json": {
              "pip_warning": {
                "packages": [
                  "defusedxml"
                ]
              },
              "id": "84944dfb5edb4e88964ef4a8b2660a46"
            }
          },
          "metadata": {}
        }
      ]
    },
    {
      "cell_type": "code",
      "execution_count": null,
      "metadata": {
        "id": "4zvgW0oo9R6F"
      },
      "outputs": [],
      "source": [
        "import pandas as pd\n",
        "from openbb import obb\n",
        "import riskfolio as rp"
      ]
    },
    {
      "cell_type": "code",
      "source": [
        "assets = [\n",
        "    \"XLE\", \"XLF\", \"XLU\", \"XLI\", \"GDX\",\n",
        "    \"XLK\", \"XLV\", \"XLY\", \"XLP\", \"XLB\",\n",
        "    \"XOP\", \"IYR\", \"XHB\", \"ITB\", \"VNQ\",\n",
        "    \"GDXJ\", \"IYE\", \"OIH\", \"XME\", \"XRT\",\n",
        "    \"SMH\", \"IBB\", \"KBE\", \"KRE\", \"XTL\",\n",
        "]\n",
        "data = (\n",
        "    obb\n",
        "    .equity\n",
        "    .price\n",
        "    .historical(assets, provider=\"yfinance\")\n",
        "    .to_df()\n",
        "    .pivot(columns=\"symbol\", values=\"close\")\n",
        ")\n",
        "returns = data.pct_change().dropna()"
      ],
      "metadata": {
        "id": "2pAActL_9Vle"
      },
      "execution_count": null,
      "outputs": []
    },
    {
      "cell_type": "code",
      "source": [
        "ax = rp.plot_dendrogram(\n",
        "    returns=returns,\n",
        "    codependence=\"pearson\",\n",
        "    linkage=\"single\",\n",
        "    k=None,\n",
        "    max_k=10,\n",
        "    leaf_order=True,\n",
        "    ax=None,\n",
        ")"
      ],
      "metadata": {
        "colab": {
          "base_uri": "https://localhost:8080/",
          "height": 346
        },
        "id": "i4qTreCp9rha",
        "outputId": "5a60dcc3-dde5-47e6-b11d-d2e015781456"
      },
      "execution_count": null,
      "outputs": [
        {
          "output_type": "display_data",
          "data": {
            "text/plain": [
              "<Figure size 1200x500 with 1 Axes>"
            ],
            "image/png": "[encoded data removed]"
          },
          "metadata": {}
        }
      ]
    }
  ]
}