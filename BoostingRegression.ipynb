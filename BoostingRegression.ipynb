{
  "nbformat": 4,
  "nbformat_minor": 0,
  "metadata": {
    "colab": {
      "name": "Untitled68.ipynb",
      "provenance": [],
      "gpuType": "T4",
      "include_colab_link": true
    },
    "kernelspec": {
      "name": "python3",
      "display_name": "Python 3"
    },
    "language_info": {
      "name": "python"
    },
    "accelerator": "GPU"
  },
  "cells": [
    {
      "cell_type": "markdown",
      "metadata": {
        "id": "view-in-github",
        "colab_type": "text"
      },
      "source": [
        "<a href=\"https://colab.research.google.com/github/ogut77/DataScience/blob/main/BoostingRegression.ipynb\" target=\"_parent\"><img src=\"https://colab.research.google.com/assets/colab-badge.svg\" alt=\"Open In Colab\"/></a>"
      ]
    },
    {
      "cell_type": "code",
      "execution_count": null,
      "metadata": {
        "id": "yuu5yla6RAlg"
      },
      "outputs": [],
      "source": [
        "import pandas as pd\n",
        "import numpy as np\n",
        "import matplotlib.pyplot as plt\n",
        "import seaborn as sns"
      ]
    },
    {
      "cell_type": "code",
      "source": [
        "import pandas as pd\n",
        "import numpy as np\n",
        "import matplotlib.pyplot as plt\n",
        "from sklearn.metrics import accuracy_score,f1_score\n",
        "from sklearn.model_selection import train_test_split\n",
        "\n",
        "# Importing dataset\n",
        "df=pd.read_csv('https://raw.githubusercontent.com/ogut77/DataScience/main/data/housing.csv')\n",
        "df.head()"
      ],
      "metadata": {
        "colab": {
          "base_uri": "https://localhost:8080/",
          "height": 226
        },
        "id": "WuUfmgs-RGlr",
        "outputId": "d65e8d7e-303e-4bb4-f85a-534b18140d05"
      },
      "execution_count": null,
      "outputs": [
        {
          "output_type": "execute_result",
          "data": {
            "text/plain": [
              "   longitude  latitude  housing_median_age  total_rooms  total_bedrooms  \\\n",
              "0    -122.23     37.88                41.0        880.0           129.0   \n",
              "1    -122.22     37.86                21.0       7099.0          1106.0   \n",
              "2    -122.24     37.85                52.0       1467.0           190.0   \n",
              "3    -122.25     37.85                52.0       1274.0           235.0   \n",
              "4    -122.25     37.85                52.0       1627.0           280.0   \n",
              "\n",
              "   population  households  median_income  median_house_value ocean_proximity  \n",
              "0       322.0       126.0         8.3252            452600.0        NEAR BAY  \n",
              "1      2401.0      1138.0         8.3014            358500.0        NEAR BAY  \n",
              "2       496.0       177.0         7.2574            352100.0        NEAR BAY  \n",
              "3       558.0       219.0         5.6431            341300.0        NEAR BAY  \n",
              "4       565.0       259.0         3.8462            342200.0        NEAR BAY  "
            ],
            "text/html": [
              "\n",
              "  <div id=\"df-05bb2a9d-eab9-4c11-9d02-df5d94d9315a\" class=\"colab-df-container\">\n",
              "    <div>\n",
              "<style scoped>\n",
              "    .dataframe tbody tr th:only-of-type {\n",
              "        vertical-align: middle;\n",
              "    }\n",
              "\n",
              "    .dataframe tbody tr th {\n",
              "        vertical-align: top;\n",
              "    }\n",
              "\n",
              "    .dataframe thead th {\n",
              "        text-align: right;\n",
              "    }\n",
              "</style>\n",
              "<table border=\"1\" class=\"dataframe\">\n",
              "  <thead>\n",
              "    <tr style=\"text-align: right;\">\n",
              "      <th></th>\n",
              "      <th>longitude</th>\n",
              "      <th>latitude</th>\n",
              "      <th>housing_median_age</th>\n",
              "      <th>total_rooms</th>\n",
              "      <th>total_bedrooms</th>\n",
              "      <th>population</th>\n",
              "      <th>households</th>\n",
              "      <th>median_income</th>\n",
              "      <th>median_house_value</th>\n",
              "      <th>ocean_proximity</th>\n",
              "    </tr>\n",
              "  </thead>\n",
              "  <tbody>\n",
              "    <tr>\n",
              "      <th>0</th>\n",
              "      <td>-122.23</td>\n",
              "      <td>37.88</td>\n",
              "      <td>41.0</td>\n",
              "      <td>880.0</td>\n",
              "      <td>129.0</td>\n",
              "      <td>322.0</td>\n",
              "      <td>126.0</td>\n",
              "      <td>8.3252</td>\n",
              "      <td>452600.0</td>\n",
              "      <td>NEAR BAY</td>\n",
              "    </tr>\n",
              "    <tr>\n",
              "      <th>1</th>\n",
              "      <td>-122.22</td>\n",
              "      <td>37.86</td>\n",
              "      <td>21.0</td>\n",
              "      <td>7099.0</td>\n",
              "      <td>1106.0</td>\n",
              "      <td>2401.0</td>\n",
              "      <td>1138.0</td>\n",
              "      <td>8.3014</td>\n",
              "      <td>358500.0</td>\n",
              "      <td>NEAR BAY</td>\n",
              "    </tr>\n",
              "    <tr>\n",
              "      <th>2</th>\n",
              "      <td>-122.24</td>\n",
              "      <td>37.85</td>\n",
              "      <td>52.0</td>\n",
              "      <td>1467.0</td>\n",
              "      <td>190.0</td>\n",
              "      <td>496.0</td>\n",
              "      <td>177.0</td>\n",
              "      <td>7.2574</td>\n",
              "      <td>352100.0</td>\n",
              "      <td>NEAR BAY</td>\n",
              "    </tr>\n",
              "    <tr>\n",
              "      <th>3</th>\n",
              "      <td>-122.25</td>\n",
              "      <td>37.85</td>\n",
              "      <td>52.0</td>\n",
              "      <td>1274.0</td>\n",
              "      <td>235.0</td>\n",
              "      <td>558.0</td>\n",
              "      <td>219.0</td>\n",
              "      <td>5.6431</td>\n",
              "      <td>341300.0</td>\n",
              "      <td>NEAR BAY</td>\n",
              "    </tr>\n",
              "    <tr>\n",
              "      <th>4</th>\n",
              "      <td>-122.25</td>\n",
              "      <td>37.85</td>\n",
              "      <td>52.0</td>\n",
              "      <td>1627.0</td>\n",
              "      <td>280.0</td>\n",
              "      <td>565.0</td>\n",
              "      <td>259.0</td>\n",
              "      <td>3.8462</td>\n",
              "      <td>342200.0</td>\n",
              "      <td>NEAR BAY</td>\n",
              "    </tr>\n",
              "  </tbody>\n",
              "</table>\n",
              "</div>\n",
              "    <div class=\"colab-df-buttons\">\n",
              "\n",
              "  <div class=\"colab-df-container\">\n",
              "    <button class=\"colab-df-convert\" onclick=\"convertToInteractive('df-05bb2a9d-eab9-4c11-9d02-df5d94d9315a')\"\n",
              "            title=\"Convert this dataframe to an interactive table.\"\n",
              "            style=\"display:none;\">\n",
              "\n",
              "  <svg xmlns=\"http://www.w3.org/2000/svg\" height=\"24px\" viewBox=\"0 -960 960 960\">\n",
              "    <path d=\"M120-120v-720h720v720H120Zm60-500h600v-160H180v160Zm220 220h160v-160H400v160Zm0 220h160v-160H400v160ZM180-400h160v-160H180v160Zm440 0h160v-160H620v160ZM180-180h160v-160H180v160Zm440 0h160v-160H620v160Z\"/>\n",
              "  </svg>\n",
              "    </button>\n",
              "\n",
              "  <style>\n",
              "    .colab-df-container {\n",
              "      display:flex;\n",
              "      gap: 12px;\n",
              "    }\n",
              "\n",
              "    .colab-df-convert {\n",
              "      background-color: #E8F0FE;\n",
              "      border: none;\n",
              "      border-radius: 50%;\n",
              "      cursor: pointer;\n",
              "      display: none;\n",
              "      fill: #1967D2;\n",
              "      height: 32px;\n",
              "      padding: 0 0 0 0;\n",
              "      width: 32px;\n",
              "    }\n",
              "\n",
              "    .colab-df-convert:hover {\n",
              "      background-color: #E2EBFA;\n",
              "      box-shadow: 0px 1px 2px rgba(60, 64, 67, 0.3), 0px 1px 3px 1px rgba(60, 64, 67, 0.15);\n",
              "      fill: #174EA6;\n",
              "    }\n",
              "\n",
              "    .colab-df-buttons div {\n",
              "      margin-bottom: 4px;\n",
              "    }\n",
              "\n",
              "    [theme=dark] .colab-df-convert {\n",
              "      background-color: #3B4455;\n",
              "      fill: #D2E3FC;\n",
              "    }\n",
              "\n",
              "    [theme=dark] .colab-df-convert:hover {\n",
              "      background-color: #434B5C;\n",
              "      box-shadow: 0px 1px 3px 1px rgba(0, 0, 0, 0.15);\n",
              "      filter: drop-shadow(0px 1px 2px rgba(0, 0, 0, 0.3));\n",
              "      fill: #FFFFFF;\n",
              "    }\n",
              "  </style>\n",
              "\n",
              "    <script>\n",
              "      const buttonEl =\n",
              "        document.querySelector('#df-05bb2a9d-eab9-4c11-9d02-df5d94d9315a button.colab-df-convert');\n",
              "      buttonEl.style.display =\n",
              "        google.colab.kernel.accessAllowed ? 'block' : 'none';\n",
              "\n",
              "      async function convertToInteractive(key) {\n",
              "        const element = document.querySelector('#df-05bb2a9d-eab9-4c11-9d02-df5d94d9315a');\n",
              "        const dataTable =\n",
              "          await google.colab.kernel.invokeFunction('convertToInteractive',\n",
              "                                                    [key], {});\n",
              "        if (!dataTable) return;\n",
              "\n",
              "        const docLinkHtml = 'Like what you see? Visit the ' +\n",
              "          '<a target=\"_blank\" href=https://colab.research.google.com/notebooks/data_table.ipynb>data table notebook</a>'\n",
              "          + ' to learn more about interactive tables.';\n",
              "        element.innerHTML = '';\n",
              "        dataTable['output_type'] = 'display_data';\n",
              "        await google.colab.output.renderOutput(dataTable, element);\n",
              "        const docLink = document.createElement('div');\n",
              "        docLink.innerHTML = docLinkHtml;\n",
              "        element.appendChild(docLink);\n",
              "      }\n",
              "    </script>\n",
              "  </div>\n",
              "\n",
              "\n",
              "<div id=\"df-c3463c90-bdc7-4e40-867d-c197936e969c\">\n",
              "  <button class=\"colab-df-quickchart\" onclick=\"quickchart('df-c3463c90-bdc7-4e40-867d-c197936e969c')\"\n",
              "            title=\"Suggest charts\"\n",
              "            style=\"display:none;\">\n",
              "\n",
              "<svg xmlns=\"http://www.w3.org/2000/svg\" height=\"24px\"viewBox=\"0 0 24 24\"\n",
              "     width=\"24px\">\n",
              "    <g>\n",
              "        <path d=\"M19 3H5c-1.1 0-2 .9-2 2v14c0 1.1.9 2 2 2h14c1.1 0 2-.9 2-2V5c0-1.1-.9-2-2-2zM9 17H7v-7h2v7zm4 0h-2V7h2v10zm4 0h-2v-4h2v4z\"/>\n",
              "    </g>\n",
              "</svg>\n",
              "  </button>\n",
              "\n",
              "<style>\n",
              "  .colab-df-quickchart {\n",
              "      --bg-color: #E8F0FE;\n",
              "      --fill-color: #1967D2;\n",
              "      --hover-bg-color: #E2EBFA;\n",
              "      --hover-fill-color: #174EA6;\n",
              "      --disabled-fill-color: #AAA;\n",
              "      --disabled-bg-color: #DDD;\n",
              "  }\n",
              "\n",
              "  [theme=dark] .colab-df-quickchart {\n",
              "      --bg-color: #3B4455;\n",
              "      --fill-color: #D2E3FC;\n",
              "      --hover-bg-color: #434B5C;\n",
              "      --hover-fill-color: #FFFFFF;\n",
              "      --disabled-bg-color: #3B4455;\n",
              "      --disabled-fill-color: #666;\n",
              "  }\n",
              "\n",
              "  .colab-df-quickchart {\n",
              "    background-color: var(--bg-color);\n",
              "    border: none;\n",
              "    border-radius: 50%;\n",
              "    cursor: pointer;\n",
              "    display: none;\n",
              "    fill: var(--fill-color);\n",
              "    height: 32px;\n",
              "    padding: 0;\n",
              "    width: 32px;\n",
              "  }\n",
              "\n",
              "  .colab-df-quickchart:hover {\n",
              "    background-color: var(--hover-bg-color);\n",
              "    box-shadow: 0 1px 2px rgba(60, 64, 67, 0.3), 0 1px 3px 1px rgba(60, 64, 67, 0.15);\n",
              "    fill: var(--button-hover-fill-color);\n",
              "  }\n",
              "\n",
              "  .colab-df-quickchart-complete:disabled,\n",
              "  .colab-df-quickchart-complete:disabled:hover {\n",
              "    background-color: var(--disabled-bg-color);\n",
              "    fill: var(--disabled-fill-color);\n",
              "    box-shadow: none;\n",
              "  }\n",
              "\n",
              "  .colab-df-spinner {\n",
              "    border: 2px solid var(--fill-color);\n",
              "    border-color: transparent;\n",
              "    border-bottom-color: var(--fill-color);\n",
              "    animation:\n",
              "      spin 1s steps(1) infinite;\n",
              "  }\n",
              "\n",
              "  @keyframes spin {\n",
              "    0% {\n",
              "      border-color: transparent;\n",
              "      border-bottom-color: var(--fill-color);\n",
              "      border-left-color: var(--fill-color);\n",
              "    }\n",
              "    20% {\n",
              "      border-color: transparent;\n",
              "      border-left-color: var(--fill-color);\n",
              "      border-top-color: var(--fill-color);\n",
              "    }\n",
              "    30% {\n",
              "      border-color: transparent;\n",
              "      border-left-color: var(--fill-color);\n",
              "      border-top-color: var(--fill-color);\n",
              "      border-right-color: var(--fill-color);\n",
              "    }\n",
              "    40% {\n",
              "      border-color: transparent;\n",
              "      border-right-color: var(--fill-color);\n",
              "      border-top-color: var(--fill-color);\n",
              "    }\n",
              "    60% {\n",
              "      border-color: transparent;\n",
              "      border-right-color: var(--fill-color);\n",
              "    }\n",
              "    80% {\n",
              "      border-color: transparent;\n",
              "      border-right-color: var(--fill-color);\n",
              "      border-bottom-color: var(--fill-color);\n",
              "    }\n",
              "    90% {\n",
              "      border-color: transparent;\n",
              "      border-bottom-color: var(--fill-color);\n",
              "    }\n",
              "  }\n",
              "</style>\n",
              "\n",
              "  <script>\n",
              "    async function quickchart(key) {\n",
              "      const quickchartButtonEl =\n",
              "        document.querySelector('#' + key + ' button');\n",
              "      quickchartButtonEl.disabled = true;  // To prevent multiple clicks.\n",
              "      quickchartButtonEl.classList.add('colab-df-spinner');\n",
              "      try {\n",
              "        const charts = await google.colab.kernel.invokeFunction(\n",
              "            'suggestCharts', [key], {});\n",
              "      } catch (error) {\n",
              "        console.error('Error during call to suggestCharts:', error);\n",
              "      }\n",
              "      quickchartButtonEl.classList.remove('colab-df-spinner');\n",
              "      quickchartButtonEl.classList.add('colab-df-quickchart-complete');\n",
              "    }\n",
              "    (() => {\n",
              "      let quickchartButtonEl =\n",
              "        document.querySelector('#df-c3463c90-bdc7-4e40-867d-c197936e969c button');\n",
              "      quickchartButtonEl.style.display =\n",
              "        google.colab.kernel.accessAllowed ? 'block' : 'none';\n",
              "    })();\n",
              "  </script>\n",
              "</div>\n",
              "\n",
              "    </div>\n",
              "  </div>\n"
            ],
            "application/vnd.google.colaboratory.intrinsic+json": {
              "type": "dataframe",
              "variable_name": "df",
              "summary": "{\n  \"name\": \"df\",\n  \"rows\": 20640,\n  \"fields\": [\n    {\n      \"column\": \"longitude\",\n      \"properties\": {\n        \"dtype\": \"number\",\n        \"std\": 2.003531723502581,\n        \"min\": -124.35,\n        \"max\": -114.31,\n        \"num_unique_values\": 844,\n        \"samples\": [\n          -118.63,\n          -119.86,\n          -121.26\n        ],\n        \"semantic_type\": \"\",\n        \"description\": \"\"\n      }\n    },\n    {\n      \"column\": \"latitude\",\n      \"properties\": {\n        \"dtype\": \"number\",\n        \"std\": 2.1359523974571117,\n        \"min\": 32.54,\n        \"max\": 41.95,\n        \"num_unique_values\": 862,\n        \"samples\": [\n          33.7,\n          34.41,\n          38.24\n        ],\n        \"semantic_type\": \"\",\n        \"description\": \"\"\n      }\n    },\n    {\n      \"column\": \"housing_median_age\",\n      \"properties\": {\n        \"dtype\": \"number\",\n        \"std\": 12.585557612111637,\n        \"min\": 1.0,\n        \"max\": 52.0,\n        \"num_unique_values\": 52,\n        \"samples\": [\n          35.0,\n          25.0,\n          7.0\n        ],\n        \"semantic_type\": \"\",\n        \"description\": \"\"\n      }\n    },\n    {\n      \"column\": \"total_rooms\",\n      \"properties\": {\n        \"dtype\": \"number\",\n        \"std\": 2181.615251582787,\n        \"min\": 2.0,\n        \"max\": 39320.0,\n        \"num_unique_values\": 5926,\n        \"samples\": [\n          699.0,\n          1544.0,\n          3966.0\n        ],\n        \"semantic_type\": \"\",\n        \"description\": \"\"\n      }\n    },\n    {\n      \"column\": \"total_bedrooms\",\n      \"properties\": {\n        \"dtype\": \"number\",\n        \"std\": 421.3850700740322,\n        \"min\": 1.0,\n        \"max\": 6445.0,\n        \"num_unique_values\": 1923,\n        \"samples\": [\n          1538.0,\n          1298.0,\n          1578.0\n        ],\n        \"semantic_type\": \"\",\n        \"description\": \"\"\n      }\n    },\n    {\n      \"column\": \"population\",\n      \"properties\": {\n        \"dtype\": \"number\",\n        \"std\": 1132.4621217653375,\n        \"min\": 3.0,\n        \"max\": 35682.0,\n        \"num_unique_values\": 3888,\n        \"samples\": [\n          4169.0,\n          636.0,\n          3367.0\n        ],\n        \"semantic_type\": \"\",\n        \"description\": \"\"\n      }\n    },\n    {\n      \"column\": \"households\",\n      \"properties\": {\n        \"dtype\": \"number\",\n        \"std\": 382.3297528316099,\n        \"min\": 1.0,\n        \"max\": 6082.0,\n        \"num_unique_values\": 1815,\n        \"samples\": [\n          21.0,\n          750.0,\n          1447.0\n        ],\n        \"semantic_type\": \"\",\n        \"description\": \"\"\n      }\n    },\n    {\n      \"column\": \"median_income\",\n      \"properties\": {\n        \"dtype\": \"number\",\n        \"std\": 1.8998217179452732,\n        \"min\": 0.4999,\n        \"max\": 15.0001,\n        \"num_unique_values\": 12928,\n        \"samples\": [\n          5.0286,\n          2.0433,\n          6.1228\n        ],\n        \"semantic_type\": \"\",\n        \"description\": \"\"\n      }\n    },\n    {\n      \"column\": \"median_house_value\",\n      \"properties\": {\n        \"dtype\": \"number\",\n        \"std\": 115395.6158744132,\n        \"min\": 14999.0,\n        \"max\": 500001.0,\n        \"num_unique_values\": 3842,\n        \"samples\": [\n          194300.0,\n          379000.0,\n          230100.0\n        ],\n        \"semantic_type\": \"\",\n        \"description\": \"\"\n      }\n    },\n    {\n      \"column\": \"ocean_proximity\",\n      \"properties\": {\n        \"dtype\": \"category\",\n        \"num_unique_values\": 5,\n        \"samples\": [\n          \"<1H OCEAN\",\n          \"ISLAND\",\n          \"INLAND\"\n        ],\n        \"semantic_type\": \"\",\n        \"description\": \"\"\n      }\n    }\n  ]\n}"
            }
          },
          "metadata": {},
          "execution_count": 17
        }
      ]
    },
    {
      "cell_type": "code",
      "source": [
        "#Check missing values\n",
        "df.isnull().sum()"
      ],
      "metadata": {
        "colab": {
          "base_uri": "https://localhost:8080/",
          "height": 397
        },
        "id": "9xLHZnIxR3R0",
        "outputId": "d5d849ed-16cd-43ed-a528-da53d1220e80"
      },
      "execution_count": null,
      "outputs": [
        {
          "output_type": "execute_result",
          "data": {
            "text/plain": [
              "longitude               0\n",
              "latitude                0\n",
              "housing_median_age      0\n",
              "total_rooms             0\n",
              "total_bedrooms        207\n",
              "population              0\n",
              "households              0\n",
              "median_income           0\n",
              "median_house_value      0\n",
              "ocean_proximity         0\n",
              "dtype: int64"
            ],
            "text/html": [
              "<div>\n",
              "<style scoped>\n",
              "    .dataframe tbody tr th:only-of-type {\n",
              "        vertical-align: middle;\n",
              "    }\n",
              "\n",
              "    .dataframe tbody tr th {\n",
              "        vertical-align: top;\n",
              "    }\n",
              "\n",
              "    .dataframe thead th {\n",
              "        text-align: right;\n",
              "    }\n",
              "</style>\n",
              "<table border=\"1\" class=\"dataframe\">\n",
              "  <thead>\n",
              "    <tr style=\"text-align: right;\">\n",
              "      <th></th>\n",
              "      <th>0</th>\n",
              "    </tr>\n",
              "  </thead>\n",
              "  <tbody>\n",
              "    <tr>\n",
              "      <th>longitude</th>\n",
              "      <td>0</td>\n",
              "    </tr>\n",
              "    <tr>\n",
              "      <th>latitude</th>\n",
              "      <td>0</td>\n",
              "    </tr>\n",
              "    <tr>\n",
              "      <th>housing_median_age</th>\n",
              "      <td>0</td>\n",
              "    </tr>\n",
              "    <tr>\n",
              "      <th>total_rooms</th>\n",
              "      <td>0</td>\n",
              "    </tr>\n",
              "    <tr>\n",
              "      <th>total_bedrooms</th>\n",
              "      <td>207</td>\n",
              "    </tr>\n",
              "    <tr>\n",
              "      <th>population</th>\n",
              "      <td>0</td>\n",
              "    </tr>\n",
              "    <tr>\n",
              "      <th>households</th>\n",
              "      <td>0</td>\n",
              "    </tr>\n",
              "    <tr>\n",
              "      <th>median_income</th>\n",
              "      <td>0</td>\n",
              "    </tr>\n",
              "    <tr>\n",
              "      <th>median_house_value</th>\n",
              "      <td>0</td>\n",
              "    </tr>\n",
              "    <tr>\n",
              "      <th>ocean_proximity</th>\n",
              "      <td>0</td>\n",
              "    </tr>\n",
              "  </tbody>\n",
              "</table>\n",
              "</div><br><label><b>dtype:</b> int64</label>"
            ]
          },
          "metadata": {},
          "execution_count": 18
        }
      ]
    },
    {
      "cell_type": "code",
      "source": [
        "bedroom_mean = df['total_bedrooms'].mean()\n",
        "df['total_bedrooms'].fillna(bedroom_mean, inplace=True)"
      ],
      "metadata": {
        "id": "2tMKZesvVzdC",
        "outputId": "ae735850-6e31-4560-95b3-e5959e793953",
        "colab": {
          "base_uri": "https://localhost:8080/"
        }
      },
      "execution_count": null,
      "outputs": [
        {
          "output_type": "stream",
          "name": "stderr",
          "text": [
            "<ipython-input-19-f8dbb0b77832>:2: FutureWarning: A value is trying to be set on a copy of a DataFrame or Series through chained assignment using an inplace method.\n",
            "The behavior will change in pandas 3.0. This inplace method will never work because the intermediate object on which we are setting values always behaves as a copy.\n",
            "\n",
            "For example, when doing 'df[col].method(value, inplace=True)', try using 'df.method({col: value}, inplace=True)' or df[col] = df[col].method(value) instead, to perform the operation inplace on the original object.\n",
            "\n",
            "\n",
            "  df['total_bedrooms'].fillna(bedroom_mean, inplace=True)\n"
          ]
        }
      ]
    },
    {
      "cell_type": "code",
      "source": [
        "df['ocean_proximity'].unique()"
      ],
      "metadata": {
        "id": "_OBavca9Xqm0",
        "outputId": "e0ae3ace-5c5f-4460-d415-37eac7eac359",
        "colab": {
          "base_uri": "https://localhost:8080/"
        }
      },
      "execution_count": null,
      "outputs": [
        {
          "output_type": "execute_result",
          "data": {
            "text/plain": [
              "array(['NEAR BAY', '<1H OCEAN', 'INLAND', 'NEAR OCEAN', 'ISLAND'],\n",
              "      dtype=object)"
            ]
          },
          "metadata": {},
          "execution_count": 20
        }
      ]
    },
    {
      "cell_type": "code",
      "source": [
        "df['ocean_proximity'].value_counts()"
      ],
      "metadata": {
        "id": "qbbF4LOIXuJi",
        "outputId": "563e9e96-226d-49c7-f8b3-aa555c16fc45",
        "colab": {
          "base_uri": "https://localhost:8080/",
          "height": 272
        }
      },
      "execution_count": null,
      "outputs": [
        {
          "output_type": "execute_result",
          "data": {
            "text/plain": [
              "ocean_proximity\n",
              "<1H OCEAN     9136\n",
              "INLAND        6551\n",
              "NEAR OCEAN    2658\n",
              "NEAR BAY      2290\n",
              "ISLAND           5\n",
              "Name: count, dtype: int64"
            ],
            "text/html": [
              "<div>\n",
              "<style scoped>\n",
              "    .dataframe tbody tr th:only-of-type {\n",
              "        vertical-align: middle;\n",
              "    }\n",
              "\n",
              "    .dataframe tbody tr th {\n",
              "        vertical-align: top;\n",
              "    }\n",
              "\n",
              "    .dataframe thead th {\n",
              "        text-align: right;\n",
              "    }\n",
              "</style>\n",
              "<table border=\"1\" class=\"dataframe\">\n",
              "  <thead>\n",
              "    <tr style=\"text-align: right;\">\n",
              "      <th></th>\n",
              "      <th>count</th>\n",
              "    </tr>\n",
              "    <tr>\n",
              "      <th>ocean_proximity</th>\n",
              "      <th></th>\n",
              "    </tr>\n",
              "  </thead>\n",
              "  <tbody>\n",
              "    <tr>\n",
              "      <th>&lt;1H OCEAN</th>\n",
              "      <td>9136</td>\n",
              "    </tr>\n",
              "    <tr>\n",
              "      <th>INLAND</th>\n",
              "      <td>6551</td>\n",
              "    </tr>\n",
              "    <tr>\n",
              "      <th>NEAR OCEAN</th>\n",
              "      <td>2658</td>\n",
              "    </tr>\n",
              "    <tr>\n",
              "      <th>NEAR BAY</th>\n",
              "      <td>2290</td>\n",
              "    </tr>\n",
              "    <tr>\n",
              "      <th>ISLAND</th>\n",
              "      <td>5</td>\n",
              "    </tr>\n",
              "  </tbody>\n",
              "</table>\n",
              "</div><br><label><b>dtype:</b> int64</label>"
            ]
          },
          "metadata": {},
          "execution_count": 21
        }
      ]
    },
    {
      "cell_type": "code",
      "source": [
        "#(Optinal) Delete Island as we have few value\n",
        "df = df[df.ocean_proximity != 'ISLAND']\n",
        "df['ocean_proximity'].value_counts()"
      ],
      "metadata": {
        "id": "hmW7sSCdadgi",
        "outputId": "8b063e30-9543-40c7-d45b-19ab2f5d5da8",
        "colab": {
          "base_uri": "https://localhost:8080/",
          "height": 241
        }
      },
      "execution_count": null,
      "outputs": [
        {
          "output_type": "execute_result",
          "data": {
            "text/plain": [
              "ocean_proximity\n",
              "<1H OCEAN     9136\n",
              "INLAND        6551\n",
              "NEAR OCEAN    2658\n",
              "NEAR BAY      2290\n",
              "Name: count, dtype: int64"
            ],
            "text/html": [
              "<div>\n",
              "<style scoped>\n",
              "    .dataframe tbody tr th:only-of-type {\n",
              "        vertical-align: middle;\n",
              "    }\n",
              "\n",
              "    .dataframe tbody tr th {\n",
              "        vertical-align: top;\n",
              "    }\n",
              "\n",
              "    .dataframe thead th {\n",
              "        text-align: right;\n",
              "    }\n",
              "</style>\n",
              "<table border=\"1\" class=\"dataframe\">\n",
              "  <thead>\n",
              "    <tr style=\"text-align: right;\">\n",
              "      <th></th>\n",
              "      <th>count</th>\n",
              "    </tr>\n",
              "    <tr>\n",
              "      <th>ocean_proximity</th>\n",
              "      <th></th>\n",
              "    </tr>\n",
              "  </thead>\n",
              "  <tbody>\n",
              "    <tr>\n",
              "      <th>&lt;1H OCEAN</th>\n",
              "      <td>9136</td>\n",
              "    </tr>\n",
              "    <tr>\n",
              "      <th>INLAND</th>\n",
              "      <td>6551</td>\n",
              "    </tr>\n",
              "    <tr>\n",
              "      <th>NEAR OCEAN</th>\n",
              "      <td>2658</td>\n",
              "    </tr>\n",
              "    <tr>\n",
              "      <th>NEAR BAY</th>\n",
              "      <td>2290</td>\n",
              "    </tr>\n",
              "  </tbody>\n",
              "</table>\n",
              "</div><br><label><b>dtype:</b> int64</label>"
            ]
          },
          "metadata": {},
          "execution_count": 22
        }
      ]
    },
    {
      "cell_type": "code",
      "source": [
        "X=df.drop(columns=['median_house_value'])\n",
        "X\n",
        "X = pd.get_dummies(X, drop_first=True)\n",
        "y=df['median_house_value']\n",
        "X_train, X_test, y_train, y_test = train_test_split(X, y, test_size = 0.2, random_state = 17)"
      ],
      "metadata": {
        "id": "USQbSWwFR0je"
      },
      "execution_count": null,
      "outputs": []
    },
    {
      "cell_type": "code",
      "source": [
        "print(X_train.shape)\n",
        "print(X_test.shape)"
      ],
      "metadata": {
        "id": "g6D5-kPwOIn6",
        "outputId": "6f1e163d-457c-4eac-a9b4-d24255a0404d",
        "colab": {
          "base_uri": "https://localhost:8080/"
        }
      },
      "execution_count": null,
      "outputs": [
        {
          "output_type": "stream",
          "name": "stdout",
          "text": [
            "(16508, 11)\n",
            "(4127, 11)\n"
          ]
        }
      ]
    },
    {
      "cell_type": "code",
      "source": [
        "def evalmetric(y,ypred):\n",
        " import numpy as np\n",
        " e = y - ypred\n",
        " mse_f = np.mean(e**2)\n",
        " rmse_f = np.sqrt(mse_f)\n",
        " mae_f = np.mean(abs(e))\n",
        " mape_f = 100*np.mean(abs(e/y))\n",
        " r2_f = 1-(sum(e**2)/sum((y-np.mean(y))**2))\n",
        " print(\"MSE:\", mse_f)\n",
        " print(\"RMSE:\", rmse_f)\n",
        " print(\"MAE:\",mae_f)\n",
        " print(\"MAPE:\",mape_f)\n",
        " print(\"R-Squared:\", r2_f)\n",
        "\n"
      ],
      "metadata": {
        "id": "oyFcoY9ZkXs8"
      },
      "execution_count": null,
      "outputs": []
    },
    {
      "cell_type": "markdown",
      "source": [
        "# **Test Result with Default Parameters**"
      ],
      "metadata": {
        "id": "tO2gI58lXBxr"
      }
    },
    {
      "cell_type": "code",
      "source": [
        "from sklearn.tree import DecisionTreeRegressor\n",
        "dtr = DecisionTreeRegressor(random_state=17)\n",
        "dtr.fit(X_train,y_train)\n",
        "## Predicting for training data\n",
        "print('Train Data')\n",
        "y_pred = dtr.predict(X_train)\n",
        "evalmetric(y_train,y_pred)\n",
        "print('Test Data')\n",
        "y_pred2 = dtr.predict(X_test)\n",
        "evalmetric(y_test,y_pred2)"
      ],
      "metadata": {
        "id": "tXJFK_bfnIfP",
        "outputId": "57a2ef93-7f93-434a-9fb3-52490a0f1717",
        "colab": {
          "base_uri": "https://localhost:8080/"
        }
      },
      "execution_count": null,
      "outputs": [
        {
          "output_type": "stream",
          "name": "stdout",
          "text": [
            "Train Data\n",
            "MSE: 0.0\n",
            "RMSE: 0.0\n",
            "MAE: 0.0\n",
            "MAPE: 0.0\n",
            "R-Squared: 1.0\n",
            "Test Data\n",
            "MSE: 4506561734.812454\n",
            "RMSE: 67130.92979255132\n",
            "MAE: 42094.54107099588\n",
            "MAPE: 22.799460730715015\n",
            "R-Squared: 0.6640859670528056\n"
          ]
        }
      ]
    },
    {
      "cell_type": "code",
      "source": [
        "from sklearn.ensemble import RandomForestRegressor\n",
        "rfr = RandomForestRegressor(random_state=17)\n",
        "rfr.fit(X_train,y_train)\n",
        "## Predicting for training data\n",
        "print('Train Data')\n",
        "y_pred = rfr.predict(X_train)\n",
        "evalmetric(y_train,y_pred)\n",
        "print('Test Data')\n",
        "y_pred2 = rfr.predict(X_test)\n",
        "evalmetric(y_test,y_pred2)"
      ],
      "metadata": {
        "id": "XH2h0Q4HnvR2",
        "outputId": "253a5725-371d-4659-c745-e4b72e87c6c1",
        "colab": {
          "base_uri": "https://localhost:8080/"
        }
      },
      "execution_count": null,
      "outputs": [
        {
          "output_type": "stream",
          "name": "stdout",
          "text": [
            "Train Data\n",
            "MSE: 331115828.7796488\n",
            "RMSE: 18196.588382981266\n",
            "MAE: 11747.515513084567\n",
            "MAPE: 6.544973381048467\n",
            "R-Squared: 0.9750735802364761\n",
            "Test Data\n",
            "MSE: 2463024511.2043138\n",
            "RMSE: 49628.86772035318\n",
            "MAE: 31606.120053307488\n",
            "MAPE: 17.318282012527185\n",
            "R-Squared: 0.8164089286927598\n"
          ]
        }
      ]
    },
    {
      "cell_type": "code",
      "source": [
        "from sklearn.ensemble import GradientBoostingRegressor\n",
        "gbr = GradientBoostingRegressor(random_state=17)\n",
        "gbr.fit(X_train, y_train)\n",
        "print('Train Data')\n",
        "y_pred = gbr.predict(X_train)\n",
        "evalmetric(y_train,y_pred)\n",
        "print('Test Data')\n",
        "y_pred2 = gbr.predict(X_test)\n",
        "evalmetric(y_test,y_pred2)"
      ],
      "metadata": {
        "colab": {
          "base_uri": "https://localhost:8080/"
        },
        "id": "fjKeSpQzztEZ",
        "outputId": "7d7a5d98-4149-465f-aa62-ab2de0e3b35e"
      },
      "execution_count": null,
      "outputs": [
        {
          "output_type": "stream",
          "name": "stdout",
          "text": [
            "Train Data\n",
            "MSE: 2833712640.367808\n",
            "RMSE: 53232.62759218079\n",
            "MAE: 37288.68889791361\n",
            "MAPE: 21.02866291132179\n",
            "R-Squared: 0.7866779397912216\n",
            "Test Data\n",
            "MSE: 3146104159.233549\n",
            "RMSE: 56090.1431557591\n",
            "MAE: 38636.503957575056\n",
            "MAPE: 21.256803536561\n",
            "R-Squared: 0.7654929415398185\n"
          ]
        }
      ]
    },
    {
      "cell_type": "code",
      "source": [
        "# fit model no training data\n",
        "from xgboost import XGBRegressor\n",
        "xgr = XGBRegressor(random_state=17)\n",
        "xgr.fit(X_train, y_train)\n",
        "print('Train Data')\n",
        "y_pred = xgr.predict(X_train)\n",
        "evalmetric(y_train,y_pred)\n",
        "print('Test Data')\n",
        "y_pred2 = xgr.predict(X_test)\n",
        "evalmetric(y_test,y_pred2)"
      ],
      "metadata": {
        "id": "ulYLDAGu2-To",
        "outputId": "b82746a5-d9e2-48f3-fb9b-1697969a549a",
        "colab": {
          "base_uri": "https://localhost:8080/"
        }
      },
      "execution_count": null,
      "outputs": [
        {
          "output_type": "stream",
          "name": "stdout",
          "text": [
            "Train Data\n",
            "MSE: 814593009.482583\n",
            "RMSE: 28541.07582910257\n",
            "MAE: 20182.325360833573\n",
            "MAPE: 11.579298017533967\n",
            "R-Squared: 0.9386773886176685\n",
            "Test Data\n",
            "MSE: 2335363942.648378\n",
            "RMSE: 48325.603386283525\n",
            "MAE: 30967.482398685486\n",
            "MAPE: 17.013696040690512\n",
            "R-Squared: 0.8259246036031265\n"
          ]
        }
      ]
    },
    {
      "cell_type": "code",
      "source": [
        "from time import time\n",
        "import lightgbm as lgb\n",
        "t0 = time()\n",
        "lgr = lgb.LGBMRegressor(random_state=17)\n",
        "lgr.fit(X_train, y_train)\n",
        "print('Train Data')\n",
        "y_pred = lgr.predict(X_train)\n",
        "evalmetric(y_train,y_pred)\n",
        "print('Test Data')\n",
        "y_pred2 = lgr.predict(X_test)\n",
        "evalmetric(y_test,y_pred2)"
      ],
      "metadata": {
        "colab": {
          "base_uri": "https://localhost:8080/"
        },
        "id": "hT_CLPW60W0U",
        "outputId": "5ce3ab8f-8495-4540-b1cc-0181c856cb34"
      },
      "execution_count": null,
      "outputs": [
        {
          "output_type": "stream",
          "name": "stdout",
          "text": [
            "[LightGBM] [Warning] Found whitespace in feature_names, replace with underlines\n",
            "[LightGBM] [Info] Auto-choosing row-wise multi-threading, the overhead of testing was 0.001067 seconds.\n",
            "You can set `force_row_wise=true` to remove the overhead.\n",
            "And if memory is not enough, you can set `force_col_wise=true`.\n",
            "[LightGBM] [Info] Total Bins 1844\n",
            "[LightGBM] [Info] Number of data points in the train set: 16508, number of used features: 11\n",
            "[LightGBM] [Info] Start training from score 206886.041313\n",
            "Train Data\n",
            "MSE: 1647748645.2003286\n",
            "RMSE: 40592.47030177307\n",
            "MAE: 27990.66635483466\n",
            "MAPE: 16.073925303577845\n",
            "R-Squared: 0.8759573816014258\n",
            "Test Data\n",
            "MSE: 2337540788.0960174\n",
            "RMSE: 48348.12083314115\n",
            "MAE: 31909.08363894848\n",
            "MAPE: 17.458403628448433\n",
            "R-Squared: 0.8257623439966977\n"
          ]
        }
      ]
    },
    {
      "cell_type": "markdown",
      "source": [
        "# **Use of Optuna For Hyperparameter Optimization**"
      ],
      "metadata": {
        "id": "lkMv3RbQXOpm"
      }
    },
    {
      "cell_type": "code",
      "source": [
        "!pip install optuna"
      ],
      "metadata": {
        "colab": {
          "base_uri": "https://localhost:8080/"
        },
        "id": "LeJhW8Uzkw5l",
        "outputId": "ff922819-676c-45eb-9dc0-ff0f30e03bb8"
      },
      "execution_count": null,
      "outputs": [
        {
          "output_type": "stream",
          "name": "stdout",
          "text": [
            "Collecting optuna\n",
            "  Downloading optuna-4.2.1-py3-none-any.whl.metadata (17 kB)\n",
            "Collecting alembic>=1.5.0 (from optuna)\n",
            "  Downloading alembic-1.15.2-py3-none-any.whl.metadata (7.3 kB)\n",
            "Collecting colorlog (from optuna)\n",
            "  Downloading colorlog-6.9.0-py3-none-any.whl.metadata (10 kB)\n",
            "Requirement already satisfied: numpy in /usr/local/lib/python3.11/dist-packages (from optuna) (1.26.4)\n",
            "Requirement already satisfied: packaging>=20.0 in /usr/local/lib/python3.11/dist-packages (from optuna) (24.2)\n",
            "Requirement already satisfied: sqlalchemy>=1.4.2 in /usr/local/lib/python3.11/dist-packages (from optuna) (2.0.38)\n",
            "Requirement already satisfied: tqdm in /usr/local/lib/python3.11/dist-packages (from optuna) (4.67.1)\n",
            "Requirement already satisfied: PyYAML in /usr/local/lib/python3.11/dist-packages (from optuna) (6.0.2)\n",
            "Collecting Mako (from alembic>=1.5.0->optuna)\n",
            "  Downloading Mako-1.3.9-py3-none-any.whl.metadata (2.9 kB)\n",
            "Requirement already satisfied: typing-extensions>=4.12 in /usr/local/lib/python3.11/dist-packages (from alembic>=1.5.0->optuna) (4.12.2)\n",
            "Requirement already satisfied: greenlet!=0.4.17 in /usr/local/lib/python3.11/dist-packages (from sqlalchemy>=1.4.2->optuna) (3.1.1)\n",
            "Requirement already satisfied: MarkupSafe>=0.9.2 in /usr/local/lib/python3.11/dist-packages (from Mako->alembic>=1.5.0->optuna) (3.0.2)\n",
            "Downloading optuna-4.2.1-py3-none-any.whl (383 kB)\n",
            "\u001b[2K   \u001b[90m━━━━━━━━━━━━━━━━━━━━━━━━━━━━━━━━━━━━━━━━\u001b[0m \u001b[32m383.6/383.6 kB\u001b[0m \u001b[31m13.6 MB/s\u001b[0m eta \u001b[36m0:00:00\u001b[0m\n",
            "\u001b[?25hDownloading alembic-1.15.2-py3-none-any.whl (231 kB)\n",
            "\u001b[2K   \u001b[90m━━━━━━━━━━━━━━━━━━━━━━━━━━━━━━━━━━━━━━━━\u001b[0m \u001b[32m231.9/231.9 kB\u001b[0m \u001b[31m21.8 MB/s\u001b[0m eta \u001b[36m0:00:00\u001b[0m\n",
            "\u001b[?25hDownloading colorlog-6.9.0-py3-none-any.whl (11 kB)\n",
            "Downloading Mako-1.3.9-py3-none-any.whl (78 kB)\n",
            "\u001b[2K   \u001b[90m━━━━━━━━━━━━━━━━━━━━━━━━━━━━━━━━━━━━━━━━\u001b[0m \u001b[32m78.5/78.5 kB\u001b[0m \u001b[31m8.3 MB/s\u001b[0m eta \u001b[36m0:00:00\u001b[0m\n",
            "\u001b[?25hInstalling collected packages: Mako, colorlog, alembic, optuna\n",
            "Successfully installed Mako-1.3.9 alembic-1.15.2 colorlog-6.9.0 optuna-4.2.1\n"
          ]
        }
      ]
    },
    {
      "cell_type": "code",
      "source": [
        "# Import necessary libraries\n",
        "import sklearn.datasets  # For sample datasets\n",
        "import sklearn.ensemble  # For ensemble models like RandomForest\n",
        "import sklearn.model_selection  # For cross-validation\n",
        "import sklearn.svm  # For SVM (not used here, but included)\n",
        "import optuna  # Our hyperparameter optimization tool\n",
        "\n",
        "\n",
        "# Define the objective function where Optuna tests different models and settings\n",
        "def objective(trial):\n",
        "    # Use our training data\n",
        "    x, y = X_train, y_train\n",
        "\n",
        "    # Let Optuna pick a model to try\n",
        "    regressor_name = trial.suggest_categorical(\"regressor\",\n",
        "                                              [\"GradientBoosting\", \"XGBoost\",\n",
        "                                               \"LightGBM\", \"RandomForest\"])\n",
        "\n",
        "\n",
        "    # Set up parameters and models based on the chosen regressor\n",
        "    if regressor_name == \"GradientBoosting\":\n",
        "        # Unique parameters for GradientBoosting\n",
        "        gb_params = {\n",
        "            \"random_state\":17,\n",
        "            \"max_depth\": trial.suggest_int(\"max_depth\", 2, X_train.shape[1]),\n",
        "            \"learning_rate\": trial.suggest_float(\"learning_rate\", 0.001, 0.3, log=True)\n",
        "        }\n",
        "        regressor_obj = sklearn.ensemble.GradientBoostingRegressor(**gb_params)\n",
        "\n",
        "    elif regressor_name == \"XGBoost\":\n",
        "        # Unique parameters for XGBoost\n",
        "        from xgboost import XGBRegressor\n",
        "        xgb_params = {\n",
        "            \"random_state\":17,\n",
        "            \"max_depth\": trial.suggest_int(\"max_depth\", 2, X_train.shape[1]),\n",
        "            \"learning_rate\": trial.suggest_float(\"learning_rate\", 0.001, 0.3, log=True)\n",
        "        }\n",
        "        regressor_obj = XGBRegressor(**xgb_params)\n",
        "\n",
        "    elif regressor_name == \"LightGBM\":\n",
        "        # Unique parameters for LightGBM\n",
        "        import lightgbm as lgb\n",
        "        lgb_params = {\n",
        "            \"random_state\":17,\n",
        "            \"max_depth\": trial.suggest_int(\"max_depth\", 2, X_train.shape[1]),\n",
        "            \"learning_rate\": trial.suggest_float(\"learning_rate\", 0.001, 0.3, log=True)\n",
        "        }\n",
        "        regressor_obj = lgb.LGBMRegressor(**lgb_params)\n",
        "\n",
        "    else:  # RandomForest\n",
        "        # Unique parameters for RandomForest\n",
        "        rf_params = {\n",
        "            \"random_state\": 17,\n",
        "            \"max_depth\": trial.suggest_int(\"max_depth\", 2, 16),\n",
        "            \"max_features\": trial.suggest_int(\"max_features\", 2, X_train.shape[1])\n",
        "        }\n",
        "        regressor_obj = sklearn.ensemble.RandomForestRegressor(**rf_params)\n",
        "\n",
        "    # Test the model with cross-validation (3 splits)\n",
        "    r2_score = sklearn.model_selection.cross_val_score(\n",
        "        regressor_obj, x, y,\n",
        "        n_jobs=-1,  # Use all CPU cores for speed\n",
        "        cv=3  # 3-fold cross-validation\n",
        "    ).mean()\n",
        "\n",
        "    return r2_score  # Return the average R² score\n",
        "\n",
        "# Main block to run the optimization\n",
        "if __name__ == \"__main__\":\n",
        "    # Create an Optuna study to find the best settings (maximize R²)\n",
        "    study = optuna.create_study(direction=\"maximize\")\n",
        "\n",
        "    # Run 20 trials to test different combinations\n",
        "    study.optimize(objective, n_trials=30)\n",
        "\n"
      ],
      "metadata": {
        "id": "JAXLi928LCdm",
        "outputId": "8147a3c1-0c2e-45ab-be1c-f84e6696b757",
        "colab": {
          "base_uri": "https://localhost:8080/"
        }
      },
      "execution_count": null,
      "outputs": [
        {
          "output_type": "stream",
          "name": "stderr",
          "text": [
            "[I 2025-04-01 21:51:48,725] A new study created in memory with name: no-name-99c33822-71e5-46b4-b906-535dc095718a\n",
            "[I 2025-04-01 21:51:49,281] Trial 0 finished with value: 0.831308669276023 and parameters: {'regressor': 'LightGBM', 'max_depth': 7, 'learning_rate': 0.22774457710354287}. Best is trial 0 with value: 0.831308669276023.\n",
            "[I 2025-04-01 21:51:56,458] Trial 1 finished with value: 0.803013133521948 and parameters: {'regressor': 'RandomForest', 'max_depth': 13, 'max_features': 4}. Best is trial 0 with value: 0.831308669276023.\n",
            "[I 2025-04-01 21:52:02,374] Trial 2 finished with value: 0.8050385249807972 and parameters: {'regressor': 'RandomForest', 'max_depth': 15, 'max_features': 3}. Best is trial 0 with value: 0.831308669276023.\n",
            "[I 2025-04-01 21:52:02,736] Trial 3 finished with value: 0.26020513377363547 and parameters: {'regressor': 'LightGBM', 'max_depth': 2, 'learning_rate': 0.0036408059198301443}. Best is trial 0 with value: 0.831308669276023.\n",
            "[I 2025-04-01 21:52:24,580] Trial 4 finished with value: 0.5094543387033107 and parameters: {'regressor': 'GradientBoosting', 'max_depth': 10, 'learning_rate': 0.005371555634276956}. Best is trial 0 with value: 0.831308669276023.\n",
            "[I 2025-04-01 21:52:37,169] Trial 5 finished with value: 0.6583449470585813 and parameters: {'regressor': 'GradientBoosting', 'max_depth': 6, 'learning_rate': 0.012984007603062599}. Best is trial 0 with value: 0.831308669276023.\n",
            "[I 2025-04-01 21:52:37,656] Trial 6 finished with value: 0.6186028043332034 and parameters: {'regressor': 'LightGBM', 'max_depth': 4, 'learning_rate': 0.014828768558510839}. Best is trial 0 with value: 0.831308669276023.\n",
            "[I 2025-04-01 21:52:38,088] Trial 7 finished with value: 0.6989081356204422 and parameters: {'regressor': 'LightGBM', 'max_depth': 3, 'learning_rate': 0.0419145696390305}. Best is trial 0 with value: 0.831308669276023.\n",
            "[I 2025-04-01 21:52:48,826] Trial 8 finished with value: 0.6963535492115721 and parameters: {'regressor': 'GradientBoosting', 'max_depth': 5, 'learning_rate': 0.020197465534596087}. Best is trial 0 with value: 0.831308669276023.\n",
            "[I 2025-04-01 21:52:55,446] Trial 9 finished with value: 0.7722687372354594 and parameters: {'regressor': 'RandomForest', 'max_depth': 9, 'max_features': 6}. Best is trial 0 with value: 0.831308669276023.\n",
            "[I 2025-04-01 21:52:57,723] Trial 10 finished with value: 0.8301553460785174 and parameters: {'regressor': 'XGBoost', 'max_depth': 8, 'learning_rate': 0.1399653308320361}. Best is trial 0 with value: 0.831308669276023.\n",
            "[I 2025-04-01 21:53:00,138] Trial 11 finished with value: 0.8204355575598612 and parameters: {'regressor': 'XGBoost', 'max_depth': 8, 'learning_rate': 0.2776775240993976}. Best is trial 0 with value: 0.831308669276023.\n",
            "[I 2025-04-01 21:53:01,376] Trial 12 finished with value: 0.8235030840890385 and parameters: {'regressor': 'XGBoost', 'max_depth': 7, 'learning_rate': 0.2816542016980643}. Best is trial 0 with value: 0.831308669276023.\n",
            "[I 2025-04-01 21:53:02,791] Trial 13 finished with value: 0.8260099079438704 and parameters: {'regressor': 'XGBoost', 'max_depth': 7, 'learning_rate': 0.08324607777534228}. Best is trial 0 with value: 0.831308669276023.\n",
            "[I 2025-04-01 21:53:05,679] Trial 14 finished with value: 0.8275874867015985 and parameters: {'regressor': 'XGBoost', 'max_depth': 9, 'learning_rate': 0.09388363745652953}. Best is trial 0 with value: 0.831308669276023.\n",
            "[I 2025-04-01 21:53:06,217] Trial 15 finished with value: 0.8162238624177572 and parameters: {'regressor': 'LightGBM', 'max_depth': 5, 'learning_rate': 0.11406913277359233}. Best is trial 0 with value: 0.831308669276023.\n",
            "[I 2025-04-01 21:53:08,758] Trial 16 finished with value: 0.13237451675131232 and parameters: {'regressor': 'XGBoost', 'max_depth': 8, 'learning_rate': 0.0010189464174941145}. Best is trial 0 with value: 0.831308669276023.\n",
            "[I 2025-04-01 21:53:09,336] Trial 17 finished with value: 0.8264765641052304 and parameters: {'regressor': 'LightGBM', 'max_depth': 6, 'learning_rate': 0.14598128992583356}. Best is trial 0 with value: 0.831308669276023.\n",
            "[I 2025-04-01 21:53:15,681] Trial 18 finished with value: 0.8122845052057048 and parameters: {'regressor': 'XGBoost', 'max_depth': 10, 'learning_rate': 0.036206659240815946}. Best is trial 0 with value: 0.831308669276023.\n",
            "[I 2025-04-01 21:53:16,331] Trial 19 finished with value: 0.8073259062534713 and parameters: {'regressor': 'LightGBM', 'max_depth': 8, 'learning_rate': 0.049171240161576237}. Best is trial 0 with value: 0.831308669276023.\n",
            "[I 2025-04-01 21:53:16,961] Trial 20 finished with value: 0.8306121453536971 and parameters: {'regressor': 'LightGBM', 'max_depth': 10, 'learning_rate': 0.15123228546602902}. Best is trial 0 with value: 0.831308669276023.\n",
            "[I 2025-04-01 21:53:17,552] Trial 21 finished with value: 0.8329661225852941 and parameters: {'regressor': 'LightGBM', 'max_depth': 10, 'learning_rate': 0.16462738515659794}. Best is trial 21 with value: 0.8329661225852941.\n",
            "[I 2025-04-01 21:53:18,132] Trial 22 finished with value: 0.8307510693481378 and parameters: {'regressor': 'LightGBM', 'max_depth': 10, 'learning_rate': 0.19925198337572422}. Best is trial 21 with value: 0.8329661225852941.\n",
            "[I 2025-04-01 21:53:18,737] Trial 23 finished with value: 0.8289286590936579 and parameters: {'regressor': 'LightGBM', 'max_depth': 11, 'learning_rate': 0.2975876868803789}. Best is trial 21 with value: 0.8329661225852941.\n",
            "[I 2025-04-01 21:53:19,419] Trial 24 finished with value: 0.8174623294514459 and parameters: {'regressor': 'LightGBM', 'max_depth': 9, 'learning_rate': 0.06413452420695064}. Best is trial 21 with value: 0.8329661225852941.\n",
            "[I 2025-04-01 21:53:20,021] Trial 25 finished with value: 0.8328235299892497 and parameters: {'regressor': 'LightGBM', 'max_depth': 11, 'learning_rate': 0.16865675504166452}. Best is trial 21 with value: 0.8329661225852941.\n",
            "[I 2025-04-01 21:53:20,693] Trial 26 finished with value: 0.7564960145412368 and parameters: {'regressor': 'LightGBM', 'max_depth': 11, 'learning_rate': 0.024601954558714233}. Best is trial 21 with value: 0.8329661225852941.\n",
            "[I 2025-04-01 21:53:21,406] Trial 27 finished with value: 0.820228440878272 and parameters: {'regressor': 'LightGBM', 'max_depth': 11, 'learning_rate': 0.06864495868911115}. Best is trial 21 with value: 0.8329661225852941.\n",
            "[I 2025-04-01 21:53:22,008] Trial 28 finished with value: 0.8337690449393148 and parameters: {'regressor': 'LightGBM', 'max_depth': 11, 'learning_rate': 0.19212263271617572}. Best is trial 28 with value: 0.8337690449393148.\n",
            "[I 2025-04-01 21:53:22,663] Trial 29 finished with value: 0.8320330784648692 and parameters: {'regressor': 'LightGBM', 'max_depth': 11, 'learning_rate': 0.1719757094319027}. Best is trial 28 with value: 0.8337690449393148.\n"
          ]
        }
      ]
    },
    {
      "cell_type": "code",
      "source": [
        "print(study.best_params)\n",
        "print(study.best_value)\n"
      ],
      "metadata": {
        "colab": {
          "base_uri": "https://localhost:8080/"
        },
        "id": "2LFOmwPKl1O2",
        "outputId": "16672022-bd54-46b3-c0b7-f5b252192a81"
      },
      "execution_count": null,
      "outputs": [
        {
          "output_type": "stream",
          "name": "stdout",
          "text": [
            "{'regressor': 'LightGBM', 'max_depth': 11, 'learning_rate': 0.19212263271617572}\n",
            "0.8337690449393148\n"
          ]
        }
      ]
    },
    {
      "cell_type": "markdown",
      "source": [
        "# **Test Result with Optimizated Parameters**"
      ],
      "metadata": {
        "id": "DU9VSEHgXcse"
      }
    },
    {
      "cell_type": "code",
      "source": [
        "from time import time\n",
        "import lightgbm as lgb\n",
        "t0 = time()\n",
        "lgr = lgb.LGBMRegressor(random_state=17,**study.best_params)\n",
        "lgr.fit(X_train, y_train)\n",
        "print('Train Data')\n",
        "y_pred = lgr.predict(X_train)\n",
        "evalmetric(y_train,y_pred)\n",
        "print('Test Data')\n",
        "y_pred2 = lgr.predict(X_test)\n",
        "evalmetric(y_test,y_pred2)"
      ],
      "metadata": {
        "id": "B4UPak7QQ_yx",
        "outputId": "724558bd-176a-49aa-d0d0-ad3c0d639f73",
        "colab": {
          "base_uri": "https://localhost:8080/"
        }
      },
      "execution_count": null,
      "outputs": [
        {
          "output_type": "stream",
          "name": "stdout",
          "text": [
            "[LightGBM] [Warning] Unknown parameter: regressor\n",
            "[LightGBM] [Warning] Found whitespace in feature_names, replace with underlines\n",
            "[LightGBM] [Warning] Unknown parameter: regressor\n",
            "[LightGBM] [Info] Auto-choosing col-wise multi-threading, the overhead of testing was 0.001299 seconds.\n",
            "You can set `force_col_wise=true` to remove the overhead.\n",
            "[LightGBM] [Info] Total Bins 1844\n",
            "[LightGBM] [Info] Number of data points in the train set: 16508, number of used features: 11\n",
            "[LightGBM] [Info] Start training from score 206886.041313\n",
            "Train Data\n",
            "[LightGBM] [Warning] Unknown parameter: regressor\n",
            "MSE: 1332806027.7934182\n",
            "RMSE: 36507.616024514915\n",
            "MAE: 25330.184504118308\n",
            "MAPE: 14.477538090837259\n",
            "R-Squared: 0.8996662810274701\n",
            "Test Data\n",
            "[LightGBM] [Warning] Unknown parameter: regressor\n",
            "MSE: 2282047918.6928153\n",
            "RMSE: 47770.78520071462\n",
            "MAE: 31308.86216291022\n",
            "MAPE: 16.96257900764687\n",
            "R-Squared: 0.8298987199431417\n"
          ]
        }
      ]
    },
    {
      "cell_type": "markdown",
      "source": [
        "Compare lightgbm with default parameters vs lightgbm with optimized  parameters based on R2. Is there an improvement with optimized parameters?\n"
      ],
      "metadata": {
        "id": "E-7OI_ooYHw6"
      }
    }
  ]
}