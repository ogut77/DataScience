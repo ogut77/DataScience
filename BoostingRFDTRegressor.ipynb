{
  "nbformat": 4,
  "nbformat_minor": 0,
  "metadata": {
    "colab": {
      "provenance": [],
      "authorship_tag": "ABX9TyNOJPh/GdlLhVof+G5khMaM",
      "include_colab_link": true
    },
    "kernelspec": {
      "name": "python3",
      "display_name": "Python 3"
    },
    "language_info": {
      "name": "python"
    }
  },
  "cells": [
    {
      "cell_type": "markdown",
      "metadata": {
        "id": "view-in-github",
        "colab_type": "text"
      },
      "source": [
        "<a href=\"https://colab.research.google.com/github/ogut77/DataScience/blob/main/BoostingRFDTRegressor.ipynb\" target=\"_parent\"><img src=\"https://colab.research.google.com/assets/colab-badge.svg\" alt=\"Open In Colab\"/></a>"
      ]
    },
    {
      "cell_type": "code",
      "execution_count": 3,
      "metadata": {
        "id": "s2Jj2UCCmHSM"
      },
      "outputs": [],
      "source": [
        "import lightgbm as lgb\n",
        "from sklearn.datasets import load_boston\n",
        "from sklearn.metrics import mean_squared_error\n",
        "from sklearn.model_selection import train_test_split\n",
        "from pandas import DataFrame\n",
        "import matplotlib.pyplot as plt"
      ]
    },
    {
      "cell_type": "code",
      "source": [
        "import warnings\n",
        "warnings.filterwarnings(\"ignore\")\n",
        "boston = load_boston()\n",
        "x, y = boston.data, boston.target\n",
        "x_df = DataFrame(x, columns= boston.feature_names)\n",
        "X_train, X_test, y_train, y_test = train_test_split(x_df, y, test_size=0.15)\n"
      ],
      "metadata": {
        "id": "-szAPVZPm5tB"
      },
      "execution_count": 12,
      "outputs": []
    },
    {
      "cell_type": "code",
      "source": [
        "x_df.info()"
      ],
      "metadata": {
        "colab": {
          "base_uri": "https://localhost:8080/"
        },
        "id": "Kosek5S8nmiZ",
        "outputId": "42fca135-6b11-4121-a1f1-f38c8856702e"
      },
      "execution_count": 14,
      "outputs": [
        {
          "output_type": "stream",
          "name": "stdout",
          "text": [
            "<class 'pandas.core.frame.DataFrame'>\n",
            "RangeIndex: 506 entries, 0 to 505\n",
            "Data columns (total 13 columns):\n",
            " #   Column   Non-Null Count  Dtype  \n",
            "---  ------   --------------  -----  \n",
            " 0   CRIM     506 non-null    float64\n",
            " 1   ZN       506 non-null    float64\n",
            " 2   INDUS    506 non-null    float64\n",
            " 3   CHAS     506 non-null    float64\n",
            " 4   NOX      506 non-null    float64\n",
            " 5   RM       506 non-null    float64\n",
            " 6   AGE      506 non-null    float64\n",
            " 7   DIS      506 non-null    float64\n",
            " 8   RAD      506 non-null    float64\n",
            " 9   TAX      506 non-null    float64\n",
            " 10  PTRATIO  506 non-null    float64\n",
            " 11  B        506 non-null    float64\n",
            " 12  LSTAT    506 non-null    float64\n",
            "dtypes: float64(13)\n",
            "memory usage: 51.5 KB\n"
          ]
        }
      ]
    },
    {
      "cell_type": "code",
      "source": [
        "def evalmetric(y,ypred):\n",
        " import numpy as np\n",
        " e = y - ypred \n",
        " mse_f = np.mean(e**2)\n",
        " rmse_f = np.sqrt(mse_f)\n",
        " mae_f = np.mean(abs(e))\n",
        " mape_f = 100*np.mean(abs(e/y))\n",
        " r2_f = 1-(sum(e**2)/sum((y-np.mean(y))**2))\n",
        " print(\"MSE:\", mse_f)\n",
        " print(\"RMSE:\", rmse_f)\n",
        " print(\"MAE:\",mae_f)\n",
        " print(\"MAPE:\",mape_f)\n",
        " print(\"R-Squared:\", r2_f)"
      ],
      "metadata": {
        "id": "5R9rmzYkpJX2"
      },
      "execution_count": 15,
      "outputs": []
    },
    {
      "cell_type": "code",
      "source": [
        "from sklearn.tree import DecisionTreeRegressor\n",
        "dtr = DecisionTreeRegressor(random_state=17)\n",
        "dtr.fit(X_train,y_train)\n",
        "## Predicting for training data\n",
        "print('Train Data')\n",
        "y_pred = dtr.predict(X_train)\n",
        "evalmetric(y_train,y_pred)\n",
        "print('Test Data')\n",
        "y_pred2 = dtr.predict(X_test)\n",
        "evalmetric(y_test,y_pred2)"
      ],
      "metadata": {
        "colab": {
          "base_uri": "https://localhost:8080/"
        },
        "id": "vT6cnYNWp4gU",
        "outputId": "635ac627-a92c-4f85-db84-f2924b2f3712"
      },
      "execution_count": 34,
      "outputs": [
        {
          "output_type": "stream",
          "name": "stdout",
          "text": [
            "Train Data\n",
            "MSE: 0.0\n",
            "RMSE: 0.0\n",
            "MAE: 0.0\n",
            "MAPE: 0.0\n",
            "R-Squared: 1.0\n",
            "Test Data\n",
            "MSE: 14.348947368421053\n",
            "RMSE: 3.788000444617325\n",
            "MAE: 2.7973684210526315\n",
            "MAPE: 15.058943212409833\n",
            "R-Squared: 0.8444779092425767\n",
            "CPU times: user 17 ms, sys: 2.13 ms, total: 19.1 ms\n",
            "Wall time: 19.8 ms\n"
          ]
        }
      ]
    },
    {
      "cell_type": "code",
      "source": [
        "from sklearn.ensemble import RandomForestRegressor\n",
        "rfr = RandomForestRegressor(random_state=17)\n",
        "rfr.fit(X_train,y_train)\n",
        "## Predicting for training data\n",
        "print('Train Data')\n",
        "y_pred = rfr.predict(X_train)\n",
        "evalmetric(y_train,y_pred)\n",
        "print('Test Data')\n",
        "y_pred2 = rfr.predict(X_test)\n",
        "evalmetric(y_test,y_pred2)"
      ],
      "metadata": {
        "colab": {
          "base_uri": "https://localhost:8080/"
        },
        "id": "KAetxL8wp-Du",
        "outputId": "db2bfaa7-ac2e-4054-e71d-b721fd1cbd5e"
      },
      "execution_count": 17,
      "outputs": [
        {
          "output_type": "stream",
          "name": "stdout",
          "text": [
            "Train Data\n",
            "MSE: 1.8626067906976729\n",
            "RMSE: 1.3647735309192046\n",
            "MAE: 0.8463395348837196\n",
            "MAPE: 4.216574648128385\n",
            "R-Squared: 0.9775508571493979\n",
            "Test Data\n",
            "MSE: 9.298746973684201\n",
            "RMSE: 3.0493846877172124\n",
            "MAE: 2.2698684210526316\n",
            "MAPE: 12.244063471377464\n",
            "R-Squared: 0.8992148668720943\n"
          ]
        }
      ]
    },
    {
      "cell_type": "code",
      "source": [
        "from sklearn.ensemble import GradientBoostingRegressor\n",
        "from time import time\n",
        "\n",
        "gbr = GradientBoostingRegressor(random_state=17)\n",
        "gbr.fit(X_train, y_train)\n",
        "print('Train Data')\n",
        "y_pred = gbr.predict(X_train)\n",
        "evalmetric(y_train,y_pred)\n",
        "print('Test Data')\n",
        "y_pred2 = gbr.predict(X_test)\n",
        "evalmetric(y_test,y_pred2)"
      ],
      "metadata": {
        "colab": {
          "base_uri": "https://localhost:8080/"
        },
        "id": "zuilz-AMqIYZ",
        "outputId": "8fd7a8b5-f0b8-4647-b967-b393d4a3684b"
      },
      "execution_count": 18,
      "outputs": [
        {
          "output_type": "stream",
          "name": "stdout",
          "text": [
            "Train Data\n",
            "MSE: 1.9234426186677969\n",
            "RMSE: 1.3868823377157116\n",
            "MAE: 1.095681766233656\n",
            "MAPE: 5.739671481138995\n",
            "R-Squared: 0.9768176308993076\n",
            "Test Data\n",
            "MSE: 7.15399359516127\n",
            "RMSE: 2.6746950471336484\n",
            "MAE: 2.1084638702162963\n",
            "MAPE: 11.277437634909633\n",
            "R-Squared: 0.9224609295289983\n"
          ]
        }
      ]
    },
    {
      "cell_type": "code",
      "source": [
        "# fit model no training data\n",
        "from xgboost import XGBRegressor\n",
        "xgr = XGBRegressor(random_state=17)\n",
        "xgr.fit(X_train, y_train)\n",
        "print('Train Data')\n",
        "y_pred = xgr.predict(X_train)\n",
        "evalmetric(y_train,y_pred)\n",
        "print('Test Data')\n",
        "y_pred2 = xgr.predict(X_test)\n",
        "evalmetric(y_test,y_pred2)"
      ],
      "metadata": {
        "colab": {
          "base_uri": "https://localhost:8080/"
        },
        "id": "XtLjVGzRqQF6",
        "outputId": "42dc68a3-8bfd-46da-9298-598cc928deea"
      },
      "execution_count": 19,
      "outputs": [
        {
          "output_type": "stream",
          "name": "stdout",
          "text": [
            "[16:16:15] WARNING: /workspace/src/objective/regression_obj.cu:152: reg:linear is now deprecated in favor of reg:squarederror.\n",
            "Train Data\n",
            "MSE: 2.405069377779513\n",
            "RMSE: 1.5508286100596393\n",
            "MAE: 1.1900774687389994\n",
            "MAPE: 6.20740535816278\n",
            "R-Squared: 0.9710128051196691\n",
            "Test Data\n",
            "MSE: 7.55732487468885\n",
            "RMSE: 2.7490589070969085\n",
            "MAE: 2.1260115573280736\n",
            "MAPE: 11.224270306268691\n",
            "R-Squared: 0.9180893946526459\n"
          ]
        }
      ]
    },
    {
      "cell_type": "code",
      "source": [
        "from xgboost import plot_importance\n",
        "from matplotlib import pyplot\n",
        "# plot feature importance\n",
        "plot_importance(xgr)\n",
        "pyplot.show()"
      ],
      "metadata": {
        "colab": {
          "base_uri": "https://localhost:8080/",
          "height": 295
        },
        "id": "4dU67r7xr5at",
        "outputId": "9dcfd9ec-0b9b-42ec-d746-be143887d173"
      },
      "execution_count": 32,
      "outputs": [
        {
          "output_type": "display_data",
          "data": {
            "text/plain": [
              "<Figure size 432x288 with 1 Axes>"
            ],
            "image/png": "[encoded data removed]"
          },
          "metadata": {
            "needs_background": "light"
          }
        }
      ]
    },
    {
      "cell_type": "code",
      "source": [
        "!pip install catboost"
      ],
      "metadata": {
        "colab": {
          "base_uri": "https://localhost:8080/"
        },
        "id": "yxIA9WvBrFz8",
        "outputId": "6e499041-193f-44f4-ca83-461f3be6b1b8"
      },
      "execution_count": 21,
      "outputs": [
        {
          "output_type": "stream",
          "name": "stdout",
          "text": [
            "Looking in indexes: https://pypi.org/simple, https://us-python.pkg.dev/colab-wheels/public/simple/\n",
            "Collecting catboost\n",
            "  Downloading catboost-1.1.1-cp38-none-manylinux1_x86_64.whl (76.6 MB)\n",
            "\u001b[2K     \u001b[90m━━━━━━━━━━━━━━━━━━━━━━━━━━━━━━━━━━━━━━━━\u001b[0m \u001b[32m76.6/76.6 MB\u001b[0m \u001b[31m12.4 MB/s\u001b[0m eta \u001b[36m0:00:00\u001b[0m\n",
            "\u001b[?25hRequirement already satisfied: numpy>=1.16.0 in /usr/local/lib/python3.8/dist-packages (from catboost) (1.22.4)\n",
            "Requirement already satisfied: matplotlib in /usr/local/lib/python3.8/dist-packages (from catboost) (3.5.3)\n",
            "Requirement already satisfied: pandas>=0.24.0 in /usr/local/lib/python3.8/dist-packages (from catboost) (1.3.5)\n",
            "Requirement already satisfied: graphviz in /usr/local/lib/python3.8/dist-packages (from catboost) (0.10.1)\n",
            "Requirement already satisfied: scipy in /usr/local/lib/python3.8/dist-packages (from catboost) (1.7.3)\n",
            "Requirement already satisfied: plotly in /usr/local/lib/python3.8/dist-packages (from catboost) (5.5.0)\n",
            "Requirement already satisfied: six in /usr/local/lib/python3.8/dist-packages (from catboost) (1.15.0)\n",
            "Requirement already satisfied: python-dateutil>=2.7.3 in /usr/local/lib/python3.8/dist-packages (from pandas>=0.24.0->catboost) (2.8.2)\n",
            "Requirement already satisfied: pytz>=2017.3 in /usr/local/lib/python3.8/dist-packages (from pandas>=0.24.0->catboost) (2022.7.1)\n",
            "Requirement already satisfied: packaging>=20.0 in /usr/local/lib/python3.8/dist-packages (from matplotlib->catboost) (23.0)\n",
            "Requirement already satisfied: pillow>=6.2.0 in /usr/local/lib/python3.8/dist-packages (from matplotlib->catboost) (7.1.2)\n",
            "Requirement already satisfied: pyparsing>=2.2.1 in /usr/local/lib/python3.8/dist-packages (from matplotlib->catboost) (3.0.9)\n",
            "Requirement already satisfied: kiwisolver>=1.0.1 in /usr/local/lib/python3.8/dist-packages (from matplotlib->catboost) (1.4.4)\n",
            "Requirement already satisfied: cycler>=0.10 in /usr/local/lib/python3.8/dist-packages (from matplotlib->catboost) (0.11.0)\n",
            "Requirement already satisfied: fonttools>=4.22.0 in /usr/local/lib/python3.8/dist-packages (from matplotlib->catboost) (4.38.0)\n",
            "Requirement already satisfied: tenacity>=6.2.0 in /usr/local/lib/python3.8/dist-packages (from plotly->catboost) (8.2.1)\n",
            "Installing collected packages: catboost\n",
            "Successfully installed catboost-1.1.1\n"
          ]
        }
      ]
    },
    {
      "cell_type": "code",
      "source": [
        "import catboost as cb\n",
        "cat = cb.CatBoostRegressor(random_state=17)\n",
        "cat.fit(X_train, y_train)\n",
        "print('Train Data')\n",
        "y_predcat = cat.predict(X_train)\n",
        "evalmetric(y_train,y_predcat)\n",
        "print('Test Data')\n",
        "y_predcat2 = xgr.predict(X_test)\n",
        "evalmetric(y_test,y_predcat2)"
      ],
      "metadata": {
        "id": "XqyydiBXqu8m"
      },
      "execution_count": null,
      "outputs": []
    },
    {
      "cell_type": "code",
      "source": [
        "from time import time\n",
        "import lightgbm as lgb\n",
        "t0 = time()\n",
        "lgr = lgb.LGBMRegressor(random_state=17)\n",
        "lgr.fit(X_train, y_train)\n",
        "print('Train Data')\n",
        "y_pred = lgr.predict(X_train)\n",
        "evalmetric(y_train,y_pred)\n",
        "print('Test Data')\n",
        "y_pred2 = lgr.predict(X_test)\n",
        "evalmetric(y_test,y_pred2)"
      ],
      "metadata": {
        "colab": {
          "base_uri": "https://localhost:8080/"
        },
        "id": "Pba3vhdNqXhu",
        "outputId": "cb19ac81-8e37-44cb-e37f-6100aa7eb5a4"
      },
      "execution_count": 20,
      "outputs": [
        {
          "output_type": "stream",
          "name": "stdout",
          "text": [
            "Train Data\n",
            "MSE: 2.3501249840589757\n",
            "RMSE: 1.5330117364387579\n",
            "MAE: 0.8869023885085783\n",
            "MAPE: 4.349288816944054\n",
            "R-Squared: 0.9716750246228044\n",
            "Test Data\n",
            "MSE: 11.728085800570659\n",
            "RMSE: 3.4246292938901663\n",
            "MAE: 2.3651123714725726\n",
            "MAPE: 11.760375350632831\n",
            "R-Squared: 0.8728843045099338\n"
          ]
        }
      ]
    },
    {
      "cell_type": "code",
      "source": [],
      "metadata": {
        "id": "4TgdQa_IsCB5"
      },
      "execution_count": null,
      "outputs": []
    }
  ]
}