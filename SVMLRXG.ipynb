{
  "nbformat": 4,
  "nbformat_minor": 0,
  "metadata": {
    "colab": {
      "name": "RegressionComparision.ipynb",
      "provenance": []
    },
    "kernelspec": {
      "display_name": "Python 3",
      "name": "python3"
    },
    "language_info": {
      "name": "python"
    },
    "accelerator": "GPU",
    "widgets": {
      "application/vnd.jupyter.widget-state+json": {
        "5ee61054eac9487db1cecb18a972af14": {
          "model_module": "@jupyter-widgets/controls",
          "model_name": "HBoxModel",
          "model_module_version": "1.5.0",
          "state": {
            "_dom_classes": [],
            "_model_module": "@jupyter-widgets/controls",
            "_model_module_version": "1.5.0",
            "_model_name": "HBoxModel",
            "_view_count": null,
            "_view_module": "@jupyter-widgets/controls",
            "_view_module_version": "1.5.0",
            "_view_name": "HBoxView",
            "box_style": "",
            "children": [
              "IPY_MODEL_a748832f6d794f7dbe88e0591f0f975f",
              "IPY_MODEL_b88c8a936a6c4b1db55162fca942cbad",
              "IPY_MODEL_49b54b3bc1324c838f979333603cf0cb"
            ],
            "layout": "IPY_MODEL_55bfab32bfaf40bdbac547c2982b0ec5"
          }
        },
        "a748832f6d794f7dbe88e0591f0f975f": {
          "model_module": "@jupyter-widgets/controls",
          "model_name": "HTMLModel",
          "model_module_version": "1.5.0",
          "state": {
            "_dom_classes": [],
            "_model_module": "@jupyter-widgets/controls",
            "_model_module_version": "1.5.0",
            "_model_name": "HTMLModel",
            "_view_count": null,
            "_view_module": "@jupyter-widgets/controls",
            "_view_module_version": "1.5.0",
            "_view_name": "HTMLView",
            "description": "",
            "description_tooltip": null,
            "layout": "IPY_MODEL_a2e997a969764c519691c0cfff5d8de0",
            "placeholder": "​",
            "style": "IPY_MODEL_ef129e8add9a40669b2160a2a86c5f8e",
            "value": "Processing: 100%"
          }
        },
        "b88c8a936a6c4b1db55162fca942cbad": {
          "model_module": "@jupyter-widgets/controls",
          "model_name": "FloatProgressModel",
          "model_module_version": "1.5.0",
          "state": {
            "_dom_classes": [],
            "_model_module": "@jupyter-widgets/controls",
            "_model_module_version": "1.5.0",
            "_model_name": "FloatProgressModel",
            "_view_count": null,
            "_view_module": "@jupyter-widgets/controls",
            "_view_module_version": "1.5.0",
            "_view_name": "ProgressView",
            "bar_style": "",
            "description": "",
            "description_tooltip": null,
            "layout": "IPY_MODEL_eb3d401aa54543559227c20a25f7cc61",
            "max": 81,
            "min": 0,
            "orientation": "horizontal",
            "style": "IPY_MODEL_72f833783bd249b6b52c3bff68c4fd97",
            "value": 81
          }
        },
        "49b54b3bc1324c838f979333603cf0cb": {
          "model_module": "@jupyter-widgets/controls",
          "model_name": "HTMLModel",
          "model_module_version": "1.5.0",
          "state": {
            "_dom_classes": [],
            "_model_module": "@jupyter-widgets/controls",
            "_model_module_version": "1.5.0",
            "_model_name": "HTMLModel",
            "_view_count": null,
            "_view_module": "@jupyter-widgets/controls",
            "_view_module_version": "1.5.0",
            "_view_name": "HTMLView",
            "description": "",
            "description_tooltip": null,
            "layout": "IPY_MODEL_8ff7a0cbc6f54ecfa0083efe086f571f",
            "placeholder": "​",
            "style": "IPY_MODEL_1a030207b84b4645a15fbc74e2137f55",
            "value": " 81/81 [00:47&lt;00:00,  2.92it/s]"
          }
        },
        "55bfab32bfaf40bdbac547c2982b0ec5": {
          "model_module": "@jupyter-widgets/base",
          "model_name": "LayoutModel",
          "model_module_version": "1.2.0",
          "state": {
            "_model_module": "@jupyter-widgets/base",
            "_model_module_version": "1.2.0",
            "_model_name": "LayoutModel",
            "_view_count": null,
            "_view_module": "@jupyter-widgets/base",
            "_view_module_version": "1.2.0",
            "_view_name": "LayoutView",
            "align_content": null,
            "align_items": null,
            "align_self": null,
            "border": null,
            "bottom": null,
            "display": null,
            "flex": null,
            "flex_flow": null,
            "grid_area": null,
            "grid_auto_columns": null,
            "grid_auto_flow": null,
            "grid_auto_rows": null,
            "grid_column": null,
            "grid_gap": null,
            "grid_row": null,
            "grid_template_areas": null,
            "grid_template_columns": null,
            "grid_template_rows": null,
            "height": null,
            "justify_content": null,
            "justify_items": null,
            "left": null,
            "margin": null,
            "max_height": null,
            "max_width": null,
            "min_height": null,
            "min_width": null,
            "object_fit": null,
            "object_position": null,
            "order": null,
            "overflow": null,
            "overflow_x": null,
            "overflow_y": null,
            "padding": null,
            "right": null,
            "top": null,
            "visibility": "hidden",
            "width": null
          }
        },
        "a2e997a969764c519691c0cfff5d8de0": {
          "model_module": "@jupyter-widgets/base",
          "model_name": "LayoutModel",
          "model_module_version": "1.2.0",
          "state": {
            "_model_module": "@jupyter-widgets/base",
            "_model_module_version": "1.2.0",
            "_model_name": "LayoutModel",
            "_view_count": null,
            "_view_module": "@jupyter-widgets/base",
            "_view_module_version": "1.2.0",
            "_view_name": "LayoutView",
            "align_content": null,
            "align_items": null,
            "align_self": null,
            "border": null,
            "bottom": null,
            "display": null,
            "flex": null,
            "flex_flow": null,
            "grid_area": null,
            "grid_auto_columns": null,
            "grid_auto_flow": null,
            "grid_auto_rows": null,
            "grid_column": null,
            "grid_gap": null,
            "grid_row": null,
            "grid_template_areas": null,
            "grid_template_columns": null,
            "grid_template_rows": null,
            "height": null,
            "justify_content": null,
            "justify_items": null,
            "left": null,
            "margin": null,
            "max_height": null,
            "max_width": null,
            "min_height": null,
            "min_width": null,
            "object_fit": null,
            "object_position": null,
            "order": null,
            "overflow": null,
            "overflow_x": null,
            "overflow_y": null,
            "padding": null,
            "right": null,
            "top": null,
            "visibility": null,
            "width": null
          }
        },
        "ef129e8add9a40669b2160a2a86c5f8e": {
          "model_module": "@jupyter-widgets/controls",
          "model_name": "DescriptionStyleModel",
          "model_module_version": "1.5.0",
          "state": {
            "_model_module": "@jupyter-widgets/controls",
            "_model_module_version": "1.5.0",
            "_model_name": "DescriptionStyleModel",
            "_view_count": null,
            "_view_module": "@jupyter-widgets/base",
            "_view_module_version": "1.2.0",
            "_view_name": "StyleView",
            "description_width": ""
          }
        },
        "eb3d401aa54543559227c20a25f7cc61": {
          "model_module": "@jupyter-widgets/base",
          "model_name": "LayoutModel",
          "model_module_version": "1.2.0",
          "state": {
            "_model_module": "@jupyter-widgets/base",
            "_model_module_version": "1.2.0",
            "_model_name": "LayoutModel",
            "_view_count": null,
            "_view_module": "@jupyter-widgets/base",
            "_view_module_version": "1.2.0",
            "_view_name": "LayoutView",
            "align_content": null,
            "align_items": null,
            "align_self": null,
            "border": null,
            "bottom": null,
            "display": null,
            "flex": null,
            "flex_flow": null,
            "grid_area": null,
            "grid_auto_columns": null,
            "grid_auto_flow": null,
            "grid_auto_rows": null,
            "grid_column": null,
            "grid_gap": null,
            "grid_row": null,
            "grid_template_areas": null,
            "grid_template_columns": null,
            "grid_template_rows": null,
            "height": null,
            "justify_content": null,
            "justify_items": null,
            "left": null,
            "margin": null,
            "max_height": null,
            "max_width": null,
            "min_height": null,
            "min_width": null,
            "object_fit": null,
            "object_position": null,
            "order": null,
            "overflow": null,
            "overflow_x": null,
            "overflow_y": null,
            "padding": null,
            "right": null,
            "top": null,
            "visibility": null,
            "width": null
          }
        },
        "72f833783bd249b6b52c3bff68c4fd97": {
          "model_module": "@jupyter-widgets/controls",
          "model_name": "ProgressStyleModel",
          "model_module_version": "1.5.0",
          "state": {
            "_model_module": "@jupyter-widgets/controls",
            "_model_module_version": "1.5.0",
            "_model_name": "ProgressStyleModel",
            "_view_count": null,
            "_view_module": "@jupyter-widgets/base",
            "_view_module_version": "1.2.0",
            "_view_name": "StyleView",
            "bar_color": null,
            "description_width": ""
          }
        },
        "8ff7a0cbc6f54ecfa0083efe086f571f": {
          "model_module": "@jupyter-widgets/base",
          "model_name": "LayoutModel",
          "model_module_version": "1.2.0",
          "state": {
            "_model_module": "@jupyter-widgets/base",
            "_model_module_version": "1.2.0",
            "_model_name": "LayoutModel",
            "_view_count": null,
            "_view_module": "@jupyter-widgets/base",
            "_view_module_version": "1.2.0",
            "_view_name": "LayoutView",
            "align_content": null,
            "align_items": null,
            "align_self": null,
            "border": null,
            "bottom": null,
            "display": null,
            "flex": null,
            "flex_flow": null,
            "grid_area": null,
            "grid_auto_columns": null,
            "grid_auto_flow": null,
            "grid_auto_rows": null,
            "grid_column": null,
            "grid_gap": null,
            "grid_row": null,
            "grid_template_areas": null,
            "grid_template_columns": null,
            "grid_template_rows": null,
            "height": null,
            "justify_content": null,
            "justify_items": null,
            "left": null,
            "margin": null,
            "max_height": null,
            "max_width": null,
            "min_height": null,
            "min_width": null,
            "object_fit": null,
            "object_position": null,
            "order": null,
            "overflow": null,
            "overflow_x": null,
            "overflow_y": null,
            "padding": null,
            "right": null,
            "top": null,
            "visibility": null,
            "width": null
          }
        },
        "1a030207b84b4645a15fbc74e2137f55": {
          "model_module": "@jupyter-widgets/controls",
          "model_name": "DescriptionStyleModel",
          "model_module_version": "1.5.0",
          "state": {
            "_model_module": "@jupyter-widgets/controls",
            "_model_module_version": "1.5.0",
            "_model_name": "DescriptionStyleModel",
            "_view_count": null,
            "_view_module": "@jupyter-widgets/base",
            "_view_module_version": "1.2.0",
            "_view_name": "StyleView",
            "description_width": ""
          }
        },
        "fc035aa2a0d344beba90786c824f736c": {
          "model_module": "@jupyter-widgets/controls",
          "model_name": "HBoxModel",
          "model_module_version": "1.5.0",
          "state": {
            "_dom_classes": [],
            "_model_module": "@jupyter-widgets/controls",
            "_model_module_version": "1.5.0",
            "_model_name": "HBoxModel",
            "_view_count": null,
            "_view_module": "@jupyter-widgets/controls",
            "_view_module_version": "1.5.0",
            "_view_name": "HBoxView",
            "box_style": "",
            "children": [
              "IPY_MODEL_c24640b950744ad8bd91cdef8fa3ca5a",
              "IPY_MODEL_3c13dc12657248b58e724108fd7c76de",
              "IPY_MODEL_e5a43e5274204294a7e90c68bcd1f9a2"
            ],
            "layout": "IPY_MODEL_e92f881588c24f988df0456ce507b2cc"
          }
        },
        "c24640b950744ad8bd91cdef8fa3ca5a": {
          "model_module": "@jupyter-widgets/controls",
          "model_name": "HTMLModel",
          "model_module_version": "1.5.0",
          "state": {
            "_dom_classes": [],
            "_model_module": "@jupyter-widgets/controls",
            "_model_module_version": "1.5.0",
            "_model_name": "HTMLModel",
            "_view_count": null,
            "_view_module": "@jupyter-widgets/controls",
            "_view_module_version": "1.5.0",
            "_view_name": "HTMLView",
            "description": "",
            "description_tooltip": null,
            "layout": "IPY_MODEL_f0ced258b53541d388052765ad39460b",
            "placeholder": "​",
            "style": "IPY_MODEL_b75ce6367a194b119fbd15a28b437c9f",
            "value": "Processing: 100%"
          }
        },
        "3c13dc12657248b58e724108fd7c76de": {
          "model_module": "@jupyter-widgets/controls",
          "model_name": "FloatProgressModel",
          "model_module_version": "1.5.0",
          "state": {
            "_dom_classes": [],
            "_model_module": "@jupyter-widgets/controls",
            "_model_module_version": "1.5.0",
            "_model_name": "FloatProgressModel",
            "_view_count": null,
            "_view_module": "@jupyter-widgets/controls",
            "_view_module_version": "1.5.0",
            "_view_name": "ProgressView",
            "bar_style": "",
            "description": "",
            "description_tooltip": null,
            "layout": "IPY_MODEL_2cb1fe68550c4b48bf0e951da1bacf77",
            "max": 7,
            "min": 0,
            "orientation": "horizontal",
            "style": "IPY_MODEL_88421eadb01b4b38b4017c54013b4f20",
            "value": 7
          }
        },
        "e5a43e5274204294a7e90c68bcd1f9a2": {
          "model_module": "@jupyter-widgets/controls",
          "model_name": "HTMLModel",
          "model_module_version": "1.5.0",
          "state": {
            "_dom_classes": [],
            "_model_module": "@jupyter-widgets/controls",
            "_model_module_version": "1.5.0",
            "_model_name": "HTMLModel",
            "_view_count": null,
            "_view_module": "@jupyter-widgets/controls",
            "_view_module_version": "1.5.0",
            "_view_name": "HTMLView",
            "description": "",
            "description_tooltip": null,
            "layout": "IPY_MODEL_a5734314f40941e7bf2b95c9738f5992",
            "placeholder": "​",
            "style": "IPY_MODEL_549f6b60617f48bfa0af529c8f7bf6b7",
            "value": " 7/7 [00:28&lt;00:00,  3.21s/it]"
          }
        },
        "e92f881588c24f988df0456ce507b2cc": {
          "model_module": "@jupyter-widgets/base",
          "model_name": "LayoutModel",
          "model_module_version": "1.2.0",
          "state": {
            "_model_module": "@jupyter-widgets/base",
            "_model_module_version": "1.2.0",
            "_model_name": "LayoutModel",
            "_view_count": null,
            "_view_module": "@jupyter-widgets/base",
            "_view_module_version": "1.2.0",
            "_view_name": "LayoutView",
            "align_content": null,
            "align_items": null,
            "align_self": null,
            "border": null,
            "bottom": null,
            "display": null,
            "flex": null,
            "flex_flow": null,
            "grid_area": null,
            "grid_auto_columns": null,
            "grid_auto_flow": null,
            "grid_auto_rows": null,
            "grid_column": null,
            "grid_gap": null,
            "grid_row": null,
            "grid_template_areas": null,
            "grid_template_columns": null,
            "grid_template_rows": null,
            "height": null,
            "justify_content": null,
            "justify_items": null,
            "left": null,
            "margin": null,
            "max_height": null,
            "max_width": null,
            "min_height": null,
            "min_width": null,
            "object_fit": null,
            "object_position": null,
            "order": null,
            "overflow": null,
            "overflow_x": null,
            "overflow_y": null,
            "padding": null,
            "right": null,
            "top": null,
            "visibility": "hidden",
            "width": null
          }
        },
        "f0ced258b53541d388052765ad39460b": {
          "model_module": "@jupyter-widgets/base",
          "model_name": "LayoutModel",
          "model_module_version": "1.2.0",
          "state": {
            "_model_module": "@jupyter-widgets/base",
            "_model_module_version": "1.2.0",
            "_model_name": "LayoutModel",
            "_view_count": null,
            "_view_module": "@jupyter-widgets/base",
            "_view_module_version": "1.2.0",
            "_view_name": "LayoutView",
            "align_content": null,
            "align_items": null,
            "align_self": null,
            "border": null,
            "bottom": null,
            "display": null,
            "flex": null,
            "flex_flow": null,
            "grid_area": null,
            "grid_auto_columns": null,
            "grid_auto_flow": null,
            "grid_auto_rows": null,
            "grid_column": null,
            "grid_gap": null,
            "grid_row": null,
            "grid_template_areas": null,
            "grid_template_columns": null,
            "grid_template_rows": null,
            "height": null,
            "justify_content": null,
            "justify_items": null,
            "left": null,
            "margin": null,
            "max_height": null,
            "max_width": null,
            "min_height": null,
            "min_width": null,
            "object_fit": null,
            "object_position": null,
            "order": null,
            "overflow": null,
            "overflow_x": null,
            "overflow_y": null,
            "padding": null,
            "right": null,
            "top": null,
            "visibility": null,
            "width": null
          }
        },
        "b75ce6367a194b119fbd15a28b437c9f": {
          "model_module": "@jupyter-widgets/controls",
          "model_name": "DescriptionStyleModel",
          "model_module_version": "1.5.0",
          "state": {
            "_model_module": "@jupyter-widgets/controls",
            "_model_module_version": "1.5.0",
            "_model_name": "DescriptionStyleModel",
            "_view_count": null,
            "_view_module": "@jupyter-widgets/base",
            "_view_module_version": "1.2.0",
            "_view_name": "StyleView",
            "description_width": ""
          }
        },
        "2cb1fe68550c4b48bf0e951da1bacf77": {
          "model_module": "@jupyter-widgets/base",
          "model_name": "LayoutModel",
          "model_module_version": "1.2.0",
          "state": {
            "_model_module": "@jupyter-widgets/base",
            "_model_module_version": "1.2.0",
            "_model_name": "LayoutModel",
            "_view_count": null,
            "_view_module": "@jupyter-widgets/base",
            "_view_module_version": "1.2.0",
            "_view_name": "LayoutView",
            "align_content": null,
            "align_items": null,
            "align_self": null,
            "border": null,
            "bottom": null,
            "display": null,
            "flex": null,
            "flex_flow": null,
            "grid_area": null,
            "grid_auto_columns": null,
            "grid_auto_flow": null,
            "grid_auto_rows": null,
            "grid_column": null,
            "grid_gap": null,
            "grid_row": null,
            "grid_template_areas": null,
            "grid_template_columns": null,
            "grid_template_rows": null,
            "height": null,
            "justify_content": null,
            "justify_items": null,
            "left": null,
            "margin": null,
            "max_height": null,
            "max_width": null,
            "min_height": null,
            "min_width": null,
            "object_fit": null,
            "object_position": null,
            "order": null,
            "overflow": null,
            "overflow_x": null,
            "overflow_y": null,
            "padding": null,
            "right": null,
            "top": null,
            "visibility": null,
            "width": null
          }
        },
        "88421eadb01b4b38b4017c54013b4f20": {
          "model_module": "@jupyter-widgets/controls",
          "model_name": "ProgressStyleModel",
          "model_module_version": "1.5.0",
          "state": {
            "_model_module": "@jupyter-widgets/controls",
            "_model_module_version": "1.5.0",
            "_model_name": "ProgressStyleModel",
            "_view_count": null,
            "_view_module": "@jupyter-widgets/base",
            "_view_module_version": "1.2.0",
            "_view_name": "StyleView",
            "bar_color": null,
            "description_width": ""
          }
        },
        "a5734314f40941e7bf2b95c9738f5992": {
          "model_module": "@jupyter-widgets/base",
          "model_name": "LayoutModel",
          "model_module_version": "1.2.0",
          "state": {
            "_model_module": "@jupyter-widgets/base",
            "_model_module_version": "1.2.0",
            "_model_name": "LayoutModel",
            "_view_count": null,
            "_view_module": "@jupyter-widgets/base",
            "_view_module_version": "1.2.0",
            "_view_name": "LayoutView",
            "align_content": null,
            "align_items": null,
            "align_self": null,
            "border": null,
            "bottom": null,
            "display": null,
            "flex": null,
            "flex_flow": null,
            "grid_area": null,
            "grid_auto_columns": null,
            "grid_auto_flow": null,
            "grid_auto_rows": null,
            "grid_column": null,
            "grid_gap": null,
            "grid_row": null,
            "grid_template_areas": null,
            "grid_template_columns": null,
            "grid_template_rows": null,
            "height": null,
            "justify_content": null,
            "justify_items": null,
            "left": null,
            "margin": null,
            "max_height": null,
            "max_width": null,
            "min_height": null,
            "min_width": null,
            "object_fit": null,
            "object_position": null,
            "order": null,
            "overflow": null,
            "overflow_x": null,
            "overflow_y": null,
            "padding": null,
            "right": null,
            "top": null,
            "visibility": null,
            "width": null
          }
        },
        "549f6b60617f48bfa0af529c8f7bf6b7": {
          "model_module": "@jupyter-widgets/controls",
          "model_name": "DescriptionStyleModel",
          "model_module_version": "1.5.0",
          "state": {
            "_model_module": "@jupyter-widgets/controls",
            "_model_module_version": "1.5.0",
            "_model_name": "DescriptionStyleModel",
            "_view_count": null,
            "_view_module": "@jupyter-widgets/base",
            "_view_module_version": "1.2.0",
            "_view_name": "StyleView",
            "description_width": ""
          }
        }
      }
    }
  },
  "cells": [
    {
      "cell_type": "markdown",
      "metadata": {
        "id": "QjnefMPdocIe"
      },
      "source": [
        "# Hyper-Parameter Tuning using Optuna\n"
      ]
    },
    {
      "cell_type": "markdown",
      "metadata": {
        "id": "M91PzaKGLrFh"
      },
      "source": [
        "To install Optuna library execute pip install optuna"
      ]
    },
    {
      "cell_type": "code",
      "metadata": {
        "id": "eeFJxebx_sl7",
        "colab": {
          "base_uri": "https://localhost:8080/"
        },
        "outputId": "14612509-8536-414c-eb56-9552285dbf2e"
      },
      "source": [
        "pip install optuna"
      ],
      "execution_count": null,
      "outputs": [
        {
          "output_type": "stream",
          "name": "stdout",
          "text": [
            "Requirement already satisfied: optuna in /usr/local/lib/python3.7/dist-packages (2.10.0)\n",
            "Requirement already satisfied: sqlalchemy>=1.1.0 in /usr/local/lib/python3.7/dist-packages (from optuna) (1.4.32)\n",
            "Requirement already satisfied: tqdm in /usr/local/lib/python3.7/dist-packages (from optuna) (4.63.0)\n",
            "Requirement already satisfied: alembic in /usr/local/lib/python3.7/dist-packages (from optuna) (1.7.7)\n",
            "Requirement already satisfied: PyYAML in /usr/local/lib/python3.7/dist-packages (from optuna) (5.4.1)\n",
            "Requirement already satisfied: numpy in /usr/local/lib/python3.7/dist-packages (from optuna) (1.21.5)\n",
            "Requirement already satisfied: packaging>=20.0 in /usr/local/lib/python3.7/dist-packages (from optuna) (21.3)\n",
            "Requirement already satisfied: scipy!=1.4.0 in /usr/local/lib/python3.7/dist-packages (from optuna) (1.5.4)\n",
            "Requirement already satisfied: colorlog in /usr/local/lib/python3.7/dist-packages (from optuna) (6.6.0)\n",
            "Requirement already satisfied: cliff in /usr/local/lib/python3.7/dist-packages (from optuna) (3.10.1)\n",
            "Requirement already satisfied: cmaes>=0.8.2 in /usr/local/lib/python3.7/dist-packages (from optuna) (0.8.2)\n",
            "Requirement already satisfied: pyparsing!=3.0.5,>=2.0.2 in /usr/local/lib/python3.7/dist-packages (from packaging>=20.0->optuna) (3.0.7)\n",
            "Requirement already satisfied: greenlet!=0.4.17 in /usr/local/lib/python3.7/dist-packages (from sqlalchemy>=1.1.0->optuna) (1.1.2)\n",
            "Requirement already satisfied: importlib-metadata in /usr/local/lib/python3.7/dist-packages (from sqlalchemy>=1.1.0->optuna) (4.11.3)\n",
            "Requirement already satisfied: Mako in /usr/local/lib/python3.7/dist-packages (from alembic->optuna) (1.2.0)\n",
            "Requirement already satisfied: importlib-resources in /usr/local/lib/python3.7/dist-packages (from alembic->optuna) (5.4.0)\n",
            "Requirement already satisfied: PrettyTable>=0.7.2 in /usr/local/lib/python3.7/dist-packages (from cliff->optuna) (3.2.0)\n",
            "Requirement already satisfied: stevedore>=2.0.1 in /usr/local/lib/python3.7/dist-packages (from cliff->optuna) (3.5.0)\n",
            "Requirement already satisfied: autopage>=0.4.0 in /usr/local/lib/python3.7/dist-packages (from cliff->optuna) (0.5.0)\n",
            "Requirement already satisfied: pbr!=2.1.0,>=2.0.0 in /usr/local/lib/python3.7/dist-packages (from cliff->optuna) (5.8.1)\n",
            "Requirement already satisfied: cmd2>=1.0.0 in /usr/local/lib/python3.7/dist-packages (from cliff->optuna) (2.4.0)\n",
            "Requirement already satisfied: pyperclip>=1.6 in /usr/local/lib/python3.7/dist-packages (from cmd2>=1.0.0->cliff->optuna) (1.8.2)\n",
            "Requirement already satisfied: wcwidth>=0.1.7 in /usr/local/lib/python3.7/dist-packages (from cmd2>=1.0.0->cliff->optuna) (0.2.5)\n",
            "Requirement already satisfied: attrs>=16.3.0 in /usr/local/lib/python3.7/dist-packages (from cmd2>=1.0.0->cliff->optuna) (21.4.0)\n",
            "Requirement already satisfied: typing-extensions in /usr/local/lib/python3.7/dist-packages (from cmd2>=1.0.0->cliff->optuna) (3.10.0.2)\n",
            "Requirement already satisfied: zipp>=0.5 in /usr/local/lib/python3.7/dist-packages (from importlib-metadata->sqlalchemy>=1.1.0->optuna) (3.7.0)\n",
            "Requirement already satisfied: MarkupSafe>=0.9.2 in /usr/local/lib/python3.7/dist-packages (from Mako->alembic->optuna) (2.0.1)\n"
          ]
        }
      ]
    },
    {
      "cell_type": "markdown",
      "metadata": {
        "id": "DY8pVbdaSP-1"
      },
      "source": [
        "### Required packages"
      ]
    },
    {
      "cell_type": "code",
      "metadata": {
        "id": "k2UYblkf_8LD"
      },
      "source": [
        "import pandas as pd\n",
        "import numpy as np\n",
        "import seaborn as sns\n",
        "import warnings\n",
        "from sklearn.svm import SVR\n",
        "import optuna as op\n",
        "from sklearn.model_selection import train_test_split\n",
        "warnings.filterwarnings(\"ignore\")"
      ],
      "execution_count": null,
      "outputs": []
    },
    {
      "cell_type": "code",
      "source": [
        "def evalmetric(y,ypred):\n",
        " import numpy as np\n",
        " e = y - ypred\n",
        " mse_f = np.mean(e**2)\n",
        " rmse_f = np.sqrt(mse_f)\n",
        " mae_f = np.mean(abs(e))\n",
        " mape_f = 100*np.mean(abs(e/y))\n",
        " r2_f = 1-(sum(e**2)/sum((y-np.mean(y))**2))\n",
        " print(\"MSE:\", mse_f)\n",
        " print(\"RMSE:\", rmse_f)\n",
        " print(\"MAE:\",mae_f)\n",
        " print(\"MAPE:\",mape_f)\n",
        " print(\"R-Squared:\", r2_f)"
      ],
      "metadata": {
        "id": "YXdadx846WdN"
      },
      "execution_count": null,
      "outputs": []
    },
    {
      "cell_type": "markdown",
      "metadata": {
        "id": "lgEPikWtUkww"
      },
      "source": [
        "### Fetching dataset\n"
      ]
    },
    {
      "cell_type": "code",
      "metadata": {
        "colab": {
          "base_uri": "https://localhost:8080/",
          "height": 206
        },
        "id": "CAstMXMyBfPT",
        "outputId": "6178a906-95ac-474a-8b46-33038c37df70"
      },
      "source": [
        "df=pd.read_csv(\"https://raw.githubusercontent.com/ogut77/DataScience/main/data/CCPP.csv\")\n",
        "\n",
        "df.head()"
      ],
      "execution_count": null,
      "outputs": [
        {
          "output_type": "execute_result",
          "data": {
            "text/plain": [
              "      AT      V       AP     RH      PE\n",
              "0  14.96  41.76  1024.07  73.17  463.26\n",
              "1  25.18  62.96  1020.04  59.08  444.37\n",
              "2   5.11  39.40  1012.16  92.14  488.56\n",
              "3  20.86  57.32  1010.24  76.64  446.48\n",
              "4  10.82  37.50  1009.23  96.62  473.90"
            ],
            "text/html": [
              "\n",
              "  <div id=\"df-4a4c3750-0290-4d41-9cb9-cc9b88fd46e6\">\n",
              "    <div class=\"colab-df-container\">\n",
              "      <div>\n",
              "<style scoped>\n",
              "    .dataframe tbody tr th:only-of-type {\n",
              "        vertical-align: middle;\n",
              "    }\n",
              "\n",
              "    .dataframe tbody tr th {\n",
              "        vertical-align: top;\n",
              "    }\n",
              "\n",
              "    .dataframe thead th {\n",
              "        text-align: right;\n",
              "    }\n",
              "</style>\n",
              "<table border=\"1\" class=\"dataframe\">\n",
              "  <thead>\n",
              "    <tr style=\"text-align: right;\">\n",
              "      <th></th>\n",
              "      <th>AT</th>\n",
              "      <th>V</th>\n",
              "      <th>AP</th>\n",
              "      <th>RH</th>\n",
              "      <th>PE</th>\n",
              "    </tr>\n",
              "  </thead>\n",
              "  <tbody>\n",
              "    <tr>\n",
              "      <th>0</th>\n",
              "      <td>14.96</td>\n",
              "      <td>41.76</td>\n",
              "      <td>1024.07</td>\n",
              "      <td>73.17</td>\n",
              "      <td>463.26</td>\n",
              "    </tr>\n",
              "    <tr>\n",
              "      <th>1</th>\n",
              "      <td>25.18</td>\n",
              "      <td>62.96</td>\n",
              "      <td>1020.04</td>\n",
              "      <td>59.08</td>\n",
              "      <td>444.37</td>\n",
              "    </tr>\n",
              "    <tr>\n",
              "      <th>2</th>\n",
              "      <td>5.11</td>\n",
              "      <td>39.40</td>\n",
              "      <td>1012.16</td>\n",
              "      <td>92.14</td>\n",
              "      <td>488.56</td>\n",
              "    </tr>\n",
              "    <tr>\n",
              "      <th>3</th>\n",
              "      <td>20.86</td>\n",
              "      <td>57.32</td>\n",
              "      <td>1010.24</td>\n",
              "      <td>76.64</td>\n",
              "      <td>446.48</td>\n",
              "    </tr>\n",
              "    <tr>\n",
              "      <th>4</th>\n",
              "      <td>10.82</td>\n",
              "      <td>37.50</td>\n",
              "      <td>1009.23</td>\n",
              "      <td>96.62</td>\n",
              "      <td>473.90</td>\n",
              "    </tr>\n",
              "  </tbody>\n",
              "</table>\n",
              "</div>\n",
              "      <button class=\"colab-df-convert\" onclick=\"convertToInteractive('df-4a4c3750-0290-4d41-9cb9-cc9b88fd46e6')\"\n",
              "              title=\"Convert this dataframe to an interactive table.\"\n",
              "              style=\"display:none;\">\n",
              "        \n",
              "  <svg xmlns=\"http://www.w3.org/2000/svg\" height=\"24px\"viewBox=\"0 0 24 24\"\n",
              "       width=\"24px\">\n",
              "    <path d=\"M0 0h24v24H0V0z\" fill=\"none\"/>\n",
              "    <path d=\"M18.56 5.44l.94 2.06.94-2.06 2.06-.94-2.06-.94-.94-2.06-.94 2.06-2.06.94zm-11 1L8.5 8.5l.94-2.06 2.06-.94-2.06-.94L8.5 2.5l-.94 2.06-2.06.94zm10 10l.94 2.06.94-2.06 2.06-.94-2.06-.94-.94-2.06-.94 2.06-2.06.94z\"/><path d=\"M17.41 7.96l-1.37-1.37c-.4-.4-.92-.59-1.43-.59-.52 0-1.04.2-1.43.59L10.3 9.45l-7.72 7.72c-.78.78-.78 2.05 0 2.83L4 21.41c.39.39.9.59 1.41.59.51 0 1.02-.2 1.41-.59l7.78-7.78 2.81-2.81c.8-.78.8-2.07 0-2.86zM5.41 20L4 18.59l7.72-7.72 1.47 1.35L5.41 20z\"/>\n",
              "  </svg>\n",
              "      </button>\n",
              "      \n",
              "  <style>\n",
              "    .colab-df-container {\n",
              "      display:flex;\n",
              "      flex-wrap:wrap;\n",
              "      gap: 12px;\n",
              "    }\n",
              "\n",
              "    .colab-df-convert {\n",
              "      background-color: #E8F0FE;\n",
              "      border: none;\n",
              "      border-radius: 50%;\n",
              "      cursor: pointer;\n",
              "      display: none;\n",
              "      fill: #1967D2;\n",
              "      height: 32px;\n",
              "      padding: 0 0 0 0;\n",
              "      width: 32px;\n",
              "    }\n",
              "\n",
              "    .colab-df-convert:hover {\n",
              "      background-color: #E2EBFA;\n",
              "      box-shadow: 0px 1px 2px rgba(60, 64, 67, 0.3), 0px 1px 3px 1px rgba(60, 64, 67, 0.15);\n",
              "      fill: #174EA6;\n",
              "    }\n",
              "\n",
              "    [theme=dark] .colab-df-convert {\n",
              "      background-color: #3B4455;\n",
              "      fill: #D2E3FC;\n",
              "    }\n",
              "\n",
              "    [theme=dark] .colab-df-convert:hover {\n",
              "      background-color: #434B5C;\n",
              "      box-shadow: 0px 1px 3px 1px rgba(0, 0, 0, 0.15);\n",
              "      filter: drop-shadow(0px 1px 2px rgba(0, 0, 0, 0.3));\n",
              "      fill: #FFFFFF;\n",
              "    }\n",
              "  </style>\n",
              "\n",
              "      <script>\n",
              "        const buttonEl =\n",
              "          document.querySelector('#df-4a4c3750-0290-4d41-9cb9-cc9b88fd46e6 button.colab-df-convert');\n",
              "        buttonEl.style.display =\n",
              "          google.colab.kernel.accessAllowed ? 'block' : 'none';\n",
              "\n",
              "        async function convertToInteractive(key) {\n",
              "          const element = document.querySelector('#df-4a4c3750-0290-4d41-9cb9-cc9b88fd46e6');\n",
              "          const dataTable =\n",
              "            await google.colab.kernel.invokeFunction('convertToInteractive',\n",
              "                                                     [key], {});\n",
              "          if (!dataTable) return;\n",
              "\n",
              "          const docLinkHtml = 'Like what you see? Visit the ' +\n",
              "            '<a target=\"_blank\" href=https://colab.research.google.com/notebooks/data_table.ipynb>data table notebook</a>'\n",
              "            + ' to learn more about interactive tables.';\n",
              "          element.innerHTML = '';\n",
              "          dataTable['output_type'] = 'display_data';\n",
              "          await google.colab.output.renderOutput(dataTable, element);\n",
              "          const docLink = document.createElement('div');\n",
              "          docLink.innerHTML = docLinkHtml;\n",
              "          element.appendChild(docLink);\n",
              "        }\n",
              "      </script>\n",
              "    </div>\n",
              "  </div>\n",
              "  "
            ]
          },
          "metadata": {},
          "execution_count": 4
        }
      ]
    },
    {
      "cell_type": "markdown",
      "metadata": {
        "id": "bToKyj_a3pIK"
      },
      "source": [
        "Features consist of hourly average ambient variables Temperature (T), Ambient Pressure (AP), Relative Humidity (RH) and Exhaust Vacuum (V) to predict the net hourly electrical energy output (PE) of the plant."
      ]
    },
    {
      "cell_type": "code",
      "metadata": {
        "colab": {
          "base_uri": "https://localhost:8080/"
        },
        "id": "Dn4CciB3BlmK",
        "outputId": "d1c159ab-c081-40b0-c0ba-2d8625fbf7f4"
      },
      "source": [
        "df.info()"
      ],
      "execution_count": null,
      "outputs": [
        {
          "output_type": "stream",
          "name": "stdout",
          "text": [
            "<class 'pandas.core.frame.DataFrame'>\n",
            "RangeIndex: 9568 entries, 0 to 9567\n",
            "Data columns (total 5 columns):\n",
            " #   Column  Non-Null Count  Dtype  \n",
            "---  ------  --------------  -----  \n",
            " 0   AT      9568 non-null   float64\n",
            " 1   V       9568 non-null   float64\n",
            " 2   AP      9568 non-null   float64\n",
            " 3   RH      9568 non-null   float64\n",
            " 4   PE      9568 non-null   float64\n",
            "dtypes: float64(5)\n",
            "memory usage: 373.9 KB\n"
          ]
        }
      ]
    },
    {
      "cell_type": "markdown",
      "metadata": {
        "id": "7J0nnzv0VORk"
      },
      "source": [
        "### Feature and Target Selection\n"
      ]
    },
    {
      "cell_type": "code",
      "metadata": {
        "id": "uraI3qfvBwAb"
      },
      "source": [
        "X=df.drop(\"PE\",axis=1)\n",
        "Y=df.PE"
      ],
      "execution_count": null,
      "outputs": []
    },
    {
      "cell_type": "markdown",
      "metadata": {
        "id": "FZpZOhKwVXQL"
      },
      "source": [
        "### Splitting Dataset\n"
      ]
    },
    {
      "cell_type": "code",
      "metadata": {
        "id": "57XUgMz-B4Aa"
      },
      "source": [
        "X_train,X_test,y_train,y_test=train_test_split(X,Y,test_size=0.2,random_state=123)"
      ],
      "execution_count": null,
      "outputs": []
    },
    {
      "cell_type": "code",
      "metadata": {
        "colab": {
          "base_uri": "https://localhost:8080/"
        },
        "id": "YFCDL3EZCIjS",
        "outputId": "fcdb56e1-ba6e-4591-a11b-bf518604c965"
      },
      "source": [
        "print(\"train: \",X_train.shape)\n",
        "print(\"test: \",X_test.shape)"
      ],
      "execution_count": null,
      "outputs": [
        {
          "output_type": "stream",
          "name": "stdout",
          "text": [
            "train:  (7654, 4)\n",
            "test:  (1914, 4)\n"
          ]
        }
      ]
    },
    {
      "cell_type": "markdown",
      "metadata": {
        "id": "XncCkXEqV8oR"
      },
      "source": [
        "### Baseline Model\n",
        "\n",
        "First we will create a model without any parameter tuning to understand effect of parameter tuning at the later stage"
      ]
    },
    {
      "cell_type": "code",
      "metadata": {
        "colab": {
          "base_uri": "https://localhost:8080/"
        },
        "id": "WSxLUMSmC-dD",
        "outputId": "5aa79368-e690-40ab-9632-c9c813c8906d"
      },
      "source": [
        "model=SVR()\n",
        "model.fit(X_train,y_train)"
      ],
      "execution_count": null,
      "outputs": [
        {
          "output_type": "execute_result",
          "data": {
            "text/plain": [
              "SVR()"
            ]
          },
          "metadata": {},
          "execution_count": 13
        }
      ]
    },
    {
      "cell_type": "markdown",
      "metadata": {
        "id": "CQZKs3s-Wg-v"
      },
      "source": [
        "#### Model accuracy"
      ]
    },
    {
      "cell_type": "code",
      "metadata": {
        "colab": {
          "base_uri": "https://localhost:8080/"
        },
        "id": "J__z9NA8DGYK",
        "outputId": "e01b55af-1011-487f-f987-0db31a492c8c"
      },
      "source": [
        "y_pred = model.predict(X_test)\n",
        "evalmetric(y_test,y_pred)"
      ],
      "execution_count": null,
      "outputs": [
        {
          "output_type": "stream",
          "name": "stdout",
          "text": [
            "MSE: 176.7662832841867\n",
            "RMSE: 13.295348182134482\n",
            "MAE: 11.103633135830277\n",
            "MAPE: 2.422919335892963\n",
            "R-Squared: 0.389227875807325\n"
          ]
        }
      ]
    },
    {
      "cell_type": "markdown",
      "metadata": {
        "id": "TSB7S5TSWkUt"
      },
      "source": [
        "### Optuna Hyperparameter Tuning\n",
        "\n",
        "In this section we will try to maximize our accuracy using different hyperparameter tunning available for SVM model.\n",
        "\n",
        "Tuning parameters of SVM:\n",
        "\n",
        "1. Kernel - Specifies the kernel type to be used in the algorithm. It must be one of ‘linear’, ‘poly’, ‘rbf’, ‘sigmoid’.\n",
        "2. C - Regularization parameter. The strength of the regularization is inversely proportional to C. Must be strictly positive. The penalty is a squared l2 penalty.\n",
        "3. degree - Degree of the polynomial kernel function (‘poly’). Ignored by all other kernels.\n",
        "4. gamma - Kernel coefficient for ‘rbf’, ‘poly’ and ‘sigmoid’.\n"
      ]
    },
    {
      "cell_type": "code",
      "metadata": {
        "id": "Q9u482GSD89S"
      },
      "source": [
        "def objective(trial):\n",
        "    kernel=trial.suggest_categorical('kernel',['rbf','poly','linear','sigmoid'])\n",
        "    c=trial.suggest_float(\"C\",0.1,3.0,log=True)\n",
        "    gamma=trial.suggest_categorical('gamma',['auto','scale'])\n",
        "    degree=trial.suggest_int(\"degree\",1,3,log=True)\n",
        "    model =SVR(kernel=kernel,degree=degree,gamma=gamma,C=c)\n",
        "    model.fit(X_train,y_train)\n",
        "    accuracy = model.score(X_test,y_test)\n",
        "    return accuracy"
      ],
      "execution_count": null,
      "outputs": []
    },
    {
      "cell_type": "code",
      "metadata": {
        "colab": {
          "base_uri": "https://localhost:8080/"
        },
        "id": "7eTeoOkG6X6Y",
        "outputId": "0d3c4814-274f-4d1d-e8e0-ecfd525f9391"
      },
      "source": [
        "#optuna study record\n",
        "study = op.create_study(direction=\"maximize\")\n",
        "study.optimize(objective, n_trials=20,n_jobs=-1)"
      ],
      "execution_count": null,
      "outputs": [
        {
          "metadata": {
            "tags": null
          },
          "name": "stderr",
          "output_type": "stream",
          "text": [
            "\u001b[32m[I 2022-04-01 04:59:26,470]\u001b[0m A new study created in memory with name: no-name-0f8953a2-09e5-495a-addd-3457634fb07e\u001b[0m\n",
            "\u001b[32m[I 2022-04-01 04:59:28,876]\u001b[0m Trial 1 finished with value: -0.033889012046907974 and parameters: {'kernel': 'sigmoid', 'C': 0.9323530683705877, 'gamma': 'auto', 'degree': 1}. Best is trial 1 with value: -0.033889012046907974.\u001b[0m\n",
            "\u001b[32m[I 2022-04-01 04:59:37,225]\u001b[0m Trial 2 finished with value: 0.92986037518757 and parameters: {'kernel': 'linear', 'C': 0.39578756023480366, 'gamma': 'scale', 'degree': 2}. Best is trial 2 with value: 0.92986037518757.\u001b[0m\n",
            "\u001b[32m[I 2022-04-01 04:59:39,656]\u001b[0m Trial 3 finished with value: -0.033889012046907974 and parameters: {'kernel': 'sigmoid', 'C': 0.8885150104183361, 'gamma': 'auto', 'degree': 1}. Best is trial 2 with value: 0.92986037518757.\u001b[0m\n",
            "\u001b[32m[I 2022-04-01 04:59:43,541]\u001b[0m Trial 4 finished with value: 0.9298981757594549 and parameters: {'kernel': 'poly', 'C': 0.2495024523902746, 'gamma': 'auto', 'degree': 1}. Best is trial 4 with value: 0.9298981757594549.\u001b[0m\n",
            "\u001b[32m[I 2022-04-01 04:59:46,258]\u001b[0m Trial 5 finished with value: 0.31864837712876615 and parameters: {'kernel': 'poly', 'C': 2.3217827207818185, 'gamma': 'scale', 'degree': 1}. Best is trial 4 with value: 0.9298981757594549.\u001b[0m\n",
            "\u001b[32m[I 2022-04-01 04:59:51,316]\u001b[0m Trial 6 finished with value: -0.03034507268283626 and parameters: {'kernel': 'sigmoid', 'C': 0.11255274243000585, 'gamma': 'scale', 'degree': 1}. Best is trial 4 with value: 0.9298981757594549.\u001b[0m\n",
            "\u001b[32m[I 2022-04-01 04:59:53,051]\u001b[0m Trial 0 finished with value: -21907.964512626462 and parameters: {'kernel': 'poly', 'C': 0.5300866994160652, 'gamma': 'auto', 'degree': 2}. Best is trial 4 with value: 0.9298981757594549.\u001b[0m\n",
            "\u001b[32m[I 2022-04-01 04:59:55,670]\u001b[0m Trial 7 finished with value: 0.002730551446823215 and parameters: {'kernel': 'rbf', 'C': 0.10191122853475977, 'gamma': 'scale', 'degree': 1}. Best is trial 4 with value: 0.9298981757594549.\u001b[0m\n",
            "\u001b[32m[I 2022-04-01 05:00:07,044]\u001b[0m Trial 9 finished with value: 0.9298862731135599 and parameters: {'kernel': 'linear', 'C': 0.6274531365885784, 'gamma': 'auto', 'degree': 2}. Best is trial 4 with value: 0.9298981757594549.\u001b[0m\n",
            "\u001b[32m[I 2022-04-01 05:00:09,766]\u001b[0m Trial 10 finished with value: 0.08741652230393304 and parameters: {'kernel': 'poly', 'C': 0.6985719416401992, 'gamma': 'scale', 'degree': 1}. Best is trial 4 with value: 0.9298981757594549.\u001b[0m\n",
            "\u001b[32m[I 2022-04-01 05:00:12,307]\u001b[0m Trial 8 finished with value: 0.9298770793998179 and parameters: {'kernel': 'linear', 'C': 1.842512113546131, 'gamma': 'auto', 'degree': 1}. Best is trial 4 with value: 0.9298981757594549.\u001b[0m\n",
            "\u001b[32m[I 2022-04-01 05:00:14,327]\u001b[0m Trial 11 finished with value: 0.06365019176811038 and parameters: {'kernel': 'rbf', 'C': 0.22886098130082097, 'gamma': 'auto', 'degree': 3}. Best is trial 4 with value: 0.9298981757594549.\u001b[0m\n",
            "\u001b[32m[I 2022-04-01 05:00:19,020]\u001b[0m Trial 12 finished with value: 0.9299031944539519 and parameters: {'kernel': 'linear', 'C': 0.26328041423794135, 'gamma': 'auto', 'degree': 3}. Best is trial 12 with value: 0.9299031944539519.\u001b[0m\n",
            "\u001b[32m[I 2022-04-01 05:00:20,462]\u001b[0m Trial 13 finished with value: 0.9299240740137319 and parameters: {'kernel': 'linear', 'C': 0.24973546039768105, 'gamma': 'auto', 'degree': 2}. Best is trial 13 with value: 0.9299240740137319.\u001b[0m\n"
          ]
        }
      ]
    },
    {
      "cell_type": "markdown",
      "metadata": {
        "id": "VUoYgzwrtA9w"
      },
      "source": [
        "### Best result\n",
        "\n"
      ]
    },
    {
      "cell_type": "code",
      "metadata": {
        "colab": {
          "base_uri": "https://localhost:8080/"
        },
        "id": "cHI5g8O-6YE0",
        "outputId": "3abbd733-3593-4c94-a349-a1f53964dfc8"
      },
      "source": [
        "trial=study.best_trial\n",
        "print(\"Best Tuning Parameters : {} \\n with accuracy of : {:.2f} %\".format(trial.params,trial.value))"
      ],
      "execution_count": null,
      "outputs": [
        {
          "output_type": "stream",
          "text": [
            "Best Tuning Parameters : {'kernel': 'linear', 'C': 0.10540821019812002, 'gamma': 'auto', 'degree': 1} \n",
            " with accuracy of : 0.92 %\n"
          ],
          "name": "stdout"
        }
      ]
    },
    {
      "cell_type": "markdown",
      "metadata": {
        "id": "BkQBHSpoW0xZ"
      },
      "source": [
        "### tuning Model\n",
        "\n",
        "now we will use the obtained best parameter from the Optuna operation for fitting the model."
      ]
    },
    {
      "cell_type": "code",
      "metadata": {
        "colab": {
          "base_uri": "https://localhost:8080/"
        },
        "id": "uPvpbSuqHI9y",
        "outputId": "702909e5-71be-4cb7-828b-75fef9f8c8c8"
      },
      "source": [
        "#model with the return parameters\n",
        "model_tunned=SVR(kernel='linear',\n",
        "                C= 0.10540821019812002,\n",
        "                gamma='auto',\n",
        "                degree=1)\n",
        "model_tunned.fit(X_train,y_train)"
      ],
      "execution_count": null,
      "outputs": [
        {
          "output_type": "execute_result",
          "data": {
            "text/plain": [
              "SVR(C=0.10540821019812002, degree=1, gamma='auto', kernel='linear')"
            ]
          },
          "metadata": {},
          "execution_count": 16
        }
      ]
    },
    {
      "cell_type": "markdown",
      "metadata": {
        "id": "Gu5tsXuXtcPK"
      },
      "source": [
        "### Accuracy\n"
      ]
    },
    {
      "cell_type": "code",
      "metadata": {
        "colab": {
          "base_uri": "https://localhost:8080/"
        },
        "id": "wlKBVlFxtYhb",
        "outputId": "2b267f47-38f0-47a9-8704-8c6ec9314791"
      },
      "source": [
        "y_predT = model_tunned.predict(X_test)\n",
        "evalmetric(y_test,y_predT)"
      ],
      "execution_count": null,
      "outputs": [
        {
          "output_type": "stream",
          "name": "stdout",
          "text": [
            "MSE: 22.45955991882792\n",
            "RMSE: 4.73915181428364\n",
            "MAE: 3.7479224924001753\n",
            "MAPE: 0.828902665050708\n",
            "R-Squared: 0.9223965517337867\n"
          ]
        }
      ]
    },
    {
      "cell_type": "markdown",
      "metadata": {
        "id": "Ebf9x768W4Mr"
      },
      "source": [
        "### Study Plot of Optuna\n",
        "\n",
        "The visualization module of optuna provides utility for plotting the optimization process using plotly and matplotlib. Plotting functions generally take a Study object and optional parameters are passed as a list to the params argument."
      ]
    },
    {
      "cell_type": "code",
      "metadata": {
        "colab": {
          "base_uri": "https://localhost:8080/",
          "height": 316
        },
        "id": "8ER4fth5TrB3",
        "outputId": "897a0632-c3b4-46d0-c42a-71c7d0641307"
      },
      "source": [
        "op.visualization.matplotlib.plot_optimization_history(study)"
      ],
      "execution_count": null,
      "outputs": [
        {
          "output_type": "execute_result",
          "data": {
            "text/plain": [
              "<matplotlib.axes._subplots.AxesSubplot at 0x7f28afafc950>"
            ]
          },
          "metadata": {
            "tags": []
          },
          "execution_count": 16
        },
        {
          "output_type": "display_data",
          "data": {
            "image/png": "[encoded data removed]",
            "text/plain": [
              "<Figure size 432x288 with 1 Axes>"
            ]
          },
          "metadata": {
            "tags": []
          }
        }
      ]
    },
    {
      "cell_type": "markdown",
      "metadata": {
        "id": "CPO0G2ysyQID"
      },
      "source": [
        "Plot optimization history of all trials in a study.\n",
        "\n",
        "The line plot indicates the best accuracy in complete trial run amongst all and  blue indicates individual trial accuracy."
      ]
    },
    {
      "cell_type": "markdown",
      "source": [
        "# Linear Regression"
      ],
      "metadata": {
        "id": "6YcaPRbN5eRc"
      }
    },
    {
      "cell_type": "code",
      "source": [
        "from sklearn.linear_model import LinearRegression\n",
        "\n",
        "# instantiate the model (using the default parameters)\n",
        "LR = LinearRegression()\n",
        "\n",
        "# fit the model with data\n",
        "LR.fit(X_train,y_train)\n",
        "\n",
        "#\n",
        "y_predLR=LR.predict(X_test)\n",
        "evalmetric(y_test,y_predLR)"
      ],
      "metadata": {
        "id": "d9nFjtes5kgi",
        "outputId": "edfdfa61-8142-43f3-bbe5-0693ec20cbeb",
        "colab": {
          "base_uri": "https://localhost:8080/"
        }
      },
      "execution_count": null,
      "outputs": [
        {
          "output_type": "stream",
          "name": "stdout",
          "text": [
            "MSE: 22.127759402996112\n",
            "RMSE: 4.704015242640708\n",
            "MAE: 3.743797176753162\n",
            "MAPE: 0.8275276750396894\n",
            "R-Squared: 0.9235430062617523\n"
          ]
        }
      ]
    },
    {
      "cell_type": "code",
      "source": [
        "#To get the coeffient\n",
        "import statsmodels.api as sm\n",
        "X2 = sm.add_constant(X_train)\n",
        "LRM=sm.OLS(y_train,X2)\n",
        "result=LRM.fit()\n",
        "print(result.summary())"
      ],
      "metadata": {
        "id": "LxluO3Su7II4",
        "outputId": "9ad389bc-3897-4c2f-b51b-4b8b043b6aae",
        "colab": {
          "base_uri": "https://localhost:8080/"
        }
      },
      "execution_count": null,
      "outputs": [
        {
          "output_type": "stream",
          "name": "stdout",
          "text": [
            "                            OLS Regression Results                            \n",
            "==============================================================================\n",
            "Dep. Variable:                     PE   R-squared:                       0.930\n",
            "Model:                            OLS   Adj. R-squared:                  0.930\n",
            "Method:                 Least Squares   F-statistic:                 2.539e+04\n",
            "Date:                Sat, 02 Apr 2022   Prob (F-statistic):               0.00\n",
            "Time:                        08:27:03   Log-Likelihood:                -22407.\n",
            "No. Observations:                7654   AIC:                         4.482e+04\n",
            "Df Residuals:                    7649   BIC:                         4.486e+04\n",
            "Df Model:                           4                                         \n",
            "Covariance Type:            nonrobust                                         \n",
            "==============================================================================\n",
            "                 coef    std err          t      P>|t|      [0.025      0.975]\n",
            "------------------------------------------------------------------------------\n",
            "const        458.1192     10.737     42.668      0.000     437.072     479.166\n",
            "AT            -1.9805      0.017   -116.602      0.000      -2.014      -1.947\n",
            "V             -0.2339      0.008    -28.779      0.000      -0.250      -0.218\n",
            "AP             0.0585      0.010      5.613      0.000       0.038       0.079\n",
            "RH            -0.1554      0.005    -33.511      0.000      -0.164      -0.146\n",
            "==============================================================================\n",
            "Omnibus:                      741.573   Durbin-Watson:                   1.988\n",
            "Prob(Omnibus):                  0.000   Jarque-Bera (JB):             3492.304\n",
            "Skew:                          -0.363   Prob(JB):                         0.00\n",
            "Kurtosis:                       6.228   Cond. No.                     2.11e+05\n",
            "==============================================================================\n",
            "\n",
            "Warnings:\n",
            "[1] Standard Errors assume that the covariance matrix of the errors is correctly specified.\n",
            "[2] The condition number is large, 2.11e+05. This might indicate that there are\n",
            "strong multicollinearity or other numerical problems.\n"
          ]
        }
      ]
    },
    {
      "cell_type": "markdown",
      "source": [
        "A) Which variables are significantly diffrent than 0 at 5% significant level?\n",
        "\n",
        "B)Among signicant variables, which one increases dependent variable (Y)?\n",
        "\n",
        "C)How can we interpret coefficent?"
      ],
      "metadata": {
        "id": "RIHOSyLp7rw8"
      }
    },
    {
      "cell_type": "code",
      "source": [
        "corr = X_train.corr()\n",
        "\n",
        "corr"
      ],
      "metadata": {
        "id": "XvGRKD_y7qrF",
        "outputId": "f4184f14-f4eb-4de9-e3eb-567e3344af95",
        "colab": {
          "base_uri": "https://localhost:8080/",
          "height": 175
        }
      },
      "execution_count": null,
      "outputs": [
        {
          "output_type": "execute_result",
          "data": {
            "text/plain": [
              "          AT         V        AP        RH\n",
              "AT  1.000000  0.845196 -0.503637 -0.540861\n",
              "V   0.845196  1.000000 -0.413232 -0.308697\n",
              "AP -0.503637 -0.413232  1.000000  0.099628\n",
              "RH -0.540861 -0.308697  0.099628  1.000000"
            ],
            "text/html": [
              "\n",
              "  <div id=\"df-6b2774ea-f9ac-4f84-9ce8-24cb03144772\">\n",
              "    <div class=\"colab-df-container\">\n",
              "      <div>\n",
              "<style scoped>\n",
              "    .dataframe tbody tr th:only-of-type {\n",
              "        vertical-align: middle;\n",
              "    }\n",
              "\n",
              "    .dataframe tbody tr th {\n",
              "        vertical-align: top;\n",
              "    }\n",
              "\n",
              "    .dataframe thead th {\n",
              "        text-align: right;\n",
              "    }\n",
              "</style>\n",
              "<table border=\"1\" class=\"dataframe\">\n",
              "  <thead>\n",
              "    <tr style=\"text-align: right;\">\n",
              "      <th></th>\n",
              "      <th>AT</th>\n",
              "      <th>V</th>\n",
              "      <th>AP</th>\n",
              "      <th>RH</th>\n",
              "    </tr>\n",
              "  </thead>\n",
              "  <tbody>\n",
              "    <tr>\n",
              "      <th>AT</th>\n",
              "      <td>1.000000</td>\n",
              "      <td>0.845196</td>\n",
              "      <td>-0.503637</td>\n",
              "      <td>-0.540861</td>\n",
              "    </tr>\n",
              "    <tr>\n",
              "      <th>V</th>\n",
              "      <td>0.845196</td>\n",
              "      <td>1.000000</td>\n",
              "      <td>-0.413232</td>\n",
              "      <td>-0.308697</td>\n",
              "    </tr>\n",
              "    <tr>\n",
              "      <th>AP</th>\n",
              "      <td>-0.503637</td>\n",
              "      <td>-0.413232</td>\n",
              "      <td>1.000000</td>\n",
              "      <td>0.099628</td>\n",
              "    </tr>\n",
              "    <tr>\n",
              "      <th>RH</th>\n",
              "      <td>-0.540861</td>\n",
              "      <td>-0.308697</td>\n",
              "      <td>0.099628</td>\n",
              "      <td>1.000000</td>\n",
              "    </tr>\n",
              "  </tbody>\n",
              "</table>\n",
              "</div>\n",
              "      <button class=\"colab-df-convert\" onclick=\"convertToInteractive('df-6b2774ea-f9ac-4f84-9ce8-24cb03144772')\"\n",
              "              title=\"Convert this dataframe to an interactive table.\"\n",
              "              style=\"display:none;\">\n",
              "        \n",
              "  <svg xmlns=\"http://www.w3.org/2000/svg\" height=\"24px\"viewBox=\"0 0 24 24\"\n",
              "       width=\"24px\">\n",
              "    <path d=\"M0 0h24v24H0V0z\" fill=\"none\"/>\n",
              "    <path d=\"M18.56 5.44l.94 2.06.94-2.06 2.06-.94-2.06-.94-.94-2.06-.94 2.06-2.06.94zm-11 1L8.5 8.5l.94-2.06 2.06-.94-2.06-.94L8.5 2.5l-.94 2.06-2.06.94zm10 10l.94 2.06.94-2.06 2.06-.94-2.06-.94-.94-2.06-.94 2.06-2.06.94z\"/><path d=\"M17.41 7.96l-1.37-1.37c-.4-.4-.92-.59-1.43-.59-.52 0-1.04.2-1.43.59L10.3 9.45l-7.72 7.72c-.78.78-.78 2.05 0 2.83L4 21.41c.39.39.9.59 1.41.59.51 0 1.02-.2 1.41-.59l7.78-7.78 2.81-2.81c.8-.78.8-2.07 0-2.86zM5.41 20L4 18.59l7.72-7.72 1.47 1.35L5.41 20z\"/>\n",
              "  </svg>\n",
              "      </button>\n",
              "      \n",
              "  <style>\n",
              "    .colab-df-container {\n",
              "      display:flex;\n",
              "      flex-wrap:wrap;\n",
              "      gap: 12px;\n",
              "    }\n",
              "\n",
              "    .colab-df-convert {\n",
              "      background-color: #E8F0FE;\n",
              "      border: none;\n",
              "      border-radius: 50%;\n",
              "      cursor: pointer;\n",
              "      display: none;\n",
              "      fill: #1967D2;\n",
              "      height: 32px;\n",
              "      padding: 0 0 0 0;\n",
              "      width: 32px;\n",
              "    }\n",
              "\n",
              "    .colab-df-convert:hover {\n",
              "      background-color: #E2EBFA;\n",
              "      box-shadow: 0px 1px 2px rgba(60, 64, 67, 0.3), 0px 1px 3px 1px rgba(60, 64, 67, 0.15);\n",
              "      fill: #174EA6;\n",
              "    }\n",
              "\n",
              "    [theme=dark] .colab-df-convert {\n",
              "      background-color: #3B4455;\n",
              "      fill: #D2E3FC;\n",
              "    }\n",
              "\n",
              "    [theme=dark] .colab-df-convert:hover {\n",
              "      background-color: #434B5C;\n",
              "      box-shadow: 0px 1px 3px 1px rgba(0, 0, 0, 0.15);\n",
              "      filter: drop-shadow(0px 1px 2px rgba(0, 0, 0, 0.3));\n",
              "      fill: #FFFFFF;\n",
              "    }\n",
              "  </style>\n",
              "\n",
              "      <script>\n",
              "        const buttonEl =\n",
              "          document.querySelector('#df-6b2774ea-f9ac-4f84-9ce8-24cb03144772 button.colab-df-convert');\n",
              "        buttonEl.style.display =\n",
              "          google.colab.kernel.accessAllowed ? 'block' : 'none';\n",
              "\n",
              "        async function convertToInteractive(key) {\n",
              "          const element = document.querySelector('#df-6b2774ea-f9ac-4f84-9ce8-24cb03144772');\n",
              "          const dataTable =\n",
              "            await google.colab.kernel.invokeFunction('convertToInteractive',\n",
              "                                                     [key], {});\n",
              "          if (!dataTable) return;\n",
              "\n",
              "          const docLinkHtml = 'Like what you see? Visit the ' +\n",
              "            '<a target=\"_blank\" href=https://colab.research.google.com/notebooks/data_table.ipynb>data table notebook</a>'\n",
              "            + ' to learn more about interactive tables.';\n",
              "          element.innerHTML = '';\n",
              "          dataTable['output_type'] = 'display_data';\n",
              "          await google.colab.output.renderOutput(dataTable, element);\n",
              "          const docLink = document.createElement('div');\n",
              "          docLink.innerHTML = docLinkHtml;\n",
              "          element.appendChild(docLink);\n",
              "        }\n",
              "      </script>\n",
              "    </div>\n",
              "  </div>\n",
              "  "
            ]
          },
          "metadata": {},
          "execution_count": 21
        }
      ]
    },
    {
      "cell_type": "markdown",
      "source": [
        "## K-Nearest Neighbour- kNN with Parameter Optimization"
      ],
      "metadata": {
        "id": "UxMfH1mqi_q6"
      }
    },
    {
      "cell_type": "code",
      "source": [
        "from sklearn.neighbors import KNeighborsRegressor\n",
        "knn = KNeighborsRegressor()\n",
        "from sklearn.model_selection import GridSearchCV, cross_val_score\n",
        "\n",
        "knn_params = {\"n_neighbors\": range(2,50)}\n",
        "\n",
        "knn_grid = GridSearchCV(knn, knn_params, cv=5)\n",
        "\n",
        "knn_grid.fit(X_train, y_train)\n",
        "print(knn_grid.best_params_)\n",
        "knncv = KNeighborsRegressor(**knn_grid.best_params_)\n",
        "# fit the model with data\n",
        "knncv.fit(X_train,y_train)\n",
        "#\n",
        "y_predknncv=knncv.predict(X_test)\n",
        "evalmetric(y_test,y_predknncv)"
      ],
      "metadata": {
        "id": "XBmkc3yCiA76",
        "outputId": "895c4369-fa63-489c-f845-757fde45df5b",
        "colab": {
          "base_uri": "https://localhost:8080/"
        }
      },
      "execution_count": null,
      "outputs": [
        {
          "output_type": "stream",
          "name": "stdout",
          "text": [
            "{'n_neighbors': 5}\n",
            "MSE: 16.159022085684406\n",
            "RMSE: 4.019828613969059\n",
            "MAE: 2.8937053291536063\n",
            "MAPE: 0.6381858905511282\n",
            "R-Squared: 0.9441665001900692\n"
          ]
        }
      ]
    },
    {
      "cell_type": "markdown",
      "source": [
        "## Boosting"
      ],
      "metadata": {
        "id": "I188tjFY8e24"
      }
    },
    {
      "cell_type": "code",
      "source": [
        "import optuna\n",
        "\n",
        "import sklearn.datasets\n",
        "import sklearn.ensemble\n",
        "import sklearn.model_selection\n",
        "import sklearn.svm\n",
        "\n",
        "\n",
        "# FYI: Objective functions can take additional arguments\n",
        "# (https://optuna.readthedocs.io/en/stable/faq.html#objective-func-additional-args).\n",
        "def objective(trial):\n",
        "    x, y = X_train,y_train\n",
        "\n",
        "    regressor_name = trial.suggest_categorical(\"regressor\", [\"GradientBoosting\", \"XGBoost\",\"LightGBM\",\"RandomForest\"])\n",
        "    if regressor_name == \"GradientBoosting\":\n",
        "         max_depth = trial.suggest_int(\"max_depth\", 2,16)\n",
        "         max_features = trial.suggest_int(\"max_features\", 2,X_train.shape[1])\n",
        "         regressor_obj = sklearn.ensemble.GradientBoostingRegressor(random_state=17,  max_depth=max_depth, max_features=max_features )\n",
        "\n",
        "    elif regressor_name == \"XGBoost\":\n",
        "         from xgboost import XGBRegressor\n",
        "         max_depth = trial.suggest_int(\"max_depth\", 2,X_train.shape[1])\n",
        "         max_features = trial.suggest_int(\"max_features\", 2,X_train.shape[1])\n",
        "         regressor_obj = XGBRegressor(random_state=17,  max_depth=max_depth, max_features=max_features )\n",
        "\n",
        "\n",
        "\n",
        "    elif regressor_name == \"LightGBM\":\n",
        "         import lightgbm as lgb\n",
        "         max_depth = trial.suggest_int(\"max_depth\", 2,X_train.shape[1])\n",
        "         max_features = trial.suggest_int(\"max_features\", 2,X_train.shape[1])\n",
        "         regressor_obj = lgb.LGBMRegressor(random_state=17,  max_depth=max_depth, max_features=max_features )\n",
        "\n",
        "\n",
        "\n",
        "    else:\n",
        "         max_depth = trial.suggest_int(\"max_depth\", 2,16)\n",
        "         max_features = trial.suggest_int(\"max_features\", 2,X_train.shape[1])\n",
        "         regressor_obj = sklearn.ensemble.RandomForestRegressor(random_state=17,  max_depth=max_depth, max_features=max_features )\n",
        "\n",
        "\n",
        "\n",
        "    r2=sklearn.model_selection.cross_val_score(regressor_obj, x, y, n_jobs=-1, cv=3).mean()\n",
        "\n",
        "    return r2\n",
        "\n",
        "\n",
        "if __name__ == \"__main__\":\n",
        "    study = optuna.create_study(direction=\"maximize\")\n",
        "    study.optimize(objective, n_trials=20)\n",
        "    print(study.best_trial)\n",
        "    print(study.best_params)"
      ],
      "metadata": {
        "id": "MCLq532j8dF0",
        "outputId": "4242b2fa-a923-4e8f-9d0d-998af36ddb25",
        "colab": {
          "base_uri": "https://localhost:8080/"
        }
      },
      "execution_count": null,
      "outputs": [
        {
          "output_type": "stream",
          "name": "stderr",
          "text": [
            "\u001b[32m[I 2022-04-02 08:38:00,869]\u001b[0m A new study created in memory with name: no-name-c24883eb-a9f1-4386-ae71-24a7ee82bb7a\u001b[0m\n",
            "\u001b[32m[I 2022-04-02 08:38:03,717]\u001b[0m Trial 0 finished with value: 0.9620680251257813 and parameters: {'regressor': 'GradientBoosting', 'max_depth': 9, 'max_features': 3}. Best is trial 0 with value: 0.9620680251257813.\u001b[0m\n",
            "\u001b[32m[I 2022-04-02 08:38:03,819]\u001b[0m Trial 1 finished with value: 0.9432868995923753 and parameters: {'regressor': 'LightGBM', 'max_depth': 2, 'max_features': 3}. Best is trial 0 with value: 0.9620680251257813.\u001b[0m\n",
            "\u001b[32m[I 2022-04-02 08:38:06,807]\u001b[0m Trial 2 finished with value: 0.9592205222985974 and parameters: {'regressor': 'GradientBoosting', 'max_depth': 15, 'max_features': 2}. Best is trial 0 with value: 0.9620680251257813.\u001b[0m\n",
            "\u001b[32m[I 2022-04-02 08:38:07,416]\u001b[0m Trial 3 finished with value: 0.950806764028192 and parameters: {'regressor': 'XGBoost', 'max_depth': 4, 'max_features': 2}. Best is trial 0 with value: 0.9620680251257813.\u001b[0m\n",
            "\u001b[32m[I 2022-04-02 08:38:09,825]\u001b[0m Trial 4 finished with value: 0.9521890153855667 and parameters: {'regressor': 'RandomForest', 'max_depth': 9, 'max_features': 4}. Best is trial 0 with value: 0.9620680251257813.\u001b[0m\n",
            "\u001b[32m[I 2022-04-02 08:38:09,930]\u001b[0m Trial 5 finished with value: 0.9432868995923753 and parameters: {'regressor': 'LightGBM', 'max_depth': 2, 'max_features': 3}. Best is trial 0 with value: 0.9620680251257813.\u001b[0m\n",
            "\u001b[32m[I 2022-04-02 08:38:12,357]\u001b[0m Trial 6 finished with value: 0.9521890153855667 and parameters: {'regressor': 'RandomForest', 'max_depth': 9, 'max_features': 4}. Best is trial 0 with value: 0.9620680251257813.\u001b[0m\n",
            "\u001b[32m[I 2022-04-02 08:38:14,556]\u001b[0m Trial 7 finished with value: 0.9621214909999214 and parameters: {'regressor': 'GradientBoosting', 'max_depth': 10, 'max_features': 2}. Best is trial 7 with value: 0.9621214909999214.\u001b[0m\n",
            "\u001b[32m[I 2022-04-02 08:38:19,385]\u001b[0m Trial 8 finished with value: 0.9487303314685823 and parameters: {'regressor': 'GradientBoosting', 'max_depth': 13, 'max_features': 4}. Best is trial 7 with value: 0.9621214909999214.\u001b[0m\n",
            "\u001b[32m[I 2022-04-02 08:38:20,507]\u001b[0m Trial 9 finished with value: 0.9446388820304357 and parameters: {'regressor': 'RandomForest', 'max_depth': 6, 'max_features': 2}. Best is trial 7 with value: 0.9621214909999214.\u001b[0m\n",
            "\u001b[32m[I 2022-04-02 08:38:21,027]\u001b[0m Trial 10 finished with value: 0.9469843570944579 and parameters: {'regressor': 'XGBoost', 'max_depth': 3, 'max_features': 2}. Best is trial 7 with value: 0.9621214909999214.\u001b[0m\n",
            "\u001b[32m[I 2022-04-02 08:38:24,596]\u001b[0m Trial 11 finished with value: 0.9580926463082835 and parameters: {'regressor': 'GradientBoosting', 'max_depth': 12, 'max_features': 3}. Best is trial 7 with value: 0.9621214909999214.\u001b[0m\n",
            "\u001b[32m[I 2022-04-02 08:38:26,871]\u001b[0m Trial 12 finished with value: 0.9604739269292498 and parameters: {'regressor': 'GradientBoosting', 'max_depth': 7, 'max_features': 3}. Best is trial 7 with value: 0.9621214909999214.\u001b[0m\n",
            "\u001b[32m[I 2022-04-02 08:38:29,237]\u001b[0m Trial 13 finished with value: 0.9610885340100993 and parameters: {'regressor': 'GradientBoosting', 'max_depth': 11, 'max_features': 2}. Best is trial 7 with value: 0.9621214909999214.\u001b[0m\n",
            "\u001b[32m[I 2022-04-02 08:38:31,498]\u001b[0m Trial 14 finished with value: 0.9604739269292498 and parameters: {'regressor': 'GradientBoosting', 'max_depth': 7, 'max_features': 3}. Best is trial 7 with value: 0.9621214909999214.\u001b[0m\n",
            "\u001b[32m[I 2022-04-02 08:38:33,683]\u001b[0m Trial 15 finished with value: 0.9621214909999214 and parameters: {'regressor': 'GradientBoosting', 'max_depth': 10, 'max_features': 2}. Best is trial 7 with value: 0.9621214909999214.\u001b[0m\n",
            "\u001b[32m[I 2022-04-02 08:38:36,768]\u001b[0m Trial 16 finished with value: 0.959068198744064 and parameters: {'regressor': 'GradientBoosting', 'max_depth': 16, 'max_features': 2}. Best is trial 7 with value: 0.9621214909999214.\u001b[0m\n",
            "\u001b[32m[I 2022-04-02 08:38:36,906]\u001b[0m Trial 17 finished with value: 0.9479110926512929 and parameters: {'regressor': 'LightGBM', 'max_depth': 3, 'max_features': 2}. Best is trial 7 with value: 0.9621214909999214.\u001b[0m\n",
            "\u001b[32m[I 2022-04-02 08:38:37,284]\u001b[0m Trial 18 finished with value: 0.9430996581516727 and parameters: {'regressor': 'XGBoost', 'max_depth': 2, 'max_features': 2}. Best is trial 7 with value: 0.9621214909999214.\u001b[0m\n",
            "\u001b[32m[I 2022-04-02 08:38:40,110]\u001b[0m Trial 19 finished with value: 0.9610885340100993 and parameters: {'regressor': 'GradientBoosting', 'max_depth': 11, 'max_features': 2}. Best is trial 7 with value: 0.9621214909999214.\u001b[0m\n"
          ]
        },
        {
          "output_type": "stream",
          "name": "stdout",
          "text": [
            "FrozenTrial(number=7, values=[0.9621214909999214], datetime_start=datetime.datetime(2022, 4, 2, 8, 38, 12, 358697), datetime_complete=datetime.datetime(2022, 4, 2, 8, 38, 14, 556003), params={'regressor': 'GradientBoosting', 'max_depth': 10, 'max_features': 2}, distributions={'regressor': CategoricalDistribution(choices=('GradientBoosting', 'XGBoost', 'LightGBM', 'RandomForest')), 'max_depth': IntUniformDistribution(high=16, low=2, step=1), 'max_features': IntUniformDistribution(high=4, low=2, step=1)}, user_attrs={}, system_attrs={}, intermediate_values={}, trial_id=7, state=TrialState.COMPLETE, value=None)\n",
            "{'regressor': 'GradientBoosting', 'max_depth': 10, 'max_features': 2}\n"
          ]
        }
      ]
    },
    {
      "cell_type": "code",
      "source": [
        "params={ 'max_depth': 10, 'max_features': 2}\n",
        "from sklearn.ensemble import GradientBoostingRegressor\n",
        "from time import time\n",
        "\n",
        "gbr = GradientBoostingRegressor(random_state=17,**params)\n",
        "gbr.fit(X_train, y_train)\n",
        "print('Train Data')\n",
        "y_pred = gbr.predict(X_train)\n",
        "evalmetric(y_train,y_pred)\n",
        "print('Test Data')\n",
        "y_pred2 = gbr.predict(X_test)\n",
        "evalmetric(y_test,y_pred2)"
      ],
      "metadata": {
        "id": "NmSRbbZa9RZn",
        "outputId": "c1f9c886-8b69-4d89-f71a-e152f05ae90f",
        "colab": {
          "base_uri": "https://localhost:8080/"
        }
      },
      "execution_count": null,
      "outputs": [
        {
          "output_type": "stream",
          "name": "stdout",
          "text": [
            "Train Data\n",
            "MSE: 0.648136154792214\n",
            "RMSE: 0.8050690372832717\n",
            "MAE: 0.6185153466824876\n",
            "MAPE: 0.13687130199958483\n",
            "R-Squared: 0.9977779278030013\n",
            "Test Data\n",
            "MSE: 9.953909964160772\n",
            "RMSE: 3.154981769227957\n",
            "MAE: 2.177816344829164\n",
            "MAPE: 0.4815497669837414\n",
            "R-Squared: 0.9656067287274519\n"
          ]
        }
      ]
    },
    {
      "cell_type": "markdown",
      "source": [
        "![Allyouneed.jpeg](data:image/jpeg;base64,/9j/4AAQSkZJRgABAQEAYABgAAD/4ThCRXhpZgAATU0AKgAAAAgABgALAAIAAAAmAAAIYgESAAMAAAABAAEAAAExAAIAAAAmAAAIiAEyAAIAAAAUAAAIrodpAAQAAAABAAAIwuocAAcAAAgMAAAAVgAAEUYc6gAAAAgAAAAAAAAAAAAAAAAAAAAAAAAAAAAAAAAAAAAAAAAAAAAAAAAAAAAAAAAAAAAAAAAAAAAAAAAAAAAAAAAAAAAAAAAAAAAAAAAAAAAAAAAAAAAAAAAAAAAAAAAAAAAAAAAAAAAAAAAAAAAAAAAAAAAAAAAAAAAAAAAAAAAAAAAAAAAAAAAAAAAAAAAAAAAAAAAAAAAAAAAAAAAAAAAAAAAAAAAAAAAAAAAAAAAAAAAAAAAAAAAAAAAAAAAAAAAAAAAAAAAAAAAAAAAAAAAAAAAAAAAAAAAAAAAAAAAAAAAAAAAAAAAAAAAAAAAAAAAAAAAAAAAAAAAAAAAAAAAAAAAAAAAAAAAAAAAAAAAAAAAAAAAAAAAAAAAAAAAAAAAAAAAAAAAAAAAAAAAAAAAAAAAAAAAAAAAAAAAAAAAAAAAAAAAAAAAAAAAAAAAAAAAAAAAAAAAAAAAAAAAAAAAAAAAAAAAAAAAAAAAAAAAAAAAAAAAAAAAAAAAAAAAAAAAAAAAAAAAAAAAAAAAAAAAAAAAAAAAAAAAAAAAAAAAAAAAAAAAAAAAAAAAAAAAAAAAAAAAAAAAAAAAAAAAAAAAAAAAAAAAAAAAAAAAAAAAAAAAAAAAAAAAAAAAAAAAAAAAAAAAAAAAAAAAAAAAAAAAAAAAAAAAAAAAAAAAAAAAAAAAAAAAAAAAAAAAAAAAAAAAAAAAAAAAAAAAAAAAAAAAAAAAAAAAAAAAAAAAAAAAAAAAAAAAAAAAAAAAAAAAAAAAAAAAAAAAAAAAAAAAAAAAAAAAAAAAAAAAAAAAAAAAAAAAAAAAAAAAAAAAAAAAAAAAAAAAAAAAAAAAAAAAAAAAAAAAAAAAAAAAAAAAAAAAAAAAAAAAAAAAAAAAAAAAAAAAAAAAAAAAAAAAAAAAAAAAAAAAAAAAAAAAAAAAAAAAAAAAAAAAAAAAAAAAAAAAAAAAAAAAAAAAAAAAAAAAAAAAAAAAAAAAAAAAAAAAAAAAAAAAAAAAAAAAAAAAAAAAAAAAAAAAAAAAAAAAAAAAAAAAAAAAAAAAAAAAAAAAAAAAAAAAAAAAAAAAAAAAAAAAAAAAAAAAAAAAAAAAAAAAAAAAAAAAAAAAAAAAAAAAAAAAAAAAAAAAAAAAAAAAAAAAAAAAAAAAAAAAAAAAAAAAAAAAAAAAAAAAAAAAAAAAAAAAAAAAAAAAAAAAAAAAAAAAAAAAAAAAAAAAAAAAAAAAAAAAAAAAAAAAAAAAAAAAAAAAAAAAAAAAAAAAAAAAAAAAAAAAAAAAAAAAAAAAAAAAAAAAAAAAAAAAAAAAAAAAAAAAAAAAAAAAAAAAAAAAAAAAAAAAAAAAAAAAAAAAAAAAAAAAAAAAAAAAAAAAAAAAAAAAAAAAAAAAAAAAAAAAAAAAAAAAAAAAAAAAAAAAAAAAAAAAAAAAAAAAAAAAAAAAAAAAAAAAAAAAAAAAAAAAAAAAAAAAAAAAAAAAAAAAAAAAAAAAAAAAAAAAAAAAAAAAAAAAAAAAAAAAAAAAAAAAAAAAAAAAAAAAAAAAAAAAAAAAAAAAAAAAAAAAAAAAAAAAAAAAAAAAAAAAAAAAAAAAAAAAAAAAAAAAAAAAAAAAAAAAAAAAAAAAAAAAAAAAAAAAAAAAAAAAAAAAAAAAAAAAAAAAAAAAAAAAAAAAAAAAAAAAAAAAAAAAAAAAAAAAAAAAAAAAAAAAAAAAAAAAAAAAAAAAAAAAAAAAAAAAAAAAAAAAAAAAAAAAAAAAAAAAAAAAAAAAAAAAAAAAAAAAAAAAAAAAAAAAAAAAAAAAAAAAAAAAAAAAAAAAAAAAAAAAAAAAAAAAAAAAAAAAAAAAAAAAAAAAAAAAAAAAAAAAAAAAAAAAAAAAAAAAAAAAAAAAAAAAAAAAAAAAAAAAAAAAAAAAAAAAAAAAAAAAAAAAAAAAAAAAAAAAAAAAAAAAAAAAAAAAAAAAAAAAAAAAAAAAAAAAAAAAAAAAAAAAAAAAAAAAAAAAAAAAAAAAAAAAAAAAAAAAAAAAAAAAAAAAAAAAAAAAAAAAAAAAAAAAAAAAAAAAAAAAAAAAAAAAAAAAAAAAAAAAAAAAAAAAAAAAAAAAAAAAAAAAAAAAAAAAAAAAAAAAAAAAAAAAAAAAAAAAAAAAAAAAAAAAAAAAAAAAAAAAAAAAAAAAAAAAAAAAAAAAAAAAAAAAAAAAAAAAAAAAAAAAAAAAAAAAAAAAAAAAAAAAAAAAAAAAAAAAAAAAAAAAAAAAAAAAAAAAAAAAAAAAAAAAAAAAAAAAAAAAAAAAAAAAAAAAAAAAAAAAAAAAAAAAAAAAAAAAAAAAAAAAAAAAAAAAAAAAAAAAAAAAAAAAAAAAAAAAAAAAAAAAAAAAAAAAAAAAAAAAAAAAAAAAAAAAAAAAAAAAAAAAAAAAAAAAAAAAAAAAAAAAAAAAAAAAAAAAAAAAAAAAAAAAAAAAAAAAAAAAAAAAAAAAAAAAAAAAAAAAAAAAAAAAAAAAAAAAAAAAAAAAAAAAAAAAAAAAAAAAAAAAAAAAAAAAAAAAAAAAAAAAAAAAAAAAAAAAAAAAAAAAAAAAAAAAAAAAAAAAAAAAAAAAAAAAAAAAAAAAAAAAAAAAAAAAAAAAAAAAAAAAAAAAAAAAAAAAAAAAAAAAAAAAAAAAAAAAAAAAAAAAAAAAAAAAAAAAAAAAAAAAAAAAAAAAAAAAAAAAAAAAAAAAAAAAAAAAAAAAAAAAAAAAAAAAAAAAAAFdpbmRvd3MgUGhvdG8gRWRpdG9yIDEwLjAuMTAwMTEuMTYzODQAV2luZG93cyBQaG90byBFZGl0b3IgMTAuMC4xMDAxMS4xNjM4NAAyMDIyOjA0OjAxIDExOjE1OjAwAAAGkAMAAgAAABQAABEckAQAAgAAABQAABEwkpEAAgAAAAM4NAAAkpIAAgAAAAM4NAAAoAEAAwAAAAEAAQAA6hwABwAACAwAAAkQAAAAABzqAAAACAAAAAAAAAAAAAAAAAAAAAAAAAAAAAAAAAAAAAAAAAAAAAAAAAAAAAAAAAAAAAAAAAAAAAAAAAAAAAAAAAAAAAAAAAAAAAAAAAAAAAAAAAAAAAAAAAAAAAAAAAAAAAAAAAAAAAAAAAAAAAAAAAAAAAAAAAAAAAAAAAAAAAAAAAAAAAAAAAAAAAAAAAAAAAAAAAAAAAAAAAAAAAAAAAAAAAAAAAAAAAAAAAAAAAAAAAAAAAAAAAAAAAAAAAAAAAAAAAAAAAAAAAAAAAAAAAAAAAAAAAAAAAAAAAAAAAAAAAAAAAAAAAAAAAAAAAAAAAAAAAAAAAAAAAAAAAAAAAAAAAAAAAAAAAAAAAAAAAAAAAAAAAAAAAAAAAAAAAAAAAAAAAAAAAAAAAAAAAAAAAAAAAAAAAAAAAAAAAAAAAAAAAAAAAAAAAAAAAAAAAAAAAAAAAAAAAAAAAAAAAAAAAAAAAAAAAAAAAAAAAAAAAAAAAAAAAAAAAAAAAAAAAAAAAAAAAAAAAAAAAAAAAAAAAAAAAAAAAAAAAAAAAAAAAAAAAAAAAAAAAAAAAAAAAAAAAAAAAAAAAAAAAAAAAAAAAAAAAAAAAAAAAAAAAAAAAAAAAAAAAAAAAAAAAAAAAAAAAAAAAAAAAAAAAAAAAAAAAAAAAAAAAAAAAAAAAAAAAAAAAAAAAAAAAAAAAAAAAAAAAAAAAAAAAAAAAAAAAAAAAAAAAAAAAAAAAAAAAAAAAAAAAAAAAAAAAAAAAAAAAAAAAAAAAAAAAAAAAAAAAAAAAAAAAAAAAAAAAAAAAAAAAAAAAAAAAAAAAAAAAAAAAAAAAAAAAAAAAAAAAAAAAAAAAAAAAAAAAAAAAAAAAAAAAAAAAAAAAAAAAAAAAAAAAAAAAAAAAAAAAAAAAAAAAAAAAAAAAAAAAAAAAAAAAAAAAAAAAAAAAAAAAAAAAAAAAAAAAAAAAAAAAAAAAAAAAAAAAAAAAAAAAAAAAAAAAAAAAAAAAAAAAAAAAAAAAAAAAAAAAAAAAAAAAAAAAAAAAAAAAAAAAAAAAAAAAAAAAAAAAAAAAAAAAAAAAAAAAAAAAAAAAAAAAAAAAAAAAAAAAAAAAAAAAAAAAAAAAAAAAAAAAAAAAAAAAAAAAAAAAAAAAAAAAAAAAAAAAAAAAAAAAAAAAAAAAAAAAAAAAAAAAAAAAAAAAAAAAAAAAAAAAAAAAAAAAAAAAAAAAAAAAAAAAAAAAAAAAAAAAAAAAAAAAAAAAAAAAAAAAAAAAAAAAAAAAAAAAAAAAAAAAAAAAAAAAAAAAAAAAAAAAAAAAAAAAAAAAAAAAAAAAAAAAAAAAAAAAAAAAAAAAAAAAAAAAAAAAAAAAAAAAAAAAAAAAAAAAAAAAAAAAAAAAAAAAAAAAAAAAAAAAAAAAAAAAAAAAAAAAAAAAAAAAAAAAAAAAAAAAAAAAAAAAAAAAAAAAAAAAAAAAAAAAAAAAAAAAAAAAAAAAAAAAAAAAAAAAAAAAAAAAAAAAAAAAAAAAAAAAAAAAAAAAAAAAAAAAAAAAAAAAAAAAAAAAAAAAAAAAAAAAAAAAAAAAAAAAAAAAAAAAAAAAAAAAAAAAAAAAAAAAAAAAAAAAAAAAAAAAAAAAAAAAAAAAAAAAAAAAAAAAAAAAAAAAAAAAAAAAAAAAAAAAAAAAAAAAAAAAAAAAAAAAAAAAAAAAAAAAAAAAAAAAAAAAAAAAAAAAAAAAAAAAAAAAAAAAAAAAAAAAAAAAAAAAAAAAAAAAAAAAAAAAAAAAAAAAAAAAAAAAAAAAAAAAAAAAAAAAAAAAAAAAAAAAAAAAAAAAAAAAAAAAAAAAAAAAAAAAAAAAAAAAAAAAAAAAAAAAAAAAAAAAAAAAAAAAAAAAAAAAAAAAAAAAAAAAAAAAAAAAAAAAAAAAAAAAAAAAAAAAAAAAAAAAAAAAAAAAAAAAAAAAAAAAAAAAAAAAAAAAAAAAAAAAAAAAAAAAAAAAAAAAAAAAAAAAAAAAAAAAAAAAAAAAAAAAAAAAAAAAAAAAAAAAAAAAAAAAAAAAAAAAAAAAAAAAAAAAAAAAAAAAAAAAAAAAAAAAAAAAAAAAAAAAAAAAAAAAAAAAAAAAAAAAAAAAAAAAAAAAAAAAAAAAAAAAAAAAAAAAAAAAAAAAAAAAAAAAAAAAAAAAAAAAAAAAAAAAAAAAAAAAAAAAAAAAAAAAAAAAAAAAAAAAAAAAAAAAAAAAAAAAAAAAAAAAAAAAAAAAAAAAAAAAAAAAAAAAAAAAAAAAAAAAAAAAAAAAAAAAAAAAAAAAAAAAAAAAAAAAAAAAAAAAAAAAAAAAAAAAAAAAAAAAAAAAAAAAAAAAAAAAAAAAAAAAAAAAAAAAAAAAAAAAAAAAAAAAAAAAAAAAAAAAAAAAAAAAAAAAAAAAAAAAAAAAAAAAAAAAAAAAAAAAAAAAAAAAAAAAAAAAAAAAAAAAAAAAAAAAAAAAAAAAAAAAAAAAAAAAAAAAAAAAAAAAAAAAAAAAAAAAAAAAAAAAAAAAAAAAAAAAAAAAAAAAAAAAAAAAAAAAAAAAAAAAAAAAAAAAAAAAAAAAAAAAAAAAAAAAAAAAAAAAAAAAAAAAAAAAAAAAAAAAAAAAAAAAAAAAAAAAAAAAAAAAAAAAAAAAAAAAAAAAAAAAAAAAAAAAAAAAAAAAAAAAAAAAAAAAAAAAAAAAAAAAAAAAAAAAAAAAAAAAAAAAAAAAAAAAAAAAAAAAAAAAAAMjAyMjowNDowMSAxMToxNDoxNgAyMDIyOjA0OjAxIDExOjE0OjE2AAAAAAYBAwADAAAAAQAGAAABGgAFAAAAAQAAEZQBGwAFAAAAAQAAEZwBKAADAAAAAQACAAACAQAEAAAAAQAAEaQCAgAEAAAAAQAAJpUAAAAAAAAAYAAAAAEAAABgAAAAAf/Y/9sAQwAIBgYHBgUIBwcHCQkICgwUDQwLCwwZEhMPFB0aHx4dGhwcICQuJyAiLCMcHCg3KSwwMTQ0NB8nOT04MjwuMzQy/9sAQwEJCQkMCwwYDQ0YMiEcITIyMjIyMjIyMjIyMjIyMjIyMjIyMjIyMjIyMjIyMjIyMjIyMjIyMjIyMjIyMjIyMjIy/8AAEQgBAADAAwEhAAIRAQMRAf/EAB8AAAEFAQEBAQEBAAAAAAAAAAABAgMEBQYHCAkKC//EALUQAAIBAwMCBAMFBQQEAAABfQECAwAEEQUSITFBBhNRYQcicRQygZGhCCNCscEVUtHwJDNicoIJChYXGBkaJSYnKCkqNDU2Nzg5OkNERUZHSElKU1RVVldYWVpjZGVmZ2hpanN0dXZ3eHl6g4SFhoeIiYqSk5SVlpeYmZqio6Slpqeoqaqys7S1tre4ubrCw8TFxsfIycrS09TV1tfY2drh4uPk5ebn6Onq8fLz9PX29/j5+v/EAB8BAAMBAQEBAQEBAQEAAAAAAAABAgMEBQYHCAkKC//EALURAAIBAgQEAwQHBQQEAAECdwABAgMRBAUhMQYSQVEHYXETIjKBCBRCkaGxwQkjM1LwFWJy0QoWJDThJfEXGBkaJicoKSo1Njc4OTpDREVGR0hJSlNUVVZXWFlaY2RlZmdoaWpzdHV2d3h5eoKDhIWGh4iJipKTlJWWl5iZmqKjpKWmp6ipqrKztLW2t7i5usLDxMXGx8jJytLT1NXW19jZ2uLj5OXm5+jp6vLz9PX29/j5+v/aAAwDAQACEQMRAD8A+f6ciNI4RFLMTgADJNAFi40zULSMSXNjcwoejSQsoP4kVBJNJMVMjs5VQoyegHQUANDEdCRRubOdx/OgA3N/eP50FiepJ+tAC72AADHA5HNHmPnO9vzp3YrIA7jozD8aPMf++350XYWQb2/vH86klu7iZUWSZ2CDCgt0/wA4H5U1JpWuHKm7kNFSMKKACigAooAKKACvZvCOlW+i+HRNZBf7VuJYrd7nqV3tghfQAelKWxUdy9A1xa6jbSRyXMscs3l3UE0TeXJGW2NjI9+9cZ8UvB9r4d1VL3TlCWdyxDRDpE/XA9AeeO2D7VnGTua1YpIp+HvD+iaho0MtzcwrNIW8ySW5VPKYMMJsyCQVyc984BXaau3PhHw7dWUDW+sWllIHjWR3mVw+6O14wXyMNJM3Qj5CCRjjUwM1/CujQGSN9eSacwSugRUVFZNvBbec9W4AydvHpTU0PRtM8SrZXN7BqNq9pPKXEoTY6CQoCUZh82xTjPSQd6ALieEdE1CG3ki1y2s5HCmVGkQquYYHCgM+d2ZJcknH7sj5ehgh8J6RNbhF16HztkUjHaikl41cou6UKdu7kkrypH1AK0Xhmyg1WxiuL+KW2ls2urhvNjQRfKSFyHOT93jrkkY4NYms2Vtp2qzWlpd/a4ojt87YFDHvjBPHvmgChRQAUUAFFABRQAUUAWY4bZlQvdbCcbh5ZO3k5/IAH8arUAOjbZIr4ztINezWXibSPDeiybPNuGdoJEZQOWxuYjd079PWpabdi4yS1Mqz+IcI1OO4ZZW3TJ5iyvnK5GTgDt1/zmpfiv4hsdY0WyW1n3s900iqDwFCkE4+rDH40lGxVSfMecW+nwyWJneYBiCV+YADBwQR3PQ8dqmOjr9oMWZOkwBx94ouQR9eOP1NaGQw6LJFG0kzgKA+3aOSyhjgg9PuH/PTLpAFFABRQAUUAFFABRQAUUAFFABRQAVaivZFi8mT95GOgJPH0pp2AelzbxYZYnaQf3iMVVkkeV9znJ/lSAbkgYBOD1o3N6mgA3H1NJQAUUAFFABRQAUUAFFABRQAUUAFFABWt/wjOsee0AsmMgmjgADKd7uMoFOfmyOcjIxz0oAk/wCEU1Zp7eKOO2k88yhJI7uJo8xrucFw21cLzyRxVHUdLu9KljjukQebH5kbxypIjrkjIZCQeQRweoNAFOnxwyy7vLjZ9ilm2jOAOpPtQBLY2VxqN9BZWkfmXE7iONMgbmJwBk8UxbeR7aS4Gzy42VWy4DZbOMLnJ6HkDjjPUUATNpl6mnm/e2dLYMieYwxkuHK4B5IPlvyOPlp9no9/fTRRQW7ZliaZWkIRPLUkM5ZsAKCpGScZGKALa+FtVa4aIR2wAthdea13EsRiLhNwkLbT8529c547VFd+HdVsbW4ubi0KwW8qQyuHVgGZdy9CcgjkMOORzyKAK1/pl5pjwJeQ+U08KTxjcDlGGQeDx9DyKqUAT21pPdmUQJvMUbSvyBhVGSeavad4c1PVLdJ7WKLy5JTDF5txHGZXABKoGYFjyOmeo9RQBmNG6yGNkYODtKkcg+la9n4V1i+jLQ28YPntbCOa4jidpVxlFR2DMw3LwAeuKAMaigCRoZUiSVo3WOQkI5HDY64PtUdABRQAo5IGce9d4vizSVNhbn7UbfSi0Nu45eeGSMxysQThXH3lGeB8uflFAEWl6voOkm3RZo5JovPUXS2hClJLeRBuVs7iGZc8Yx0zT38S2DRRxQX5tL2O0SH7fBa+XGNsruyIi8qGDDJAGSDkYJNAC3vifRbiK8NqHtbORbtf7NEAAleR3MUnHyjYGQeo8sAZBqa68W2cl0pttWuLd5oblGliR1jhVtpjAXJZcFTlQWVcjb3oA5zRprLQfFujXsl151vDJBczMi5KdGZcAnJHT+eDkDX8KS6RZ3i2cl7FP5l3BcCTy9gAjSbK5fHJLJjkZJHNAGpe+JY9KuYXW9lLXFzYzuGAMwgiEyOk2GOXIKkjPKsMgdKy/wDhJLO50m10+6v7gQNp0tg4ClvIP2jzkcDOCpAjQ45AB44GQB0OuaNbrcRW0lvDLJpptXmNlvheQXMcgPlsG42KRkjOecCrf/CV6DdXFza3zXX9m3jot0YYgrFVhQBkXOFHmxghey8e1AGNdeIbbVPFGlapfO6KnzXJijU7WMrv8oIIwNw7Voar4ugWyDaZdMNS2W6yXKo2XKPOWIZ8scq8QyeSBg4HFAD7jxNpX2K9is7mS3tpLe6hWyWD5XkeV2STPQfIVXPUbcYxzWPb3mk6hpOlW+o3lxZyaazqRDFuM0TPv+Q54kyzDnAxt54xQBpr4k0yDwy9tDcTm48pGgjkBLRTrcq5cMMLnZkbsFjyCQMCtH/hMNPXUTctqSzKmsS3xaWy82R4mWLaqFhlHGwjIZcYGDwDQBnW3iTRobGJJVeayWKKMaW0eQsizK7ybuh3IGGfvfOVxtGanTxRZLOgfU2nuSJh9ukgdCiO0RSMMp3oVCPyoYDeVAKkmgDJ8Sa7b6rpscFrfXLQw31w8dvOMExu25HwvyAgEggYxngYrcbxXosKRtFPJNJbiX7KZIcmJWtZI1Ug/KD5hjJCqF4zk80AZWqeI7O88Mi0R0MjwxI0LxOzLMpBeUNu2Dd83zAFjuII71x9ABXXf8ITPZRme+dZIHtbl42jV1/eRxbxyyjcvI5XIODzQBUufDElz4q1jStMK7bK5aNFlfkr56xLzjk5dc+2TViH4f6tNNLGskTCPdloo5ZcqH2BgEQkqxDYOOinOOMgGbF4cn+3apa3V1a2n9mMVuZJWZlBEgj+XYCW+Y9q0JPAGsxWd5cMqkWpmztjkKuIiQ5D7dg+62AzAnHTkZAJL34farpx3Xs0NvAm/wA+aWOVVi2Yz1TLAlgAVBBJ61PaeE7K5+IumaCk2+1ngtpZJFY4fdbpK+0kAgEk4yMgEVnWnyU5TXRMqC5pJHt0ekWMWhtYroFtJCk5iaBrQBGAH3h1OP8AaOTXgPjvQrfw54xvtNtSfs6FXjBOSqsobb+GcV4mVV5yqyi3e+p3YuCUE0jm6K9888KKACigAooAKKACigAooAK27nxbrV2JPOuIv3rStIUto0LtKu2QnCjJI70AVE1vUY9Xn1VLjF7cGRpJNi/MXzu4xjue3BwRjAqwPE+rZXfPFKq26WwSa3jkTy0OVG1lIyD368nnk0AUf7QusXgDgC8/14CABvmDenHIHTFXLnxJqd5HMlzLDL5zSMzvbRlwXOW2ttyoJ5wCOpx1OQCSTxVq0ty1w8lsZHDiUiziHm7wN28bfnzgHnODyOeai/4SPU/+Egh1wzqL6Ex7GSNUUBFCqu1QABtUDAHSlKKknF9Rp2d0emD412hRbuTQZTqSpt+W7IhJxjO3/wCsTjjNeWazq13rur3Op3rhri4fc2Og9APYDAH0rz8FgPq0nJu/Reh0V8R7RJWKNFeicwUUAFFABRQAUUAFFABRQAoJByDgjoa0v7Rt3G64tfOl3D52bsMcfz/T0rSElHdXInFvZifb7cKQtqi5zyBz94Hr9BinR39usMQkhMu3AMTfcGB1HfnnP9eMX7SN9iPZy7kNxeQS2hijtlRy+7d6ZHIA+v6YFUaznJN6I0imlqFFQUFFABRQAUUAFFABRQAUUAFFABRQAU8hV4OS3fBxigBMr/dP50ZX+6fzoAMr/dP50ZX+6fzoAMr/AHT+dGV/un86ADK/3T+dGV/un86ADK/3T+dGV/un86ADK/3T+dGV/un86ADK/wB0/nRlf7p/OgAyv90/nRlf7p/OgAyv90/nRlf7p/OgAyv90/nRlf7p/OgBQFbgZB7ZPFMoAfCMzRg9Cwrr/hro1trfiS5hnSOWaKwnntYpQCrzqPkBU/eAyTjocc5GaT2GtWdV4r8L6dD4B1DU5XjE9vPbi0lCqHkd8+ZGSqrlduGA5xtOMZIrI1HwZ4ckuI0tNctrVcvuJnjkBQMgDY3jAwzE85O3hOKmm3KN2XWiozaRWvfAul2qzzT+IreBopJQ9qsamRQiynhTJnJMagA4++PbNDT9G0Vr/UdKurqAtFfJaw6gZdqbGk2GXbuwQAN3Xv1xVmZZtvAthcSRWx8RW4u38stGio6rkQbvmEnJUzN0HIiY8drF78PrCC+ihGvQQo5RWEzR71yHJfBdTtKorrwMiVRyeoBy0Om2zGTzLhgI52RiFBIQD73BI/U+2aiWwiZN5uFVQoJyQTnCnpn3P5UAT/2NH9jSb7Su6TaUyQABlgc8+36GqM9ssLIPOU7lLZ6j2HGeTx+dAE8drBPbp+8jikEbSMd3XBwF5PXjP4is+gAooAKKACigAooAKfLzK/8AvGgBYf8AXx/7w/nVnSrW7vL9IbB9t0QTGA+1mOOgPrjPHfpQBtyaPr2uXCRSXi3L8kLuY/KEZwwAHOVBIwCTkccisi50LU7W5lha0lZosliqHAABJJ44wFbOcY2nOMGhK2w223djJdL1EG6luLeZGgy05mBVgdwU5zzncw460y8026sdpmjO1o45Aw5GJEDrz9D+hoEXZ9B1HTkubiRkjazMZYo/ILZxgjuCCDzwQRSXfh/Vo1S4kglm88eYrKGYuhXcH6dCA2O/yPnG00ARWmhaheC68uAqbW2a6cSHYTGrhCRnqdxxj2PekudC1K1vLi1a0ld4JTC5jUsu4MV4PuQQPWgBlzp15aadb3NwCkU0jokbZBBVUbOPQiRcVRoAKKACigAooAKKACigAp0n+tf/AHjQA6H/AF8f+8P51JZ3txYStNaymKUqVDr95QeuD2PbI7EjvQBpJ4p1OORpENqHZGjZhaRAsjAgqfl+7hiAOwwOgGE/4SnVic+dF90x4FvGPkIK+X0+5gn5enfGaAG3PibVbu2e3nnR4n8wsvkoMl2DMeB13KD7Y4psniLU5bWK2kljaCKSKRUMKEFo0CJnjnCgDB60ANufEGqXlo9tdXjzo4AYyYZiASQNx54LHv3pLbXdQtIPJgmVU2eWMxqSo+foSMg/vH5Hr9KAJH8S6q1y9ytwsUrxrGWhiWPAEolGNoGDvUNkc1ZbxprrzNM12hdmdmJgj53tvOfl5G7kDtQBnXurXeoW1vb3DRmOAkoEiVDkhQSSANxIReTk8VRoAKKACigAooAKKACigAp0n+tf/eNADof9fH/vD+dOtrS5vZvJtbeWeUjISJCzY+goAjdHjdkdSrKcMpGCD6UsUMs8yQwxvJI52oiKSWPoB3oAaVIxkHkZHvSUATtZ3SBy9tKuxzG+UI2sBkg+hAB4qHacZwcDjOKAEpzIyNtZSp9CKAG1Zt9PvbtwltaXEzMm8LHGWJXOM8ds8ZoAia3mQSFoZF8ptkmVPytzwfQ8H8jTdjbC+07QcFscZoAmtbG7vnZLS1nuGRdzCKMuQPU47VAFYhiFJCjJIHQUAJVmPT72WaaGOzuHlhz5qLGSyYODuHbB9aAK1FABRQAU6T/Wv/vGgB0P+vj/AN4fzqzp17HZyTGaF5Y5omiZUk2HnHIOD6elAHRDxtHsiU6TGDG7NvWQBjkvg5Kk78OAW7hRkdCM/VPEMV29o1tbvCYFBzuAw3lqp2gAbRkE985zxQBai8Xwx25jOkxZeQSSFWVQxyrNxtwBkNtA+7vI5FRN4piMzEaftiFoLZIxLjHABZiF+bIAyMdqAGN4pZ3vw9orRXk1xM0Zf7rSgBSDjquOvcEjjNXLjxqJ7vzP7OCwBgwtvNHl8eYOQFGceYAM9AgHTGACM+MF8u4CaZEjyg7PmBWM4X5wNv3gVPOejsMc5qCXxPHNpsto2nIGkgWHekpAyufnIxyTn1xwOOBQBI/iyMWEVtDpwjKoscjmXdvUIVK9OASScetU9U18ajqENytsY1igeEIZN3DFzwQBgDfgDHQCgC/F4vii01LQaaTtjRGYz5D7VK4IK/dJJJXPc81NB40tYdRFydFR0HzeUZ8DcZXkPIXoQ5TGPu+tAGXba9GksxuLV5IpIIYVWKYRlfLKkEHaepX079a1D43VovLOlqocHzxFOVEmXjcjGOFJjPy/7bUAZtx4gil1mDUksirQyCVY2lDAuEQKSduT8ybjk85xxyTJbeJo4dSmvJLDd53lM8Sy/Kzp1OWDHnk5BDAk4YUALB4mitrWaCGwIW4mjkuMyg71AkDoPl4VvM98bR1qyfGCSxEPYrE4RypjCkCXIZGXI+TDAE9c4xxngA5SigAp0n+tf/eNADof9fH/ALw/nUdABRQAUUAFFABRQAUUAFFABRQAUUAFFABRQAU6T/Wv/vGgB0P+vj/3h/OruiPp0epK+qRCW1A+aM7gG/FSCDjJHuADwcgA2UvPDMcalLKISJBGoY+axd/LXzCwJxkuTtxgABsjJUiGGXwuuqs0kEj6eVACnf5gGQWIwcbwCyrnK5UFhzmgCz/xI1s47qKCyRFn8w5mYysE3Yj2Ek4bCktgAEkZ7UtzP4YgEJSCOS8Cq0r5kZDlUJP3uZN+/wD2NvbNAEqa1pH9rmdEsobZ2aVomt2dMLtCRgENtJCtk4IAkPGeKztP1XTY7eJLqGEyBUG77MpwymTBPHIG6MkfxY5zQBLa6hpUWtfaJXt2hJhE2bQFZFQL5oVccFyDg/L0wdu41LYatoaae6XUERkMIQ4txnIVgMccnJBOSvTOWPFAFjUNZ8PT210kdtCJJISMxxhRvJbGD5eSFyh/5Zngj5xiuOkREI2SrJkckAjH50AMooAKKACigAooAKKACnSf61/940AOh/18f+8P51vf8ID4xIyPC2tf+AMn+FAB/wAIB4x/6FXWv/AGT/Cj/hAPGP8A0Kutf+AMn+FAB/wgHjH/AKFXWv8AwBk/wo/4QDxj/wBCrrX/AIAyf4UAH/CAeMf+hV1r/wAAZP8ACj/hAPGP/Qq61/4Ayf4UAH/CAeMf+hV1r/wBk/wo/wCEA8Y/9CrrX/gDJ/hQAf8ACAeMf+hV1r/wBk/wo/4QDxj/ANCrrX/gDJ/hQAf8IB4x/wChV1r/AMAZP8KP+EA8Y/8AQq61/wCAMn+FAB/wgHjH/oVda/8AAGT/AAo/4QDxj/0Kutf+AMn+FAB/wgHjH/oVda/8AZP8KP8AhAPGP/Qq61/4Ayf4UAH/AAgHjH/oVda/8AZP8KP+EA8Y/wDQq61/4Ayf4UAH/CAeMf8AoVda/wDAGT/Cj/hAPGP/AEKutf8AgDJ/hQAf8IB4x/6FXWv/AABk/wAKwZ1ZLiRHUqyuQQRgg5oASH/Xx/7w/nX31H/qk/3RQA6igAooAKKACigAooAKKACigAooAKKACigAr4M1f/kNX/8A18Sf+hGgCtD/AK+P/eH86++o/wDVJ/uigB1QSTlLuOHbkNE75z/dKj/2agCcciigApM/MV9qAFooARm2jPviloAwb25vbrVfs+m3kSeWuJUfg5zyR8p7cdepHoQUsYfE0Ns63VxYzSmRirYbhew4A96bTW4WNXTzdm1H27yvtAJ3eSSV68Yzz0xSajd/Y7KSVTH5gGEEjhQW9MmkCVzN+362LkKulq8CL80gkAMpxxtGflH1z/jatL7UJrtY7jSzbxFSTIZlbB9MCgDTooAKKACvgzV/+Q1ff9fEn/oRoArQ/wCvj/3h/OvvqP8A1Sf7ooAzr+01OaaRrS9WGNodiqV+6+T83vxgfh701YZ4tQt1knMh8ickkZ6umP0oA0gHx94flRh/7w/KgAw/94flTQH8w/MOg7fWgB2H/vD8qMP/AHh+VADX3bfvDgjt7075/wC8PyoAhS1iWd50VBK/DMF5NTYf+8PyovcBq7sn5x19Kq6jpsGpQLFcklVbcMcc0DTs7lqNCkaojAKoAAx2oYNuX5u/p7UCHYf++PypcP8A3h+VABh/7w/KnUAFfBmr/wDIavv+viT/ANCNAFaH/Xx/7w/nX31H/qk/3RQBRvNZs7GWWOeQh4ohMwCk4UkgH8wfyqCLUba/vbWa3ffG9vNtODzhoxQBqCRcd/yNHmL7/lQAeYvv+VN8xfMPXoO31oAd5i+/5UeYvv8AlQBj32ixXN3JdJfXlvJKVD+SwUEDgDp/n8BjK1PS30u1E1vf6tcOZQSBMB+JwvPQCk3ZF04qU1Fu1zQj0KB0EqXmoWxldpnSOXb8zEk5498fgK1bKFbK1WD7RPPt/jmO5j9TimQ9yrqGmwap5ZkmmiMTEq0WAQeOckHB47VQl8LW1woS61C/uIlB2rLJu5IYZPHPDfpzmgAjuX0W4h02CKWeJmLmWU5dixJPbnk064PiAptie3DFmw56j5uOMYxt4rKnNylKLWw2aGnfbU8w384dmI2qijavrjgH881auL23tITNPII4wQCzcAZOB+prURTbxDpSJva7ULgtkq3QHHp68fWtKORZY1kQ5VgCD6g0AOr4M1f/AJDV9/18Sf8AoRoArQ/6+P8A3h/OvvqP/VJ/uigBskEUpzJEjnGPmXNVJI0j1OBUUKPs83AGP4o6ALw6UYFAGNrd6Ukt7KC4a3uJmO1wuQuQQCfX5iDj2pDba42MXtqJBjcfLOCPp2596Skm2iVJNtLoSGy1aRIS9+gkSUsxRcBk2kAYx1zg/nV2yjvEjYXs0cj54KLgAYH9c0yieT7v4j+dEhVEZ2zhRk4BJ/IUAUDr2mAL/pS8jPCnjr1446d6f/bOmZZRfQMy/eCyAkc45A96AKN7d6TqFsY21aGNVYnfHMoIypGQexGcg+oqo+hadbyxrJqN0skiqqEycjGRxx33d+wA6U0m9ETKagryL/8AYkwkgZdRuGEcm9vMbJbpx+n6mmeIrNXtvtW+dHiQp+5IBIJGcnB9PyJobuki7kOk6V5scN8t5eoXwzxtLkMQ2ee+D+XJ9at3lpd3GpKG2vZcFkbBHHPI7nNY1lNpcnf8DSk4Jvn7GT59pJb718Pbv9Yu1lx0AOOh689sZHqa6DTblriAg25g8s7Ahz0H1ArRbGbVnYu18Gav/wAhq+/6+JP/AEI0xFaH/Xx/7w/nX3ldXBtNLluQm8xRF9vrgUAZohvdWtxeQ3zWqz24VVjO9VOSd6njOcjqO1SxW0tvfWySXUkrCCckkDnLofrx0oA1Ahx99v0o2H++fyFAEb2scjo7gM6fdYqCR9OKcEPmEb26D096VgsO2H++36UbD/fb8hTAbIp2/fPUenrTjHuBBYkHgggUAVBpFgiti0gAPJAiXn9Pc1z0WqaB5Ek503yssAwa1TLZxnoOeSfr26jIA/7ZooRJW01PJlEjb/IQ4CnByMZ7/rUtnawavrct8Ll5I4wAI2UjafT06g1cJct2ZVaaqJJlnU9b+xajDYoGZ5OGfAwmelRxw+JS22e5tRuZMPGuQoAO75SO/HeslJPRdDRTjLRdDfCH++35D/CqU0l2t8sUakxEcuRUVZSilyrqUjLlufE6RqU063dyBkCQYU5HqRnjd6c4retWma2RrhAkpHzKOgNaiJq+DNX/AOQ1ff8AXxJ/6EaAK0P+vj/3h/OvurWN/wDwjl5sAL/ZmwD0J20AZum61a6botrDPE0bR2izMkI3KASRhTk5PBq9Hfw3t7byw79jQTgEof4XQH+VAGmHGOjfkaXePQ/kaADePRv++TTA48wnDdB/CfegB/mD0b8jRvHo35UAMkcbe/Udven+YPRv++TQAbx6N+RpNy+jfkaAGow+bhuvpVPUb+WyEbQ2U1zuPzLGDkDj2/njpQBkTalFc6pGf7AvHnjG4yPHgKPmx0zkkrxx3zVjTtcv724gS40W5tFfJZpMkLw3sPQfnSSS2Eopao3fMHo3/fJo3j0b8jTGLvHo35GnUAFfBmr/APIavv8Ar4k/9CNAFaH/AF8f+8P51933yXEmlSR20aPK8e0BnKDnrzg84/yKAF0uKWHS7aK5JMyRhXLAA5+gJH60k2P7Ug/695f/AEKOgC4OlZet3csFp5dpNHFdyMvlmT7uNw3Z4OOMjOKic1Bc0tioQc3yobaw60t6GuLm3e23n5QuG2447dQeD69eOlan/LQ/Qf1qyR9FADJPu/iP50+gAooAYn8X1p9ABVO5nkjuYI0hZ1duWH8NNDik3qWxS0hBRQAV8Gav/wAhq+/6+JP/AEI0AVof9fH/ALw/nX31H/qk/wB0UAZ1/p13dTyPBqMturwiMKoztOSdw568gfhTI7aS3v7dJLh5W8ic5Pu6Hvk8dOtAFefVLx9RntdOEdw0SL8pYLhstuz/AOOdPeobmPWLtjv063DRpuidpc/PuHykDtjvSqU01yyQ6dRp80WPM/iRfLAtLdhuO9hIBxz0H5flWzAJCqmViJNi7gOme9MRNtP980m0/wB40ANkU7fvHqP507af7xoAXaf7xpNp/vmgBqKfm+Y9aftP940ARXEDT20sIlZfMQruHUZGM1iXHhyeRRGutXqA5AO7kcMP/Zjn6DpigDfCHH3jS7T/AHjQAbT/AHjTqACvgzV/+Q1ff9fEn/oRoArQ/wCvj/3h/OvvqP8A1Sf7ooAz7/WFsZpIzazyFIfNyi5DckbR78fy9ajjvBd39tIsTKDBOOx6OgoAsw2NrBdS3MVvtml++471a3H+6fyptt7iSS0Qbj/dP5UgY+YflboKQx28/wB1qTef7p/KgBrsdv3T1Hb3p28/3T+VAC7z/dak3H+6fyoARWPzfKetLuP900ALvP8AdamMx3L8p6/0oAUyBRkgge9HmqelAC7z/dNPoAK+DNX/AOQ1ff8AXxJ/6EaAK0P+vj/3h/OvvqP/AFSf7ooAXAqnP/yFIP8Ar3l/9CjoAuDpS0AFN/5aH6D+tADqKAGSfd/Efzp9ABRQAxP4vrT6ACmN99fr/SgDP1+CzuNGniv3dbYgFyhweGBAH4gVyumavpcOpQu6XK7AUjlkZcKCT1CgcZY+uPzqJTUXZnVQwk60HKPQ7wcgGlqzlCvgzV/+Q1ff9fEn/oRoArQ/6+P/AHh/OvvqP/VJ/uigDPv9Ja9mkkF7cQiSHyiqNwOScj0PP6CoLiCWyuIJUiuLvbHMrbJFBG91YcMwHYigCZb2Viyrp10WUDIE0eR/4/TvtVzx/wASu85/6ax//F0AN+13P/QKvf8Av7H/APF0xb+bdltNu1GFGTNF1Pb7/wBPzoAl+03Gf+QXefXzY/8A4uk+1XP/AECr3/v7H/8AF0ARyX1wEGdKvRyOssXt/t09L2WWMSRaddOjdCs0ZB/8foAcbq5Gf+JXeHH/AE1j/wDi6Q3VyOf7Kvf+/sf/AMXQAyK+lZmX+zbsNnO0yx5x6/fqT7Vc8/8AErvP+/sfP/j9ACfarkf8wq9/7+x//F1FNqE0RBk027VRklmmiAAwefv0AVdbjvdQ0uS3h0268wkFd0keOOefnrk18O68WAOlOBnBPmRf/FVjUg5O6PSweKp0qbjI7iO5uY4lT+yr07VA/wBbF/8AF1qDoO1bHnPcWvgzV/8AkNX3/XxJ/wChGgRWh4mjP+0K++o/9Un+6KAHVQ1TSbbV4fJud+zGMI2M8g9fwoAuRwxxZ8uNVJ67RjNPoAQjII9aoafo9pptuIYVLKCCDJyR/kjP+RQBoUUAYniWOM2ccskJlXcIiol2cOyjrg9wKpjxfpsGyGO3mUEhQgVRtJGeecAUAWk8V2EktxCkdw0tusjOoUc7Bzg55znj+lMi8WWM8skBinV02AthSuWxgA556+nb6UAaWnaVbaYriAMS5yWY5NXqACs+70e1vbxbmYMzKFG3PynaSRkf8CNAGh2ooAKKACvgzV/+Q1ff9fEn/oRoAp17x4L/AGg49N0WHT/ElhdXMtugjS6tirNIBwN4YjnHfPNAHTf8NHeE/wDoGaz/AN+ov/jlH/DR3hP/AKBms/8AfqL/AOOUAH/DR3hP/oGaz/36i/8AjlH/AA0d4T/6Bms/9+ov/jlAB/w0d4T/AOgZrP8A36i/+OUf8NHeE/8AoGaz/wB+ov8A45QAf8NHeE/+gZrP/fqL/wCOUf8ADR3hP/oGaz/36i/+OUAH/DR3hP8A6Bms/wDfqL/45R/w0d4T/wCgZrP/AH6i/wDjlAER/aG8GmcTnSNW80DaH8iLdj0zv6VL/wANHeEv+gZrP/fqL/45QAf8NHeE/wDoGaz/AN+ov/jlH/DR3hP/AKBms/8AfqL/AOOUAH/DR3hP/oGaz/36i/8AjlH/AA0d4T/6Bms/9+ov/jlAB/w0d4T/AOgZrP8A36i/+OUf8NHeE/8AoGaz/wB+ov8A45QAf8NHeE/+gZrP/fqL/wCOUf8ADR3hP/oGaz/36i/+OUAYHiz9omC60ia08NaddQXUylPtN3tHlZ7qqk5PpkjHvXgHU5oA/9kA/+Ex6Gh0dHA6Ly9ucy5hZG9iZS5jb20veGFwLzEuMC8APD94cGFja2V0IGJlZ2luPSfvu78nIGlkPSdXNU0wTXBDZWhpSHpyZVN6TlRjemtjOWQnPz4NCjx4OnhtcG1ldGEgeG1sbnM6eD0iYWRvYmU6bnM6bWV0YS8iPjxyZGY6UkRGIHhtbG5zOnJkZj0iaHR0cDovL3d3dy53My5vcmcvMTk5OS8wMi8yMi1yZGYtc3ludGF4LW5zIyI+PHJkZjpEZXNjcmlwdGlvbiByZGY6YWJvdXQ9InV1aWQ6ZmFmNWJkZDUtYmEzZC0xMWRhLWFkMzEtZDMzZDc1MTgyZjFiIiB4bWxuczp4bXA9Imh0dHA6Ly9ucy5hZG9iZS5jb20veGFwLzEuMC8iPjx4bXA6Q3JlYXRvclRvb2w+V2luZG93cyBQaG90byBFZGl0b3IgMTAuMC4xMDAxMS4xNjM4NDwveG1wOkNyZWF0b3JUb29sPjx4bXA6Q3JlYXRlRGF0ZT4yMDIyLTA0LTAxVDExOjE0OjE2LjgzNjwveG1wOkNyZWF0ZURhdGU+PC9yZGY6RGVzY3JpcHRpb24+PC9yZGY6UkRGPjwveDp4bXBtZXRhPg0KICAgICAgICAgICAgICAgICAgICAgICAgICAgICAgICAgICAgICAgICAgICAgICAgICAgICAgICAgICAgICAgICAgICAgICAgICAgICAgICAgICAgICAgICAgICAgICAgICAgIAogICAgICAgICAgICAgICAgICAgICAgICAgICAgICAgICAgICAgICAgICAgICAgICAgICAgICAgICAgICAgICAgICAgICAgICAgICAgICAgICAgICAgICAgICAgICAgICAgICAgCiAgICAgICAgICAgICAgICAgICAgICAgICAgICAgICAgICAgICAgICAgICAgICAgICAgICAgICAgICAgICAgICAgICAgICAgICAgICAgICAgICAgICAgICAgICAgICAgICAgICAKICAgICAgICAgICAgICAgICAgICAgICAgICAgICAgICAgICAgICAgICAgICAgICAgICAgICAgICAgICAgICAgICAgICAgICAgICAgICAgICAgICAgICAgICAgICAgICAgICAgIAogICAgICAgICAgICAgICAgICAgICAgICAgICAgICAgICAgICAgICAgICAgICAgICAgICAgICAgICAgICAgICAgICAgICAgICAgICAgICAgICAgICAgICAgICAgICAgICAgICAgCiAgICAgICAgICAgICAgICAgICAgICAgICAgICAgICAgICAgICAgICAgICAgICAgICAgICAgICAgICAgICAgICAgICAgICAgICAgICAgICAgICAgICAgICAgICAgICAgICAgICAKICAgICAgICAgICAgICAgICAgICAgICAgICAgICAgICAgICAgICAgICAgICAgICAgICAgICAgICAgICAgICAgICAgICAgICAgICAgICAgICAgICAgICAgICAgICAgICAgICAgIAogICAgICAgICAgICAgICAgICAgICAgICAgICAgICAgICAgICAgICAgICAgICAgICAgICAgICAgICAgICAgICAgICAgICAgICAgICAgICAgICAgICAgICAgICAgICAgICAgICAgCiAgICAgICAgICAgICAgICAgICAgICAgICAgICAgICAgICAgICAgICAgICAgICAgICAgICAgICAgICAgICAgICAgICAgICAgICAgICAgICAgICAgICAgICAgICAgICAgICAgICAKICAgICAgICAgICAgICAgICAgICAgICAgICAgICAgICAgICAgICAgICAgICAgICAgICAgICAgICAgICAgICAgICAgICAgICAgICAgICAgICAgICAgICAgICAgICAgICAgICAgIAogICAgICAgICAgICAgICAgICAgICAgICAgICAgICAgICAgICAgICAgICAgICAgICAgICAgICAgICAgICAgICAgICAgICAgICAgICAgICAgICAgICAgICAgICAgICAgICAgICAgCiAgICAgICAgICAgICAgICAgICAgICAgICAgICAgICAgICAgICAgICAgICAgICAgICAgICAgICAgICAgICAgICAgICAgICAgICAgICAgICAgICAgICAgICAgICAgICAgICAgICAKICAgICAgICAgICAgICAgICAgICAgICAgICAgICAgICAgICAgICAgICAgICAgICAgICAgICAgICAgICAgICAgICAgICAgICAgICAgICAgICAgICAgICAgICAgICAgICAgICAgIAogICAgICAgICAgICAgICAgICAgICAgICAgICAgICAgICAgICAgICAgICAgICAgICAgICAgICAgICAgICAgICAgICAgICAgICAgICAgICAgICAgICAgICAgICAgICAgICAgICAgCiAgICAgICAgICAgICAgICAgICAgICAgICAgICAgICAgICAgICAgICAgICAgICAgICAgICAgICAgICAgICAgICAgICAgICAgICAgICAgICAgICAgICAgICAgICAgICAgICAgICAKICAgICAgICAgICAgICAgICAgICAgICAgICAgICAgICAgICAgICAgICAgICAgICAgICAgICAgICAgICAgICAgICAgICAgICAgICAgICAgICAgICAgICAgICAgICAgICAgICAgIAogICAgICAgICAgICAgICAgICAgICAgICAgICAgICAgICAgICAgICAgICAgICAgICAgICAgICAgICAgICAgICAgICAgICAgICAgICAgICAgICAgICAgICAgICAgICAgICAgICAgCiAgICAgICAgICAgICAgICAgICAgICAgICAgICAgICAgICAgICAgICAgICAgICAgICAgICAgICAgICAgICAgICAgICAgICAgICAgICAgICAgICAgICAgICAgICAgICAgICAgICAKICAgICAgICAgICAgICAgICAgICAgICAgICAgICAgICAgICAgICAgICAgICAgICAgICAgICAgICAgICAgICAgICAgICAgICAgICAgICAgICAgICAgICAgICAgICAgICAgICAgIAogICAgICAgICAgICAgICAgICAgICAgICAgICAgICAgICAgICAgICAgICAgICAgICAgICAgICAgICAgICAgICAgICAgICAgICAgICAgICAgICAgICAgICAgICAgICAgICAgICAgCiAgICAgICAgICAgICAgICAgICAgICAgICAgICAgICAgICAgICAgICAgICAgICAgICAgICAgICAgICAgICAgICAgICAgICAgICAgICAgICAgICAgICAgICAgICAgICAgICAgICAKICAgICAgICAgICAgICAgICAgICAgICAgICAgICAgICAgICAgICAgICAgICAgICAgICAgICAgICAgICAgICAgICAgICAgICAgICAgICAgICAgICAgICAgICAgICAgICAgICAgIAogICAgICAgICAgICAgICAgICAgICAgICAgICAgICAgICAgICAgICAgICAgICAgICAgICAgICAgICAgICAgICAgICAgICAgICAgICAgICAgICAgICAgICAgICAgICAgICAgICAgCiAgICAgICAgICAgICAgICAgICAgICAgICAgICAgICAgICAgICAgICAgICAgICAgICAgICAgICAgICAgICAgICAgICAgICAgICAgICAgICAgICAgICAgICAgICAgICAgICAgICAKICAgICAgICAgICAgICAgICAgICAgICAgICAgICAgICAgICAgICAgICAgICAgICAgICAgICAgICAgICAgICAgICAgICAgICAgICAgICAgICAgICAgICAgICAgICAgICAgICAgIAogICAgICAgICAgICAgICAgICAgICAgICAgICAgICAgICAgICAgICAgICAgICAgICAgICAgICAgICAgICAgICAgICAgICAgICAgICAgICAgICAgICAgICAgICAgICAgICAgICAgCiAgICAgICAgICAgICAgICAgICAgICAgICAgICAgICAgICAgICAgICAgICAgICAgICAgICAgICAgICAgICAgICAgICAgICAgICAgICAgICAgICAgICAgICAgICAgICAgICAgICAKICAgICAgICAgICAgICAgICAgICAgICAgICAgICAgICAgICAgICAgICAgICAgICAgICAgICAgICAgICAgICAgICAgICAgICAgICAgICAgICAgICAgICAgICAgICAgICAgICAgIAogICAgICAgICAgICAgICAgICAgICAgICAgICAgICAgICAgICAgICAgICAgICAgICAgICAgICAgICAgICAgICAgICAgICAgICAgICAgICAgICAgICAgICAgICAgICAgICAgICAgCiAgICAgICAgICAgICAgICAgICAgICAgICAgICAgICAgICAgICAgICAgICAgICAgICAgICAgICAgICAgICAgICAgICAgICAgICAgICAgICAgICAgICAgICAgICAgICAgICAgICAKICAgICAgICAgICAgICAgICAgICAgICAgICAgICAgICAgICAgICAgICAgICAgICAgICAgICAgICAgICAgICAgICAgICAgICAgICAgICAgICAgICAgICAgICAgICAgICAgICAgIAogICAgICAgICAgICAgICAgICAgICAgICAgICAgICAgICAgICAgICAgICAgICAgICAgICAgICAgICAgICAgICAgICAgICAgICAgICAgICAgICAgICAgICAgICAgICAgICAgICAgCiAgICAgICAgICAgICAgICAgICAgICAgICAgICAgICAgICAgICAgICAgICAgICAgICAgICAgICAgICAgICAgICAgICAgICAgICAgICAgICAgICAgICAgICAgICAgICAgICAgICAKICAgICAgICAgICAgICAgICAgICAgICAgICAgICAgICAgICAgICAgICAgICAgICAgICAgICAgICAgICAgICAgICAgICAgICAgICAgICAgICAgICAgICAgICAgICAgICAgICAgIAogICAgICAgICAgICAgICAgICAgICAgICAgICAgICAgICAgICAgICAgICAgICAgICAgICAgICAgICAgICAgICAgICAgICAgICAgICAgICAgICAgICAgICAgICAgICAgICAgICAgCiAgICAgICAgICAgICAgICAgICAgICAgICAgICAgICAgICAgICAgICAgICAgICAgICAgICAgICAgICAgICAgICAgICAgICAgICAgICAgICAgICAgICAgICAgICAgICAgICAgICAKICAgICAgICAgICAgICAgICAgICAgICAgICAgICAgICAgICAgICAgICAgICAgICAgICAgICAgICAgICAgICAgICAgICAgICAgICAgICAgICAgICAgICAgICAgICAgICAgICAgIAogICAgICAgICAgICAgICAgICAgICAgICAgICAgICAgICAgICAgICAgICAgICAgICAgICAgICAgICAgICAgICAgICAgICAgICAgICAgICAgICAgICAgICAgICAgICAgICAgICAgCiAgICAgICAgICAgICAgICAgICAgICAgICAgICAgICAgICAgICAgICAgICAgICAgICAgICAgICAgICAgICAgICAgICAgICAgICAgICAgICAgICAgICAgICAgICAgICAgICAgICAKICAgICAgICAgICAgICAgICAgICAgICAgICAgICAgICAgICAgICAgICAgICAgICAgICAgICAgICAgICAgICAgICAgICAgICAgICAgICAgICAgICAgICAgICAgICAgICAgICAgIAogICAgICAgICAgICAgICAgICAgICAgICAgICAgICAgICAgICAgICAgICAgICAgICAgICAgICAgICAgICAgICAgICAgICAgICAgICAgICAgICAgICAgICAgICAgICAgICAgICAgCiAgICAgICAgICAgICAgICAgICAgICAgICAgICAgICAgICAgICAgICAgICAgICAgICAgICAgICAgICAgICAgICAgICAgICAgICAgICAgICAgICAgICAgICAgICAgICAgICAgICAKICAgICAgICAgICAgICAgICAgICAgICAgICAgICAgICAgICAgICAgICAgICAgICAgICAgICAgICAgICAgICAgICAgICAgICAgICAgICAgICAgICAgICAgICAgICAgICAgICAgIAogICAgICAgICAgICAgICAgICAgICAgICAgICAgICAgICAgICAgICAgICAgICAgICAgICAgICAgICAgICAgICAgICAgICAgICAgICAgICAgICAgICAgICAgICAgICAgICAgICAgCiAgICAgICAgICAgICAgICAgICAgICAgICAgICAgICAgICAgICAgICAgICAgICAgICAgICAgICAgICAgICAgICAgICAgICAgICAgICAgICAgICAgICAgICAgICAgICAgICAgICAKICAgICAgICAgICAgICAgICAgICAgICAgICAgICAgICAgICAgICAgICAgICAgICAgICAgICAgICAgICAgICAgICAgICAgICAgICAgICAgICAgICAgICAgICAgICAgICAgICAgIAogICAgICAgICAgICAgICAgICAgICAgICAgICAgICAgICAgICAgICAgICAgICAgICAgICAgICAgICAgICAgICAgICAgICAgICAgICAgICAgICAgICAgICAgICAgICAgICAgICAgCiAgICAgICAgICAgICAgICAgICAgICAgICAgICAgICAgICAgICAgICAgICAgICAgICAgICAgICAgICAgICAgICAgICAgICAgICAgICAgICAgICAgICAgICAgICAgICAgICAgICAKICAgICAgICAgICAgICAgICAgICAgICAgICAgICAgICAgICAgICAgICAgICAgICAgICAgICAgICAgICAgICAgICAgICAgICAgICAgICAgICAgICAgICAgICAgICAgICAgICAgIAogICAgICAgICAgICAgICAgICAgICAgICAgICAgICAgICAgICAgICAgICAgICAgICAgICAgICAgICAgICAgICAgICAgICAgICAgICAgICAgICAgICAgICAgICAgICAgICAgICAgCiAgICAgICAgICAgICAgICAgICAgICAgICAgICAgICAgICAgICAgICAgICAgICAgICAgICAgICAgICAgICAgICAgICAgICAgICAgICAgICAgICAgICAgICAgICAgICAgICAgICAKICAgICAgICAgICAgICAgICAgICAgICAgICAgICAgICAgICAgICAgICAgICAgICAgICAgICAgICAgICAgICAgICAgICAgICAgICAgICAgICAgICAgICAgICAgICAgICAgICAgIAogICAgICAgICAgICAgICAgICAgICAgICAgICAgICAgICAgICAgICAgICAgICAgICAgICAgICAgICAgICAgICAgICAgICAgICAgICAgICAgICAgICAgICAgICAgICAgICAgICAgCiAgICAgICAgICAgICAgICAgICAgICAgICAgICAgICAgICAgICAgICAgICAgICAgICAgICAgICAgICAgICAgICAgICAgICAgICAgICAgICAgICAgICAgICAgICAgICAgICAgICAKICAgICAgICAgICAgICAgICAgICAgICAgICAgICAgICAgICAgICAgICAgICAgICAgICAgICAgICAgICAgICAgICAgICAgICAgICAgICAgICAgICAgICAgICAgICAgICAgICAgIAogICAgICAgICAgICAgICAgICAgICAgICAgICAgICAgICAgICAgICAgICAgICAgICAgICAgICAgICAgICAgICAgICAgICAgICAgICAgICAgICAgICAgICAgICAgICAgICAgICAgCiAgICAgICAgICAgICAgICAgICAgICAgICAgICAgICAgICAgICAgICAgICAgICAgICAgICAgICAgICAgICAgICAgICAgICAgICAgICAgICAgICAgICAgICAgICAgICAgICAgICAKICAgICAgICAgICAgICAgICAgICAgICAgICAgICAgICAgICAgICAgICAgICAgICAgICAgICAgICAgICAgICAgICAgICAgICAgICAgICAgICAgICAgICAgICAgICAgICAgICAgIAogICAgICAgICAgICAgICAgICAgICAgICAgICAgICAgICAgICAgICAgICAgICAgICAgICAgICAgICAgICAgICAgICAgICAgICAgICAgICAgICAgICAgICAgICAgICAgICAgICAgCiAgICAgICAgICAgICAgICAgICAgICAgICAgICAgICAgICAgICAgICAgICAgICAgICAgICAgICAgICAgICAgICAgICAgICAgICAgICAgICAgICAgICAgICAgICAgICAgICAgICAKICAgICAgICAgICAgICAgICAgICAgICAgICAgICAgICAgICAgICAgICAgICAgICAgICAgICAgICAgICAgICAgICAgICAgICAgICAgICAgICAgICAgICAgICAgICAgICAgICAgIAogICAgICAgICAgICAgICAgICAgICAgICAgICAgICAgICAgICAgICAgICAgICAgICAgICAgICAgICAgICAgICAgICAgICAgICAgICAgICAgICAgICAgICAgICAgICAgICAgICAgCiAgICAgICAgICAgICAgICAgICAgICAgICAgICAgICAgICAgICAgICAgICAgICAgICAgICAgICAgICAgICAgICAgICAgICAgICAgICAgICAgICAgICAgICAgICAgICAgICAgICAKICAgICAgICAgICAgICAgICAgICAgICAgICAgICAgICAgICAgICAgICAgICAgICAgICAgICAgICAgICAgICAgICAgICAgICAgICAgICAgICAgICAgICAgICAgICAgICAgICAgIAogICAgICAgICAgICAgICAgICAgICAgICAgICAgICAgICAgICAgICAgICAgICAgICAgICAgICAgICAgICAgICAgICAgICAgICAgICAgICAgICAgICAgICAgICAgICAgICAgICAgCiAgICAgICAgICAgICAgICAgICAgICAgICAgICAgICAgICAgICAgICAgICAgICAgICAgICAgICAgICAgICAgICAgICAgICAgICAgICAgICAgICAgICAgICAgICAgICAgICAgICAKICAgICAgICAgICAgICAgICAgICAgICAgICAgICAgICAgICAgICAgICAgICAgICAgICAgICAgICAgICAgICAgICAgICAgICAgICAgICAgICAgICAgICAgICAgICAgICAgICAgIAogICAgICAgICAgICAgICAgICAgICAgICAgICAgICAgICAgICAgICAgICAgICAgICAgICAgICAgICAgICAgICAgICAgICAgICAgICAgICAgICAgICAgICAgICAgICAgICAgICAgCiAgICAgICAgICAgICAgICAgICAgICAgICAgICAgICAgICAgICAgICAgICAgICAgICAgICAgICAgICAgICAgICAgICAgICAgICAgICAgICAgICAgICAgICAgICAgICAgICAgICAKICAgICAgICAgICAgICAgICAgICAgICAgICAgICAgICAgICAgICAgICAgICAgICAgICAgICAgICAgICAgICAgICAgICAgICAgICAgICAgICAgICAgICAgICAgICAgICAgICAgIAogICAgICAgICAgICAgICAgICAgICAgICAgICAgICAgICAgICAgICAgICAgICAgICAgICAgICAgICAgICAgICAgICAgICAgICAgICAgICAgICAgICAgICAgICAgICAgICAgICAgCiAgICAgICAgICAgICAgICAgICAgICAgICAgICAgICAgICAgICAgICAgICAgICAgICAgICAgICAgICAgICAgICAgICAgICAgICAgICAgICAgICAgICAgICAgICAgICAgICAgICAKICAgICAgICAgICAgICAgICAgICAgICAgICAgICAgICAgICAgICAgICAgICAgICAgICAgICAgICAgICAgICAgICAgICAgICAgICAgICAgICAgICAgICAgICAgICAgICAgICAgIAogICAgICAgICAgICAgICAgICAgICAgICAgICAgICAgICAgICAgICAgICAgICAgICAgICAgICAgICAgICAgICAgICAgICAgICAgICAgICAgICAgICAgICAgICAgICAgICAgICAgCiAgICAgICAgICAgICAgICAgICAgICAgICAgICAgICAgICAgICAgICAgICAgICAgICAgICAgICAgICAgICAgICAgICAgICAgICAgICAgICAgICAgICAgICAgICAgICAgICAgICAKICAgICAgICAgICAgICAgICAgICAgICAgICAgICAgICAgICAgICAgICAgICAgICAgICAgICAgICAgICAgICAgICAgICAgICAgICAgICAgICAgICAgICAgICAgICAgICAgICAgIAogICAgICAgICAgICAgICAgICAgICAgICAgICAgICAgICAgICAgICAgICAgICAgICAgICAgICAgICAgICAgICAgICAgICAgICAgICAgICAgICAgICAgICAgICAgICAgICAgICAgCiAgICAgICAgICAgICAgICAgICAgICAgICAgICAgICAgICAgICAgICAgICAgICAgICAgICAgICAgICAgICAgICAgICAgICAgICAgICAgICAgICAgICAgICAgICAgICAgICAgICAKICAgICAgICAgICAgICAgICAgICAgICAgICAgICAgICAgICAgICAgICAgICAgICAgICAgICAgICAgICAgICAgICAgICAgICAgICAgICAgICAgICAgICAgICAgICAgICAgICAgIAogICAgICAgICAgICAgICAgICAgICAgICAgICAgICAgICAgICAgICAgICAgICAgICAgICAgICAgICAgICAgICAgICAgICAgICAgICAgICAgICAgICAgICAgICAgICAgICAgICAgCiAgICAgICAgICAgICAgICAgICAgICAgICAgICAgICAgICAgICAgICAgICAgICAgICAgICAgICAgICAgICAgICAgICAgICAgICAgICAgICAgICAgICAgICAgICAgICAgICAgICAKICAgICAgICAgICAgICAgICAgICAgICAgICAgICAgICAgICAgICAgICAgICAgICAgICAgICAgICAgICAgICAgICAgICAgICAgICAgICAgICAgICAgICAgICAgICAgICAgICAgIAogICAgICAgICAgICAgICAgICAgICAgICAgICAgICAgICAgICAgICAgICAgICAgICAgICAgICAgICAgICAgICAgICAgICAgICAgICAgICAgICAgICAgICAgICAgICAgICAgICAgCiAgICAgICAgICAgICAgICAgICAgICAgICAgICAgICAgICAgICAgICAgICAgICAgICAgICAgICAgICAgICAgICAgICAgICAgICAgICAgICAgICAgICAgICAgICAgICAgICAgICAKICAgICAgICAgICAgICAgICAgICAgICAgICAgICAgICAgICAgICAgICAgICAgICAgICAgICAgICAgICAgICAgICAgICAgICAgICAgICAgICAgICAgICAgICAgICAgICAgICAgIAogICAgICAgICAgICAgICAgICAgICAgICAgICAgICAgICAgICAgICAgICAgICAgICAgICAgICAgICAgICAgICAgICAgICAgICAgICAgICAgICAgICAgICAgICAgICAgICAgICAgCiAgICAgICAgICAgICAgICAgICAgICAgICAgICAgICAgICAgICAgICAgICAgICAgICAgICAgICAgICAgICAgICAgICAgICAgICAgICAgICAgICAgICAgICAgICAgICAgICAgICAKICAgICAgICAgICAgICAgICAgICAgICAgICAgICAgICAgICAgICAgICAgICAgICAgICAgICAgICAgICAgICAgICAgICAgICAgICAgICAgICAgICAgICAgICAgICAgICAgICAgIAogICAgICAgICAgICAgICAgICAgICAgICAgICAgICAgICAgICAgICAgICAgICAgICAgICAgICAgICAgICAgICAgICAgICAgICAgICAgICAgICAgICAgICAgICAgICAgICAgICAgCiAgICAgICAgICAgICAgICAgICAgICAgICAgICAgICAgICAgICAgICAgICAgICAgICAgICAgICAgICAgICAgICAgICAgICAgICAgICAgICAgICAgICAgICAgICAgICAgICAgICAKICAgICAgICAgICAgICAgICAgICAgICAgICAgICAgICAgICAgICAgICAgICAgICAgICAgICAgICAgICAgICAgICAgICAgICAgICAgICAgICAgICAgICAgICAgICAgICAgICAgIAogICAgICAgICAgICAgICAgICAgICAgICAgICAgICAgICAgICAgICAgICAgICAgICAgICAgICAgICAgICAgICAgICAgICAgICAgICAgICAgICAgICAgICAgICAgICAgICAgICAgCiAgICAgICAgICAgICAgICAgICAgICAgICAgICAgICAgICAgICAgICAgICAgICAgICAgICAgICAgICAgICAgICAgICAgICAgICAgICAgICAgICAgICAgICAgICAgICAgICAgICAKICAgICAgICAgICAgICAgICAgICAgICAgICAgICAgICAgICAgICAgICAgICAgICAgICAgICAgICAgICAgICAgICAgICAgICAgICAgICAgICAgICAgICAgICAgICAgICAgICAgIAogICAgICAgICAgICAgICAgICAgICAgICAgICAgICAgICAgICAgICAgICAgICAgICAgICAgICAgICAgICAgICAgICAgICAgICAgICAgICAgICAgICAgICAgICAgICAgICAgICAgCiAgICAgICAgICAgICAgICAgICAgICAgICAgICAgICAgICAgICAgICAgICAgICAgICAgICAgICAgICAgICAgICAgICAgICAgICAgICAgICAgICAgICAgICAgICAgICAgICAgICAKICAgICAgICAgICAgICAgICAgICAgICAgICAgICAgICAgICAgICAgICAgICAgICAgICAgICAgICAgICAgICAgICAgICAgICAgICAgICAgICAgICAgICAgICAgICAgICAgICAgIAogICAgICAgICAgICAgICAgICAgICAgICAgICAgICAgICAgICAgICAgICAgICAgICAgICAgICAgICAgICAgICAgICAgICAgICAgICAgICAgICAgICAgICAgICAgICAgICAgICAgCiAgICAgICAgICAgICAgICAgICAgICAgICAgICAgICAgICAgICAgICAgICAgICAgICAgICAgICAgICAgICAgICAgICAgICAgICAgICAgICAgICAgICAgICAgICAgICAgICAgICAKICAgICAgICAgICAgICAgICAgICAgICAgICAgICAgICAgICAgICAgICAgICAgICAgICAgICAgICAgICAgICAgICAgICAgICAgICAgICAgICAgICAgICAgICAgICAgICAgICAgIAogICAgICAgICAgICAgICAgICAgICAgICAgICAgICAgICAgICAgICAgICAgICAgICAgICAgICAgICAgICAgICAgICAgICAgICAgICAgICAgICAgICAgICAgICAgICAgICAgICAgCiAgICAgICAgICAgICAgICAgICAgICAgICAgICAgICAgICAgICAgICAgICAgICAgICAgICAgICAgICAgICAgICAgICAgICAgICAgICAgICAgICAgICAgICAgICAgICAgICAgICAKICAgICAgICAgICAgICAgICAgICAgICAgICAgICAgICAgICAgICAgICAgICAgICAgICAgICAgICAgICAgICAgICAgICAgICAgICAgICAgICAgICAgICAgICAgICAgICAgICAgIAogICAgICAgICAgICAgICAgICAgICAgICAgICAgICAgICAgICAgICAgICAgICAgICAgICAgICAgICAgICAgICAgICAgICAgICAgICAgICAgICAgICAgICAgICAgICAgICAgICAgCiAgICAgICAgICAgICAgICAgICAgICAgICAgICAgICAgICAgICAgICAgICAgICAgICAgICAgICAgICAgICAgICAgICAgICAgICAgICAgICAgICAgICAgICAgICAgICAgICAgICAKICAgICAgICAgICAgICAgICAgICAgICAgICAgICAgICAgICAgICAgICAgICAgICAgICAgICAgICAgICAgICAgICAgICAgICAgICAgICAgICAgICAgICAgICAgICAgICAgICAgIAogICAgICAgICAgICAgICAgICAgICAgICAgICAgICAgICAgICAgICAgICAgICAgICAgICAgICAgICAgICAgICAgICAgICAgICAgICAgICAgICAgICAgICAgICAgICAgICAgICAgCiAgICAgICAgICAgICAgICAgICAgICAgICAgICAgICAgICAgICAgICAgICAgICAgICAgICAgICAgICAgICAgICAgICAgICAgICAgICAgICAgICAgICAgICAgICAgICAgICAgICAKICAgICAgICAgICAgICAgICAgICAgICAgICAgICAgICAgICAgICAgICAgICAgICAgICAgICAgICAgICAgICAgICAgICAgICAgICAgICAgICAgICAgICAgICAgICAgICAgICAgIAogICAgICAgICAgICAgICAgICAgICAgICAgICAgICAgICAgICAgICAgICAgICAgICAgICAgICAgICAgICAgICAgICAgICAgICAgICAgICAgICAgICAgICAgICAgICAgICAgICAgCiAgICAgICAgICAgICAgICAgICAgICAgICAgICAgICAgICAgICAgICAgICAgICAgICAgICAgICAgICAgICAgICAgICAgICAgICAgICAgICAgICAgICAgICAgICAgICAgICAgICAKICAgICAgICAgICAgICAgICAgICAgICAgICAgICAgICAgICAgICAgICAgICAgICAgICAgICAgICAgICAgICAgICAgICAgICAgICAgICAgICAgICAgICAgICAgICAgICAgICAgIAogICAgICAgICAgICAgICAgICAgICAgICAgICAgICAgICAgICAgICAgICAgICAgICAgICAgICAgICAgICAgICAgICAgICAgICAgICAgICAgICAgICAgICAgICAgICAgICAgICAgCiAgICAgICAgICAgICAgICAgICAgICAgICAgICAgICAgICAgICAgICAgICAgICAgICAgICAgICAgICAgICAgICAgICAgICAgICAgICAgICAgICAgICAgICAgICAgICAgICAgICAKICAgICAgICAgICAgICAgICAgICAgICAgICAgICAgICAgICAgICAgICAgICAgICAgICAgICAgICAgICAgICAgICAgICAgICAgICAgICAgICAgICAgICAgICAgICAgICAgICAgIAogICAgICAgICAgICAgICAgICAgICAgICAgICAgICAgICAgICAgICAgICAgICAgICAgICAgICAgICAgICAgICAgICAgICAgICAgICAgICAgICAgICAgICAgICAgICAgICAgICAgCiAgICAgICAgICAgICAgICAgICAgICAgICAgICAgICAgICAgICAgICAgICAgICAgICAgICAgICAgICAgICAgICAgICAgICAgICAgICAgICAgICAgICAgICAgICAgICAgICAgICAKICAgICAgICAgICAgICAgICAgICAgICAgICAgICAgICAgICAgICAgICAgICAgICAgICAgICAgICAgICAgICAgICAgICAgICAgICAgICAgICAgICAgICAgICAgICAgICAgICAgIAogICAgICAgICAgICAgICAgICAgICAgICAgICAgICAgICAgICAgICAgICAgICAgICAgICAgICAgICAgICAgICAgICAgICAgICAgICAgICAgICAgICAgICAgICAgICAgICAgICAgCiAgICAgICAgICAgICAgICAgICAgICAgICAgICAgICAgICAgICAgICAgICAgICAgICAgICAgICAgICAgICAgICAgICAgICAgICAgICAgICAgICAgICAgICAgICAgICAgICAgICAKICAgICAgICAgICAgICAgICAgICAgICAgICAgICAgICAgICAgICAgICAgICAgICAgICAgICAgICAgICAgICAgICAgICAgICAgICAgICAgICAgICAgICAgICAgICAgICAgICAgIAogICAgICAgICAgICAgICAgICAgICAgICAgICAgICAgICAgICAgICAgICAgICAgICAgICAgICAgICAgICAgICAgICAgPD94cGFja2V0IGVuZD0ndyc/Pv/bAEMAAwICAwICAwMDAwQDAwQFCAUFBAQFCgcHBggMCgwMCwoLCw0OEhANDhEOCwsQFhARExQVFRUMDxcYFhQYEhQVFP/bAEMBAwQEBQQFCQUFCRQNCw0UFBQUFBQUFBQUFBQUFBQUFBQUFBQUFBQUFBQUFBQUFBQUFBQUFBQUFBQUFBQUFBQUFP/AABEIA9cC4gMBIgACEQEDEQH/xAAfAAABBQEBAQEBAQAAAAAAAAAAAQIDBAUGBwgJCgv/xAC1EAACAQMDAgQDBQUEBAAAAX0BAgMABBEFEiExQQYTUWEHInEUMoGRoQgjQrHBFVLR8CQzYnKCCQoWFxgZGiUmJygpKjQ1Njc4OTpDREVGR0hJSlNUVVZXWFlaY2RlZmdoaWpzdHV2d3h5eoOEhYaHiImKkpOUlZaXmJmaoqOkpaanqKmqsrO0tba3uLm6wsPExcbHyMnK0tPU1dbX2Nna4eLj5OXm5+jp6vHy8/T19vf4+fr/xAAfAQADAQEBAQEBAQEBAAAAAAAAAQIDBAUGBwgJCgv/xAC1EQACAQIEBAMEBwUEBAABAncAAQIDEQQFITEGEkFRB2FxEyIygQgUQpGhscEJIzNS8BVictEKFiQ04SXxFxgZGiYnKCkqNTY3ODk6Q0RFRkdISUpTVFVWV1hZWmNkZWZnaGlqc3R1dnd4eXqCg4SFhoeIiYqSk5SVlpeYmZqio6Slpqeoqaqys7S1tre4ubrCw8TFxsfIycrS09TV1tfY2dri4+Tl5ufo6ery8/T19vf4+fr/2gAMAwEAAhEDEQA/APyqooooAKKKKACiiigAooooAKKKKACl3H1pKKAPTviF8abrxj4T0Hw5axNY6bp9rFFKN3M8iJt3HHavMtxpMmigAooooAXcaNxpKKADdxil3sOhx9KSigBdxznPPrRuO3Hb/P8AhSUUAKzlupzRuP8AkUlFO7AcZGYYJ/T6f4Ck3GkoouwDNKZGPf26UlFIB3mNjGePpTaKKAFLFuScmlEjLyDim0UAO8xv7xNJvNJRTuwH+c2c55pPMb1+tNoouwHCRlBAPB6ilEzr0bB9fT6Uyii7Ad5jE5JyaPNbbjPHpTaKQDvNb1o81+PmPFNop3YDvNbuc/WgyMcZPTpTaKOZgOWZ16NQZGbqabRRdgO8xuuTR5r7Su7g02ii7Ad5jbcZ+XrjtQZWbqc9qbRRdgeneC/jM/hnwnJ4b1DQNP1/STN9oCXW5GViMHlSCfxqLxl8ZLjxH4ZHh3TdHsvD2itIJpbaz3MZXHQksSf1rzjvR/FnvXf9fxPs/Zc2lrdL27XOH6jh/ae15db362v3t3DzG9aPMb1ptFcF2dwZoyaKKQBRRRQAUUUUAFFFFABRRRQAUUUUAFFFFABRRRQAUUUUAFFFFABRRRQAUUUUAFFFFABRRRQAUUUUAFFFFABRRRQAUUUUAFFFFABRRRQAUUUUAFFFFABRRTtu5SemPU0ANNGK9h+D37KXxF+Nym40HRhb6WMA6pqT/Z7f6hiMt+Ar650L/gmH4Q8OWEVz428c31xLtBli0iJYUVj/AAhpAc1EqkYmkacpbH5zUn41+ibfsi/BDSpgksWq3cQO0yXGoEfj8irTrH9h34N+ILUo2qa1otyWISaK+hkib8WU1j9YjfY09i+5+dRor7T+JX/BNHxFpMYvPAniC18WWbdLe6H2Wf8AAn5TXyL4m8I6z4L1aXTNc0y60q/iOGt7qMo34ev4V0qSktDFxa3MaiiigkKKKKACiiigAooooAKKKKACiiigAooooAKKKKACiiigAooooAKKKKACiiigAooooAKKKKACiiigAooooAKKKKACiiigAooooAKKKKACiiigAooooAKKKKACiiigAooooAKKKKACiiigAooooAKKKKACiiigAooooAKKKKACiiigAooooAKKKKACiiigAooooAKKKKACiiigAooooAKKKKACiiigAooooAekZkYKoLMxwqgZJr7A/Z9/Y9uHe11/xjYbmDeYmkSg5Vf70g/pXEfss/DqH+1LDxlqtvHcWy3gtrOCZcozH70h9Qvvwa/SXwTeS+I/H2tWZdZY7Pjdbqpz9eOfxrnxDmo6G9Dkk230Z1V1qGn+DvCMN1Ky2sFjbbljjXbjjG0Acda+ZdX+MN/42nb7VMbW1zuSJTyvtiuq/bB8XXHg/wAF2FlDJLbpfXxR5Zl+8gGSPz9K8h8B+DzrmiW+psskdnKS5mYHLVz0WlHmZ2Wcp8qMX4izXOpLGiFzG4w23qa5nw7441PwzGml3q3vlKcx3Lt8mK9q0DwrPrHiBZFgY6dGMFtucn8a2viJ8Mxq3h++jtrEZCYTagzn2onWOynhG1dlv9lf41J4lvLnwlezZuM7rQM/B/2Qa9R+NXwT8PfFzwzqVp4k0lLt4rd2t7wDFxFL/CwcfN+GcV+cFhda38O9Uj1OFpLS/wBPuAwbGCDX66fD/VH8Y+AdF1m/to1ku7FXdF53E9TWXtnGJzyopzcWfip8fP2fdZ+BXiC3tb0i80q9QSWV/GCBIv8Adb0f2rygV+3Xxy+FHhr4ieEbvRdZtHkguFEZlCjfAT91489CPavx0+KPw31P4UeOtT8Masm26s5CqyL0lQ/cYexrvpVFM4KtN02chRRRWxzj0jLttUbieAACcn0Feq6X+yr8W9c0n+09P+HHia5sDyJ/7MkUkf7p5r6P/wCCUvwY0H4ifFTxH4q1+zg1C08J2kU0NvcAsguJWYI5XOG4jfhgRz0rVs/24f2m/jZ8UNXv/hRb3134e0uffHoOnaXFNHFbFmCCVihYbgOu7NAHww3hnU11xdFbTbpNXaZbYWLRMJzKTtCbDzuJ7V2E/wCz78QrT4haf4EufCOoWni++TzbfSp02yyphjkDPT92/wCVfW/7W3iTxT8S/jV8JvEn/CrdT+DniltXt7KPXNTRCLi582N4XKhfmKsxOT1zznt3l5ovjjQf+CoXwot/iB4ot/F2u/2YzR6ha2X2JRB5F8VTac8htxycnn2oA+GNH/Zp+I/iL4hav4G07wle3XizSY/NvtMQqHhXj1P+0vevPNU0m50XVLrTryFre8tZmt5on6rIjbWH51+svwHUN/wVL+NTEfN/ZROe+f8ARa8Pvv8AgnnpnxW+Inje1074y+HX+IBvbu/l8KQ2zO8O6Vn2PL5mAVoA/Pyivob4K/saeJ/ir4w8Y6Vq17ZeCtM8Ghz4h1bVWPlWRViNoA+8Tiu11r9g/Rte+GniPxj8KPi5pXxPi8OR+dqenw6bLYXEa+qq7NmgD5EqRYjI4RFLN/dAJJr7G+Df/BOXVPjZ8DfDXxB0jxXDZyateTQ3FjdWLKllDHNJEZml346oOPevbP2Hf2afh14G/aX1+zb4j6L461XR4pba20kaWsqXsTQRSNco3msvylyuOeaAPzPkt2hkZHjZWXIZW+Ugjggj1BqGvsD9pT9mvQ/EH7QjaN8NvHlh438VeKvEupJcaDBYG0XR5POdijvvYEL7AdK7L/h2X4f/AOEpHgj/AIXr4eHxIMQf/hHTYSZ8w/8ALLdv69qAPg2vQNB+APxL8V6Tb6pofw78Va3ptwC0V5p2jXM8L4YqdrqhB5FZnxS+GutfCHx5rPhDxFbfZdZ0mcwTxrkqeMhge4IINfS/7H37Z3xU8N+Mvhf8LtO1uCLwa+t2tibH7FExMU1yN67yu7ncec5GeCKAPDf+GXPjB/0Sjxx/4Tl3/wDEVh3fwa8aad4FHjS68LalB4VaTyRqskBEO4MUIz67hiv0d/4KFftmfFP9n/42ad4e8Fa3BYaTLpEV08b2MU26QyyKW3SKx6KBjOOK8i1jw78SPEP7APhzVNc+I9nD8OdT1hRLo66V++ti964LGQAZAk5xnpxQB8Hrbv5ZlEbGEHaZMHaD6E1DX67ePf2ffhXN+wj4V0CT4naPo3h2K9jdPHy6G+y9ffKNpUNv6KO/aviP4O/sYr8RPAuu/EHxN4503wF8ONNvHsoNfvrd5vtzh2QeXGpBPIFAHzLRX098a/2LI/h/8IIPil4J8d6f8SPAhuFtp9Qs7R7WS3clVAZGZurHFetr/wAEr5BpPhrXLn4mWGleGNR0pNTv9Z1TTxbxWO5VYRjM/wA5wfagD45tfg/4xv8AwBc+N7fw1qEvhO3fy5tXSEmBCGVeT9TXGV92+H/BvxJtf+CffjmbTPiDZj4dWOozW02h/wBl5nudtygLLKegLc8GuO+Gf/BP1te+E2nfEX4i/EbSfhV4c1RlXT21W3MslwCMg7TImOKAPkOivrb4qfsFRfCHxN4IuNZ+I2mv8NPFEhjj8bQ2haG1zFvQvCJNzZ6cGvR/h7/wTN8A/Fiz1K78I/tEWWt2mm/8flxD4ZYQ2/8AvubsAUAfAVdJ4Q+G/ir4hXU9v4U8M6x4nuIE8yWHRrGW7eNScAsI1OKpeKNJs9F8SarYWN+uqWVpdSwQ3yKUW4RWKrIAeecZr71/4I2kn4r+PyeT/Ykf/o6gD8+bi1ktZ5IZo2iljYo8bcEMDgioa+t/gz+xXqP7Tmm/FjxFpWvmz1bw/qU6Wuk/Yt/2+Uln2iQyKE6DqK83/ag/Zz0/9nHxDo2iQeNtM8YahdWrTXy6aoC2Mytgwk7zn6+1AHiFFFFABRRRQAUUUUAFFFFABRRRQAUUUUAFFFFABRRRQAUUUUAFFFFABRRRQAUUUUAFFFFABRRRQAUUUUAFFFFABRRRQAUUUUAFFFFABRRRQAUUV0vhf4c+IvGVvdXGjaVPfw2vErR4GD6c0Ac1RW/4U8D61421CSy0XTpb+5jXcyRkDaPfNMsfBes6l4i/sG30+aTVwzIbXGGBUZPX2oAw6K1vEnhjUvCOqSabq1nJY3seC0chBwD34rJoAKKKKACiiigAooooAKuaZp7anf29rGPnlcJ9MnrVT+Vd38IdKXVPE0m/gW9rNMP97bgfzqWdFGmqtSMT660uz0rRvDVpDZStBZ2UVskaMRuZht5A9eTn1r6B+DDyXHxL8Sz2ks0CTAnbGfTrXx3f3/2y/wDD1hZt9ouBCLiYL0QqQTn8AK+qP2abqCT4ha39ina8sZIGaO53H5j8uR+prXEPmSROFpL2Mp33k2c3/wAFCr5ofCfhiO6u5J5FuJZBGcZxjFdz8NfEtv4J/Zl8OajeWKXF5cWu6KF14JJzn8q539sz4Z3HjptPuisjx2yMIxDk5JbB4r6N8G+EdKm+Gmh6bfwxwi00+OMeYoIiIXng/wBa8pySXKj1aNOV1M+JdN/aA1+88YRW0P2NIpptohtYiAPzFbfxG+P3iTwZ4gh05Tb2UvHmC8jJA/SvXF8M/DD4d+JLjW767SVbJ/MLsMhW+gGKzde1T4dfFbWJr7a4MLbGlePdt9+etYSjZ3Z7ME+Wx4n8Yp4PGnwc1vX5rOGHV7V4pJpLddqyA9eOg/AV9j/sxazDq37OfhO+F3JLc/Z1gdip2xH8K86+K3hPRv8AhVmo6XYxx3v2pEQlEAzjpwK9q+CGhnw38CrbT2WOErLny4xt/lSptTumefjKUqbU0zc1yw0O4tyb3W48sw25Vvlavgb/AIKMfD7w74l8J2HxB8P6rbajd6Xd/wBk6h5KEHyzwhI9j36819p6zpN5r/8Ao9lbtdS+YrfLwK8l/aM+GvhzQfg38QtL1TV7GOa80+Se306zTfILkBnUuR0wwB4rsox5WeNWlc/H2iiiu45D7v8A+CT/AMYtC8BfFLxL4S126h0+DxZawJbXE7hIzcQGQrGzHpkSv+fsK0tP/Ye/ab+B/wAStbtPhRfXGm+F9RnXHiCx1S3hia1ViY2mDSZG0E/WvgGOeSF1eNzG6kFWXggjuDXpc/7T/wAXLrQDosvxJ8TSaYyeW1u2pyncvoTuyR9TQB+k37amE0b9luBddl8WNaeLrO0OtMxk+3SxmNZJRgcksP4Tjtiqvxijdf8AgrZ8Jl8srL/YY27VYFh5V/8Aw7dwNflw3xI8WPpukac3iXVm0/R5fP061a9kMVnJuDb4VziNsgHK4NXLr4weOr7xRa+Jbnxlr1x4jtY/Jg1iXUZmvIkw4wsxbeOJH7/xGgD9RfgIrN/wVP8AjYgR8jSTuCqxI+W042bdx6muY/ZZ/ZN8f+B/2vdb+JuqmzbwAs+o3kfiJL+KWDUI5t23BR2H8X8dfnDY/GLx5pviS78RWnjPX7XxBeJ5dxq0OpTJdyr8vDTBt5+4vf8AhFVrf4neMbTwy/h2DxXrcPh912tpMeozLasPQxBtp/KgD9Wf2c/jBoPxU8ZftMaH4QbQrzxBrmqyX2iwayga11NfLKgMhILfOM4Oetc9/aX7RPwx+GPj7XNe8CfCP4U6dDZtFMi2iQtqIHaL7PM278a/KzT9YvtIvIrywvJrK7iOUuLeQxyKc5yGHNb3iz4q+NfHlvDB4m8X694ihhGI49V1Ka5VPoHY4oA/QGHU7zRf+CONq9lNJb+feyW0kkQYZRtVcsC2McqSK8W/4Jaa5Z6J+1hpa3lzHai+0y6tIWmbaGkbaVye3KD8q+Y2+Jvi9vCS+Fj4o1j/AIRheRov26X7FneXz5O7ZncSc461g2eoXOm3UdzaXElrcxtvSaFijqfUMORQB+k3h34b6v8Asqf8FALLx349jsbPwr4y1vWV0zVhOHC+eWKyNkAqfnGPqa1Jv2JfifP+3YPiEltAvgk+I18Q/wDCS/aYvK+zBtxTbv3Z7Y3dK/OPxd8TfGHj5bZfE/irWvEYtc+QNW1Ca68rPXb5jHH4VaX4xePV8Pf2CPG3iIaFt2f2X/as/wBl24xjyt+3H4UAe1f8FE/iBo/xG/ap8T6joUsF1Y2kVvYG7gO5bh448M+e+T/KvO/2W13ftK/CsBcH/hKdNGAec/ak/SvLDIxJJOSc5Pc561Z0nWL7QdStdQ027msL+1kWaC5t3KSRupBDKw5BBANAH21/wV3UD9pPSfl2n/hH4PvAqf8AWyHoQPU13/ilT/w5z8LkBhGL/aflYKx/tSVs7iMHp3r8+PF3jzxL4/1KPUPE/iDU/Ed/HGIlutWu5LqUICSF3SEnGSas3HxP8YXXhGLwrN4p1mTwxEcx6K1/KbNTvL5EO7ZncxPTqaAP0r0P4Qa3+0l/wTE8DeFfA62eo63Y3XnS28s6IQyzyZGSfl4J+8K0v2XbjVPFX7DFv4N8E6P4U8V/EPwtq11FeeGvEkKXEcmLp33CNuvy/SvzD8JfFLxn4BjnTwx4t1zw4s/+tGk6jNa7/wDe8thnrVHQvGniDwvqrano2uajpOpOSWvLG6khmYnOSXUgk8nv3oA/Q39pbUPjP4N/ZS1fTvHPhz4a+ANI1q9jhfwxo1t5N8+HDiWMRSOn3gD0/Sm/8FNtav7P4A/s+6bFcSQ6fead500AYhJykEAQnKgHG48H1r89/FXjvxL46vEvPEniDVPEF2i7Un1S8kuXUegZ2JFWPFHxL8XeOLOxtPEXifWNetbEFbWHU76W4SAEKuEDsdowq9PSgD9A/hmDJ/wSD8eDDFReyqPlYoP9NiOd2NueTXVfG34Y6x+2j+x98Im+FBtdavNBSOLUNIW5jt3QrDsY4dhjDe1fmpbfE7xhZ+E5/C1v4q1mHwzPnzdGjv5Vs3ywY5hDbDyoPTtUPhH4ieKvh/cyXHhfxJq3hy4kADy6TfS2rOAcjJRgTzQB9efEz9hXxvoLfCvwFdfEYa34s8SSiGLwbcSSeTpASJmmcv5jIqoBxhBmvpn9oT9n/wCI/wAPfgDpPwU+A/gy71DR7mPzfEPiL7RawSXbHsxeQdfavyutfiX4usvFS+J7fxRrEHiVfu6zHfSreDKlTiYNvGQSOvOa6r/hqL4zYI/4W3462nqv/CSXmD+Hm0AcT4m8N6l4K8RanoerWxs9X0y5lsrq3LqxhmjYq6kgnoQRxX6vfsC/sp+Kv2R7rxt41+JF3pmkabdaakMJjud67Q+8sWIUV+Smqaxfa3qFzfajeTX17dSNNPcXMhkkldjlmZjySTySea6XxJ8ZPH3jLTBp2v8AjfxHrmng5+y6lq09xF/3y7kUAfoJ/wAE/vE1xF+zj+054l0wyW91FFd6hBMoOYXFpM6MWA6ggHHfFfmdJPJJI7u7O7HLMxySSc5JrofDvxK8WeENJ1DS9D8S6to+m6gpS8s7G9khhuAUKESIpAb5WI5HeuboAKKKKACiiigAooooAKKKKACiiigAooooAKKKKACiiigAooooAKKKKACiiigAooooAKKKKACiiigAooooAKKKKACiiigAooooAKKKKACiiigAr0X4bfG7XvhhpuoWWmR28sN2d5NwhOx/Xg8/Q8V51RQB3Hw5+LGr/DXWbvULFILl7uPy5o7heG98jBH4EUmm/FbW9L+Ij+NB5UmqySyO4dD5Z3DBXjkcfjXEZo3f5xQB0/xC8fX/AMRvEkmsakkUczIIxHCCAqjoMnk/U1zFG4+tFABRRRQAUUUUAFFFFADq9R/Z+jkuPFt5HEvmMbKQ4/I15Z713vwagu77x5aWFlP5FzfRyQR4O3c2wkL+JGKDalLkmme//B74f3PiWXxNrazeULG1ljjboCxGDX0t+yL4RbwhqEcEs6SyzeexCknaNyY/SrHh/wAF2Pg39nm2m0+Ei5vbNri6lbktIf8APQVe/Z51a4vviBqCXMcQkt/Ni3QphD9zmvMwuOWMlUttF2O10PZ00z3PxUsw8P6nNawxS3lvC8sXnKCoIOR1rybS/ideeKfhPpWo3Ki1nuIHEqRn+JWZf6Cuz+M3xo8LfCbQZ21u/jF3dQn7NZjhpM9c18seD/ipo3ib4PWdlZ3MdvrulSzmSz8wYlVpCwHP1NbSpac1i6OIs+Vs1by81i68K6g2pw2djpk025WuZg0kn5CsTw8l/puh3KaC1lcxP/rDJJ8/6isaT9pDSBbmxvNNWSePpHKARVWH45Wt9Gun6bpym6f/AJ5rgfpWU4ux6dOvFrc9x8GeIpYU0ixuZ0Lyyp5u4bkVR9419e+C9U0PUfBt3LFKlzFDc+UqwSfxbM46etfkv48+KV54C+KGgXWl3Hmyafbr9qt9+Y3ZuqEdK/QT4bfHXQfEXhGxNhaf2bp97Gt6XijOfN2YK9e1a06XLDm6nj4mvOpUUb6HT+MNXul0/wDcTNbjeq/ujsOPqOa8d+O3g29vfD3iHVba4jMR06RzFIuOkb5yepr0nxBdxappS3UEjSxSMrIyjArz/wDab8WR+FfgX4u1CZtjNYSWkOW5aSVSo/mauG5lNKx+QVFFFdRxhS4HTvXX/DrwjaeJr69udSlaDRtLtmvb2RPvbAcBF9ya9Js59XbR7O70xfCng7Tbw/8AEus9Stopp7hd2AxeVHOPfNUI8J2jn/CjaM4HPvXsfirwmutRa1Zajp9jpvjDR7FdTc6cuyG4hKozo6fdDqG6KBVTwx4X8P8AgzwBbeMvE9i+sXGoyvBpel7yiEL1kcg5xRYDyYr1/WlKgYyCvccckV7DovirwR8QpZNK8QeHdN8Il4mNrqul7kETj++pbBB965Xwt5Vr4T8Xxv4bTXCI0UaoH4seWAcY9SB+VAHDkDpx+tNr2O88E3vij4R+BrfRdK+06lNc3hl8pAHwrYBdjgAfU1574t8B654Hukttb02awlcZQuAUcf7LglW/CgDnqK7XQfg34v8AE2mLqGnaJPNaSDdHIzJGZV7FFYgt+FVPDPhnSf7eubDxdqU/huO3Qlv9FaWRnGP3YUHgkHvUjOX2j04+tNr1H4+6Ho2h694ej0K3Ftp1xoltcrwd77i/zN7nA/KvLqACiiigAooooAKKKKACiiigAooooAKKKKACiiigAooooAKKKKACiiigAooooAKKKKACiiigAooooAKKKKACiiigAooooAKKKKACiiigAooooAKKKKACiiigAooooAKKKKACiiigAooooAKKKKACiiigAooooAKKKKACiiigAooooAKKKKACiiigArQ0XVrjQ9Ys9StHKXVpMs0bL1DKcg/nWfRQB+gWufHG/wDEfwA0OPTAtvAXSElTyAEyyn8a4nwl4t1S81SW7l1i80oSb3eexUuFzjI4I9BXiHwe+L0fhDR9Q8P6jbJc2N04lt3fnyJcYb8CK7qHxPCkP8MLSNuEKfdxUYTA0KCfs1a7uaVK9WStcwvip4in8VeJrqWfVptRMLeUgv8AJYD2rze4kltZDJEDE5GC0blSfyrW8XWrXbyao1yqB5Nm1pPnPviuVmkT/n5au2fY549xzXbyXXmSTzOfVjzXc+HfihD4asZVtLBBd7fluJGJOfoTivOZWjHSQmmrjOfvfhWDjGR0Rm1sbc19LqF09xLI00srFnd+pJ619Z/An9qe38HeALXwjqfhe2vrO3Mhivom2zDcMdO9fJml6LqGrSBI4HC++BXX6hBcWYt7hLfy7ZTtDqB1paaIm2tz66+HPj/UG1SBZ9WlutIcYaHqU9MjtXE/8FCPi5Dfrofg3SrtJoTGt7fKhBAYfcQ/SvDdO+JkvhXF15rlosYRWx5mPXNeTeIvEF54o1q51O+k826uH3MaTpxWw+ZmXRRRSIPSvhhbvrPhPx3odsc6heafDPAg+9J5MwZkX1yO1b3iaz0nxla+FNYXX9Ps9L07TbayvLWaXFxDJGfn2Rgc5ryTSNavdB1GC/0+4a1u4W3xyx4yD/Uex4ruJ/iZo+sTfa9d8F6df6ix3NdWlzJa+YfVlQlc/QCrEdx421fTNO8SeNPFZ1vT78a1YvZ6Za2s/mSMJUCM7Af6vaFPWsv4iI2ufAr4eanaRs9vp63Fjc+WMhJCRgsfevM/E3iK31y5iez0iz0SCOPyxBZbuRnPzMxJb8Sa1fA/xP1nwCtzbWyW99pl1j7RpuoQ+bBJjvt7H3GKBHb/AAj1rR/E2saD4ZbwDpepSuyxXGoM7mQoD80rcYHHrWhaWUGm+H/jvZ2sSwW1vcW8UUSfdVVuJQB+QFclN8bLy1ZDoegaN4cQSrLMdPtirTbTkIz53bfYEA1jn4nam0Pi+H7Pa48TyLJefI/ykOzjy/m45Y9fWgDr/Ed/f2v7Ofg63tpXjs7i9uhc+XkKx3fKHPpTVkuNT/ZrP25mc2uurFp7SZJ2lPmVT2AOa53R/jBrOh6Dp2iJa6dc6XZmQtbXduZUl3nP7wE9j/dxVDxt8TdY8cQ2lvcx2lhp1mSYLDToPJgQnqcZyT7kmgDv/G+k2Gk6xp1n448U6tdeIrG3iiTT9F0+JVtBjKRqxZQTyOQKyf2mIFg+K12QGDS2tvLJu+8zFBkn1PA5qjcfHTXLyKCW60zRbrVoE8uPV5tPD3YXGByTtJx3IzXM+OfGl9481SHUNSjhju47eO2LQhhvCDAZtxPP0pAdp+0F/wAf/g09x4Ysf/Zj/U15NXS+MvGt740m02S+hgjNhYxadH5KsuY4+hOSfmrmqkoKKKKACiiigAooooAKKKKACiiigAooooAKKKKACiiigAooooAKKKKACiiigAooooAKKKKACiiigAooooAKKKKACiiigAooooAKKKKACiiigAooooAKKKKACiiigAooooAKKKKACiiigAooooAKKKKACiiigAooooAKKKKACiiigAooooAKKKKACiiigBdx5/wrqdB8XvarHb3eXRRhZD1UVytFVGVgPUdJufCtyZRrkN3cSf8ALM2uNorF1PQ9Ju7hjpdw/kt91LgYYVyNpqE9jIHhcow6ZAYfka2T4ojmys9kit/fiYg/qa05yLDpvDN3byLsUSr7VqR+Dbu302G73RlJs4/2aNP8ZWlm43RTMvoVB/rV2X4lWaRCKCwmuIx0WUhBz9M1nI1LekfD/VL21Ehu5Mt/BDIRim+KLy+8NacNPvLmOQZ3LCzAup/CuVvfHOoTZS1Y2EZ/hjY/zNc9LPJPIZJJGkc9Wckn86kZPeahNqEoeVt2Omaq7jRRQQFFFFABRuIzg4oooAMnr1ozRRQAu4+tG4/5FJRQAu48c9OlG45znmkooAN3Of6Uu40lFAC7jkH+lJRRQAUUUUAFFFFABRRRQAUUUUAFFFFABRRRQAUUUUAFFFFABRRRQAUUUUAFFFFABRRRQAUUUUAFFFFABRRRQAUUUUAFFFFABRRRQAUUUUAFFFFABRRRQAUUUUAFFFFABRRRQAUUUUAFFFFABRRRQAUUUUAFFFFABRRRQAUUUUAFFFFABRRRQAUUUUAFFFFABRRRQAZNGTRRQAZNGaKKACiiigAooooAKKKKACiiigAooooAKKKKACiiigAooooAKKKKACiiigAooooAKKKKACiiigAooooAKKKKACiiigAooooAKKKKACiiigAooooAKKKKACiiigAooooAKKKKACiiigAooooAKKKKACiiigAooooAKKKKACiiigAooooAKKKKACiiigAooooAKKKKACiiigAooooAKKKKACiiigAooooAKKKKACiiigAooqTyufTnGOM/lmgCOipWi8tiGBzj3+npTNucnH64xQA2ipDHjBPCno3r64pRDucIvLE445/LHWgCKitQ+Hb5V3myudvr5Mn89tZu32x685xQA2ipVRSuSOnJxz6DnmpPsy+jfr/8TQBWoqRo+vTGO7c1HQAUUUUAFFFFABRRRQAUUUUAFFFFABRRRQAUVKsBZdwU7e784H6VFQAUU/YOfb3pXjMfysuGHUHII+tAEdFFFABRUscZkfCru46AE/y9Ka0ZRiGG0jqG6jnFADKKKKACiinlOhxge/FADKK1IfD95PGJIrO5lj/vpFIV/wDQKoyW7Ru6OpRlOCGHIPuO35UAQ0VIkRkbaBlj6ZPv2qT7KPX/ANC/+JoAr0VK0BSTaQQ3905z+uKaqh8ADk8YHJzj+poAZRUnktjJUhc7d3bPpUdABRUkcW9sAFz/AHV6+/akMY6jpjuMe3rQAyiiigAooooAKKKKACiiigAoqYQhs7QTgZJxkDgnsfaoaACiipYoTNIiKCXY4AGT+g5NAEVFaknh+8gjMktncLH/AM9DE4X8ylZ20fX/AD0oAZRRRQAUUUUAFFSCMsyrsbcf4QP5VJ9lHr/6F/8AE0AV6Kk8v5sYPPTg8j2qOgAooooAKKKKACiiigAooooAKKKKACiiigAooooAKKKKACiiigAooooAKKKKACiiigAooooAK6T4f+ONS+G/jHSPEmktGL7TbhZ41lQMj4PKsCMEEetc3S+Y3rge3FAH6W/tefDTw5+1h+zroPx7+G+mwWWo6VbmDWtHsYlV0RTmQFV/iiPQ4yQT1r5x/YJ/ZhP7RvxhR9Tt1bwX4fAvdWlclUkVfuxZzxvxzg5Fdh/wTN+OWseB/jVD4C+yS6v4Y8YsLS6sQobyHA4nIxwOx7HjOa+lf207rTf2I/2b/wDhXvw60640t/Gmo3ElxqkmVaCNmDtFv5Odp2DnjBIweaok+Qf28v2gNP8Ajh8Xf7G8G2cFr4Q0F2sNOFjbpH9skLYaU7VBO49AePQV9QeEfhr8NP8AgnX8F9F8bfEDw9F4q+LGtxj7Pplxtk+zMR/q1ByAB3bGfevhX9k3Q4PEn7S3w0026VZLabXLUOj9Dht3P4ivoX/grZ4kuNS/aS0/TSSLbS9CtvLQgY3PksR7nAqSjW0//grt4/XXEkv/AAR4Rn0Ayc6fDbzRz7f+uxcj9K6T9r74K/D346fs8Wv7RXwr0qLR3jG7WdOt1ESHLbJPkGFVoz/dAyDzmvkT4O/sn/FP4/aJfav4C8K/2/p9lcC1uJxfW1uI5CFbGJpEzwf1r0fW/wBi/wDad8C/D3VF1Lw/qWleDrKF7u9tx4itPsyoAzOxiS5IPAyeDQB33/BI3S7LWP2hPEkN/Z297CvhuZ1juIlkUN9ogGcEYzhj+deiePP+CnVv4N8deItAT4M+GbqPS9SubETNcoC/lysmeIsdhXCf8EfP+Ti/E3/YsTf+lNvXU/Ef/glL8TfGPxE8T65a+JvDUNrqmqXV6kUk0++NZJ3OCPL6igk9E8Hr8KP+ClHw78WafbeBLDwJ8SNGgWS0vYFRRuY8MWjClxx0bIr8rLyxlsLqa2njMc8LskinsQcH9a/V3wL8J5v+CZ/wa8V+M7kXXjfxprVusMC6NZStptpsJKtJLgZQE/er4B/Zm+Bep/tQfG7TfCy3DQxXjvealqAXmK3U5kkA6ZJPSgDxry/mwMY9yAf50bQuQcfXr/Kv0d+JX7Q37O/7LHie6+HXhX4Iad46k0eUWup6prEsYaSZeH2s8Up61j/Gn4D/AAp/aR/Zz1f43/BvRj4S1bQleTW/DijbHtT5pCEBwuxem0DNBR+e9SbBnGQT15xj+dfWH7Cf7J+hfHbUfEXi7x5M9l8OvCsYl1BlZ0+0PjcYtykMML3BBr1Sb9uX9nfT9YfQrH9nTSbjwarbPtkqW4vGX/rmY8/+P0AfnztHt7Y6fSgJk46E8jJx+tfZf7cH7Lvg/wAC+D/C3xd+FbSyfDzxQFxbsXf7HIw3rksxPI+Xk9RXYfBj4f8Awu/Zx/ZM0X47eN/BifEXX/EV49ppul3bg2duqySKSytkH7o6g0AfAu0cDufTk/zroPh/4T/4Trx14d8NpOLSTWNSttOWd13eW00qxhiuRkDdmvvv4b/HT9nL9qSa98H/ABE+F/h34YT/AGaSW117TrqOGNHHQFkRTn65rzD9lf4m/DT4KfFyTwReeB9F+Kc154pt7bR/F0jRo0MZlRUkjDoSOeew5NAHj37W37PFt+zP8Vx4Lg1l9cKadb3ct5JB5GWkByApYnjFeI1+sX7cn7Snwv8Ahj8ZLzw94q+B2i+O9ZOmwyjW7yaFZdrZ2gb4GPGK/J2gAooooA/Sj9n/AEPTbn/gln8Tr+bT7SW/jOobLqSBWlXAGMORkfnX5r1+m37PH/KKL4pfXUf5CvzJoA7P4R+KdH8EfE7wzr3iDSRr+iaXqEV1daaxGLiNGB2nPBr2D9t347eAv2gPiFpOueAfC03hmwtrAWty9xbR273Lg8MVjJTgegFeM/CWyg1T4qeC7K7hS4tbnWbOCaGQZV0adVZSPQgmvov/AIKbeAfDfw0/aMt9I8KaFp/h3TG0O2uDaabbrBH5jSTBm2qByQi/lQB8lqgOM9O/Ne6fsz/sjeIv2lpNZubHVNN8N+H9HCi91vVpQkCO33UHIya+pde0T4UfsH/BvwFfap8PtP8AiR8RPGNn9vkk1kh7e1TbGdoU5UffPQZ5ruvAniPwD+2t+yf8VdD03wPYfDrWNDRdXa30fEcElyscjwSEADKsEKlTwMZx3oJPHP8AgnH8P7fwz+2t4v8AB+ppZasmi6fqdmZJI1likaC5jTzADkcgtj618f8AxghWH4ueNYo1jSOPXL0KqAKoAncYA9OK+qf+CS9xLc/tVahNM7Syt4du3aRzlmYz25JJPUknvXX/ABC+MXwO/ZT+JHiXw9b/AAys/i74sk1Ke513XNVuUSCOaSR3a3gRo5B8mcZwM+tAz89ygHGPyOa+iv2Nv2SYf2qfE3iCxuPETeHrXRLNbybyrbzpJlYkAJlgB0717x+198Jvhf8AFP8AZg0j9oH4ZeH4fCf+lC11PTbWMRxktIsQ+QHauGJ6AV7t/wAE4/jV4F8f2etaJoHwy0rwjquh6Haf2hqlvJEsmqnofMIjGckZ/GgR+Rl1bC3vJYVywRyvzDnA9QK/Q79lT9nX4dfA/wCBJ/aD+MtlHqCSIJdF0W5j3qc/6lthO12k64YEAdhXz/8AtM/tFfDT4ueE7fRvBvwY0f4cala6j58uqafJE7zx7GBjO2GM/ewfwr6a/wCCs9/J4Q+HPwZ8C6exi0lIrpzEnCMYEt0i9ztWRx+OTkgUFHEa3/wVy8dR60zeGfA3hPStAR/lsL6CaeYr/tSI6L+S16j4s8I/D3/gox+z7r/jjwn4Xg8MfFrw/ExksrIKjXBRciI4A37uzMCfevz6+DfwB8d/H7WL3SvAOh/2/f2cH2i4gW7gt9kecbszSIDzXunh/wDYS/aw8Hw3MWieGNQ0QXQUz/YPEthblwvTJW6FAHF/sB2sN9+178ObW5hjuLaS7m3wzIHRsW0rDIPB5UflX2p+0t/wUAtPgH8bvE/gK2+E/hzV4NJaALeySojPvt4Zegjx1dvzr46/YN02fR/22vh9p91H5d3a6hdQzJ6OttOrfyr68/ay/wCCcPxA+PX7QHizxvoviHw/ZWWpva7bbUJpluI9lpEmCqo3ZQKokl+C/wC0D8H/ANvDWLr4beNfhVpfhzVrq1lmsr6xePeWQZwJQiuD+NfAPiz4Xz/B/wDaQl8D6gy3L6Rr8do0mOJIxMuH/FT+tfoP+zj+xDd/sZ6hffFvxnqFz4tvtItpY7LR/B1pLdNuddrMWxjpmvz58V/Em/8Ai9+0pJ4x1OEW11q/iGK4a3UY8lfOUIn/AAFQB745oA/XL9tb4Q6B8VfgT4+8N6RpthaeJ9D06PXrb7NbrHKVVmbjaBncsTpzn7/rivw1wO3Nftd8TfihB8P/APgoX4G0i+mCaV4r8KHSZlkxsMjTyGInPoc/nivyr/am+FKfBb4+eM/CMUDQ2VjfyGyGSc2zHMWCSSQBxkkk4oA+o/8Aglz8O9NtJviH8U/EWm297o2gaebG1F3EHR5364DcE4x9Kx/+CuGmWej/ALQXh+CwtLeyhbw7E5jt4ljUt58ozgDHRR+Veo+JFuf2Zf2J/g74CVVt/EPjvWrbUNSjY4kSFm3spHupWPj0z15rzf8A4LAf8nEeHf8AsW4f/SiagD4QqTYNucfl0/Oo6+y/2NPhN8ILH4e+J/i58XLyz1ax0Riun+FftIE904/iKZG4Z7EEcVJR8cbFyMn6dP8AGo6/RX4a/tbfA340ePtI8B6/+zv4c0LQtauUsIL6ykjM8bOwVSxjhRhyR0NfMn7aX7Ptp+zf8dtV8K6ZI0+iywx6hp7yEllgkLBUySSSMY554oA8IEe7nHHduw+tL5fzBQASemCD/Wv1a/aA+EHwF+C/gX4cfErxP4OsZbeHTEhtvDekQpb/ANtXzxq4ecrhiEyT1x7VifAP4kfAT9t281H4aav8HNK8AatcWks2nXmlPGHYrySkixRnco5wcg0Afl5T2X5tuACODk4P869i8I/s26t4y/aYf4PWMu7UYtan0qW6xwiQyMryn2wtfZvxY+LP7On7GGrf8K38P/COx+I+taeqR6vf6rLHlZh94eY8cnzeygCgDkf+CZuk2OqfCn9oCS8sbe6a30dXhkmgWUxkwXJ+XPKn5F5HpX591+yn7No+E/ir4N/GD4gfC7T5fDS63pElvq/huVg32C5jhnO4ck4YOeOnNfjXQBe0XRrvxDq1lplhA1xfXk8dtBCoyXkc7VH51+pV7ovwu/4JkfC/QrnVPDll45+L2sxMd0oDKpH+sdSwOyJOxUAnvXxt/wAE8/Ddr4q/bA+HNreoktvDczXoRuBvhtppYzx6Oin0OMHIrqv+CoHi3UNf/a68RWk9w7W2k2dna2sTN8saNbxuyj2LOT+NAHpXhj/grp4wXXlXxh4E8Mal4fZ/3lppsEsFxGv+y0kjqfxFTft7fs3+A9W+FuhfH34W2kFjoGriNtQs7OIpCvmNsEoQHCEOMbVAHPSvz2ya9Li/aP8AiHD8H3+Fq+Im/wCEDdix0lrSAjJk804lMfmAb+cBvbpxQB5vsDDI/wA/jQEHGSOeOo/xr7M/Y4+FXwd0v4X+Jvi98XLm11mLR3K6b4V+0gSXTAffMectz2ORxXpXwp/as+CPx2+ImkfD7X/2efDmg6Rr90mn295YyRmaOR2CruMcKMoyRyDQB+dXl55Hf8AOM4zX0j4u/ZFt/Cf7H/h341S+IWnudcvY7eHSktSI4lLTA5lLY/gWtf4s/D/wz+xP+2J9h1Tw/F468HWSm+t9H1IqRc288LiNJMgj5G5z1+Wvuv4hfH74faJ+w/4N8eX3wi0fUfB+o3cUVv4QeWH7PbNuuMMF2c9+1AH5nfse2cF5+1F8Mbe5hjuLeTXLVZI5FV0YE8gg5B/Gv0R/a6/besP2Z/i4/g2z+F/hzXolsYLv7VJKiffznpH7V8a/Cv4geHvij+3p8Otf8KeELPwNo9xrlisOi2ZVo4yuA5+UL1NfYf7bH7APjr9pL41N4s0DXNDsLRtNtrX7Pqk0yS8Zw2Ejfjn9KAOf+DP7WHwp/bM8XQfDLx58ItD0e61ZHW0v45IzukCFlHmhA6nIJ+UivgP9pr4PR/Af45eLvA0UzXVrpd0BbXD/AHmhkRZIyf8AgLV+gP7Nv/BPXUv2Y/Fy/FTxxrSeIk8MpLcW+j+FrWe7lkl2kZyF9M8V8IftBePNV/aM/aM1/W4NIuLHUtf1OKztdLmQidMBYII2H9/aBn3oA8c2jIzwDz+H50FdrY64/wA+tfpb4x8P/Aj/AIJ6+G9D0XXfBNr8VPihqlqtzdG/w0ECt0G1wVX8BmneB9O+Av8AwUI0bWvDml+BLX4WfEvT7V7mzl08KlvKq9RhAA34igD8zafs6jABHqcH+dewfB39mrXvid+0Ha/Cm4/4lmqJeyW2oSsN32ZYs+Y1fYfxR+NH7PP7HniKb4ceGfg1YfELVtKKwapqmsTxjdMB843PHIQc+mBQB+bZQr2yB12nP607ap5A49M9q/RD4ifBP4R/tcfs/eIfiv8ACDw//wAIX4s8OK0ureHYQAkqqGPCKdoyAPugdK84/YC/Zy8GfEzSPH/xH+IFpJq3hvwTbLO2jwlw1zJ5UjKfkIJAKjjoec0AfGuwZ6+/UY/nSqg5ycenpn65r788M/twfAnxV4jg0HxR+zx4b0fwjdSiJr61EUlxAn95gsSk/g1cF44vPgd+zB+01d3nh3SNH+MvgC60wmLSZb1LiOzuHONnmsrhtuO4J+Y0Ach8cP2SrX4N/s8/Df4jHxA+qXnjLy5Esfs3lRW8bweYPnLckGvm5o9uM9+QRz+Ffsl+0d+0B8O/BH7NXwo8V698ItH8V6Dr0cLWOhXE0Jh08G1yNoMZz8vrmvyg+L3jDRvH/wAR9c1/w94ct/Cek303m2+jWhUx2y7eVXaAOvP40AcTUmwHB7fUZ/LNaXh3QX8S+INN0mCWG3mvrqK1SS5kCRozsF3Mx4Cjrmv0L8e+MP2d/wBiXTdF8LeHvAeifGHxVc2qzahrmoXEVxBu9BkMF/4CBQB+cPl9eAcc/eB4pVRWwM4J79vpkmv0g1TwL8KP23/2cfG/jXwX4Cs/h14/8GwmeW30+RfIuUVGcqFQBSCB1K5rxb/gmF4B8NfEr9onUNJ8V6Fp/iHTF8P3NwLTUrdZoxIJYVDYYdcOw/GgD5I2DHTHHJzz9cfSk2d+nOB6fnX6B/FLV/gH+yf4R8XfDGPwlH44+Jmo2NzBqOuMkbw6bdTKwSOItnb5Rx90DPfNc3+z/wDBX4b/AAV/Z5T4+fGDQpPE41K5+y+G/DbuEjnYbj5rAn5hhe+RQB8QBBuA9egyKZX6HfC39qL4GftCeMNO8AeOPgP4f8K6frVwtpbappMyo8MrsAm5ljRgAT618r/tafAP/hnH42a14PiuHvNNj23On3Mgw0sD8rn9fyoA8ZooooAKKKKACiiigAooooAKk2qykgc/Xio69F+Ber+BPDfxO0bVviLZ6tqPhexlFxPY6TDHJNcMvKxnzHQBSepzQB94fsr+DNK/Ym/Zp1b48eMrRJPF3iC2EWgafNkSLG3MYwejSdzjKgcYq7+y98ULH9u74L+K/gr8Sr5X8Xq0upaZrEwG8sz+YGXpyrfw9COMY4r5W/bc/a5f9qTx5ZS6RbXOk+DdJh8nTNOuVRJNx+9JIqMVB9McDtjNeJfDP4iaz8JvHGj+LfD9wLfVtMuFuIGIyjYPKsvdSOxoA7Lwzbar+zH+0po3/CTWUlpqHhTXYXvYyvJSOUbmX1BXOK+uf+CtHwvn1TxH4S+LOkodQ8MappkVnLqVuC0O8DML5HQODj8K8k/bd/aS+FX7T8OgeI9A0HxBonj63jW21CW8ggFndRjoN6zsSVP8RXJzya2P2Yf+Cgn/AArPwGPhx8SvDi+PPASxtDAhCNPaxk52hXG0jPQnkdqAPmr4e/Hb4hfCvT7mw8IeMNV8OWdxL580Gn3JiV3wBuOO+AK/Sb9mLWfiF40/YT+Mnivx5r+qa4NU0zUItNfUnZv3Mdo4LLnszd/bivIL74qfsL6Oyaxpnw113V9TD710tvOWEH6PMVI9jxWZY/8ABRy08QaX8XdP8RaHd6RoviHw6uh+GtH0KONrXTcJKMyZZeWLJkgZ4/MAj/4I9/8AJxnib/sWJv8A0pt6+TPjpIR8bPiCAdqjxDqCqF4AH2l+AB0Fev8A7B37SHhf9l/4qav4o8T2GrajYXekSackejxRyybmljfJEjoMDYO9ez61+0F+xJ4i1i/1XUPg740ub++uZLu4mO1d8sjFnbAvQBkknAAHpQBs/wDBJTx94s8QfEDxZ4O1C/vNa8GNobzTWd47TwW8nmoq7QSeqluOntVr/gnfp+keEP25vi34fsGRbOGPUrTTdrZDIl2NqqT1/d8Vial/wUS+Gfwj8Bap4f8AgB8M7jwlqF+m3+1NWSPdCcg79oeUv0HDMRXxf8Lfi/4j+EvxK0/xxol5/wATu1na4LTDcs+45kRx6NQAnxq0nUND+LXjPT9XV49Tt9ZvEnRx8wfzTz+Nfc//AATejbw/+zX+0J4h1hT/AMI1/ZxVndfkcxW0rTAep5jX3rO8SftH/skftEaiviT4oeAtc8PeL8BbqTS2cRXOOhby3GT7kZNeeftGftueHfEPwli+EXwe8LzeC/h+Dtupbnm5u0yDtY5PUgZOcnp0oA9f/Y53a/8A8E3Pjbo+jsZdZR76SS3j5kYNbIqHH4mvzb8x9mAxKA52/wAGcdfSvc/2S/2rNa/Zb8dT6nb2Ues6FqUQt9S0iXGJ4+xU9mH696+jLr4ofsN6tqcniu68AeJYNZaXz5NDjDrbs+c52iXaB7Dj2oA6L4kb9C/4JC+E7TViYru+vIfsazcM2btnBA9ogB9K8r+Cf7Uni74C/BG18IfEn4QyeMvhffTebp8utW0lqvzlnIhleNlcZYnI/OvPf2wP2v739pvVNLsLHSo/DXgvRAI9N0lMFhhdokfHAOCRxxXpHwT/AG1vAmofBPT/AIQfHXwhceKvCmmkLp2oWLAXFogGEA5BXA7qcnvmgD0n4f8AhP8AZM/bN1YeD/Dfg/xB8NfG80Ty2s9tK0kTBeWyjOU/Svknwj4Du/hX+2J4Z8IX06y3mieNbKykmjzhyl4g3V9O+Ev2lP2Vv2ZL258RfCXwj4i8R+MZIHt7ebWXZYoFfhgNzHr64zXxLqnxM1rWvijL4+u51k8QS6oNYaRFwpnEokzj6igD6c/4KtN/xlhdNkDGi2W1hn5sA96+OYrV7iTZEjSOeQqAkkfQCv0l+I/7WX7Kv7RGnW3iL4leDdeTxra2a2qw2okCkL90ZSRQce9eEf8ABO/4zeGvhD8Vr2213wjd+LL7xDFFp2mJp8EU00Uxfn5ZCAAQevtQB8nYHsePWmV7V+2RY6Fp37UHxFtfDcMEGkJqjCKO0UCJW2rvCY4xvJ6V4rQB+m37PJH/AA6j+KXIGW1HC/gK/Mrivu39ln9tD4SfC39mvU/hV8RPDniTXLfUru4e6TSYYRHJDIB8u9riNh9QQasf8Lq/YY/6Iv40/wC+h/8AJtAHx78Fv+SxeBP+w9YY5/6eEr6j/wCCtv8AydNa/wDYuWn/AKNuK4L4t/FL4DyfET4fa78JvBmu+FtP0a+ju9Wi1EhpLnZKjp5eZ5OgB4461Y/a1+LekftnftJaBe+BrHULIalbWWh29vrCJFL55mcDPlu4xmXrQB9afH68+Emi/B34Z/DH9o++1Y+L7HSEubTWvDNsS1qpAXYSww/CqOQeleEeLv2pPhN8GPgnrvw0+AFjrM114njMWseKddKxTyxlWTaF+6vyuwG0DGfpX0X+0v8Ath2v7Mtz4Y+Hni/wTp3xe8VWGkQyXuuapFHaxy7s4CK0cjcYrkfgV+158Of2mPifpHw61z9n3wvp9prjGI3NlHDMYsITuYCFSBketUSeOf8ABI7/AJOm1AH/AKFu7/8AR9vXy58a5nm+Mvj2V2LO2v37Fvf7S9fWvhDxh4F/4J/ft2ePBc2mq3/he0s5rC1t9NCzzxed5UyqTI6ZCBdpJJPHNfG/xA1628VePPEms2iSR22panc3kIl4YLJKXAb8DUlH3D4VkaT/AII/eMyx3bdfjVc9h9utj/Nm/Or3/BH4lvGXxORWIdtEhIAPoxIrxTQf2mvCmm/sJ+IvgnNZaufE+oaql7FeJHEbJVFxFIVL+ZuziP0rD/Yl/aii/Zb+KV1rOpadNqnh7VLM2Oo21sVEwXqsiE915475oA8C1Ny2o3RY7j5zc9f4jz1r9OP24tCb9pz9jj4Y/Fjw4n9qy6LCWvktlLPF5iotyhAP8Dxoc46Cvmf9rjxd+zZ4t8N2118HNA1LTfFNzqn2q/kuVlSEQtG25FVnKj58HgD8qofsh/tva9+zA15ol3pyeKPBOoFjdaNPgNGx6vGSCOfQ8GgDw74ffFbxf8J9QuL7wh4j1Dw7d3EflTTadN5TOmc7cj3r9Kv+CW/xC+K3xX8X+Ldf8W+Ktb17wxYWS20LahcM9u1478YzydqA5HTmvONY+Lf7DPieSfXr74ca9YatI3mS6bZwywQlvZY5gqj2GBUPgX/gpd4c8H/FbQYtL8GXHhX4QaRZ3FvFoWipHJeXEzrtWaQsygkD1NAHkn7IpLf8FFNBz/0MWp/+i7msj/gpBJj9s34iRq48pXsiFThRmxt2OB25Y/nXM/Az406D8Mf2qtO+JmqWt/Podrqt5etb2qI10VlSUKNrMF4Mg719TfEP9rD9jv4qeMdS8VeKPhT441TXtRMZurslIvM2RrGnyJeKowiKOAOnrQB4p/wTo+JXjLw3+0x4O0TRdU1CTSNUuDb6hpscrNE0G0ksVJwOccjFaX7cHhfSfCP7el1baNZxWVvcX+nXktvAMIssmxpQAOBk5OBwM8Yr1Twz+3d+zt8CbW9u/g/8GtStfEE0exbnW2jUc8cP5szL+Br4p1z4qat48+Lh8eeKJ5L7UJ9Rhv7tokAOEYYVR04AAoA+y/8AgrJrd54b/aS8B6tp8phvrPSIrmGVQMpIly5U8+4HHSvS/wBoj4I2/wC138Sv2cviRpFkY9E8XwQ2+ryICfKSKNZirHPHCypnrn6V8l/t5ftMeFv2pPiToniTwtY6tp1nZaYLOSPWIoonLCR2yBHJIO/rXsP7Hf8AwUW8N/AP4HHwT4t0nWdYv9NuZpdEmsIIXSNJAzBZC8qkYd3PHY46CgDnf27Pit/wsD9trRNGtZ1l0jwrfWWjwxoAQHWcGVh9W/LGBxxWh/wWA/5OI8O/9i3D/wClE1fHOl+MJZfiPa+KdWeS5nOqpqN2643ufN3uR9a9x/bu/aP8M/tQfFPSPE3hex1awsrbSksXj1eKNJCyyO2QI3cY+Y0AfMtfbn7O/wCyr8N9H/Z5m+Pnxok1C/8AC6zGKy8P6U/ltd/vPKyzghh8/oRXxHX2t+zH+2V4H0L4I3/wZ+Mnhu81zwNPJmC70/8A10AMvm7TyCPn5yDnt0oA6b4XftOfB3WPip4T0DwP+zZoFrNfavaW1vfale/aLmPMgIk+ZT90c9e3NZn/AAV6/wCTj9CH/UuQn8fPnH8lH5U2T9oz9nH9nuS41X4HeDNZ1fxlIjRw654ikJisQ3Xy0YnJ9yMj1rzT9vD9pHwf+098TNG8T+E7LWLGK20tbGePWYYonyJHYFRHK4/jb86APd/+CqE7x/Dn4BRhvkOjzErjIz5VuM/Xk814T/wTbuJG/bT+HYLZ3Nfg+p/0C4/+JFaP7aX7U3hL9o7wr8NNN8NafrFpceGLF7W6bVIIolkJWMZTZK+fuDrXmv7I3xc0b4D/ALQnhTxzr1re3elaSbnzoNORXuG8y1lhG0MyjgvnrQB9c/sw3VpZ/wDBVj4iRzlUkutR12KAk/8ALRpXIUe5FfJv7ZWn3mk/tRfEyK/Vo7n+2p5BvBG5CcoQe/GOaqeNvjlOP2mNe+Kvg1rjTpZ9fn1jTxeookjDyFtsiqSOhwcGvr3xh+1b+yz+0pZ2mu/F3wPrel+MbSERSHSi+ybHQBkcbvq3NAB/wTG02+h+CP7QGpSRSLp0uliGOQr8ryLBNux68Hk1+cVfoz4O/wCCi3w08H+FfGHgnRvBGqeG/As2ky2GgWemxRzTmaQOsk107zAkkMeATjsBX5zUAev/ALJnxKh+EH7RXgLxXdFUsrXUliuWbtbzBoZW/BHavpn/AIKzfBe60H4v6f8AEazt5JtE8SWcaTXSgtHHcRKEALDjlAoHbj1r4H3Gvun9n3/gopaaH8N0+HHxg8Kv498JRxC2huEVXuI4lGAMOcE/7X3j60AfDG3PI6frX1n42/YlsPhr+x3p3xZ8T63f6X4s1KWNbPw88K7JFkk+TnG7Pl/Oa9o0v45fsQfD/UIfEfh/4cavrOtwyeZDaS20jxI3qVmlZD+INfM/7W37YPiP9qjxJaz3Nomh+GdNLDTdGhbekW4YLu3dsDAwMDtigD1v4Bfsr/DHwv8As7j49fGttR1Lw7NKU03w7pUhja6/eNH8zghgN4HcV0nwZ/aW+EXiL4yeDfDfgX9m3w/Y3Ooa1Z2tvf6lem6uYiZf9cNyHlRz16DmuV/Zu/bK8CWPwMl+C3xp8O3mueCFkJtLzThia3QymXacEH/WEnIOecdOKuTftIfs7fs9yXGpfA3wVrGqeMJYzHFr/iRy0dkGGG8tGJ5/2iMjsaCSn/wVuxH+1BZhQF3eHrYnAHOZJf8AAV6H8aiG/wCCSfww7ltQhJPXGJrlSfzr52/bq/aG8JftNfFjTvF3hOy1extY9KisZ49Yiiik3q7nKiORxj5vWvW/2a/2xPhV/wAM7r8GPjboV/f+HbScyWV3p6sRt8xpAr7WVxh3Y5B7+nACj57/AGNR/wAZVfC1ccf27a8fU17J/wAFYG2/tUSIrqU/sazO1Pu5IOeOled/8LL+FXw8/a88PeNfAGmarB8N9Gv7O8S1kLNdERqvmf6xieWz1Pfivpv4qftjfsjfGnxQfEXjD4XeOdY1nyEtvtJEcP7tfurtjvFXj1xmgD5V/Yz+J/jXwR+0F4Eg8LapfD7dq1vaT6dFKWjuIXkAkVkzj7ueeo9a+rf2q9D8LfDz/gpv8LNVRbe1g1S60u/1QRDCx3LXLxCVh0Bwsbfh9ayPCf7bH7L/AMEZpdZ+GHwW1qHxKV2xXOrmMbRnqrGaYqfdcGvir4xfGHxF8aviXqfjnX5VTV76YSBbUFI7cL/q0TJzhcfXvQB9Hf8ABVTS7+y/auvbm8ST7NeaXayWm/JBUAgqCf8APNQ/8ErdPv739rTSZrQMILPTLyW52A8x7MBTj/axXc6T+2x8Ivj94B0Xw1+0b4Ov9Q1PSY/Lt/Emjbldx6sFZW/DpUl9+2p8Gv2efBOuaH+zp4M1C21vVE8uXxHrO5jGAeqh2Zvw6UAdn+zDrWlzf8FUPiiYXQrdLqsFsVI+eYPH5hB7khZfz46Cvhv9pzTdR0b9of4lWmqI0d4viK/LBupDTuVPuNuK5z4f/E7xB8NfiFp3jXR71o9fsbo3SXEnzl2Od4bPXcGOfrX3D4j/AGoP2V/2lriDXfi94F1rQfGEcQinudHkfy7jbnBbYwyeTyRmgC9/wSkhfRPB3xv8Q6mnl+GbfTIBPMR8jbFmL49cjFfPn7H/AMbviT+z/J4h8S+GfB154r8FTW7JrsElrIbPYin5mnCkKwVm46c9K7747ftveEl+D8vwk+B/hW48H+C7gsl9eXvzXNyjZ3KxJY87j371w/7Hf7ZUn7OEfiDw5r2hjxT4B8RArqWl7gHUldhdQflb5eMHigD2DR/jl+x18XZUsfFvwZuvAmoXjBPtmizH7LBIe6rC0eR9RXgf7af7NVr+y38WovDWnajNqui6hYR6nY3lwAsjRs0i7SB7qK92sPiB+w14d1SDxXYeEPF15qNvKJYtBnZngDDud0hBHseK+b/2sP2jr/8Aae+LVx4tubBdItIrZbGw0/duMECMzKCe7FnY8evoKAPq39uks/7B/wCzkxPWC0+bqBmxxz+FfnXuPXOfY1+gPwl/bG+C3jT9nfw/8K/jt4f1S6i8OhVsrzTwxWQRp5acxspGF496+M/jNeeDNQ+JmvXHw+srmx8HNP8A8S2C73GVYgozuLMTnOepoAg+E/w7vfi38SPDng3TZI4LzW72OyillztRm6k19u/FjQf2Z/2KdZHgu8+HupfFfxxHAst7eatetDBErcqoRCFP/fOa+HPhn4/1H4V+PNB8XaOYzqej3aXkCyDMbsp5Vh6EV91fET9pL9kz9pS4i8W/Ezwt4o0jxhHAlvPHpchImVOFBIYDj/8AXQB7d+yP8VvD/wAXPgJ8Zb7w18MNI+G2l2mnyWwTS23/AGthauMs2xeg9K+V/wDgkX/ydJqP/Ys3f/o+2r0H4d/8FE/hV4F0XxP4M0zwDqvhz4e3GmPZ6TaaZHDcXjzOrJJNcs8q5JB6ZOOoxXzl+w1+0L4a/Zl+Ml34t8TWGqX2nS6TPpwi0eOOSfe7xsDiR0X+AUAeUfGy+lvvjJ49nlbzJZNev3dmHJJuHyf89O1fpr41+JXgzwH+wH8FNf1/4a2XxM0NbS0tWtLq8FslnOIiGfPlvzvJ68ZNfln491228T+OPEWsWkciW2o6jcXcQl+8FkkLAH6Zr6f/AGV/219G+GPw71L4W/Ezww3jX4c3xcpDHtM1ruOW2hvU89cjtQBuaT+2p8ELXU7SfTv2UtDjvkmje3eHWh5iyKchh/ovXNeT/trfHi8/aG+LkXiLUfCFz4IvrXTYNPk0q8maSQbCxD/NGhGQR27V9C6N8cP2Mfg9rEXirwV4B8Q+IfEkLh7S1vGk+zwv64lchvoQa+PPj18bNc/aC+J2reNde8uK8vmwttDkpBEowqAnk4Hc8mgDzmiiigAooooAKKKKACiiigApdx/yKSigBdx9aGkZiSTk+ppKKAHeY2c7jmkLlupyeue9O2AYz09emfoaXYO/Hrz+VADC5bOTknueTS+a55Lc+vft3/CnMgXqMj1B4/P6VHQArMWxnn8KSiigBQxHGeOuO1HmN680lFAC7j/kUbj+uaSigBdxpCxPU5NFFAC7z60bz60lFAC72PBORRuPXPOc570lFAChiuMHB9R1r0H4U/G/xX8F31yTwleRaZfataCzlvvssb3FugOd0LsCY2x/EuD7157ShiOnFAElxeT3czyzyvNK7F3kc5ZmPJJPUmoqKKAF8xuoOPpxSUVK0W0DKtk9ODzQAzzGxjP6f59Ks6Vq15oeqWmo2FxJa31rKs8FxGcPHIrBlYH1BAqpRQB983H/AAUJ+G3xg0G0tPjl8GbXxfrNrH5X9rabIsM8gHT5+GX6A4pLH9vn4U/B7TZR8E/gja+G9dl4XVtYlWSSMEYO1yS3T3r5F+E/we8S/G3xdbeHPCunte30o3M2cRwRjq8jdBX6c/A3/gnn8O/hppsVz4ktYvG3iJtrST3gItIT3WOLgN/wPNfPZrn2DyiKVaV5PZLc9HCYCrin7isu5+U/izxTrXjzxJqniTXLybUNW1Gd7m7upPvSSOcseBgD2GAOgArIdGRiHBBBwQevT0PNf0A6H4N0Lw3bm30fQ9O0yE4/d2lpHCBnvgAVyXjH9nb4Z+P4ZE13wPo90ZPvSRWwglP/AAOPa3618ZHj7D89p0Wo97pntPIZpXUz8JdzZJzzjH6YoyfWvtX9qb/gnjqfwzsbrxR4Akn8QeHIstc2DqTd2Y+g5dffrXxbtCtgjJ6Yz7V+iYHMMPmNH22GldfkfPV8PUw8uWohhkbuc/5/+vSbiaSivQOUNxo3GiigBd7bduTj0pKKKAF3NjGePTtSZ/ziiigBRIy9Dj/P/wBejcRnB4PUUlFAAGK9Dil3kf8A6qSigApd59ccY44pKKAF3EnOeaAxXGDjvSUUALuPTqKN7bcZ49O1JRQA7zG6Z49O1JuNJRQAvmNjGeM5pKKKACjcaKKAF3Hnv+FG45Jzk+tJRQA7zGGOf0pN7ZyTk0lFACiRl6HHfijceeevWkooAXe3c5Pr3pKKKADNLuPXv9KSigBdxGMHB9uKNxPXmkooAXzG9cfSje23GTj07UlFABk0bjRRQAoYr0OD60ByMc/SkooAXzG7Ege1G45z3pKKAAsW6nPel3tkHPPr3pKKAF8xjkk5J6n1o3H/ACKSigBdx65oaRm5Jyeue/50lFAC7j/Wk3H1oooAKKKKACiiigAooooAKKKKACiitbwz4dufFniHTtFsQpvL+5jtYhIwADO2ASc4oAzFTcemO/JA4+tBUZAx9MV+jvxB8B/s2fsL2eg6J4u8GXPxa8d31oLq4mNyEtokPbbvaPP/AAGsTxZ8F/gb+09+zj41+Jnwm8O3XgPxR4Rhe61HRftBkjliVGcnaWIXIHVQOlAHFf8ABLHwL4a+IPx017T/ABT4d0nxLYR6G86WusWMV3GriWNQwWRSAcMR+NcT+zP4X0bXv28NG8P6lpFjqGgyeIb+BtMurZJLYxqs5VTGwK4GxeMdq9S/4JB/8nDeI/8AsXpP/R8NcD+yj/ykT0P/ALGbUf8A0G4oA5P9vLw9pXhH9q7x3pGh6ZZ6NpdtLAIbLT7dIIYwYI2O1EAA5Yn8a+fuPSvpH/gop/yeN8RP+u1t/wCk0NfPOnTQ2uoW8tzbLeQRSK0tu7sizKG+ZNykEZHcHNAFP9KX34NfYv8AwUE/Z98E/C2H4ceLvhroo0nwd4q0oTLGt1PcATg7s7pXc8qemccV7H+yL+xN8MfiB+zTp2reNdKFz438YPqB0C6a9uImt0ij2xkRpIqPhvn+ZTnoeOKAPzX49KT9K9m/Zg+D8PxS/aS8JeB9bsjPYTap5Op2290PkxZMwLKQy9CMggivVPi5+zv4X+In7bU3wj+EmkLo2kQTrp0zLczXCpJEm+7m3yu7YXlcZxxQB8kCMHHbPrgf1pAo7/n2r9AvHXi79lL9l7xTfeBLf4U3fxM1PTG+z6prWp3YIeYDDBFJ2rg/3QKxfjd+zX8LPif+zjL8c/glaXehWWmSsmt+Hby4abySApLBmYsOp6HHNAHwrR+tFfUP/BPD4OeD/jh8e28OeNtH/trRhpVzc/ZvtM0H7xANrbonVuPTOKAPmBV3HA+vJA/U0bVB557EZ6/jX314htf2Zf2RfFl34b8UeBL34m+L1maW+T7Qfselqz/LbKGbDlV43MCeeTUX7V37OHws8U/s5af8e/gvYXGi6QZ1TVNJd3ZY9zrHkBmO3D56Y60AfBFP8vnHX+f5Zr6p/Y9/Zf8AC3xI8NeK/id8Tr2bTPhn4VTFysDlZbyfC4iUggjr2Oa9G0v4/fsh+KNQtfC9/wDAi50Pw/NMIRrK3zfaYM/xlw+4/iTQB8G0/aOeo5x9Pxr6Q/bg/ZXg/Zl+IllDo1zJfeENct/tmlXcpy2zupOee3WvZdN+B/wX/ZH+EvhTxb8ZtBuvHfjrxKi3lj4YguGhjtYfVwGG7/gWaAPgnbt46nrwcim1+jXwz8Ofs0ftw3WqeFPD/gS6+FPjyO0kuNOuLW6LQzbFyV2A7T+Wa+UvhP8Ast+IfiV+0Q3wklI03VLS9nttRuCpYWyQkh3+hP8AMUAeLbBuHHB6ev8AOvvP9kf4deE/Ef7B/wAd/EGreGNG1TXtMivmstUvNPhmurYrZb18uVlLLhueDXTfEfxF+yB+zPrt38On+Gd78QdRtCIdW1iS5JcSr97axf5f+A4r2Twh4J+HPhv9hX42618LNSuLjwZ4i0i/vobK9JafT5lstr27Ekk/Ukn3qgPyAAFOChmAAwTTPevSf2bvDMHjH47+BNHuo1mtrrWLZJY3+6ybwWB/AVhWqKlTlUfRX+40px55qPc/TD4DfD3Sv2Nv2fYdUv8ATpL3xXrCxveJAn717iT/AFdsDydqdyMZ710un/Cn4hfFSFdW8a+Lrzw7aTHzYtD0dijQp6SMBgmvfpLeGZVWWGORVIZVdAQCOhGeh96+P/2pPjJ4t8NfFSDTNI1O40q00+KOdEikKpPIepI/iHscj2r+bo4qtmWJnNW5227vt5H6SqcMNTjH7KPryys1srC3thJJMsMYiWSY5ZsdCTXkHiD9ou78N6zf2958PPE406zuHie/jtiyMi/xrlRnNep+F9Uk1vwzpOpXEbW8t5aRTvGf4GZckV4J4y/aS8WXetXNr4A8HT65o1rI0cl5NaSyJOV6hFUqCDXlYSh7SrJShzfOx01JqKTTPZPAPxK8O/E7S5LrQ737SIxsuLeUbZofaRfSvyt/b6/Z6tvgn8Uo9Q0WBIPDXiFGvLSGIHZA2fnj5Prziv0W+DsHhnxxr83jix0u88NeJIUNpqml58qFnPRyuMN+VeU/8FOfCkWsfs822rFFNzourxOJD12yqVcD2L8+3avruGsZ9QzaNCDajPRp9zycyo+3wzk1qj8m6KKK/fT8/CiiigAooooAKKKKACiiigAooooAKKKKACiiigAooooAKKKKACiiigAooooAKKKKACiiigAooooAKKKKACiiigAooooAKKKKACiiigAooooAKKKKACiiigAooooAKKKKACiiigAooooAKKKKACiiigAooooAK6n4a+B9T+JvjzQfCuiqDqur3kdpbdsMT1z29a5auw+EvxEvfhL8S/DfjHTo1mvNFvorxIn+7IFblM9sjjPvQB9n/EP4M/ssfsn68vhn4hSeKvif4wgto3u7LTZDa28RYZGHV1PQ9M17n+zH4++G3xC+A/x2Pw3+FzeAdCtNBlgmuJrxrhr52tplCuXLfdAHTr3ryb4weOP2Qf2qtbg8d+KfE3ijwJ4omt0S/sbGzZ/OKDav/LOVRx6AZ966D4R/ts/AbwD4f8WfDPRtPv8Awp8ODpklvZ6lPbPcXupXMiskksgUkjIY8dBngCqJPMv+CQf/ACcN4j/7F6T/ANHw1wP7KP8AykT0P/sZtR/9BuKZ/wAE7/jx4P8A2e/jBrGv+Nb2aw0240l7RJIIGmbeZEYDC/7tcn8A/ix4b8B/tgaV4/1i4kg8OQ63d3z3EcRZxFIJQvy9c/P+tSUaf/BRT/k8b4if9drb/wBJoa+bcmva/wBsT4laD8Xv2jPF3i7w3PJdaLqUkLQSyRmNyFgRDkH3WvFKAP0K1KS4/aE/4JfaQkVv9u8QeAdYishGvLmMvsQ8ekZA98Z6812fxs+JVr+zR+0Z+zL8P7a9D6f4F0+1h1ZkYbSboCCZjnvty/tnjFeIf8E9v2pvB/wJfxp4e+Ik80fhXW4oZ08u1aci5jbkYXnkfyrw/wDam+Ktt8ZP2hPGnjPTZpJdO1C+P2J5FKv5CKEjOO3yqP59eaAP0P8Ag/8ACvR/gf8AtpftDeP9Sh8vw54a0ltZhmI4T7YizyhPXgSJ7Z4wa8E/4Jf+JP8AhMP2xPEutakEOp6tpd/doxxu8x5EdgPcgmuv+PX7eXgDx7+ybeaBoz3B+JXiLStN03WAbUpGPKLNL8+eclm/PHTFfDfwV+L2tfA34maH400IqbzTJdxhkxtmjI2yRtx0ZeMjkdRzQB9ofE74p/sc6L8RPE1h4l+CPi2XX7bU7mO/m+3y5ecMdzY+3YwxB7YHam6p+2N8AvDv7PHxE8AfDT4a+LPDVt4ktJ4mluHE9ul1IgVGlaS4kK4wOFwOOlXPiB4+/Y3/AGpLyLxd4vvfEXw78X3BzqEenwkCdvf5JU/EAGuE+O/7U3wq8I/BW7+DvwF0GeLQ9QffqviDVEP2idhjPlliTzj/AAoA+I6+1f8Agkvz+1Mw/wCoHefyFfFVfTX/AAT9+NnhT4BfHZ/E3jG9kstI/sq5tRJDA0zb3A28L9KAPLv2jr6fUP2g/ibPcSGaU+JdSBZgO1y6j8gAK+0vhe5k/wCCQ3xC3cgag6gdgBeW5GPxY/nXwr8X9fs/FvxZ8a65prtJp2qa1fX1tI67WaKSd3UkfQ19N+BP2kPA2hf8E9PF/wAKLu+uE8Z6jetNBai2YoVM8b/f6dEH5UAe8fsu6j8P9M/4Jq6zd+OvDd94r8L2+tStq+n6XI8UzN5qFGLq6kAL7geteRD40/sOKx/4sV4tHG35r6Xn/wAn64f9i/8AbC0/4BWuu+DvGmkt4i+HHiI5vbVFDSQOVCs4U9cgAY9sivUo9B/YNsdeHidPEPiy9tlbI8LGKcw5928oS/m9AHDftw/tVeCf2iNF+HWl+GfDmv6BY+Hg4xq0cYaW3fbt8thK+7HPWvrv9vDxp+z54S8c+GW+Lfw08QeML640lf7P1HS7h4rdYc7TEFW6jG4HnOM+9fn/APti/tRN+0x44sLnTtKj0LwvotuLHStPCjzRGMZkcgdTgcZ4xX0H4H/a6+Dvx8+DOjfD39onTb6LUNCQR6d4j05S0hAGN7EY5x2OQaANH4U/tVfsl/C3xvp/iLwL8GPG1h4ktlZIJre4aZtrDD4je8YHI9QcV1n7BHxG0T4r/ty/GHxXp9pLYtrGmz3dlb3oCyohlTzgcfxc1xnhH4ufsofsirdeIfhodc+JHjp0MVpNrcbLHbq3XI2Rp/46TXyh8Lf2lPEXw1+PkXxWijgu9We9lu72zVBFFcJIcyR4UAKp9FAAxxigDj/ixDe2vxO8XQ6nn7fHrF2k/mL828TMDn/OK+8v2OY76P8A4Jx/H+a4ybV7fUvs7MMZH2IBiP8AgVQfFDxr+xh+0brCePPFGqeJvBniScA6np2n2rr9qYcbjiOVQfdcE96tf8NyfB9v2dPil8NdB0y58J6PJpNzpfhawe3aWa4ElvtaWeTJwWfnk8dqAPza9K9D+APi638CfGjwV4gun8q0sNXtpZ29IvMAc/8AfOa8865p288Goq01VpypvZqxpCXJJSP6HWYFcqchhkDv0yMfhXFeOvhX4P8AGd5a6z4l0+OaXTkLLcNK0aKijI3YIyvua8c/YW/aQt/jf8MbbRr+4UeL/D8CwXUOf3lxbqMLcDPVgOMCvpO8s4NQs57W5hWa3njaKSNxkMhGCPyr+WcZha2V4udCpdNPfuj9QoVYYmkpxGWOpWV7bhrS4t5YgAB5cilRgY7E1Da65ps16dPtr+3e5jj802sMqllTON2FOOtfInjT9ivXYtakbwtqFnd6TI2Y472XY6D6AV7T8AfgBb/B+1nv724XUfEV2myaeEYihjznaueTz68062HwtOlzwrXb6DjObdnHQ9h4VmYDDNgsRwWx6+tfHP8AwU/8YQ6J8CdN0HzQLvWtTT9338qL5yf++sc19gXF3FY2s1zcyLFBAhklmkIVEUfeZj2H1r8cP21/2jV+PnxWebS3B8M6OjWWmnbgyqfvynPduPp2r6ThDLamKzGOIa92nq35nmZtiI0aDgt2fOdFFFf0IfnoUUUUAFFFFABRRRQAUUUUAFFFFABRRRQAUUUUAFFFFABRRRQAUUUUAFFFFABRRRQAUUUUAFFFFABRRRQAUUUUAFFFFABRRRQAUUUUAFFFFABRRRQAUUUUAFFFFABRRRQAUUUUAFFFFABRRRQAUUUUAFFFFABRuNFFAC7jnPH5UqSvG25G2sOQw4I+npTaKAHrNIgwrlRnPB/z6UgkZejH/P8A+um0UAO8xtuCxI9/8+1NoooAcsjL0Yj6Um4nGTnHTNJRQA7zGPU5PrSbjSUUAG407zGKgFiQOgPOKbRQAU5ZnjGFYrzng4ptFAC+Y23GeP8AP+NBdm4Jz/n/AOtSUUAKZGPOefXvSbsHP9KKKAF3EZwevWgux70lFABuPTPFKWJ5JpKKAF3HOf6UvmN6/h2/Km0UAFFFFAHSeBPH+v8Aw18S2ev+HNSm0zU7VtyTQkfkwOQw9mBFfpF8DP8Agpn4U8TWVtp3xFgfw1qwBEmrW0Rks3PqUGXH4V+XWaUMVbOcH2rw8zyXB5tG2Jjr3W/3nfhsbWwvwPQ/dPS/2mfhNrkJltviL4cZemZr8RH/AMeWuW8aftufBrwTZSzy+NLPV7hDxZ6OrXEhP1wBX4qhj2o3Edq+ShwJgIzvKpJrtoetLPazVlFH1T+1B+3d4l+Okc+haHE/hrwgxAe1Rv8ASbvHQzSDt/sjivlYsTxnIoDHnmhfyr73CYLD4Cl7HDQ5V+Z4NavUxEueo7sbRRRXYYBRRRQAUUUUAFFFFABRRRQAUUUUAFFFFABRRRQAUUUUAFFFFABRRRQAUUUUAFFFFABRRRQAUUUUAFFFFABRRRQAUUUUAFFFFABRRRQAUUUUAFFFFABRRRQAUUUUAFFFFABRRRQAUUUUAFFFFABRRRQAUUUUAFdF4R8Ht4uvJLdNT0zS/LTf5mqXa26N7At1Nc8KcsjcYYjHvWsHGMk5K6JldxtF2Z6tcfs76nYw2s9z4j8LwW9ypaGaTV4wsgBxlT9a8vurUWt1JDuSXy2K742yrY7g+9erfFqQ/wDCtfhjzwbCfP8A39rXj8BaFd+JvDetx6ch8NT6EdVvLUO20PCjLMm7OcmRPX+IV7VbBQqVPZ0Fa1t33SPGoYycKftKzvdytZdm/wATwvb0o2+1e3ah8PdG8P3vxC1G4tVn060t4jpce9gA1z80JBzltq+uc9810UHwduNE0zQ47L4enxPHd2cNze389w6kNIMlIgrqAAO7A1ksrrPd7evey6GssypRSff07Xe7R837RS7QelfQ1n8BrO3+IPjC1tdPn1u10aOKS003zSpnaXG1GkUjGM+vaofFXw1XS/A83iTU/BMPhzUdMu4d1r50jW95C7YwQZGcY9QRQ8rqxTc3bf8ADQFmdGTShre3bqr9zxGfw3qFrc2UNxaSWz3qLLAJhtDoxwrDPapfFnha78G69c6RqAiF1bkB/JlEi8jPDDivY/jnr1le/wDCIWY0SxikudHs5FuIzKXhQk/u13OQR+FcB8cNDsvDfxS13TtPh+z2UEqrHFvZto2KerEk9e5rPFYSFFS5JXs0r+qLwuKnWceaNrpu3o0Zvgv4Z6748ac6VZ+ZBbjM11JIscMf+8x4q74t+D/iLwbpa6pe2sM2mGQR/bLSdZowx7EqeK7DxtcSaL+z/wDD+2sm8m31KW8uLzy+BJIkm1Q/r8vauF8NeOtW8P6Hruk2yJdafqduIriOVCwQZ4kXH3SPWtKlDDUrUp35mr389yKdbEVb1YW5btW8k7PU5PZz/wDXxSbR0719E6L8HbjT/C/h2607wMPFlzqNqL25uLmZ1SNWbCoiq6Zx681Frvwp0LT9b8V+Ho9PaDUZtIj1XS4pZWaWBx80lvxwzYz1z0oeV1Urt/01dDWZUm9Fp8ujszwjSdKl1jUrWxtwnn3DiNN7bRknAye1TeIvD1x4X1u70u92farV/Lk8qQOufZhwa9M0fwjo2l+DfCBv7VX1nXdXWTcXYOlmjbCoAPG49+vHWty38FeFLXXfijLqdlJLYaHMj2yRSNuA8/aUyTzkcZPNEMvlKFr6v8NLhUzCMZXtovx1SPA8Y6gH2pK1fEmo2uraxcXVhp8el2sjfurSN2cIPTLEk/iayq8iSSbSPUi21dhRRRUDCiiigAooooAKKKKACiiigAooooAKKKKACjNFFABRRRQAUUUUAFFFFABRRRQAUUUUAFFFFABRRRQAUUUUAFFFFABRRRQAUUUUAFFFFABRRRQAUUUUAFFFFABRRRQAUUUUAFFFFABRRRQAUUUUAFFFFABRRRQAUUUUAFFFFABRRRQAUUUUAFFFFABRRRQAUUUUAFFFFABmjNFFAHc+NPHVr4l8I+EdKht5IpdGtpIJXcgq5Z85XFbem/FyCw+Dt34Ta0kk1NpGigvMgKlu7o7rjrksn+ea8tyaXceOf0/z613rGVlJzT1at8tjjeDouCg1onf57np3i74tx+Jvhvonh5LR49Rtigu7rIxMsS7Ihx/dXj375q3/AMLF8HeJdN0p/FWialJq2n2yWq3Gm3CRJcogwokyOuO45PevJCT07Uu49av69X5uZu+y27EfUqPLZK2re/c9K0L4qWFjr2v/AGjQo18O61GIrnTbWUqYlX7hjY/xD9apeLPEfhCTRRp3hrRryKR5RLLfancB5cDoihcLj8M1wRdsbckj0NBY9Sal46s4cjenoWsJSU1NfnvY9N8WfEPw/wCLPDWgmfTL6LxHpdvDZCZZV+zPFGSc4xu3c1gfFbxfb+PPHera7awSW0F5JvWOYgsowAOnsK5HzGznPNJuNZ1MVUrJxl1t+BdPDU6LUo9L/ieq/D/x1pmpeHIvBXifS7rVNNa4MtlJYMFuLeVuu3PDA+hzXRfEW90H4VaBc+H/AApY3Eja9CrS6tfMrSSW+eESPA2fU814ZDM8EiyRuUdTlWU4IPqKsalq17rF01zf3c17cHgy3EhkY/ia644+XsXBr3tk+qRyywMfbKab5d2ujZ6Ta/ETwv4g8O6Tp/i7S9QuZ9JiNtbXOlzrGZIgcqrhgQMeoGayLH4jW+j/ABLsPE2k6Wmm2tnLGUs43PMajaVLE5JIyCevNcFuOaXcfXisJY6tLlu1ddfTY2jg6UVJJaO+l+56T41+Jtl4g+I2k6xY2Ulro2l/Z47W0cguscbbjntknJqbVPipY6h/wsULZyqfE0kbwZI/dbZ9/wA34V5eGI6YoDUfXq15Svv/AMMOODpKMY220/G/5jaKKK887AooooAKKKKACiiigAooooAKKKKACiiigAooooAKKKKACiiigAooooAKKKKACiiigAooooAKKKKACiiigAooooAKKKKACiiigAooooAKKKKACiiigAooooAKKKKACiiigAooooAKKKKACiiigAooooAKKKKACiiigAooooAKKKKACiiigAooooAKKKKACiiigAooooAKKKKACiiigAzRmil49cUAJRV+30O+vMmG0ldf7wUgfrVj/hEdX/6B8/8A3zQBkZorX/4RHV/+gfP/AN807/hEdY/6Blx/37NAGNRWv/wiOr/9A+f/AL5o/wCER1f/AKB8/wD3zQBkZozWv/wiOr/9A+f/AL5o/wCER1f/AKB8/wD3zQBkZoya2f8AhEdY/wCgZcf9+zTf+ER1f/oHz/8AfNAGRRuNa/8AwiOr/wDQPn/75o/4RHV/+gfP/wB80AZFFa//AAiOr/8AQPn/AO+aP+ER1f8A6B8//fNAGRRWv/wiOr/9A+f/AL5p3/CI6x/0DLj/AL9mgDGorX/4RHV/+gfP/wB80f8ACI6v/wBA+f8A75oAyKK1/wDhEdX/AOgfP/3zR/wiOr/9A+f/AL5oAyKK1/8AhEdX/wCgfP8A980f8Ijq/wD0D5/++aAMiitf/hEdX/6B8/8A3zTv+ER1j/oGXH/fs0AY1Fa//CI6v/0D5/8Avmj/AIRHV/8AoHz/APfNAGRRWv8A8Ijq/wD0D5/++aP+ER1f/oHz/wDfNAGRRWv/AMIjq/8A0D5/++aP+ER1f/oHz/8AfNAGRRWz/wAIjrH/AEDLj/v2ab/wiOr/APQPn/75oAyKK1/+ER1f/oHz/wDfNH/CI6v/ANA+f/vmgDIorX/4RHV/+gfP/wB807/hEdY/6Blx/wB+zQBjUVr/APCI6v8A9A+f/vmj/hEdX/6B8/8A3zQBkUVr/wDCI6v/ANA+f/vmj/hEdX/6B8//AHzQBkUVr/8ACI6v/wBA+f8A75o/4RHV/wDoHz/980AZFFa//CI6v/0D5/8Avmj/AIRHV/8AoHz/APfNAGRRWz/wiOsf9Ay4/wC/Zpv/AAiOr/8AQPn/AO+aAMiitf8A4RHV/wDoHz/980f8Ijq//QPn/wC+aAMiitf/AIRHV/8AoHz/APfNO/4RHWP+gZcf9+zQBjUVr/8ACI6v/wBA+f8A75o/4RHV/wDoHz/980AZFFa//CI6v/0D5/8Avmj/AIRHV/8AoHz/APfNAGRRWv8A8Ijq/wD0D5/++aP+ER1f/oHz/wDfNAGRRWz/AMIjrH/QMuP+/Zpv/CI6v/0D5/8AvmgDIorX/wCER1f/AKB8/wD3zR/wiOr/APQPn/75oAyKK1/+ER1f/oHz/wDfNH/CI6v/ANA+f/vmgDIorX/4RHV/+gfP/wB80f8ACI6v/wBA+f8A75oAyKK2f+ER1j/oGXH/AH7NN/4RHV/+gfP/AN80AZFFa/8AwiOr/wDQPn/75o/4RHV/+gfP/wB80AZFFa//AAiOr/8AQPn/AO+aP+ER1f8A6B8//fNAGRRWv/wiOr/9A+f/AL5p3/CI6x/0DLj/AL9mgDGorX/4RHV/+gfP/wB80f8ACI6v/wBA+f8A75oAyKK1/wDhEdX/AOgfP/3zR/wiOr/9A+f/AL5oAyKK2f8AhEdY/wCgZcf9+zTf+ER1f/oHz/8AfNAGRRWv/wAIjq//AED5/wDvmmv4V1aP72nXH/fs0AZVFSzW8lvIUljaNv7silT+tRUAFFFFABRRRQAUUUUAFFFFABRRT4YWmkREG5nOAKALOn6bJqUxVNsaLy8rH5VHqa0G1K00r93p0SzP3u7hck/7qngfiKNalWwjXSoMBYR/pDL/AMtJO4+grDDEUAW7nVr28/113NIPRnOPyqpuPrRRQAbj60UUUAG4+tG4+tFFABuPrRuPrRRQAUbj60UUAG4+tG4+tFFABuPrRuPrRRQAbj60UUUAG4+tG4+tFFABuPrRuPrRRQAbj60bj60UUAG4+tFFFABuPrRuPrRRQAbj60bj60UUAG4+tG4+tFFABRuPrRRQAbj60bj60UUAG4+tFFFABuPrRuPrRRQAbj60bj60UUAG4+tG4+tFFABuPrRuPrRRQAUbj60UUAG4+tG4+tFFABuPrRRRQAbj60bj60UUAG4+tG4+tFFABuPrRuPrRRQAUbj60UUAG4+tG4+tFFABuPrRuPrRRQAbj60bj60UUAFG4+tFFABuPrRuPrRRQAbj60bj60UUAG4+tFFFABuPrRuPrRRQAbj60bj60UUAFG4+tFFABuPrT47iSI5SRkP+ycUyigDXg8RXJ+S7VdQi/uXHJ/766/rTrrS7a6gN1prM6L/rbeT78Xv/ALS+4rG3VZsL+XTrtJ4WKuvQigCv6jGDSVra5ZxK0F5bjFrcruCjny2H3k/CsmgAooooAKKKKACiiigArZ8NqqXc12wyLWFplH+1jA/WsatXSzjS9YI6i3TH4yoP5E0AZbOzkljkk5JNJRRQA9Y93Qd8Y7/hX1f8Hf8AgnL8Q/iR4XfxT4iudP8Ah14XXlb7xDIYnkHshxXp3/BLf9lTT/id4m1D4keJ7CO+0HQZlt9PtLlNyXF0xyHIzhgg7HI55FXP28viJ4x+Mn7R178PtPkubfRtE8u0jsVciJn25MhHf8eKynUUNXsdNKjKo7R3OIh/YL+GWpR+Xpv7S3hae86eXNp8yLn67q8m/aG/Yv8AiL+zrsvdZsIdX8NzANB4g0hzNZyA/wC12r2OH9hfUrfw+t9Lq8Md2V3GFU3YNfVv/BPfWtV8aeD/AB18JfHcUeu6ToxjjWG+/eReU38IH9etclPFwqSaTOzEZfUw8VOaPxzor379tT9nEfsz/HDUvDdp+90G6jGoaVISxP2ZydqEkkkr0559ab+xf+z7on7SnxmTwfruoX2l2LafcXZuNO2GXKDjhgR3/SvQR5bPA6K/Q6H9i39lq++Jk3w6h+M/iK28ax3jaZ/Zt1ZlB9qU7PL3m2C8tXyt+1N+zfqX7MHxSl8J6jeR6rbvbreWV/EpQT27lgrEE8HjpQI8aoqfyV25OAx5C5PT8sfrXu/7JHw9+D3j7xZrdp8YPFNx4V0yGx82xlik8kSybu7lWA47YoA8BorR1izs49au4NLmkurEXDx200iEPJHu+QkepGOMVTaMHAVWBPIB6n27Z/KgCKirK2u5UOOXOBgE5OSOOx/OozF/slSRkBu49c0ARUV6n+zr4G8A+PviRFpPxH8Uy+D/AA01tLK2pRlVYSKPlX5gw55/Kvt7w3/wTw/Zw8YeB9X8Y6N8Yda1DwvpPmC/1JJLcJAY0V2/5Zf3SaAPzOor6G/ak+EvwY+GtpoL/Cn4i3HjyW6aX7esjI32UDAT7sadTXz8tuzE8N8oy3B4HqaAIqKnS1eZSyRsyr1bsO/J6Dih7cxqC6lQeAex56g9D+FAEFFSLHuYAAsfRfSvV2/Zj8b23wOk+K17ZW1h4U+0C3ha4uAlxcEuqbo4s7ioJ64oA8koqZotuPlIJwRk8MM4yBil+zswUqjHdnbx1HXPv+VAEFFO2+x/z+FOaPaSMfMOq85HbB96AI6K6nwh4DuvFSXVyZ4dO0qzG651G7O2JPRR/eY/3RzWl/wifgiWQQQ+NrgTHpNPpDrD0zyQ7MP++TQBwlFb3ivwbfeDtQFpfbGEiiSC4gYPDPGejo/cVZ8beBbrwLqkdldzRXDtbx3BaANtXeOFyR2oA5iipGj8tsFeR1U5z656elDRhRyMZ9fT1/yKAI6KlEJZSQrEL97g/wCHFM25xgZz0AOTQA2iui0XwNqevaHqOrW6QpY2ClpZZplTcQM7UBOWbHYCsFo9hGVIyMjrz6H6UAR0VL5JVgNvXkA98/z/AApu0dccYoAZRRRQAUVseGIdFm1u2TXpbqDSm3edLZgNKPl4wD716p4V+H3ww8Z6wunabq3iQzFTI0ksMQjjRfvMxxwKAPE6K1fEdnp1nr1/b6Tctd6bFMy29xLw0kY6N0HX6VnNGFJ4PX8P16UAR0UUUAFFFFABRRRQAUUUUAFFFFABRRRQAUUUUAFFFFABRRRQAUUUUAFFFFABRRRQAUUUUAFFFFABRRRQAUUUUAFFFFABRRRQAUUUUAbWnZutD1K3bDeTtuEB7c4b9Kxa2vDvzf2oD/z5Sn8qxaACiiigAooooAKKKKACtXS/+QTrP/Xun/o5Kyq1dL/5BOs/9e6f+jkoAyqKKKAP2p/4JMgf8MoKMcf27eH/AMdArx748eB9Ub9sDxVqunEW73lvELZyoOWAw55B5q7/AMEhfjrps3h3XfhPfSR2urRXTappaudv2lGGJo+f4l6j617X+2Ho2leCfE/hbxc0728t5dSW1wG6DIwGx6A15eMvyOx7mWuCrR5mcHLeeJtU8NLoBvobXV1YJNdW6Ihb5clPmUqPwFd/+wv4Pk8N6p8Qri5kF1cXdzbAzbQGYKuTwOK8p+2WK6HLqLXd99oE5le7WX9xtIxnHrX07+yXa6dd/DT+27NvMm1O6lMr7/ulein04rysHGSmfR5vOHsLbs+Kf+C09jbR6p8JLtVX7dLb6nFK38RRZIDGD7De3514z/wSiJP7VsBycnQ77nPsKp/8FOPjtY/GL4+DStGuPtmh+FYWsIbhCCs0zFTLID6Eqo9OPrXAfsT/AB+8Pfs2/G2Lxh4ls9SvdLXT7mzMOlRI85Zxwf3jovavp47I+Clq9D7Flsv2UtE/bQ1HVtX8R+Km+IEfid5Hsb2GNdMh1Dz+P3iKGID+pI7EVc+KHwH1f4y/8FItC0/4mpY6j4X/ALIk1LT4LBXEc9nbrkRPk5++WPXvivML39p79jvUPidP8Qbn4bePrvxJNqB1RzcGExNcl95kMf2zZ97nG3HtXA/E7/gojr3ij9p7w38UtD0o6fp/h+A2VtpN3Jva4t2JMyyNj+Mnt07YrQzPpbS/2wY9a/asPwCuPh54Vb4Ztqsvh9NPSw/e/KCBNtz5fUdNtbv7Jnwm0b4K/t3/ABo8L6FELfQ7fRre5tLdckQJM0bBQSSeA5714va/tnfs26X8TJvi5Z/CvxUnxKkLT+W11H9h89hhn27sf+O16X/wTr17xv8AF74+fFL4u+JdFubLTfEWmqsF4tuwtiElVFjiYnnaqgd+lAHj/wCxhb6xY+Jfidq3hb4MW3j7xTBqFzHB4j1m7igsNKUMTsxIPve4ORxX0T8SvBeq/HT9j34mal8V7bwPqnjLw1Z3moWGqeEXWZrcww+btdweOO2a+XvgX+2h4F+G3gD4i/Cv4heHdW1rwrr2q3tyLzw/Iiz7Je3zOv4EHIzWx4R/bS+B/gH4G/E34Y+FPBXijQ9N8Radd2tleOYbueaaa2aHzbkmVccY+VeO+KAPXtB+IGm/Cn/gmL8PfFl94c03xPdWF0r2ljqsZa2M32qVVdgMb8AD5WyOOlYX7Tuuad+07/wTzsPjBq3h/TtK8W2F7HGslgny7Td+Q2WPJyOxJr598YftXeEfEH7Cfh34LwafrSeJtPukkku5IYvsLBZ3kwrebu6Hrij/AIas8If8MCy/A/8As/WR4na5WUXvkRfYeL/7QRu8zdnbxnGM1JR8h5r9Jf2OZG/4dl/tADc2PO1Qbc8f8g+37f8AAj+dfm1X158Av2rvCPwt/Y/+J3wr1XTtZn17xTJdtaXVpBE1pF51rHEPMZpQ3BQHgGgD2v8A4I3qD4g+JmQP+PKzI46HeTkVmf8ABHP5vHnxJztITSrdlyvAYyMCPqQP0rwr9hj9rS0/ZV8bazea1pVzq+gaxbJbXSWbKs0TIcqw3emTx/OvoT4Oft5fs+fAnxZrb+C/hx4l0TQdXi33c37qe9luQ5ZFCPclVjGT0OT3oA0P+CcNxptn+x38c7zWdPj1XTLRri5uLOTOJoY7LeyZHIz6gg11fwh+K9j+29+yz8XtH8S+CtA0RvDOnSvpg0W1KJA32eZ4im4/LhkXoecc18ufsyftYeD/AIL/ALN/xZ+HmtafrM+r+Lra6hs7qwgieCEy2nkqZd0qtwfSq/7Hv7VPhH9n/wCGfxV8O+I9P1e+vfFtitrZyabbxSxxERSxgvulU/x9qoD6L/ZV0HW9P/YVGvfAzSNKuPi/NqkkN/f3cUD3SKJmx5Rn+Q/uwB0/Wk/b21C01L4YfBFvHR01fjZHf2ovoNPmQ+VC+GlD7CVGZADx06DjitDwWvg3wX+wt8Lj8XvAHiLWLCe5mu9O/wCEN3m4eOTJWaZ1lj5AP3WJHtXI/GD9nf4N+Kv2Yde+MngbQvFvw91fQ5lFqviqSTfeurL8o3u3qeRQSM/4K9YHxi+GKgKm7TnLbcYJ88cHHWuq/wCCknxQ1b4K/GT4H+NNBgtW1TTNNu5o0uoi0EjNtUhlBBPBPWuM+JP7enwU+NGh+G9d8dfC3V9W+IGgofs0MVx5dgshbcSSrhmGcHDAisX42ftufCX42fHr4SeMNY8Na/c+GfCkV0dU026s7fzLiR1BjEY88qwWRVbDYHHORQB9WWv7Wnjb4Rfsuv8AE34yW2kWviPWcjw74d060lheX0M25iVFfjZrmsXPiLWL7U7naZ7ueS5lCDChnbccDtz2HFfoH8cf2wP2Vf2iNetNV8aeE/ifdy2kQgghga2jhjQdgi3YUH3xmvgjxhNoV14t1mTwzb3Nr4ekvJX06C9bdPHblz5ayEZBIXA/xqSj1rw/oVvrlv8ACfwzMu7StQM1/cxKxAmk3sCDz1wuKl8EeOtU8Uaz4pl1C0tn0bR9Nu7qzs/sqJDZOoxGFwoIwOOc571y/gnxZp+peH9O0XUtTOgappM7XGkawV3Rx7iS0UmOgJJOe1dM2reK31RLiXxh4LtbXLCaSCS3MUwYYIkREJf6MDVEnNN4j1Xwt8M/BWrW1y1pq8F7fJYzbQxFqVQNwwII3lsZHfit/wDaM8e69J4jh0JtQY6VNZWszweWmS5XOd2Nw+gOK8q8Y+Jr/wATasXvrqG5WDMEP2aMRwqmc/IgAx9e9df8QvHHhXx5o9nqUllq1p4vhtIbVyjIbOTYMF8H5hkdhQMk/aOCr8TJ1UbV+yW52gYH+rBziu81Jv8AjJDwOOjNYWgbPHPlt1/IVx/iD4heBfGstnrOu6RrDeIILeOGW3tbiNbS4KDGWJG5cj+6adq3xe0jVPi9oHi9ra6S0sIII5oFRQxZEIIX5umTQI2NB+Jt0vxXh8Lw2Vi3hO51T+z20xrSIrKjS+VvZiu4nPOM4qH4f+GYNP8AG/xDsNHtYbvW9N8+PR1uVV0BSZkz83y7gAOHBBrzfRvE1rY/Ey08QyxytZw6ql+yKvzlBLvx164r1HwjrWn6hZ/FXxLeadNqOhX12rm0jcx3eZJy6tlfugAnJ796AIvH19r83whmj8fCMa7/AGip0wyhBcFcYlLBf4cY5Nc78dQFPgkAAZ8N2hOB1ODyff3rX0jR/BnxI0nX5LDQ9U0O50ywkvEv5NQa4j3r/wAs2LAAZz2rNuvHXgrxdoWiHxLpeuHVtJtEs1bTpI1guI1+6G3crj1HNAFr4meIb/wzD8NNQ0y5a1u4fDtu6SBQwDHOeGBB/EV1d58U/FPhX4azXniTV5L3W9fiMenWE0Uam3gPW4bC9T2B4rj/ABB8T/C3i/xd4R1DVdLuk0rS7JLa6sbdVA+XOFjy2SvuTml8ZeKvhx461641fUbvxebibhYo7a0CRIPuqPn6CgDx+uo8TeCB4d8O6Bqv9qWd5/a0TSfZ4Hy9vtPR/rXL0u49KkoTca9cmhPw9+Clo6fudY8WO5Z/41s4+3sGJ7V5HXoHxW8daf42bw6mmxTwwaXpcNiyXCquWXqVAY9aAOl+DcsSeEdYi0S+03S/HH2mN7a41IoCbfblliLggHP41V+MDeI10XSh4p8P2kepCViNft2jP2pcZ8tvLAXj86wfBviTwvH4dvNE8TaLPcQSzieLUtMEYu4mxjaC4+77VY8beONEuPBNh4U8OWmoJp1vdteSXGquhnaQjaAAvAGPSqJPOqKKKkoKKKKACiiigAooooAKKKKACiiigAooooAKKKKACiiigAooooAKKKKACiiigAooooAKKKKACiiigAooooAKKKKACiiigAooooA2/Dn/ADFP+vGWsStvw5/zFP8ArxlrEoAKKKKACiiigAooooAK1dL/AOQTrP8A17p/6OSsqtXS/wDkE6z/ANe6f+jkoAyqKKKANfwx4s1fwZ4gstc0O/m0zVbKRZre6gIDIw6H0PuDwe9fTqftv658VviFpmqfFS5E+nW1m1mqWVsBENxyZNg718mc0vOOtRKCmrM2pVJUZKUOh933nx1+DWn2+LTxDe3KK/mC1WG68s+21lAryC5/ba8eaD4e8W+F/CGpS6P4e8QSl5Gx+/iXGGERz8mR3HP0r5vJP0oydtYU8NTpO6OrEY6piUlMV5nkYs7FmJLFjyST1JPem7jSUV1Hni7j6mgMRSUUAKGIOfx6cV63ov7Wnxb8O/C6P4daX41u9P8AB8aPGmn28ECMqu29gJgnmjLc/f47V5HRQAu4/wBfejzG9aSigBfMb1pfMbOc84x09sU2igApd59aSigBdxo8xueeT196SigBfMb1+vv9aN5/yKSigD2T4X/tifGT4NaGNG8I+Or7TdJUgrZTwwXcSYGMKs6OFHsMCsX4rftJfEz43eUPG3jC/wBcgjxttWCQ24xjB8qNVQngc7a81ooAUMR9M5x2o3Ecg4NJRQAu4+vFG9u5z9eaSigBd7evFJkk5PWiigBQxXpRuP40lFAC7jRuPrSUUALuOMf0rY8M+Mta8HXTXGjajNYSONriMgpIPRkOVYfUGsaigDrfEvxY8W+LrU2uqa3PNbN96CJUhjb/AHljChvxrks96KKAF3sepJ4xRuNJRQAUUUUAFLuP+RSUUAG4ml3GkooAKKKKACiiigAooooAKKKKACiiigAooooAKKKKACiiigAooooAKKKKACiiigAooooAKKKKACiiigAooooAKKKKACiiigAooooAKKKKANvw5/zFP+vGWsStvw5/zFP+vGWsSgAooooAKKKKACiiigArV0v/AJBOs/8AXun/AKOSsqtXS/8AkE6z/wBe6f8Ao5KAMqiiigD1n4V/s66/8YvBfi7X/Dd/pVzc+Gbb7Zd6FJO66hNAOTJDGEIcD61mfBD4F+I/2gPHkPhTwuLVb145J5ru+kaO1tYkHzSyyBW2p74qf9nn4r+KPg38WvD3iTwss1zqMVwkJ0+Iki+jc4aBl5yGBxjtxX3Z+2Jolr+yj8I/E9z8O9BudIvviZqhXWdRjMf/ABIovKVn0zcg+QszE44x27CgD4R8E/ALxT8UPiReeC/BEEPi2+t5HDX2mO32Py1PMxldV2x+7AV6/cf8E6/H1x9stND8X/D7xV4htFDS+G9F8QiXUsn+ERMign/gVdf8K7qX4V/8E4fH3i3Q5GtPEHijxImiTahasUkgtAkZMe8cqCS3T1ryv9nX4I+J/Ekdl478O/EzwF4N1Gwvv3MPiXX1srrepzuMZRtyn3oA434Q/s6+KPjJ8W4vhvYC20TxK5nDR62z26xGJC7q+EYg4HpXqtj/AME/9a1u5NhoXxe+EPiPV24j03S/FYkuHP8AdCmNea92/Z/8KeNvCP8AwU8sV+I15pF54tvtOur+6udDKi2kL2T4PCgA8c4H86858Gfsj+BZ/ihZSzftF+DhIuoibydOmZLtsPyiO7KFb60AfI3jbwTrPw78T6l4c8Q6dLpus6fIYbm2m4ZG65/EfzrB9+lfd/jn4V3/AO1V+354qsvGmk33gTStOtW1LWLeeRZLiLT7aNVZ/MA2kvn73vWF8N3/AGa/j94+tfhxp/wv1LwLLrMr2ekeKV8Q3FzKJiPkM0L5QAn0HegD4t49KP1r6w+Ev7OPhLwZofxU8a/Fy2uNX0TwDqY0L+xNOuWhbUL5n2hPMUgqAPQitPTPAXwf/aY+E/xB1TwH4Eu/hr4z8F6W+uGxj1qbUrfULVPvrmUZUj2xQB8efpVzTNLn1nULWwsomnvLqRIYY1+88jMFVR+Jr7I8D/BbwR4P/Zr8E/ECT4Q6p8atW8RTXZv/ALDqd1bwaOsMgCxlbfLEsvdvfmsHQ9f+CHhn9pTwNeeEvAmq3llevaQ3Hh/X7+4tn0XU2uE2ukgIaQL6OSvJyKAPmfxt4J1f4d+JtQ8O+ILCTTtZsH8q5tpGBaNsA9vY/rXQ/A/4P6n8eviZo/gXQp7Kz1fVmlFtPqEjxwDy4ZJWDFVYjIT0r3j/AIKI+LvCOqfHbxlo2m+BbXSPE1lq+b7xJHqNxLJfr5K8GJnMadvuKOlYH/BN1i37afw5B6br/t/1D7igD511vR5dB1m/02cq01nO8EjJyu5W2n9RVD9K+xPgJ8EfC/xF1b42eLNb8N3vxBvfC15usfBemXbW01+0ty6vIzRkvtQD+GuL+Ni/CG8+HoOnfDjX/hR8SYLxUXRZ7i5u7O8tz1ffcfMpHsRQB8317b8Ef2SvG3x+8F+LPE3hpbGPTvDsZMwvJHR7qQI0hhgAU732r0+leK4XBOPyP61+jH2bxz+y54R/Z88O+GPCPiHWDY3C+MvE1zp2lTXEUslyPL+z5UYO2Alccdc9eaAPzw03T/7R1KztFbYbmVYwx527m25NfRsP7Ft1N+1dP8Ev+ElgF3FbtOdW+yvsIFr5+Nmc9KpftUfB4fBX9q3UtFhtWtNJvNRi1HTRtKf6NM+V4P8AdOePavq+zA/4e+3hxz9gm/8ATNj+VAH5k3MPkTSR9SrEZr1D4ufs7+Ifg/4Z8HeI7+803WdA8V2f2zTtT0mWSSDj70Tl0Ta49K8yv+L64H/TRv519i/si6rZ/tB/CvxH+zh4kvfs95dsdY8IX0xJFvfRjL2/srjt9eKAPCPBX7PGu+M/hB4t+JQvdN0jwz4ckSCWTUp3jkvJ2xiG3ARgz47E15V78V9wftCwxeKvHnw0/ZQ+Ht7/AMSPw7dxadqV2vyJfapIQLi4kUdfL+b9az/GmqfsvfCv4lX3w6vPhbqfiOw0i7/s3UfFx8Rzx3ZlQ7JJI4UIiIDA/wAPbpQB8XfrR+tfbvhv9j/wx4N/aS+KngXxFD/wkmi6P4Ovtf0a48+WEn92rwTZjZSduT8pyD3BryP9iP4Y+Gfi18a20HxZpn9q6T/Y1/d/Z/Plh/exwlkbdGytwecZwe9AHz9XuUP7IPje+/Zzj+NFidPv/C/mSLNa28rtewIkjRvK6bQNoYdQa8QmULI4AwAcCv0Z+Fnxvt/gj+yj+zxdazBHfeENY1DXNH8QafKgaO4spLpjuIPXa2TnrxigD4n+BnwT1n9oD4gW/g/w/c2Nnqc9vNcrNqEjpCFijZ2GVVuw9K89dNjsvUg4r9Dv2efgO3wD/wCCgFjpFtIL/wALaho+o6loOoKdyXVjJaybGz6qOo9ua8a/ZV/Zz0zx54B8a/EnWvCWrfEC10O5i06w8LaLLJC19dSbSS8qAsqKp7c0AfKn6Uv6V9x+Pv2ZtB8Wfs/eNvGMPwf1v4LeJvCaRXot7y8uruz1S3ZsOA05JV19jVjSv2YdL+GPw28G3U/wL134zeI/EGmxateXcF/dWtlp8cv3IE8ggtIB/ez1oA+FOPSt7wH4XPjbxv4f8OpKtu2rajb2AmbkIZZFQH8M19f/ABQ/Yh03Vfi/8GtI8KaVqngmx+IkMr3Gjaw7Sz6Q8B3XKhm5YKnTdk1e8JeIP2arT9oXw74F0L4c6np50/xBb2dl46bX5nmluorgBJXtjmPymYDkDP4UAfKHxx+FcnwW+K3iTwTLfJqkujXRtmu40KLIcA5wTx1rgq9//bw/5O4+JntqrD9BXgFABRRRQAUUUUAFFFFABRRRQAUUUUAFFFFABRRRQAUUUUAFFFFABRRRQAUUUUAFFFFABRRRQAUUUUAFFFFABRRRQAUUUUAFFFFABRRRQAUUUUAFFFFABRRRQAUUUUAbfhz/AJin/XjLWJW34c/5in/XjLWJQAUUUUAFFFFABRRRQAVq6X/yCdZ/690/9HJWVWrpf/IJ1n/r3T/0clAGVRRRQB9Ufsj3ngb4NeHfEXxo8U6npOpeItEX7L4X8KyXKtc3F8Rj7RJEDkRIO9aX7Mv7R1l4r8ReMfAXxm1BbzwV8RJmlvtRugP+JdqJGEvFwAVI4HGB04r5HWR15DEHpkdaTcf8igD7R+CnizwJ4P0f4kfs5fEfxXZv4P1y+W40vxjo0i3Nnb3ShQk4ZTjy2CrnjAxWHD+yB4O+GeqL4g8e/GDwRq3g2xf7Q1p4b1E3eoaig5WOKLAxv7knivksysSTnr7cUm8+tAH6baf8bfA2qf8ABSrw746HijRbDwzL4ZRXvjfRi2glNiV8pj6hj9ea8Et/2N/CjeJJNR1z9of4U2+i/aTNNJpGuNdXQUnPyr5Yyc18ieYcYzxnPSjcc56mgD73vv21vBCftran4rSO5uvhpqWgDwffXPlYnmtCozPs6k7lFYnwt+FHwm/Z7+Jth8T9a+MnhfxZ4b0Oc6hpOk6HO0uq38qH90ssRUeXg8nnnHNfEZdm6nNG89c8/SgD7E+Ffxy8K/Gbwv8AF/4efEXV4/BZ8fa1/wAJFputOrTWlnfiTd5cuORGRxuq94fXwT+yD8I/iZGPiJ4e+IHj3xto8vh6ytfCNy11b2dtJ/rJpJCqgE+n5V8XeY3ODgHggcA0iyMucHAPX3oA+yfg/Z6LefC3QZ/hf8ez8KfGkDMPEGj+KtcexspmzkSW5RCrfQj61B+1T8avCurfGP4T6lYa5aeMdU8K2tmviHxFplv5EGp3EU4dnRQBk4HXFfHxkdgoLEheBk9PpR5jev4dqAPq79uzwv4U1z4gat8VfCvxF8OeKNN8V3qTpo9hck39nmEZ85Cvy4I/WuX/AGAvEmj+Df2tvAWta5qdno2lWrXn2i+1CdYoYt1jOgLMxGPmYfmK+eVmdSCp2kfxLwfzpRM4BAPB6j8/8TQB9RfBY+BNa8ZeP/tHxO1H4Y+O5r6Sbw94lgvGi02VTKWZJ5IwHAb1z6elegfH34jW+n/sv6h4J8dfFTQ/jH4+u9VhudJvdIuTfnTbdR+8D3RQM270YnHavhzzGxjPGc47UomdQwDEK3JUcA/hQB65+yz4V8MeKvjx4QtPGWp6bo3hiG9W71G41W6S3haGJd5Qs5H38Y/Hiu2+Mf7cXxW8SfFTxTqnhv4h+ING0K41GVrCy0/UJIYorcErEqqpAwExXzXuOCM8UmaAPsf4pfETRfjt+zv8KvGut+KLOX4keFNTOh6pa3dwou7yzZ98VxgnJ2AY/OvTrX4peDV/4Kj3Pi0+KtH/AOEZayeMa19uX7HuOleV9/b/AH6/OzzGyDnkd+/50m44xnjOcUAT32Gu5mByGdiK9t/Yk8RaZ4V/ak+H2ra1qdpo+lWl8z3F7ezLFDEpicBmZiO+K8KDEUu8gEZ4Pb/P1oA998UfF6L4e/tteJPiDpEsOrWOn+OL7U4Hhb93dW5vHOFOOjRnA+uRXrvj34J/B74tfFDU/iNZfG7w3ongPXL6TWNR02+mdNbtWlkLyxx2+07iWORzx2r4m8xtoXPA6f5/GkaRmbJJJ6570AfeHh39rrwT4z/bS8TeJ9aeTQfAXiDQJ/CMF465a2tTEESVx9RWr+y/4B+Fn7NvxUv9T1r4v+FfEWp3mk31rpLaPe7rONHjx5lxIcBGIBwv1r8+/MbOc/5zmhZGUYB4znFACytukYjoTmvpn4seLdE1H9h34HaBa6tZXGt6bqmsyXenRSgzW6yTlkLrjgHP618x0u489z9KAP0k/YJ/aP8ABWr+FdN0H4la9p2g+IfA0Vw3h7VdUmEAns5oiklqXJAJGTgHPXivGf2S/i54f/4VP48+EuteOLr4aX+uX0Oq6P4oikkjSG4RQrRSvGQwVgB3x+NfIRkYjBOR2Hp9KPMbbjPHXHagD65+K9rpfgL4S61Y+JP2g9S+JnjLU2SPT9H8La/PfaZDEDl2u3kOGyOwFeiah8QbL9pP4Z+Ap/Dvx3g+EnjHw7pMGjavouu61cabZziEYW5hZCQzY/GvgHcaUyMcAnIHQelAH2NdfHPwr8Cf2ifhlrejeO/EPxWTw0GXxBqup3ckttPJKNkwsxISwUIevfA+tbkHwg+C/hL44aV8TLb4v+HNT8BnWIdWsdDt5XGrbzN5ggkh24iRT3J6da+HRIwGM+w9qXzn5+Y/N19/r60Ae2ftpeINM8VftRfEPVtF1G11bS7vUjJb3llMssMq7F5VlJyM5714hS7224zx6f5+lJQAUUUUAFFFFABRRRQAUUUUAFFFFABRRRQAUUUUAFFFFABRRRQAUUUUAFFFFABRRRQAUUUUAFFFFABRRRQAUUUUAFFFFABRRRQAUUUUAFFFFABRRRQAUUUUAFFFFAG34c/5in/XjLWJW34c/wCYp/14y1iUAFFFFABRRRQAUUUUAFaul/8AIJ1n/r3T/wBHJWVWrpf/ACCdZ/690/8ARyUAZVFFFABRRRQAUUUUAFFFFABRRRQAUUUUAFFFFABRRRQAUUUUAFFFFABRRRQAUUUUAFFFFABRRRQAUUUUAFFFFABRRRQAUUUUAFFFFABRRRQAUUUUAFFFFABRRRQAUUUUAFFFFABRRRQAUUUUAFFFFABRRRQAUUUUAFFFFABRRRQAUUUUAFFFFABRRRQAUUUUAFFFFABRRRQAUUUUAFFFFABRRRQAUUUUAbfhz/mKf9eMtYlbfhz/AJin/XjLWJQAUUUUAFFFFABRRRQAVq6X/wAgnWf+vdP/AEclZVaul/8AIJ1n/r3T/wBHJQBlUUUUAFFFFABRRRQAUUUUAFFFFABRRRQAUUUUAFFFFABRRRQAUUUUAFFFFABRRRQAUUUUAFFFFABRRRQAUUUUAFFFFABRRRQAUUUUAFFFFABRRRQAUUUUAFFFFABRRRQAUUUUAFFFFABRRRQAUUUUAFFFFABRRRQAUUUUAFFFFABRRRQAUUUUAFFFFABRRRQAUUUUAFFFFABRRRQAUUUUAFFFFABRRRQBt+HP+Yp/14y1iVt+HP8AmKf9eMtYlABRRRQAUUUUAFFFFABWrpf/ACCdZ/690/8ARyVlVq6X/wAgnWf+vdP/AEclAGVRRRQBIqg5yMDr/wDq5pqruwAOfrn9K+uf2FfC/hPUPCPxu8SeKfCOl+Mn8L+Hl1Ozs9Uj3JuHmZwf+Ar+VWPBHxz+BHxW1yHwz4++CWh+DNN1I/ZU8Q+FJ5Yp7GQ9JNrNtYezAj2oA+PKK9c/aH/Z91P4FfGvVvAAMurSQyr/AGfNHGS15E/3GAHrz0rS1/8AYv8AjR4Z8Ky+ItQ+H2pw6XChlmZWjklhQdS8KuZE/EUAeI0V2Hw7+Ffij4ueIV0XwfoN3ruolN5htVyI1/vuxwqL7sa3Pip+zf8AEX4KRW9x4z8KXmi2Vw22C9LJPbyN6CWNiufxoA8zor2bw7+x/wDFvxdd6HBo3gm91Bta0yPWbJ4poRHJaSZ2SM5fbHkdFY59q4T4jfC/xP8ACXxJNoHi7RLvQdXhG5ra7XBK+qnoR9KAOXVQ3se3p+dLtCqTjOemen4c179+wX4L0L4hftTeDdB8SaXb6zo119q8+yuk3RybbaR1yPZlB/Ct/wDbS+DXh7QL7w/8Tvh1ax2/w38YxF7eCJcLp15GMTWrDsQeRn3oA+Yio5G3n/Pv61HX0d8YvBOg6P8Asd/s++JLHS7a313W59dTUL6OMCS5EN5siDnvtXgVzXgv9jn4x+P/AAwmv6H4B1G90yZVkgkeSKF51PQxxuwaQf7ooA8WoruvBvwT8Z+OvE+reHNH0CebXtJtJr2+sLl1tpYIYseYWErLyu4HHvVX4Z/CjxP8YfEb6D4Q0v8AtjVFt5Ls26zRxHyoxlmy7AUAcfRXfeEPgh408feGZPEPh7w7c6xpceox6SZLQq7G6kXckYTduOR6dK1Lf9mX4mXnxOvvh7b+D7+68XWO37Xp8BR/s+4AgySA7FHI6kUAeW09lUHpxn6H8uxr0r4r/s4fET4IraS+NfCl5olpeNst7ppI5oZGH8IljYrmvV/2q/Dmk6J8Af2bL3TtLsrC81Lw5cy3txbW6RyXLq0WGkYDLH5jyfWgD5e2ihVHfn1GcfrX0X+wF4J8P/EL9pvQNE8TaRba1pE1reSSWd2m6NmS3d1JHswBq1+2h8F9D8Ia5oXxD8Axhfhp44t/t2mqgwLKcDE1qw7Mp7GgD5qaPB4H59fy7Uyvpf8AaO8C+H/C37NX7OWtaTpNrY6tr2napLql5DHte6ZJYQhc98B2/OuV8L/sZfGbxl4Xj8Q6T8PtSudMmQSQO8kUMkynoUidxI4P+yKAPEqK+kf2Sf2R9X+PfxYg0fV9H1C18N6fdGDXZY7iK3urX907gLHIdxOVHbpVLxt+xR8TtF+KcfhKy8LA3erTXkmi2v8Aato73FvCWP8Az14O0D7xBoA+e6K7r4a/BXxj8YL/AFaz8I6FLrFzpNm19eRLIkZihUhSx3kc5PTr7VB4H+E3iX4iaL4m1fQdLN9pvhuz+36tctPHElpCSVViXYZJI6DnigDjKK9a+Fv7KfxV+NOjyat4N8F3+r6Wj+X9sZo4IXf+4jyMoY/SuV1D4T+LNH8e23gnUdAvNN8VXFzHZx6beRmKVpZGCoOeCMnrQByJUYyOnel2+3/1uM17Gn7NPxD8Ifadd1/wnc2WhaLrUOlaheTSReVHcedsMYG4mX0yldz+2p8N31H9tDxP4Q8FeHYhPcTWkNjo+j2yxq7taxMRGigDGSTmgD5gor1GH9mj4kXPxMufh/beFptQ8W2v/Hzp+n3MNyIOOsksbtGn/Aj3FN+K37NXxJ+CMFtceNfCd7otnckCG9Oya3Zj/D5sbMufbNAHmFFSxwNLLHHGpkdztVEGSxJwAB65r3H/AIYj+NjeFR4hHw41j+zTH9o/5Z/afKxnP2Xf5ucdsUAeE0V2ngX4Q+K/iWddHhvRZdTfQ7Rr7UI43UPBCrbWbazAscnoua6/xp+yN8W/h/4I/wCEu13wHqmn+HlGZLxgjGAdjNGrF4s/7YFAHjlSbBkgYPp2Nd38KfgT46+N2rz6f4J8M3niCa3TfO0JVI4V9XkYhUPsTX0dffBHUPhn+w18SoPGfhGPR/GFj4tshHPdWifaRbsqg+XKM7o9xP3W70AfGu3PQfn/AI03b7iux+FnjbT/AIe+MrXWtU8L6Z4ys4UdG0nVgxt5Cy8E7SDwa+2/AfxE+GXi39mX4ifE64+AngS21HwxqFnaQ2KQyGKcSsoOTuz3P9KAPz2aMcYGR7Hn+ZqOvb/GGtXH7TvivRNH+H3wk0nw5qcaOp0/wrBITcf9NJMk4A/AVkfFL9ln4pfBXSodV8aeDbzR9KkcRi+WSO4hDkcKzxM6qT70AeV7AGwRg+np9ajr7N1L4J3/AMT/ANi34HweCfCSar4u1HWNW+0T2VrGJmiSZkHmy4G1BgYLt2r5z+K/wH8dfBHWLbTfGvhm80C4uk8y2+0FXimT1SVCUY/Q0AefU/aMcfr/ACrqfiR8LvEvwj8StoHivTDpWriCO5+zGZJT5ci7lbKMR0r3X9mv4I6t4G/a/wDhb4a8feHbdU1Z4737BfpHcxS28kUjIWXkHlR+VAHzD5ZUAnoRnr2zimV634q+F+vfET9oHxp4Z8G+H59Vvhrl8kNhp8QAjjW4cA+igAD0qL4rfsu/E74Jadb6l4z8IXmj6bO+xbwSRzwhs/caSNmVW470AeU0V614R/Zd+Jfj6y8KXnh3wjd6ta+KI7qXS5IJY9s6W0nlTsxLARqr8fPjPvXl9/YSabez2twmye3cxyLuBAYHBHFAEG1Ryfw5oZQvH5YNffPxc8T/AA6/Z5+E/wADJ1+C3g/xdqHiXwfa6le3mqROrvMYo2ZiVPUlj7c1ymofDX4WftWfBvxZ4u+G/hofD34i+D7X+0NU8M29w8tle2Y+9NEXJII9BigD4uor0P4V/APx38brq5g8E+GL3XfsozcTRbY4Ie+HlchAcds1b8Wfs3/EXwH430Xwl4g8K3Wk65rMqQ6fDcOnl3TO21SkoOwjJH8X1oA8xor7M+PX/BPzxH8N/g74N8S6PoF42oR6Tcaj4sN1qVsVsnUptVBv/eAAn/V5/rXiHwz/AGTviv8AGLRH1jwj4LvtV0kN5a3zyRW0Tt/dRpmTef8AdoA8iorofFngLX/Afia58O+INHu9J123kEcthdRFZQxOAAvcH1FU/EHhjVfCupNp2taZdaTfoqubW9haGXa3Q7WHSgDKp4QDk9Pr1owD0FfoJqP7N/gZf2c3+G8Oh28fxzsfCKeO571kP2llMnmPaZz1EPG38aAPz4p23r+We1G3/D6V9O/scfB3wh400n4m+OvGml3PiPSvAekrqC+H4JmhN/K+8BWZTuAUqDwRQB8xKu44HJ7YptfZ3w1+LHwG+NniZfB/jz4UeGvhxpWoJJHZ+J9EvZYJLB/4Wl3MwI/3q+d9W+CusLpnjXxBoPleI/BvhXUBY3XiC1kRYXDybIZAhbdh/bPWgDzmiux8L/CfxN4y8H+J/FWk6b9p0Hw0sL6rd+aifZllbanyswLc+ldT4Q/Zb+JnxAsfCt74d8JXWq2vieO6l0uW3lj2ypbSeXOzEsBGqtx8+M+9AHktFdx46+DPi74aaPoOqeI9HbT7DXo5ZtNuBPHKk6xttkwUY8g4/Oman8H/ABVpPw+0Pxxd6PJD4Z1u6ks9OvDKmbmVOGVY92/r3xQBxVFe5yfsUfGmHwu2vt8PNWNisP2lkUxtcrF6m2Debn2xXBzfB3xVb/DEfEGTSH/4RE350v8AtATR4S5Az5bJu3DPqRQBxFFdj4f+EvijxN4D8QeNNO0ppvDGgyRQ6jqDSoiwvIcIoDMCxPoK46gAooooAKKKKACiiigAooooAKKKKANvw5/zFP8ArxlrErb8Of8AMU/68ZaxKACiiigAooooAKKKKACtXS/+QTrP/Xun/o5Kyq1dL/5BOs/9e6f+jkoAyqKKKAPsX9hvC/Bn9p6Q4Rf+EOI+bgA/vsAc18u+CfBOrfELxdpfhvQrWbUNV1C4SGGGEbmJJxnjPT1r0L9nn9prXP2cv+EmXRdA8P8AiCDxBaLZXtt4htpJ4jGN3AVZE/vH869Di/4KDeL9DtJYvBfgD4c/Dq/lUp/afhfw6tvdKD/dZnYKfcDNAH17rt54f8Xf8FQPDemTP9rl8MeFls9wCyNJfQxuUwDwxBIPPXHOa8F+DPxW+DXw7+O1p4o0K7+O2veNDcubnT5tP0+WTUXb78UsSzb2Bz36Y9q+PvCvxM8TeDvHdn4y0rVriLxNaXBuo9QciSXzCMFiWB3cHocivfbv/goR4waS61HS/A3w98O+LLlWR/FOj6AsOpAt1YSFiAfcCgD2T4e3Hw+t/wBlP4y+IL8eLPD3h3VvHhhuo/CcNuNStbTG6K3nWRwEjBPTueDmuFuPil8LtL/ZV+IvgvwRZfFLxBp2oTWsyXniLT7T7BpNwsnUvFIdhZeMDj2rw34JftPeM/gfea2NKey1zStc2/2ro+vwG8s70qchpEJ5bP8AF1rV+KX7XXif4keBz4NsvD3hXwH4VmmS4utK8H6WtjHdSJ91pTuZjj0zigD2j9s7xL4jsv2dv2bNJt57m08OXvg+2lm2Ntjup1RdqyHgMACcA8Cs/wDaM1C/8Y/sL/AzxR4seW68WLqN9YW9/d8z3enozeWWbqwGB8zZJx1ruvjp+0HqXwf+FX7P2lr4e8LeNNFuvAto8+k+KdOW/himGAGGGyhAA4GPcV8l/Hf9oXxT8f8AXbHUNf8AsNnZ6db/AGXT9J0m38izs4sk7Y09ck8nJ96APSv+CbP/ACeV4D/7fP8A0kmrqv2T/Gmk/EaPxp+z34yuFh0LxhcPLod9JyNO1cN+6ZSeiuevOOK+evgb8X9V+AvxM0jxxodrZ3uq6Z5nlQ6gjtA3mRMh3BGU9GPfvXGf2rcx6r/aNvK9reCbz45ISVZGzkEEdDmgD7e+LXw8bw38D/2TfBHi+3aza18U63peqROSgVDqyq5z1AKEnINb37Wmv/BzTv2ltbbxdrPxfsPFWjXcaWcWiW+nC1tECjy1tFeXcFBx0689a+bv2hv2wPGf7S2i+FNP8U2Wj2jeHfNMF1p0EkM07ykF5JN0jLkkA/KBg11Vp/wUC8YTafpaeIvBPgHxvrOmRJDa6/4k0EXN+qqMLl94DEerAmgD6S8C+PNP+KH7cPxI13S/Duu+Gp9Q+Hl7HPp3iK0FrevOII8uUBPzEAducGvDP+CY2lXd1+0Jq1zFbvLBZ+GdRM7BcrFlcAN9eeleNaJ+1B8QNE+Oj/FpdUS48XzyM8888A8mZWUI0ZQYGwqAOMV6Zpv/AAUH8Y+HdaGoeHfA/gXwujiY3Vvomjvax3jSDG6RllDkZ/hDAe1AHXfs7/EDWPhr+wF8Y9b0G7bTtYHiGxt7a+hx5sHmpsdkJB2tt4DDDDsQa5/9nHTvFWpfA74neJNX+JsngH4cXV3a2Wt6gunm/wBQ1G4IykUbAhwAP9vnNeIaH8bNY0H4J+I/hjDZWD6Hruo2+p3F1Isn2lJIfuhGDbdp91Nb/wAEv2nPEXwX8O654bg0Tw/4s8L6xIs93oniWw+12zSqMK4AIIOPQigD6XOm+C5f+Ce3xhg8Jax4l8R6Ppmq6ZNDe+I7GK2hjuWuER/soR34KkgjOOfWvNv2vv8Ak3P9lv8A7Fm7/wDQ4a5TxX+2t4u8U/DnxT4Cbw/4Y0fwlr0dvGNL0bT2tbex8mQSB4FD8sxAJL7j6V5/8TPjhrHxO8FeAfC+p2djb2Xgywk0+wktkdZZUYqSZdzEbvlH3QKAPXv+CaPP7XHhr/rx1D/0kkroP2S/E2nfF7w14r/Z28X3Kx2fiKV7rwzfTAH7DqiclVPUB/TOK+e/gX8ZtX+AHxGsfGWg2tjfalaRTQpHqCO8JEkZRshGU5wT3rirPWrzTdVg1GxnezvYJRNFPCdrI45DAjoaAPvP4ueBFsfC/wCxh4Q8X2wtVttR1DS9Ut5jtUbb+2V1J4OCvGRzSftK+J/g7pn7TniC98Ua38ZLDxtpOqAQDS7bThBbBSPKS1VpQwTH4HvmvnP9ov8Aa88YftNJ4TbxNY6TY3Phxbj7NcaPDLC8rSujvI4aRgGLIDlcYrsYv+Cg3jK6t9Pn17wT4A8XeItPjWODxJr+gi41ABRhSX3gMQO5BJoA9f8ABvjrT/iD/wAFUtD13T9B1rwpbaldbrrR/ENutpdCddPcHzY+RkuM4I/Svnj4e/E1vhT+2JZeKb2ZorLSvFc5uTJx5UDztHKMdvkZh7dua4m3+PXjWH41R/FaXVTN41W+/tH7dJCu1pMYI2gY27TjgVqfHr9oa8+P2qafqGp+EfCnhu8tvNaWbwzpxtWvZHbczzZdtxz69O1AH2vp9n/wxV4k8ca9P5duPEvxOstIiY42/wBjqxu5WBPVCskak+3WvPPjJ4FT9mP9mz4zaAi/YpPGHj5dK0xDw0mmWo89XB6lP3ir798187fHz9qTxd+0RovhDTPEtvp9vF4atjbQHT4pEadiqIZJdznL7YkGR6e5pvx+/ag8W/tF2HhGz8TxafGvhqza1gawhdGnZ9u+aXcxy52L0AHHAoA9p/4KD6nfeHNS+FPhPRLqS18A2Xg6xuNJhtpcW08jFxLNn+J+By2SPbNdt4vur3xb4E/Yv8W+LA83ji8177HLeXGPtV3Yw6ggt3kJ5JxwGPJ7k14B4F/bP8U+F/BOmeEtZ8KeDfiHo+lfLpq+MNHF69mmSdqsHU7eTwSRXNeOP2mvGPxE+LWgeP8AXHsZ7/QJraXTNOgtzDY2ywSCSOJIlIIUsASc5Pc0Aetfts/FPxD4s/a+1vw/capcJoGj63Da2emK+2CLa6uzbBgFi7MdxyecZwMV9seOtB8IWH7QfxQtfBfiWBv2hfEmii40ZpoMxaaIrdB9njYgqJZAvDY3ccGvym+IvxV1T4kfFbVfH+pWdnb6vqOoDUJLe2V1gDgggKrMWxwO9dF48/aO8WeN/jm/xYU2ui+KDdQXkbaWrpDG8Kqq7Q7McfKMgkg85zQB6v8Asx+Nh4K8J/GLQ/HujeLI/DXiCCHTdb8TaLamWfSJxIT+/wAnGCcjnnNaXj7wHcaX+yprt/8ADL4wTeO/hba6rbjV9EvtKNlNaXDj5GXeWIHspAPoa4q3/bk8a2PxK8V+LbTQfC8MXiuJItd8OtYPNpWoFefMeF5CwbPdWFYPxP8A2sfEPxE8CDwZZeGPCngbwxLcJd3Wn+FNN+yLdyp91pWLuzY9M4oA5H4B+GPEvjD4yeD9J8HLbjxLNqMLWT3UayRRyKdwd1YFWVcbiCCOOlfbPw5j8HQ/tqaJf6x8YPFPj74nHXVtbttH0VLXTxMreXKju8gxCOmVSvgTwL431j4b+L9J8TeH7trHWNLuFurWcYIVlORkEEEeoIIPQ19Dyf8ABQPxbB4mh8TaZ4B+Hug+Jjcx3V1rWmaEYry7w+5leUyEgPxkptPHWgD2H9n/AFSbwP8AtA/tdX2jbbKfSNK12Wy8tFxAY7z5NoIxgehGD3FeefsBeKNX8QePPihpuqandalY6z4J1SXUILuZpVuXUDaz7ickZ69a8l0v9qPxHo/jD4p+JLbStHW6+Ilrd2epRCObyoVuX3yNBmTIO7n5ia5v4J/G3WfgXr+q6votnY3c+paTc6PIuoJIyCKbAZhsZTuGPWgD6D8XalfeDf8Agm/8Pk8KTyWdh4i8R3v/AAkdzaEq0k0ZYQxSsP4doGB04rU0/wATeI/En/BLnxbFrl1c39lY+L7W3025uCznycISik/w78/yrwz4I/tU+Kvgv4b1XwzBpWheLPCupSieXRPE1kbu0WYAgSIoYFTgnoRmtT4iftleL/iZ8N9a8CXmkeHtK8O6jcw3MdrpNm1qln5R3KkSh9pBIGWcM3vQB4AWJ47V9e/BL5v+CePx6zz/AMTvS/0IP9BXyDXp3hP46634Q+C/i74a2tjp8mheJrqC7urmZJPtKtD0EbBtoH1U0AeqfsaaF4sm0X4n63o/jmP4deELDSFh8R68ll9quxBIzBUt8DejtjGVZTx1r2b4R6V8P3/ZZ/aM0zwd4k8VeLNOg0GG7uZ9b06O0sUnRiY2hUSSESE9eemK+UPgX+0Z4j+AtxrcWkWOka3o+uW6W2p6Lr9r9qs7pVJK7kBByMnkEGu7uv25fFbeF/EfhjT/AAp4O8PeFtb0uXTZtE0XTGtbdBJ1nG2Tc8o7eYWA7CgD0jxx4i8RaF/wTF+E1vo0tzaaXfeINSi1G4t2K5Xz5SkbOMYBIyfpVXSdU1Hxl/wTZ1+fxS8l4NA8Y20Phu6uyWdQ6r5sUbnqoyc5zjNeWeB/2xvFvgXwH4Z8FxaR4f1nwxoq3inStasftdvffaJGdmnRnwGQsdrJg89TWR8dP2pPFnxy0jR9Cv8AT9G8M+F9JZpLPQvDdkbSyWRgA0hUkljgD7xOKAPSf+Ck1rNJ+0uoSJ2abQdL8pQvMg8gAbQOa+hPG1jNpf8AwUo+AdncQtBc2/hzTIpI2GCpWC49PpXzJaft6eNo/Dmi2eoeFvBOva1otslpp/ibVNDWfUoI412x/OW2PgcfMhz3zXP6p+2B4y1j42eD/indWOkT+JPDNjb2NskkcphnSJXQNKvm7txDtnaR1oA9j+GOieKj42/aQ1+x8eQ/DjwNbald23iHW47AXd4ySXcuyK3IG9GOOqsD710nw3sPAcf7H/7Q+meC/EnivxXp9rptldXNxrmnpaWSTifhoFEkhDnvk185fDb9rTxZ8NvEnjXUrXTdD1jSvGFw11rGg65ZG5sJXaVnB27twILHoRW5q37cXizUPBPiPwZZ+FPCHh7wnrlibOXR9E0xrSGElt3mqVk3O+f+ehYDsKAPRfiN8TNe8B/8E8fgHpeh6lcaS2uXOvLd3NnIY5ZIo9QLbN4+YLnqARnvmvix5GkYsx3MSSWPU59TXo3i74zat4y+EfgP4e3VnYw6N4Ne+exuIVcTym6l82TzWLFeD0wBXm9AH2P+3Qqt8J/2XwSAD4BtSeQSMww+4rW/4J7aXd+CfDPxk+J+rwPb+EdP8K3On/aZ1xDc3Mn3Ykz97HpXE2n7e+sr4P8ACvh7WPhV8M/Ftt4a0yLSrG48SaG99OIo1CjJaXHRR27VxHxt/a38efGzQ7Tw9qC6V4c8K2snmw6D4csfsdnv9WXJZ/8AgRNAHqPw18I6lbfsjre+PPiVL4B+FOsa45s9O0zRheXmp3SLhjvBVtoAPyltvGcV1f7RVt4e/wCHf3w4u/DN74h1TSrLxdNbadqHiW3S3uvKaGZ28tUdv3e5FIPUdOBXhPwx/a48R/Dz4d/8IHeeGPCvjvwqly95a6f4r0w3a2kzfeeLa6lc+mab8Uv2tvFvxc+Gn/CDazpmg2uiR6yut2UemWRtVsWWFoRBDGr7Fiw7cFSTnJNAHpn7YMkq/s7/ALLpDOgl8L3W7cdqyHfGCc98dOfWt34n+D7TQ/h/8MtN+N/xc1Swe30WK60Pwl4U0BZGt7ST7rNJujQucfeYFuvNeOab+154ltfgjD8MNS8NeFvEWi2cE9tYalq2mma+09ZSC3kyeZtXkf3TWzZ/tyeJW8L6FpOu+B/AfjO90O1Sz07WvEehi5vYYo/uITvCsB/tA570Aeif8FDrz7Fr3wN8RWEup/b5PBlncLqGtxgahK0cpCPcDHLg+oye+a+Yfi98XvF/xu8ZTeJvG+pNq2uyRRwNM8KRHYo+VdiAD8cZrrfjH+1B4u+NmreENU8T2+nT6p4ah8mK6jt2Buf3m/MyMxTr/CoC+1YPx4+N2tftA/EKbxdr1jpmm30sEdsYNJgMMCqg4+UknPvmgDrf2NfhHH8YP2gPDum3ix/2Fp7nV9Vlkz5a2sHzPk9s4A/GvqvS/ip8B1/asn+MzfHXUJtQvLpxLpU3hO4EBtWi8owbt/C7OOPr1r4w+Enx41n4N+HvHOlaFY6e03izTP7KuNQuFkae2gJ+cQ4YKC3qQa8v3H1oA9i/ax+EI+CPx68WeGIYzHpsV0bnTSxJElrIcxEE9QBxnPOK6j9ma6+MXws8L+Kfi38O0gbw5ouyz11bny5oZY252SQn5ivP3uCM9a4T4zfHvW/jdY+D4vENlp63vhvSo9Ii1C3SQXF1FHwhnLMVLAdwBU/wD/aP8Xfs869f3/hxrG5tNShFtqGl6rbCe0u4x0Dr1z7gg+9AH0Z8Ifin8Jf2qPiFpPgbxt8E9B8O6n4gka1h1/wXLJZtBMVJ80wAlT06EEe1RWfw9f4afsu/tW+EFnGoN4f8TaZYG6QbTIIrthvYenA6Vy0X7ekXhOSe/wDh/wDB3wL4E8SyptOvWNoZJ4Sepjz8q/gK8v8Agz+1H4v+DeseJLm1h03xNa+JABrGn+Jbc3lvesHLh35DZ3EnIIoA9Z/Zv0u7h/Yp/aZ1B7eRLGWDR4I7godski3WSobpgeta3xI+Jmu+Bf8Agnj8AtM0PUrjSW1u514XdzZSGKWWJNQJ2F1w23PUA89815x4k/bb8YeJPh/4p8DxeH/C2g+FtetordtL0TTjaQWgSTeWiUP8zMf+em7HbFec+LPjNq3jL4ReA/h9d2djDo/g1757K4hRxPL9ql82TzWLFeD93aooA978A2t58fv2HfEHg+NBqnij4f63BqmlJndN9hvCFmRe5CvljnOM17Tbto1v+3H8B/gtGq3GhfDuySyO8D/SdS+ztPJIw6bjIFXHTI6V8Vfs9/tB+Iv2b/Hcnifw3baffXEtpJYzWeqRPLbSxOwb5gjKchlBBzkVy+o/E7xFqHxLufHq6lJbeKbjUX1X7bD95LhnL5XPGMnp0xxjHFAH2JonxK+D3hX9pZPE0WpfHTUvH9trTNJZfY9Pd7mfzDug8oTh9pGRj8qf8J/E2k/HTxx+0D8IYtHutJsPGjXmu+H9P1CNYrmy1ODcyRsBjazdMD0rzeT/AIKIeMpNQOtJ4C+HcPjLbn/hLo/Di/2nvznzA5fbuz321W/ZJ+E/jr4h/E7Tfi7dazb6N4b0HWl1DW/FeqX0SGMowkkXaW3uWUkYAxzQBo/Hic/Bv9kn4VfDC3DW2qeJi3jLXUxhjvG22jcHkbVzx09RmvkqvXv2qPjDH8cvjp4o8V2e5dInuPI02N1CmO0j+SIYAwAQM4HrXkNABRRRQAUUUUAFFFFABRRRQAUUUUAbfhz/AJin/XjLWJW34c/5in/XjLWJQAUUUUAFFFFABRRRQAVq6X/yCdZ/690/9HJWVWrpf/IJ1n/r3T/0clAGVRRRQAu48c0maKKAClDFehxSUUAKWLdTmjcTnJ69aSigCSS4km2h3LhRtXdztHoPQfSo9xoooAXcaTOKKKAHeY2c5x9KTceOc96SigBdx5P9KCxJJPWkooAXzG24zj6Ubjx049qSigBdxo3HGO30pKKAF3Ekk8k+tJRRQA7zGwBn6f5/Gk3E9STSUUALvP0/CjceeaSigBQxHSkDEciiigAzS7j9frzSUUALuOc/04o8xvXn170lFAC7j/kUbj60lFAC7j/kUvmHOeh68DFNooAVpGY5P8qNx9eaSigBdx56flRuPIzweopKKACl3GkooAXcaNx9aSigBdx9aQMRRRQApYt1OfrRvbjnGKSigBdx9ec5z3o3HGM4FJRQAvmN644xxSUUUALuPHt7UmcUUUALuNL5jYI3HB6im0UAG40u4nqc0lFAC7j/AJFG4g5BwfbikooAXcf8ikoooAXcaNx696SigBdx45xikzRRQAu40vmN9PoMe9NooANxpdxxjPFJRQAZz/8Aqp/nPt27jt67ex/CmUUALuP9P0xSUUUAFFFFABRRRQAUUUUAFFFFABRRRQBt+HP+Yp/14y1iVt+HP+Yp/wBeMtYlABRRRQAUUUUAFFFFABWrpf8AyCdZ/wCvdP8A0clZVaul/wDIJ1n/AK90/wDRyUAZVFFFABRRRQAUUUUAFFFFABRRRQAUUUUAFFFFABRRRQAUUUUAFFFFABRRRQAUUUUAFFFFABRRRQAUUUUAFFFFABRRRQAUUUUAFFFFABRRRQAUUUUAFFFFABRRRQAUUUUAFFFFABRRRQAUUUUAFFFFABRRRQAUUUUAFFFFABRRRQAUUUUAFFFFABRRRQAUUUUAFFFFABRRRQAUUUUAFFFFABRRRQAUUUUAbfhz/mKf9eMtYlbfhz/mKf8AXjLWJQAUUUUAFFFFABRRRQAVq6X/AMgnWf8Ar3T/ANHJWVWrpf8AyCdZ/wCvdP8A0clAGVRRRQAUUUUAFFFFABRXSfDrwLqHxO8daH4U0hraPU9XuktIGu5RFEGY4BdzwBU/xQ+HOpfCfx9rnhDWHtptU0e6a0uJLOUyQMw/uMQMj3oA5SiiigAooooAKKK1dE8M6p4kuJLfSdLvNUuI42neKzgeZ1jXJZ8KDgDByTQBlUU/y+mBye3f0r1/9pL4K6b8Ctf8NeHIb66vNdl0Kz1DW4rgKFtLuZdxgTHXaMdaAPHaKKKACivU/h38DLn4gfCX4j+OotQitbbwXHZyTW0iEtcefIyKBg8dK6f4P/ssp8RPhve+P/EvjjRfh74Qhvv7Mgv9VDytcXO3dsVE54HegDwWiuk8E+Dbjxx450LwzYfvbvVdQhsItoJO6SQID9B96vWPEH7L154m/aS8TfC34VpeeKf7JuZLc3l28aLGsXyzSyuMKqq2eaAPA6K+jPGv7DPjjwv4M1TxPpGu+EPH2m6OGbVV8H6yt/LYqOrSJhSAPavPfgn+z/4w/aB8XWnh7whpjXU8xJkvJgy2tuo6mSTGBigDzWiul1bwDq+m+NtS8KRWkmpazYXs1g8NgrTF5Y3KNtAGSMjrXV/HD9nvxT+z7feHLDxbDb22oa1pUeqx2kUpaS3Ryw8uUY+WQY6DigDy+ivd/hr+x94v+InglPGV5qnhvwF4Tmk8q11jxlqg0+C7f0iyCzD3xXL/ABs/Z58XfAPWLGz8T2cJtdRjNxp+qWE4ns72L+9FIOp9jQB5hRS8elfQvg39iLxt4k8I6f4l1rW/Cfw80vVAraY3jXWF06S/U9GiTaxIPvQB880V3vxg+CXi34F+LT4d8Y6WdOv2jE0Do4khuYicLJE65Dqfat+1/Zh8bt8E9a+Kd9py6T4V02aGEPqG6Ca6Mjqq+SpHzDJ60AeR0V6p8Hf2cfFnxrtdU1HSBYaX4d0kA6j4h1u7Fpp9pkZ2vIc847AVt/Ej9k3xR8O/BZ8ZW2reHfG/hCOYW9xrfhHUhfW9rITgLL8qsuT7UAeIUV7D8J/2XvFnxY8M3nimO70Xwr4Qs5fs8viLxNfiysvOx/q1cglm+gNHxe/Zf8V/CDw/p3iO5utG8TeEtRkMFr4k8MXwvbBpR/yzZwAVb2IFAHj1Fe9fDv8AY58XePPBNt4wv9b8LfD/AMMXj7LHUvGurrp0d8f+mIKsWHv0rjPjR8BfFvwG8RWuk+KrGOP7ZEbiyvrSdZrW9hH/AC0hkHBWgDziiiigAooooAKKKKACiiigAooooAKKKKACiiigAooooAKKKKACiiigAooooAKKKKACiiigAooooAKKKKACiiigAooooAKKKKACiiigAooooAKKKKACiiigAooooA2/Dn/MU/68ZaxK2/Dn/MU/68ZaxKACiiigAooooAKKKKACtXS/+QTrP/Xun/o5Kyq1dL/5BOs/9e6f+jkoAyqKKKAPb/2cdE+E87eItT+JMWq6/fWdun9ieDdJWeOXWJ2zlWmjQ+Wqj6V698TPgP4P8VfsxeJ/iTo/wp1r4Pa74bvbRHsL+/urq31G2nfYHQ3A3AhvSmfsX+ONB0f4R/EnwxpvjbS/hh8VNWe3k0jxPrUot7f7MP8AWQicq3lE+oGfeu88ReK9Ktf2RvjV4O8R/G/T/iJ49un0y6wdYa4s9qXXmeTZSSn9+wVGY7AoG8DsKAOTh+GnwG+GP7Nnwn+I/jXwlf8AiLW9ft7yJ9HsdTnt0vpUm2rJK+/92FXtHtB9Ca5D4T/A3wj+1B8Hb7SfAeiR6J8YtBvPtDW7Xs7x61p8r7cgSOyo0P8AsgZzzmqXx+8VaLq37Jv7Pek2es2F5qOmQamt7YWtwsk1uXn3J5qA/KTXU/CH4haF+x78E7fxv4f1XSPEPxe8XSCC2sra7jul0TT0bc5mRTxLKccHp2xQBR+IXw5+FPh39pL4VfCfwzpq6m2m6rp+k+K9fjvrkNqd29yiTrGPMxGqAkBowp966HXP2fvh/wCJr79p3wxouitB4y8GXs2r6DM17cyv/Z8L/vbcK0hEjY/icM3PWq3jOP4d3/7Q3wg+M3hTxFpGm6L4m16w1LW9EuNRi+06HeJcRtcmSNmDCEnLbs9CfaqOn/GzRvh7/wAFDvEvi4ahaah4T1LxDeWl7eW8geCayuGKswOOVwc+2O1AHF+FfhN4P0H9jvxV8S/FWmC+1/WtUi0Pwmv2mWMwSRjdcz7VcK/HGHDAY4Aryf4M/DG6+MXxS8MeC7KQQXGtXqWgmxnYCcs/4Lmvd/24PF3hfS28DfCjwBrNjrvhHwfp7P8A2hYTrPHdXlwcyuGBOTgDvxnjFZF5J4Q/ZD/aW8B6/wCCvGcHxG0bTlttTubq1RVHzgiWHgnnafqM+tAHc69N+y14S+Kd18NJ/hlrWoafZX50e48aN4kmW985X2NMLdT5ONwPG3HHSr/wp/Yu8NQ/tZfEz4TeLGXU9O0nw1eX2m6k88kPkyEQNBcN5bLnasjfK2VOeQeKZ4k+B/wm8ZfF29+Jtt8cfCNj8PdQ1BtaubG4uJBr0W6UyNCLPGSSx67s10Xwz/aQ8M/Ef9r/AOMXj281Cz8M6Hqfg7UdP0uTVp1g80KsMcKncf8AWPszigDifhr8Nvgb8dfjBHo3hfwtrWmeFvDGg6hqd9v1JpNQ8TSQDcixoWKxlh2j211/wt8beEPEP7PHxx1D4aeDr74L6vo1lbXx1iw1i4vEvURyBZvLN8ys4ZsqhAPcGuA/4J12dlD8RPGOu391caDDo/hq6nTxVFEJE0SRvlWd1b5W4JG1gQecivWta0GX9ri3k8C+H/2qYfHOsS+Zd23huXwS2iQ6hJF8/wA7x4Vm6kF80Enyv+yB8NLf4q/tCeEdHvkD6RBdDUNRZs4W1g+eQn0Bx+te0fBfSfCv7Zf7T/xl1jx4CdKm8O6rq9ldNNJH/ZxikhS3lARlDbI2I2tlTnJBPNc1+z7AfhV+zB8ZviRKjW+qatFH4L0eXkNun5uin/bPgnqOxBrU/wCCZraYvxU+JB1tZH0f/hX+qfbFiGWMXm224flQBp/Bfwz+zp+0d4sb4Y6N8PtX8Ga7qEEyaH4qufEE11LPcJG7gXEOBEudv8K9q5j4P/A3wL4F+D/jD4pfF3RL3xBb6Rrw8M6f4atLt7Vbu9Cs0nmSoQyhQP4TXd/AXwP8Lf2ZvG4+MOsfFvw34s0rSY5ptA0bR7h31S+meNkUXEBUeUAGOcmsP4S/ELwr8fvgT43+E/jfxdYeCfEN94lfxdo2qaq5isHuZF2yQysAducnB7dqCjtPCuq/C/xH+xn+0Hq3w78OX3gy7eDSotT0G41Fr+CPbcnZJDK/7xhyepx7Vaufid8L7X9g3w7qd38G7O60D/hMJLZdB/4SS9VPtQtfnufMEgkyf7u7b7VzmhaP8Ovg7+yf8cfCEHxJ0HxX431O309rgabdg2REdz8kVo7gGdh95ioGBXmmr+KtIk/4J9+H/D6axaHXIfHM92+lif8A0gQm22h9vpmgCz+wvZw+GfGfjP4q3tvGuk+AdAu9UhaQZH22RClrEM8FiScZ9K8++Ef7RmofCvQfifYDTl1K88caU+mzag1y0c1sWbc0inuSeuetej+Il/4U/wDsIaDokibNb+J2ttrMqn7y6dZjbHn2aQ7h9K539jz4I/D34t+LNQm+JPjzR/Bug6SiSG31LU4rGXUGJ5jRpGGMeooA9L/YOFx8M/CPxc+K3iNDB4Li8NXWjL9qOItUvpSCsCZ4kYDPrjNUf+CePx48eWnxu+Hfwzt/EMtv4IuNSubibS4YIkEzm3kc75AnmMNyg7SxHHSu1+Pnwv1j4zfYNMg+OPwG8M+CNGXZpPhfTfGQFvbcY3f6nLvj+NyW968A/YZ1/SvCv7V3w/1XWdSs9G0yzuZmuL3UJ1hhiBtpFyzMQByf1oAp+IvjN4x+B/7SPxJ13wTrLaJq8us6nZtdC3hnYRNdMWC+ajBTlR8www7GvWP+CjGq3mtTfA2/v7mS8vrr4d6dcT3E7b3lkfcWdieSSSea+bfjVeW+pfGTx5d2s0d1aXGvX8sM8RysiNcOQy+xBr3L9ubxbofiqD4JJous6frLaf8AD/TbG7GnzrL9nnUHdHJtJww9KANj/gpHfT6T8WPDHga0laHw94Z8MafbWVihxCCyEtIE6EnPXrSeHr+fxt/wTb8WR6o/2p/CHi21OlTT8tbxzIu+KNuoHJOM966T4g+HfDf7cfhnwf4t0Pxx4a8L/EXStKh0fX9F8VaiLFZvJBC3MDkHdnPSuU+OniXwj8Fv2ddP+BfhTxBY+MNcv9VGueKdZ0uUzWUcqKFjtoHwNwBAOfb3oA+bvhn4cg8X/EbwtoV02LbVNUtbKUg4IWSVVY/kTXvX/BRzxNd6l+1h4p0tS1vpmhRWmn6dZrxHbQi3ifbGv8PzMTkc15/8RfAfhX4X+E/hl4p8I+PYvEHiTU7VdR1DT4UAfSbhSGVT9CO/pX0P8bfhv4Z/bY8SW3xU8DfEHwl4d1fU7SCPxDoHizUhp81ldRoEZ0JBDxlVXkelAGD8Q9WuvFP/AAT5+Fniy7l3eIPCfimbRLK+lAZzbFJJFTnhlVlXqD0xXV2fxs8b/HL9gf42az448QT69f2+taVBAXjjhjhTcGwkUaqicgchQa8x/aq8feEvDfwp8BfA7wLrcPibTPDEsuo6xrlqpEN3qMmQRET1RQzD8fal+FPizQ9P/YJ+Mug3Os2Frrd9rmmzWumyTqLieNWXcUQnJAGaAO9/Zb0Wz+Lv7Ivjz4e+JrmXwR4XttYj1uDxxKUWwS5EYBtp1ZlMox2XOK29Q+GL/s6fsWfEaPwzq9r8U4PGUttb6lq3h6ZZtN0a3hfcruu7cJHz1xxxXFfC+48JfH79knTvhCPGWk+CvG3h/XJtYtk8QTG2sNTSRcbTNztYZ6EVteB9J0T9jn4S/FNPE3j7w74k8QeMdEk0PTfC/hfUvt6qzj/j4nZQFUr2I5oAv/C/wrp3x2/YY0vwz4w1RPhjpnhPWZrrSPFOpukemas8zENCyFg7up7qDj9Kb8dvAtz8Af2ILXwdosq+PND8Ra8mqah4u0uRZtKs5FXCW8WPmRiecsOefpWT9h8M/tV/s0fC/wALaJ480Pwb458BRXFpPonii8+xW17HK277RFJgguPfn6VX1OLw/wDsv/ss/EL4f6p430Lxj4z8azWpg0nwzd/bbbTo4m3GZ5cAK5HpQB1Xxo+EXiL9sD4a/CfxD8JJ7TxHYaJ4cttFv/CyX8NtNp1zGD5jhJXVfmz1FRftK/C0eC/2AfA9hqeu2PiLxB4Z8VSae89lL50dms0UjtaJL/EilVPtjjFebaJ+zj8Ovjd8K/CmqfDzxzofhrxpbQtB4l0bxlq4tjJLniaAlfmHt0pn7Unjfwx4K+DPw/8AgX4Q1+08VJ4fnn1bxDrOmvutbrUZcjbE+PnVFZhnHegD5Sor3Nvgb4E/tr4TWX/C1NKWDxdaxz63c7Pl8Pu38Evzc46c46VDa/BLwRcN8W1f4naXGPCCudDYJ/yMOHcfuvm7hR09RQB4lRRRQAUUUUAFFFFABRRRQAUUUUAFFFFABRRRQAUUUUAFFFFABRRRQAUUUUAFFFFABRRRQAUUUUAFFFFABRRRQAUUUUAFFFFABRRRQAUUUUAFFFFABRRRQBt+HP8AmKf9eMtYlbfhz/mKf9eMtYlABRRRQAUUUUAFFFFABWrpf/IJ1n/r3T/0clZVaul/8gnWf+vdP/RyUAZVFFFAC7z/AJFKJGHf2ptFAD/OfOc4Prjmml2OeevWkooAd5r7idxyep9frQZCc9geuBim0UAKHIGO3pRuO3b2zmkooANxpdx4/wAKSigD1f4C/H/U/gRqetvb6Pp3iTQ9ds/7P1fRdWjLQXkOc7W2kEc+hBr0qz/bI0TwGt7c/C34P6B4B8R3dvJajXI724v54EcYYwrKdqkjvjivl7Jozxj+lAHSX/xI8Sap4K03wjdao8vh3TrmW8trHy0CpNIMO5YLuYkf3icdsV2v7Pvxym+A+seLL+DSo9WbXvDd54eZJJjF5S3Hlnzc+2wcV5NS+Y23GeP8/wCFAC+Y5YtuO49Tnk0gkYDGflznb2z9KSigB4mcYw2CpyCOo+npSeYQc8ZxjpTaKAOj8V/EXxF44tdEttc1Jr+DRbFdOsI2jRRBbqxYINqjPJ6nJPc1zu44x2pKKACnea+3bu+XOdvb8qbRQAu44A9OKNxpKKAF3txzyOlHmNtAzwO3akooAXccY49elG9uOaSigBzSFvT8ABS+c5OS2W/vd/z/AAplFAClieaXzGHQ44xTaKAHNIzcE8ULKyLtBwM5PHWm0UAO8xs5LEn1NAkZeQcU2igBwkYcA8d/f6+tJ5jcc9OntSUUAFFFFABRRRQAUUUUAFFFFABRRRQAUUUUAFFFFABRRRQAUUUUAFFFFABRRRQAUUUUAFFFFABRRRQAUUUUAFFFFABRRRQAUUUUAFFFFABRRRQAUUUUAFFFFAG34c/5in/XjLWJW34c/wCYp/14y1iUAFFFFABRRRQAUUUUAFaul/8AIJ1n/r3T/wBHJWVWrpf/ACCdZ/690/8ARyUAZVFFFABRRRQAUUUUAFFFFABRRRQAUUUUAFFFFABRRRQAUUUUAFFFFABRRRQAUUUUAFFFFABRRRQAUUUUAFFFFABRRRQAUUUUAFFFFABRRRQAUUUUAFFFFABRRRQAUUUUAFFFFABRRRQAUUUUAFFFFABRRRQAUUUUAFFFFABRRRQAUUUUAFFFFABRRRQAUUUUAFFFFABRRRQAUUUUAFFFFABRRRQAUUUUAbfhz/mKf9eMtYlbfhz/AJin/XjLWJQAUUUUAFFFFABRRRQAV6l+zj4F0/4nfFjw54P1aWaDTNf1Ow0y4ltmCzIk15ChZNwIz8x7d68tr3X9ilif2mvhtkn/AJGXSAOf+ohbmgD9NP8Ahyp8EP8AoafiB/4MbH/5Dpjf8EVfgkvP/CV+Pv8AwPsf/kSv0CooA/P1v+CKvwSXn/hK/H3/AIH2P/yJQ3/BFX4JLz/wlfj7/wAD7H/5Er9AqKAPz9b/AIIq/BJef+Er8ff+B9j/APIlDf8ABFX4JLz/AMJX4+/8D7H/AORK/QKigD8/W/4Iq/BJef8AhK/H3/gfY/8AyJQ3/BFX4JLz/wAJX4+/8D7H/wCRK/QKigD8/W/4Iq/BJef+Er8ff+B9j/8AIlDf8EVfgkvP/CV+Pv8AwPsf/kSv0CooA/P1v+CKvwSXn/hK/H3/AIH2P/yJQ3/BFX4JLz/wlfj7/wAD7H/5Er9AqKAPz9b/AIIq/BJef+Er8ff+B9j/APIlDf8ABFX4JLz/AMJX4+/8D7H/AORK/QKigD8/W/4Iq/BJef8AhK/H3/gfY/8AyJQ3/BFX4JLz/wAJX4+/8D7H/wCRK/QKigD8/W/4Iq/BJef+Er8ff+B9j/8AIlDf8EVfgkvP/CV+Pv8AwPsf/kSv0CooA/P1v+CKvwSXn/hK/H3/AIH2P/yJQ3/BFX4JLz/wlfj7/wAD7H/5Er9AqKAPz9b/AIIq/BJef+Er8ff+B9j/APIlDf8ABFX4JLz/AMJX4+/8D7H/AORK/QKigD8/W/4Iq/BJef8AhK/H3/gfY/8AyJQ3/BFX4JLz/wAJX4+/8D7H/wCRK/QKigD8/W/4Iq/BJef+Er8ff+B9j/8AIlDf8EVfgkvP/CV+Pv8AwPsf/kSv0CooA/P1v+CKvwSXn/hK/H3/AIH2P/yJQ3/BFX4JLz/wlfj7/wAD7H/5Er9AqKAPz9b/AIIq/BJef+Er8ff+B9j/APIlDf8ABFX4JLz/AMJX4+/8D7H/AORK/QKigD8/W/4Iq/BJef8AhK/H3/gfY/8AyJQ3/BFX4JLz/wAJX4+/8D7H/wCRK/QKigD8/W/4Iq/BJef+Er8ff+B9j/8AIlDf8EVfgkvP/CV+Pv8AwPsf/kSv0CooA/P1v+CKvwSXn/hK/H3/AIH2P/yJQ3/BFX4JLz/wlfj7/wAD7H/5Er9AqKAPz9b/AIIq/BJef+Er8ff+B9j/APIlDf8ABFX4JLz/AMJX4+/8D7H/AORK/QKigD8/W/4Iq/BJef8AhK/H3/gfY/8AyJQ3/BFX4JLz/wAJX4+/8D7H/wCRK/QKigD8/W/4Iq/BJef+Er8ff+B9j/8AIlDf8EVfgkvP/CV+Pv8AwPsf/kSv0CooA/P1v+CKvwSXn/hK/H3/AIH2P/yJQ3/BFX4JLz/wlfj7/wAD7H/5Er9AqKAPz9b/AIIq/BJef+Er8ff+B9j/APIlDf8ABFX4JLz/AMJX4+/8D7H/AORK/QKigD4A/wCHKnwQ/wChp+IH/gxsf/kOmN/wRV+CS8/8JX4+/wDA+x/+RK/QKigD8/W/4Iq/BJef+Er8ff8AgfY//IlP/wCHKnwQ/wChp+IH/gxsf/kOvv8AooA/P1v+CKvwSXn/AISvx9/4H2P/AMiUN/wRV+CS8/8ACV+Pv/A+x/8AkSv0CooA/P1v+CKvwSXn/hK/H3/gfY//ACJQ3/BFX4JLz/wlfj7/AMD7H/5Er9AqKAPz9b/gir8El5/4Svx9/wCB9j/8iUN/wRV+CS8/8JX4+/8AA+x/+RK/QKigD8/W/wCCKvwSXn/hK/H3/gfY/wDyJQ3/AARV+CS8/wDCV+Pv/A+x/wDkSv0CooA/P1v+CKvwSXn/AISvx9/4H2P/AMiU7/hyr8Ef+hp8ff8Agwsv/kOv0AooA/P1v+CKvwSXn/hK/H3/AIH2P/yJQ3/BFX4JLz/wlfj7/wAD7H/5Er9AqKAPz9b/AIIq/BJef+Er8ff+B9j/APIlP/4cqfBD/oafiB/4MbH/AOQ6+/6KAPz9b/gir8El5/4Svx9/4H2P/wAiUN/wRV+CS8/8JX4+/wDA+x/+RK/QKigD8/W/4Iq/BJef+Er8ff8AgfY//IlDf8EVfgkvP/CV+Pv/AAPsf/kSv0CooA/P1v8Agir8El5/4Svx9/4H2P8A8iUN/wAEVfgkvP8Awlfj7/wPsf8A5Er9AqKAPz9b/gir8El5/wCEr8ff+B9j/wDIlDf8EVfgkvP/AAlfj7/wPsf/AJEr9AqKAPz9b/gir8El5/4Svx9/4H2P/wAiU/8A4cqfBD/oafiB/wCDGx/+Q6+/6KAPz9b/AIIq/BJef+Er8ff+B9j/APIlDf8ABFX4JLz/AMJX4+/8D7H/AORK/QKigD8/W/4Iq/BJef8AhK/H3/gfY/8AyJQ3/BFX4JLz/wAJX4+/8D7H/wCRK/QKigD8/W/4Iq/BJef+Er8ff+B9j/8AIlDf8EVfgkvP/CV+Pv8AwPsf/kSv0CooA/P1v+CKvwSXn/hK/H3/AIH2P/yJQ3/BFX4JLz/wlfj7/wAD7H/5Er9AqKAPz9b/AIIq/BJef+Er8ff+B9j/APIlDf8ABFX4JLz/AMJX4+/8D7H/AORK/QKigD8af26v2B/h/wDsk/DnTtf8Jax4l1O71KeWykj1ie3lQL5W7/lnDGetfnbX7Tf8FkT/AMWN8LjsdTm/9ENX4s0AFFFFABRRRQAUUUUAFe6fsU/8nNfDb/sZdI/9L7evC690/Yp/5Oa+G3/Yy6R/6X29AH9GlFFFABRRRQAUUUUAFFFFABRRRQAUUUUAFFFFABRRRQAUUUUAFFFFABRRRQAUUUUAFFFFABRRRQAUUUUAFFFFABRRRQAUUUUAFFFFABRRRQAUUUUAFFFFABRRRQAUUUUAFFFFABRRRQAUUUUAFFFFABRRRQAUUUUAFFFFABRRRQAUUUUAFFFFABRRRQAUUUUAFFFFABRRRQAUUUUAFFFFABRRRQAUUUUAfn7/AMFkv+SH+Fv+wnN/6TtX4s1+03/BZL/kh/hb/sJzf+k7V+LNABRRRQAUUUUAFFFFABXun7FP/JzXw2/7GXSP/S+3rwuvdP2Kf+Tmvht/2Mukf+l9vQB/RpRRRQAUUUUAFFFFABRRRQAUmaWomJFAEtFItLQAUUUUAFFFFABRRRQAUUUUAFFFFABRRRQAUUUUAFFFFABRRRQAUUUUAFFFFABRRRQAUUUUAFFFFABRRRQAhYL1ozTZACK5rxx460n4e6DNrGsTSQ2EGTLIkTSEAd8CgDp80ZrzeH4/eDLqx0G9ttSkubfXN32HyoWYy7euBT/EHxy8I+GtTuLC6vbi4uYBmaOxtZbgwj/a2KeaAPRqTNeS3n7S3gax0fQ9Tm1OZbbXCU0//RXLSuAxK4A64Fdf4L+ImheP7WWfRbz7SYZDHLCw2yRn/aU8igDq80ZqE55wen+ycUnPyjdjt8ynk0AWKKptcKLgQeYgmYbxGx525xkVPGzbsMc0AS0UUUAFFFFABRUcjFelNZyP4qAJcgdaWq7fN15oGWXOcUAT5pahVi3SpqACiiigAooooAKKKKACiiigAooooAKKKKACiiigAooooAKKKKACiiigAooooA/P3/gsl/yQ/wALf9hOb/0navxZr9pv+CyX/JD/AAt/2E5v/Sdq/FmgAooooAKKKKACiiigAr3T9in/AJOa+G3/AGMukf8Apfb14XXun7FP/JzXw2/7GXSP/S+3oA/o0ooooAKKKKACiiigAopM0tABXnHxi+J0nwxstHuEtftgvr1LUjOMZZR/U16NmvAP2u/+QD4T/wCwzF/6EtAHvtQW98txNPGAQYjgn1qduOlZmmyA3l2Ffd36CgDWooooAKKKKACiiigAooooAKKKKACiiigCt9tX7Z9nxzjOas1lM6/20Rv+YR8LitIsdyigB9FFFABRRRQAUUUUAFFFFABRRRQAjVWmvlhmihIJkk6CrLVl3jD+0rYCQf7v/wBegDVooooAKKKKAI5DxXLfEPXNB8N+Eb+48RyxppRhZJBKflcHtiug1TUIdMspbmdtkSDJb0rxPXvjVaawzW1xoFrqNlu+7eIHXj2PFaU6M6t+UqMHI8D+A2v2vwg+MQ0fxWFttH8QxSXnhN7mfcLeNv8AlmBj5fr1rrP2YPEEXhZPiTp/ii6g0bxUdUmfztQPEsTHMRUHqFXt375r6E8JXHhr4h2ttcz6FYPdWI2xrNaxu0A9EJGR+FdPfeD9C1S6F1daPY3NyP8AltLboz9MckjJ4qXFwbjImzV7nwN4w8daj4l8D/Ay7utS0/QL6bxRPLCfIxFBGIJcEjpgkDqK1fAvjfXPArfFy702T/hItXbU7V5ddsYilvJHLOqSBIxu2lFJNfblx4D8M3cNtFP4f0uaK2OYY5LKNljOCMqCvHDH86t2vhbRbG1ntrbR7G3trg5mghtkWOQ8csoGCeB1qQPj/wAQ/FzxR4R1jU18OalNrfhCRtN82+dy7WiS7vObd+A+nbFWfEXjrxho+o+JLPw3rH9q6BFNZvayXU5R5jJDkxLMcjJbn2r62g8J6NDZy2kOj2MNpMoSSBLdBG4GcArjB6mmDwfokVoIE0mxWEEME+zJgEDAPTqB3oA+Q/hT46tfEHxo8Fajf6tqVrBP4fJWG6lYLLcef0/KvtSJjuFc3rHhXRIfsc6aVYh7c4jYWseUGc/Lxxz6V0sajigCaiiigBGozRTW46UAY3jDxFB4T8L6prV1zb2Fu9zJ/uqMkV4D4U8c/FX4sfDWfxr4c1HTtLW4aR7DSp9PMpkRegLdea9z8daXZeIvC+raJqE6w2uo2r2sjs2Dhxg/pXknwj8J/EL4YeF4vCNpZ6TqOk2bMlnqRufm8rPy5Xp09qm43F8tzuf+Fx6Hpd5baRqd0V1kCOG4VE+Vbgx7ileKfFH9qrUZvAdh4l8ITJo9m2prZTSaraEhlJUbv1NRfEb4E/Erxj8Q7jV4o9JuLODU4L2zYXLQt5Yt9jqwXG75u7ZNZWvfs3/Ei7+Gun+E4bPQrhbTVY7zfPdkh4wQcEEeoFUI9J+DPx8vPEnjLxlomr6hY6ppeg2sNz/b9lhYH37tydByMCvQ9L+OnhLVJr+MX/2d7SH7SRcDZ5kWM70z1FeFxfsw+Kde8TeNNXuTpvhaLV9LSzt9L0ZwYPNXOXZcAZOTSeIv2XvFHxAs9MutVls9L1TQ9Dk0q2NlMSlyzDGX7fnQB7fb/H7wfJb6nLLfSWp0+LzpYbiIpI0f98A9RWNr37THh/Rdb8LacLLUJn166a1iP2cjYRGz5P4CvPtd/Z78ReMpTqGt6dps1wNF/saS0t7lkW5X++WGCD7g5rIt/gD488PWvgO4F7Z6lJ4d1h7xorqXcy27W5TBYjLYJPUk0AfWsMwmiR+m4Zp61XsTusoieu2rC0ALRRRQAUUUUAFFFFABRRRQAUUUUAFFFFABRRRQAUUUUAFFFFAH5+/8Fkv+SH+Fv+wnN/6TtX4s1+03/BZL/kh/hb/sJzf+k7V+LNABRRRQAUUUUAFFFFABXun7FP8Ayc18Nv8AsZdI/wDS+3rwuvdP2Kf+Tmvht/2Mukf+l9vQB/RpRRRQAUUUUANY9h1qPnGMc0+QdwcGvDvGfxv1K2+Inibwx4fggmm8N6NHrN7NcZ2srmQbFx6bR+VAHtq8tjNP3H1rzSL4p/bPgePH1lZSTM+kf2ktqvzNnyt23864D4e/HzxP8TrXUoPDttY6rdiOJo7qBGEFozLkrLk8n6UAfROTXgv7XX/IC8Jf9hmL/wBDWtn4R+NvG+veNvEGieJzpc8OlKI3n0yNlAmyp2ncf7pNcr+15r+nJZeE9Pa+tl1D+1YZRbNMol27h/ATmgD6NkrM03/j8vcHd+GKttfW/wDz8R9M/eFZ1hfQm8vP9Iifv6cUAblFV1v7fn9/H0z94dKPt0HH76PkZHzjpQBYoqv/AGhbZA8+PkZ+8OlIuo2zdJ4+mfvCgCzRVb7fbsMiaPbjO7eKP7Rttyjz48t0+YUAWaKrLqEDYxNHyM/eFKt/bsAfPjwc4+cdqALFFV1voG2Ymjy3T5hQL6BsYmjyf9sUAWKKrDULbaG8+PBOB8wo/tC3AUmePLHAG4daAKbA/wButlvl8v0FaTfeWsb7dbtrJxdRZKFQvvWgL+3ZgRPHjOPvDrQBcoqv/aFtgEzx4JwPmHWj+0Lbdjz485x94UAWKKrDUbYsR58fBC/eHWlN9bqMmePGcffFAFiiq7X0C8GaPOcfeHWk/tG2+b9/H8pwfmFAFmiqzahAqljNHgHH3xStfwL/AMto+uPvCgCxRVf7fb5YGaMbevzChr63VSTPHgdfnFAEzdKzLshdRtAMbfoKtvf25/5bxjp/EO/Ssy8voP7Stv8ASIdq9RmgDdoqu19AoYmaPC9fnFH2+2/57x/99igCxRVc30CkgzR5AyfnFH26Dn99Hx1+cUAc78S7Oa+8G6jFbgmUx8AV8tNCylkdW3A5dSMY/WvsSS4t5FIaaMqR03iuS1D4ceGdSvvNkt4Y5cZZVYDIrvwuJ9judFKpybnBfAfTboXNzeK7C1C87v4jXt0akMcniqGm2+naXbrBamCGJfmCqw6VbW6t1bPnx9M/fFc9ap7WfMZSnzPQtUtV/t0HH76PJGR8wpFvoT/y1j6Z++KwILNJUH2634/fx4Iz98Uq31uxAE8ZJ6fMKAKWtErHGQduXweAa0I8YHOayNWv4GjixcwjLZGTmtCPULbYv7+P/voUAW6Krx30D/8ALaPnp84wfpQt9AcDzo8nOPmFAE7cLVHUrw2lhPP3jRn/ACqY30DKP3sZycD5xVa6a2vrWVDNH5cqbM7xQ9hpq+p8deLvG2o+JtYubmS8k2sx2wxuQFA6dK7T4JePr+y8SW1jc3L3FpcnywrNnBxgGs/xt8IdR0nVpmskjms3OFZXGcV1vwf+Fdxp2sR6xq3lW8cf+rj8wfeFc0VK57E50nTsj6D8tT1Gfr+dOxUEd9Ayj9/H1x98UNf2y9Z4xzj7wrpPGJ8CjaMY6D2qH7db/wDPePrj7wpPt1vz+/j64++KAJWA44H5VS1b5bN2LbR+dTSX1vz+/jHb7w61U1S8h+wyhriNAvXLA0AXLPP2KLav8NWFrOs9Qto7VB9pjwvH3hVgX0C5zNHj/fFAFqiq7X9uisTNH8vUbhQ1/bruzNH8vX5hQBYoqu19Aucyx8f7Yo+3WwBPnx46/eFAFiiq5vrcMR58fAyfnFKb63H/AC3j6Z++KAJ6Kg+3W/8Az2jzjP3hR9ut/wDnvH0z98UAT0VB9ut+P38fIyPmFC3tu2AJo+mfvCgCeioIryGZlEcquWGRtYGpsigBaKKKACiiigAooooA/P3/AILJf8kP8Lf9hOb/ANJ2r8Wa/ab/AILJf8kP8Lf9hOb/ANJ2r8WaACiiigAooooAKKKKACvdP2Kf+Tmvht/2Mukf+l9vXhde6fsU/wDJzXw2/wCxl0j/ANL7egD+jSiiigAooooAimJGOMivnvxd8I/EGn/Ezxv4g0K1S/tfFOhRaUUaYL5EoMhL9OnzDjpX0TRQB4No/wAOfFfhf4KjwDpkKedBoS2yagz8vceTtIx0+926Vi/AP4Ja18OPFN3qSWKaHp9xYiO6sUuBMk1yB/rAAP5cV9JbR6e9IEC4wMYoA82+C/hDUfDuh317rsSRa9q1y1zeIp3KDwq8/QCvLf2v/AugXk3hHXZtJtJNYXUoYhetGPN27l4z+Jr6b2AdBjnNeAftdKF0LwkR/wBBiIf+PLQB7d/Y9of+XdOmOlUdNsbZ7y83xKei9McVuNxWbpjH7ZefNv5z0AoAsf2PZDP+jp02/hTf7Jtfl/cL8o2jjtWhtFG0UAZ/9k2uQfITpt6dqF0u0XpbIONvTtWhtFLQBnLpNmoQG1jwowPlpf7Jtdyt9nTK9OKv9aNooAof2XapjbboO3Sm/wBl2Q+X7LHtXOOPXrWjSbRycUAZ/wDZdrGEZbdAU+7x0oXR7NWBFtGD/u1okA8UbRQBnDR7RUVRbptU7hx3pf7Jtf3f+jp+7O5eOhrQ2ijaKAOfWwtF1oRCNQQm4DHf61of2XaKMLboBnd071Gc/wBtFdwxs9BWkiAUAUTpFoyqpt0wp3DjvSf2Xabt32ZM53dO9aO0UtAGd/Y9oM/6On3t3TvSNpNmy7TaxkZ3fd71o7RS0AZzaXaM2TbqTnd070n9k2fzf6MvzHceO9aG0elG0elAGe2jWDKym3jxnPSlbSbJusKdc9K0No54o2j0oAzzpNmxYm3TLdaG0mzZWU2sZDdflq/tHpUX972oAqtpdm/W3Q9O3p0rOvtPtBqFsBGMN14rdXms6+z/AGhajfz9BQBK2l2bKym2jIbr8tNXR7I9baP8qu59qWNeTnmgCk2k2rMzGBSWGDxT/wCx7L5v9Gj+brxV7aPSo2JDYoArHR7JVx9mjx06Uo0izLFjboWK7ScdqnZt3Wk3EDGaAIv7Isx/y7p029O1IdFsWXBtY8Y29O1XaKAKC6PZtg+QoK8DjpTRpdoP+XaPpt+72rRooAzf7HtNoH2aPAGPu0v9lWwZT9nTK9OK0aKAOe1bTbWKOEIscTK3G0Vej0eyAAFulN1nKrEUAzu9AavDAXINAFZdFstqD7NHhPu8dKUaPaBlIt0yvTirWW3YzxT1OV5oApDR7JdoFtH8pyOKb/Y9lhB9mjwhyvHSr7cLxUefagCi2jWe5T9mjO3kZXNOj0mzxj7NHjOcYq3uJpFO33oGVf7JshjFrH6/dpf7ItH+9boed3TvVksV96lj+7QIqf2LZ/8APunXd+NL/Y1jz/osfJ3dO9XaKAM6TSbM5/0dOu7p3qrqWnWcVjMfIWPd1wK2HUYqlq2VsXx/KgCC10u0a2XNvH8y5PFSnSbRiVNtHj/dqezX/RIjjnbVheWNAFFtLtGDA26Hd14pzaPaNuzbod3Xir9FAGe2i2bZzbRn8KU6PaMcm3TPTpV+igDPOjWZLH7NHluD8tB0azPW2j6bfu9q0KKAKH9j2u7P2dM429O1J/ZFl/z6x9NvTtWhRQBnnSLVhg2y4xt6dqcuj2a4IgX071eooApR6fbQurJGqMo2jA7VYVTuFSbR6UUALRRRQAUUUUAFFFFAH5+/8Fkv+SH+Fv8AsJzf+k7V+LNftN/wWS/5If4W/wCwnN/6TtX4s0AFFFFABRRRQAUUUUAFe6fsU/8AJzXw2/7GXSP/AEvt68Lr3T9in/k5r4bf9jLpH/pfb0Af0aUUUUAFFFFABRRSZoAWiiigAr5//a8/5APhL/sMRf8AoS17/mvAf2usf2F4T5/5jEX/AKEtAHvcgFZmmsXvLvLKfoMVqSVl6bxeXvzL+VAGvRRSZoAWiiigAooooAKKKKACiiigAooooAydw/tx/mHEZrTV89qzBhdcfLL9zpWmlAD6KKKACiiigAooooAKKKKACvJf2g/itq/wh8K2Gs6Xp9nqK3Oowae63chQKZX2huD2r1qvn39sjwZ4g+IXw10/RdA8P3GvTPrFncTrBMsZWKKTcxyemfagDU+HPx+l17xr4j8K+IbazsdQ0aCO5kvLCQvamNhkncSeRXUah8WPCaFdSbX7RbK2cJNKxKhDjIzkdxXzlo/wq8efCXSvHWg6F4RPijTNfsWuLW6uLhRJFM6/6iRi27A9jXCat8LfibqFn4ospvBepmPWXt5oY57yABHWPBXANAH21Y/FTwtqGh3mr22uW89hauIpps4CP6YxXG/C39oC08Z/8JRPqDWdlp+k30lrHcxu370L3IPevBtd+F/xHt/Emv6jpvhG4/suPV1vE05LqJUvk2rwqhsDknrTdJ+G/wASLjUrvXV8IXemwx64b46Q1zF/pUTtjs2DigN9z6rm+MXhK30q21GXW7ZLO4cwxyM3WQHG3HqTTdL+MHhDXryztbDXbW4ubxtsCK3LN/c+tfMGsfArxbNrGm6lF4YmntbzxFDqMuntMm20iSTL8dOfSq2i/CXxxo1xpl3b+A7i3mtfGK6nlbiLd9m2tlh83TIHHSm7JLUPh0ep7r8fvjTrXwmvPCEGl6fp94Ne1A2G+9lKeWfLZs8H2Fa3hn4mapHdaufFa6Vp+n2iqYr6xleSN2zll59BXnX7WXgPxH8QNU+GsekeFbjX7HTtZN3qBjnSIxR+U6dTz1qXxp8EJ/BV54R1TwRoEl3Y6fqFxc6hoqSKBN5yYH3sghT26UgtY9gvPjN4NsdOgvptetUtp8+W2772DggD1Bq5D8TvDNxq1tpcesWzahcIHihLgFvb618mf8KD8Vx+N9B1CbwpcXelz6vdXU9r9oiKWSPJkAjdyPYV0HgT4U+INF8eC11nwddXy2Gotd2niX7TF9n2k5UFA27AFAHu3ir9oHwP4R0W51K71uF4ICoby8nq+z09a73TdQg1awgvLZ98EyB0bGMivhib4H/ERvCXizTrfw/PNYS28MlhZX00RuBOLpXMW/OCNpPJr7b8MTz3Hh7TpLmxfTLhoVL2bkExHH3SRxQBq0UmaWgDL1piscWCo+fHzU/UrqS30q7mtwrzRws6B+FYgZpmsbfLiyV+9n56Na819FvVgi+0StA+yNeN2RgCgD588K/tH+MdV8Fax4yvvC1g2gaTfXFrdR2MrtcgRfeIUmvV9H+OPg3VPDOj61/bMFvaanGHhMzbTz6+lfPvw78P/EjQ/g34p8HP4CvrTUda1K/aK8uLiFo0in6M2GzWHH+zjr/gW8h0O58O3njHQbuyjj+0QzxxpaTBfm4ZlYc+9AH1pP8AEzwzb6smlS6vbR6g65WF5ADnbuxn6ViR/Gzwpqjy2ek67Y3urGF3htd+N7qMlQfWvnvwz8JfEel+KNRtvEHhC51KOOY3Nl4i+0x/Z0Ai2AMu7f8Ama4j4U/DvU/HWj6E+k+G5IBpN/czSatFKm590WAOD69qAPbPBH7QHjrxt4YudYh0Xw7AINVk0v7PJdS+azIVGQvuSa0PgL+04fif4i8W+Htc02HQdY0GVl8tXJWaNThnBPoa5L9nP4BtY+FdTufF/gq40jXrfXLjUrZnuFYyqSCn3TjqPTmuTn+AnjjXdQ0vXbHRZvDWo/2reWmorNKrNcWM82S+V/2fxHagD2H9n39oq7+OHizx5YppEenaZ4Zv0sRMznfKWiWQNg+xNe8RsK+af2a/APiXwX8VPipNqvhifSNH1jUbe40+5aVG8xY7VI2yF9SK+jzcRRLl2ER9JCBWTmo35nYEmTebS+cMZqJbiKb/AFbq3+6c1xnxR+J2n/Czw/BqV9E1wbm8isLeBWCNJNJ91cngZpxmpLR3KO4dqqas26xfFcX8NfidN48bWYb3w/faBdaXKkckF4UbcGGQQyMQcCq3hn4v6D8QNS8U6Rpc+680O48iaNv4h03L6jNaEnoNnJ/o8S5521N5gDdK+dZ/2trPTYPFMx8Jao8HhqYQXciyJjOccfjXW3n7RelSeCvD3ijRtNudd0/WLiO1U2zKDDI3ZgaAPX1kEi5Xml3Dbmvndv2rLtfEFnor/DnXE1C+Ej2kPnwqZVR9pPJ717P4L8Tf8Jh4VsdXNlNpxuk3/Z7gYdPY0AdCrZp1MRRT6ACiiigAooooAKKKKACiiigAooooAKKKKACiiigD8/f+CyX/ACQ/wt/2E5v/AEnavxZr9pv+CyX/ACQ/wt/2E5v/AEnavxZoAKKKKACiiigAooooAK90/Yp/5Oa+G3/Yy6R/6X29eF17p+xT/wAnNfDb/sZdI/8AS+3oA/o0ooooAKKKKAI5WZfu00N8wXJOehAxmlmHzLXzF4y8X6t4o+MXxD0RL+5srHwx4Zh1GzjjkMZNwzTAsSME/cXg5HHSgD6ZaZ9o4w3T2B9Kd5j9/lz03D+deKeHfHWseMP2W4vEUVwltrk2gCYzy4ERnEW4tn3NfPvg/wDaW1fQPAvjXW4ftK6lYWiQx6VfOWkluCmTKN2fkz6cUAfdglLMcD5f7x4FeDftcbf7B8J7uf8AibxH/wAeSqn7M3jQ6lf3eia++pr42+yLf3Ud0x8iSFioBjB44J7Cub/bG8X6pb674Q0SPQ5ZdOa+hm/tHJ2g7hx+goA+qjJnqKzdN4urwnbncBQ2pT/w2rN8u/8A+tVCx1Cf7Zdj7LxjNAHSMG7NSKD3rOfUrj/n1bpmhdTuf+fVumaANPn1obPrWV/aVzux9lb7uaX+0rg7f9EbpmgDUyaayntWauqTlVP2RqP7Sudyj7M2KANTJoyayl1S5PW1bpmlXUrkqp+zUAam4/NRk1mf2nPuQfZW+brSLqk5ZQbRsGgDUyaMmstdSuDHu+zc+lL/AGlcfuv9Fb5utADRxrb/AHfu1pBiOlc6l9P/AG2N1t1Xmr66pOVUm0agDWyaMmsltUuAsZ+yt1w1O/tOfco+ztQBqZNGTWWupXJ/5dm+9im/2pc7F/0Vt27FAGtk0ZNZn9pXG5R9kbGcUi6lcndm274oA1MmjJrKbVLkR5+ytnOKX+0rndj7M33sdKANTJpu0EYIyKzP7SuN0g8jp0obU7kRs32bnOKANJ0G7POfqazr9QdQtSQhx/e5ofUrn/n2as6+1Kf+0of9F+Vf1oA6Ly19P8/5FNkQIOBj8az21S5CufsrcdKJNRuCrMbc4xnbQBg/EfxcngvwzPqCrvl4VVA/iP8AOvmO6+MXie41P7Uuouo/55bjjv8A4mvoP4teH7zxZ4VlsbeLEqssufX1FfMMnhaWC+W1kEol344U5xXm4hTv7h93kEcBKjL2yuz6h+DXxAPjrRXa6RftkQ2yAHO7kn+tejeWvTHGMYrxn4IeE73wnpVzc3FswlmOQOmBXqzahciTH2VsYzXZR5uVcx8pmEaUMRKNF+6aIUL044xRsHJxyevvWYuqXJ3f6K3TNDapchc/ZWzjNbHnml5Y/wAn/PpS7R24rO/tC58xR9m4IzTV1S5PW1bpmgDUpcmsv+0rnap+zc0f2lcboh9lb5hk0AO1g/uoj8n3v+WlXV+YAGsDVNSmkjhC2ufm/wCWlXY9UnAUG0bNAGp5ahshQDShQvTjvWbHqVw3l7rVhv8A0o/tS43jNq22gC9cW0c0bI67lZdrZPUemawfCPgPRfAti9no1hFaWzuZGjiXALHjNaEepzzbc27CmLqlz8v+ity2KANTy1znaM9OlNaBV6cfSqH9pXHyf6P3wab/AGlOW2/ZmzuxmgDK8f8AiT/hFPD8l1GFaUDYi+/+RXzdqPjLVtUuHeS+kZf4fmxXuvxO0268TeGXSG2bzYJd4j9a+fZNLSCQws+3HTK4r5DiCVaNNOl1Oimkdf4D8b31lcLE00jH/aOa6r493WheJ/AVjp3iLR9Q1LRtSmjiabT4y81rL/DKuOhHrXB+EdFlmvFlRST64NfQfh+O40/R44JLRmK8nPNcuQyxD+PVE1Ek9D5g+F/jTxn8M/h78QYLtNS1+zsblIPD91NYyG4ukMeB5v09TWDfeGfE37OfxS8GeI3Ztd0vWoP7K1H+z9PkPkj7/myep3c5NfZrahOqsRaMOc+2ai1TULhbWb/R846Z57V9z1MT4n0vW/s+sfFD7VoeryW95rVu6quluVmjaXLYHfiuo1b4TeJfh74/8O3HhOFrr4eeINTtr29s2Q+Zp8q9GVe2fQce1fWVtqVx5J/0b7uPxzUg1Cby3f7G3ynIHvQB8+fFW6cftXfDqeDTdQlt7a0khkuo7ZmhTdJu6ivpjyk27QuB6CsqS/uFbH2Zz+JzTpNWnTzP9GbjpQBqjilyduayzqc53Yt6X+0Lna3+it0zQBpb6TcfWsv+0Jv+feq2q63eWen3lxb2fmSwxGRInON/tQHc3N7Yxn5qPMNfOnw5/ayPxE0TxL5Ggi08UaKjzHSppsCaNRksp78Vbj/aU1bVrnw/omj+G47vxXqlmmovZPcYjghZcgseozQB9AeYaa0jDvXzprX7V174f8P+LmvfDccXibwvbfa7/S/tHyGLGdyP34q5b/tLajodlo17408NLoNhraqLG6tJ/tKB2+6JCMYoA+gWkx3pyMSTmvnTRP2jPFvibxL4q0qw8H6fjw/ObeaS41IoXYeny96928L6lPrOh2F9cw/ZLi5hWR4OuwntQBsUUUUAFFFFABRRRQB+fv8AwWS/5If4W/7Cc3/pO1fizX7Tf8Fkv+SH+Fv+wnN/6TtX4s0AFFFFABRRRQAUUUUAFe6fsU/8nNfDb/sZdI/9L7evC690/Yp/5Oa+G3/Yy6R/6X29AH9GlFFFABRRRQBFJhWXNeWeMPgba+I/FWra9aanPo95q2nLpl80UauZ4FLEIdwOPvt8wweeter4B7UhUHGe3vQB5ZN8FLdfA7+EItUng8PDSxpkVqiLiIiPaJN2NxP1Nco37KekatZ30er6tNf3E2njTo7hYEiMcYGAx2Abjjucmvftg/yaNg49higDzTwL8IU8J+JpNfvNXm1nVWsP7PjlmQJthBDbMKAOoHOM+9cT+1uG/sLwmd3/ADF4T/48v+Jr6CKg9a8A/a6G3QfCWP8AoMRD/wAeWgD3hlLdc/nVDTQv2y9yytyBWo3HSszTU23l5hV5OaANNiKFIpSoPagKB2oAT3/ChiFp20UhUHtQA0AAYH8NN9DUu0c+/Wk2j0oAZn/CgcEjsOlP2j0pdo54oAj9T/d6VHNKluFZ5Ag6ZcgAn8SKn2j0r5w/bitz/wAKrgnRpkmW/gjDpIUO1pVVhwR1BNAH0PbusymRHWQZ42Ef0JFT/Lx7dK+Svi9qh/Zu8TeB9V8OXcsem6jJKuoaOpZ0kRUz5ig/MOfQ10Fv+1RqMXmand6Ef+EaubaWex1CM7VLD/Vo+f73tQB79IyprG9nRPkx8x7/AJitAZC438YyG9BXzV8QfiN4h0vw9dan4g8PWlzbboZLWSORgJY3XPODnitmH9oK7vfHt54TitrWB4MqLe43CSWMQeYZEbIDD6UAe+KwmjDKwdOvyfMD+RqbaODXzP4H+PD3eg6Boug6bbw67qAuDHBNuZAI03ZznP61nf8ADWHiXVrzQ7HSNFtTd3cGpfaRcbv3c1lt3qMdmyeaAPqSSRYFLvIqp94sx2gAdSc1F9tiYgJLGxyAPmGST6c157oV9b/H34Rn7YZtOi1OJ4ZzCxV0wcNg9R+FfPXhP4V6RefFb4raYsMwi0dVey/esfJIRTkc88k9c0AfaCPvw3Y9KcNozx3zXy14d/ac8WXnh/Qbu40K3jl19ZI9KjG4lpIxliwHXI9Kv3P7TniKTT7GwtfDezxWY5pbjT5CG+4ucKA2R+NAH0sdpGP60m0dfx61ieE9auPEXhmx1GezexupolaW0dlLRv3XI4rdXmgBu0c8detGARjHFP2ijaKAGSD/ADmsy+/5CNoPlxWq9Zl4pN9a/Km6gDSxnI9aR8enPSn7RSGNT2oAg2j0qhJoenNceYbWEyZzu8sZrS2ikdF64oEpSj/D0EjQKoUDC4xipNoznvSRrzUm0UDG4o+U8U7aKTaPSgBP4s96P/1U7aKNooAZtGAKX09ulO2ijaKAMjWo90cWCq/Pj560f4gec1Q1pdyRZVPvZ+c1o/wqe9AHifxA+MPizQ/jFpHgbRdE0+8bUrSW5iubqdkx5aqWHB9zWTrf7TV9YeH/ABhDFoajxf4Xg+03el3LFVlTGcxEctxWb8StF8XRftPeEvFGn+DL/WtE0qwu4ZLmGRF+aQAd+vQVz/iL4b+M9b1L4h+PpvDNw+p61ZLpWm6GjL5qpt2l3YnaKAO20L9puTx18PdD8ReE9MgvLu7uVtb3T7qQrJZsRnkA5xVbR/j94y1zxJ400yDSNDt18N3n2ZmubmQGU4UfL0zkk1zHiL9nnWdL+IXhHxp4RhfTbeaSMa/o2QIywTHmADv9Ki+HfwFl8S/Ff4m3/jLwdc2VhqGpre6bcyTjEoUgjhTjqBQB0fhH9qy9k+Kx8C+MdBh8P3t3AkunXaOzQzyH70bEnhhXe+BPi5JqfhnUta8WLY+HrK3vpbSKQTFhJsfaWNedav8AB29+K2oeL9O1fQLrQHhaN9H1hpFLCRejKf8AOa4HTfhH8SfD/wAPvC0Os6TeeJX0+8vo9Q0+0kUPcK82Vm+Y4zigD6bHxg8Kt4u0vw5Fq0M2o6lbNc2sa8iRA+w4bkcNXP8AxM8ReG9HujbSabDd3eMNtyuD+GK828JfDvWfCfxU8CavZeDpINFh0m4sJIvMRnsHe48zc5LEn8DUvxStZrXxhfyPEyCR8oXPGK6cPh44ip7OutDalB8252vw++Iuj/2gttLpcOn7iArbi3P4mvaVYH5gcq3SvkDRYHvdWtIYs+aHU8DODX1tpcTw6fbrKcyKo3H3rTFYajhpclBWQ60VFkWv3tzp+j3U9nbNeXUabkh6bz6V87X3x4+IjePrjwZL4W0aPU49HXWZN904xGZtm3r6V9MNhenrnrXzT4g8OeLT+1VqPiVPC91JoD+GV0pNSeVRE0om8wfLndiuIwO+vvjRa2nw6v8AVrP7Jca7YWTXU+mmQgKyozMuepwBVHTP2iNO8TfCafxRoMthqGtW+mpqFzpSzkFCU3FfXA9a+cLj4c/EvVfE89y/gm/tbWW11KCXZLCLcmS2KoR8248k9TW5oHwh8R22l6bqml+EbmwvdM8Kvo91p8VxF/p1w0aKpBDYyPm5PrQB6j4d/aml8cfCu58SaHpMK67p7hb/AEe7kIkhGc5xnoRXrbfEXRbSe1sdU1SztNVnj3m134P3N2BnvXzr8RP2e/EOqQ+HfF3hS1Oia5NbQ2mu6TkBZ1UY+bHf3GD71HbfCfxHcfETX7XW/Cl/qqXN4LzT9eEqC3hXy9u0jfux7UAfRnw9+KGgfEy2v59AvY7yG1uGgkcZGCPqK6/+D8K8V/Zj8L6x4Ls/FGk6rosmmr/abzQXDFSs6t3GK9scBUP0oAoalqltpUe64lWMf7RrD1DxVp+oaTepaTC5nWJiscZyxPYV5F4w8RXOsa3co7MYkYqqk8Csa1upLaVZImaKRTkMhxXwtbiLlryhFe6j7KjkDnR56jtLc5XVvgd4k8XfC/R/EnhzTLvwn4+0aF7ZoLof8fkTDDKwzg5HcjNa/hrwD4l+GvxM0Hx9Lot5qlrf6BbadfW1qD5lq8a8EAmvo3wPrDa3oME8o3vjG5utdArJuHRjnOVHtivs6NVVacai6nyVWEqc3Ta2Pir4mfDjxZ45b4seNLbw3qSyaxpH9laXpO3Ekx8vG4rnFdT438M+KfjF8PPB/ggeF9U0WKFbd9Qur+DaI9nZTk19Wt82fpjI4P50bvu8VqZRPiax+Gt4/wAQPiVqWufD7xVerean9o06Wwd4kmC9MhXANfXvgG7utS8K6VcX1lJp1y0Cs1rN9+L2Nbm7HTj8adH+fGOTVAT0VFubbndUi0ALRRRQAUUUUAfn7/wWS/5If4W/7Cc3/pO1fizX7Tf8Fkv+SH+Fv+wnN/6TtX4s0AFFFFABRRRQAUUUUAFe6fsU/wDJzXw2/wCxl0j/ANL7evC690/Yp/5Oa+G3/Yy6R/6X29AH9GlFFFABRRRQAUUUUAFFFFABXz/+15/yAfCX/YYi/wDQlr6Ar5//AGuOdD8J5/6DEX/oS0Ae+yVm6cD9su+FrSPPWszTv+Py95WgDWooooAKKKKACiiigBCcU1pAq5o60jqOlAEVxqENrC0srhI16sxwK8K+NEfgD4z6THoGva7f2drHcJIWsyyZZWDKMlD3ArrfjrfXFl4PCxNsEkyo+zstfNSqzHIG/wCprx8XjJ4eSSR4OMzF4eooJH0RovwR8MatqEWuXd/eeJZFt3gt31KYSLEGGGxxxkVl2v7Kfhm30nU9Ll1HVbvSrxZFW0uJwyWwb/nngce3p2xVj9n3VLy5024hdW+xxnchPr6V7L06V6NGp7SKketQq+2gpHgs37Lei3nh9vDF9r2uX9m210uJbxTKoUYCjity7/Zo8Oal4ktNcu7vUru9tJjLAzzjMYMPlFRx0xxjpXpewf24zFVPyZ4PNayqAOK3Og8R0z9lHwzotlpMFpqOrRXOnTyywXyXA80B12lSccjHFWLj9lvwxcatpupx3mp2tzY215bR+VOFDfacecxwOScDk9O2K9nooA5D4a/Dmy+F/hG30DTZ7i6tIGkYPeyb3yxyecc81y+h/s9aJ4d8W+KfEcGo6tJf+IVK3avOCgyAPlGOOAK9XpaAPFB+yv4cj8F6N4eh1TV4F0eZ57K+W4H2mAuMMFbHGRU+rfsx6LqkmkXSa5rNlqmnqy/2jb3AWacMMEOcc17JRQBm6To8ejabDZQAGONcEnnJ9a0QMdKWigAooooAa1Zd8CNUtThcVqtWVf8A/IQtBtGDQBrUUUUAMZfSmtj/AD39qlrh/iT4Hl8bWNpGNWvNNt7aXzphZuY2dQvTIOaAO03CMZc4NL5g+vXP4V8TfBLWNXs/hzp3ju78Qa3qGoWd9JFPa3Vy8lvMg6Lyf5Vu+NPj5f6/4q+G2teGop7mRr3UbK90uO4IjkkiiVgvvgk0AfXu8Y9foKTzB6jGMnPFfJ3jjxPL8WPg74y+IdjquqaJe6NY3kA02CZoxFcQDBzgjPPrUmieKtT+Dui+AdZiuNT8Sz+LI7e0WzvLxnAnkTO7JzjntQB9XbxS7h614Pc/tMDS/Fljoup6N9gmuro2W2SUb/M8ppMgY+ZOBzWboP7V0epeI4LO80JrTTpr2409bpZtzebFHuIxjvQB9E7x254zQXCkA8ZOBXzD42/aSv8AxB8N/GN14YsYXn07dCrfaNrxkbslhjrwKv8AhP4kXPgTw3p9jb2V1rniG50oatd21zfmQRqFUkgkd8mgD33V/wDVxMqqw3f8tDV7cNgr5qm/axj8U61Yab4c8PNqkU+mtqolkl2ARq+xh0/vVFpf7YN1qcOhMnhCTGupKNP/ANKH72SNGdl6f3QKAPpYqpXBVcemKNqkEFQQeoxx1zXgdx+1jp7+H7W5sNKe+1dhI1zpscnzw+X94DjmtDR/2i7jxH8QLHwzpXhu4mMscFxczXDhPIjkVT0x2yaLoD2/d93j7vSkJUcbSw9Wo3H5q8w+JHxCudHuksrIguBhyOxrWjSlWnyxOLGYung6fPNnpq7WUKcuOmO1PMaHoB/OvnjS/iBq+m3Cn7Q0o/2iK908OavFrmmRXcZ+VutbVsPKjucGXZrSx94xWqNLyz5eMtu6ZyayPEXg3TfEsYW8tldh0Yjmt3NOrljKUXdM927Wxynh/wCHOj+GZDLbQeZN/ekOTXU7aXaDyQM0tEpOWsgbb3I5FHpVHVI1+wylo1JxjJHtitB6o6spaxfIx+NIR4V8SPiFfSah/ZlnJ5Nvb/K+w4zXJ6F4y1XQbxJob2Qjq0e84P1FbnxK8H3el61PfmNvs9z8/moMrmuT0zSLrWbpbe0hMzv6KRigD6m8N6wmv6LbXqHHmJknua1Gh+X5e/XPNZHg/RxoHh+zsSfmjXBreoAaopWG5SKWigDwDxx4Ru9J1aeZYWeCRtwdexrB0/S7zUZ0ihiJduyjpX0fcW0d3GUkQOvoRmorPSLazOY4EQ+oWvjavDtOriPbc2nY+rpZ/OGH9nJamDYxxeBfCDPcHAt0y3ua8D1T47eILzUpZraSOBUb5Yx0xX0f4m0UeINDvLGTjzYyB9a+UdU+GHiKw1BrU6bcThDjfGvWvo/Z+yio09jyKFSFVynU3Z7hpvxgnvfhnrmvxWL3eo6XbtI1tGOZG25Fee+A/jF8RPiNo0uoeHL7w9rfn2Z8i3ji8uS0ufMxsmBfgba7Dwr4H8SeDfhfrf8AZsUEniK6hZobec/JvxgK1cj8Mfgrr2jfGoeL10a08JWEun+Vf2VjdiWO5nPO/aABn6V2Qutzz6iSl7pW0n4qfFrVPHfifw5Bc6DcS+HzE9wfsci+bGXwxXn0roPCvxW8a/FtfEOreE59L0bw/pVzLZRz6nEz+fJH95jjpTvhz8OfF2l/HLx9rusaZaQ+HdaiMdvcJdhpcE5Ixj1rA8F/C3xx8I9L8Z+GNN0q01/w5q93dXtjcTXgjeJp/wCE5FWZntXws17VfEng+K71p7N9QEsiO1jIHiO1sdRXbJ92vK/2fPh7qHwz+G9po+qJFFqPmzTSRpKGVQxyBnFeqR/dFADqKKKACiiigD8/f+CyX/JD/C3/AGE5v/Sdq/Fmv2m/4LJf8kP8Lf8AYTm/9J2r8WaACiiigAooooAKKKKACvdP2Kf+Tmvht/2Mukf+l9vXhde6fsU/8nNfDb/sZdI/9L7egD+jSiiigAoorndM+IXh3V764s7bVrZru3bY8LOFfPoAev4UAb0kgXjPNcF4u+MujeEdZn0qbzru9t7dbu5itVDNBCzEB2H935TXdPlyuMbfXvXyl4t0+58MfHD4rajqKS/Zda8JQWdhcKjNvkDS/u+B/tCgD6Sm8daTD4LPioXSyaMtn9u+0Lwpi27s/lXMaR8dNB1Wz1K4k87TY7GAXTteKFDQ4zvGD0xXlnh2+Ph/9ldfDOrWcmo6zb+Fx52mMrDI8jHl5Az0/GvMvgXouleG18Q6T4smGu+EdU0xHlvrgS+bbKUx9m4AIAHpzQB9V/Dv4sR/Eia6W20LV9LjtxkTahbhEkPorBiK89/a4I/sPwmSQB/a8Rzn/aT2qj+zH4TXwrr/AIltPD19cXvgcODZC5yfLb0BYZP4msD9sPwbq9xrHhHXE8VXsFguoQxnRhEhhZ9yfNu27v1oA+qBubpkVm6cu68vMoq8qPlOaP7Jn25a/k+7/dHX16Vm6dpdx9svf9KdNvyrjb8zevSgDpfMP9003zj/AHTVBdKue99J93+6Ov5Ui6XdfJm9k+Vfm+Ucn8qANDzj/dNO+f0rN/su53J/psmNvzfKOv5Ui6Tdd76Tp6D/AAoA0139xR8/H/1qzBpN15af6fJux83yj/CnLpVzvTN9IVA5+Uf4UAaXPvUbs3uaz10m54zfyfkP8KZFo90mzN9J/tfKP8KnqCG+INDt9f02ezuot8UnUmvIpv2d3W+Gy+P2VujdxXsi6XceYh+2ykDqNq/4U2PSblSpN7Icf7Ix/KsalGFR3mctTD0q2skUfCfhK28H6WllbqxUfM7/AN5vWt3cfQ1QXS7jCqb+Yt13bV/wo/sif5f9Pm+X73yjn9K0UeVWR0RhGnHliEagawW8vkx/fzWlu+tc4ulXK64rfan27CC2R/KtBdKuSMf2hJnd/cXp+VaFGn5jeho8xvQ1nNpNxsXF9JlWyx2jkenSl/smfd/x+yY3dNo6enSgDQ3N70CRm7EVmrpFx3vpPvf3R0/KiTR7l1+XUJFbd12r09OlAGpz70fNzz9KzW0m43ZF7IF3dMDpSf2RcfP/AKbJ8zccDgUAafzc8/ShmI6A1lHR7ho5FGoTK5PDbV/wp7aVcSHIvpAP90f4UAaG5vejzG+bg1nHR7jMmL+TB+78o+X9KH0e4ZH238iseh2jj9KANHJ/vH8qzr2M/wBoWpKj8zRJpM/a/kX/AICP8KztS0q5bUoMXjiNvun5eP0oA6PefSl596zW0i48twNQl3H7p2rx+lI2j3J6X8g/4CP8KANLefSqWpQSX2m3FvFObaSVDGs23cQSOTzTG0mfzGIvpdu3gYHB9elN/sm5Vn230mNmFyAcGgDwPSv2SLrSfhkPCUfjW+JS8N0l0sMagA9RtC4P4ik8P/sn3GgNpk9p4xuY77TdUu9QhuDaRDDTqFI27dp4A6ivfBpNypBF9J9zHQdaG0e5YKBfygKm0dOvrQB5pqXwBjuPhH4i8DWWsz2R1xriW91NYkLu8xzIdpGBn2Ax2xVW6+AN3eeHvh7pj+K7kv4RvILuOY26ZuGjGFDfLxgenXvXq66Xc976T7gHQdR+FN/sm5b/AJiE4+THQdfyoA8E8Wfso3PijxvL4gXxreW5/tL+0oIfsscn2dvJMe1WZSQuCeM49s0yP9kqa3WxCeNL4Pb6pcakGWxjG5pYtm3pXvg0u6Hl41CUYXnAFKul3EbIG1CUjZg/KOvr0oA8G1b9kGHUl1ydfFN3ZXuqwxxSzQwRou1c9UA2k8nnGfeumufgBLHrWkaxYeJrrTtTsdOGmzzLCrC4iAABZWBUdB0Ar1RdLmO3OoSnbwflH+FNXS7k+XnUZj5Yw3A+b9KAPD7D9mWDwj4stNZ0vXbhLePSn0aOweJSgV5PMZskZ5bnr7dOKZov7Ks2jxeDo18Z3kg8My3Mlvm2j+fzoTGf4fQn/wDXXsmraXdeXb4vJX8t8nO3n9K0ItNuVKF9Qlbt0FS9gPn7S/2Rbjw7dWWo6X42urbVLee4lkvGsoW86OXqhVlK/pmu88I/BR/CnxMufFo8Q3F2bi0W2e0liXYWCAF84yMkDgceleiR6Xc+Wif2hKWV8sSAcimnS7hJIiL6Xar5YEA5AoeyBbsxPiN4/tfAul+a433MnEcbHr718oeLvitd3HiKW8ltYzDdPnbk/IK9i/aC0e6tWs7xkN5bBNu+XI2H8K8VmntL5mA0y3cSjATe3B/OvqctpwhH2jPiM5pvGP2Ldjs9MvF1m2SW1UTb/uhef5V9G/D/AEmfR/DdtDLgMw3bfT2rjfhN8ObfTvC9hcm3FjOMuFjycr2GDXoo0ydcZvH+V8j5R0/KvOx+KVWTSOjI8reD/ezerNTcf7ppd/1rLXS5yuf7QkPzf3V6flWJ4i1yDw8yibUXMjN8sYVen5V5STkfZxg6jtE69nYdjTfNOFbORjqTgH9K47Q9ft/EBMcWozRTE5COq9Pyr548PfGjxT4T/aY1fwV4q1qSbwzqcbz6ZfShVELoMeVwBncfXmhpoU4um7SR9dbzxnpjgjkfyqpqhElq67Q5HVS20fnXw5cfG74ieJ/GHxOkt/Ed3o+j6VYPcabbqke7Kbcscr3ya+iPhXc674n+BOn6pqmu3V/qd5Z+a0pVF+b14AFIg9ZW1S4sY1khSQYxtkGV/lT7XT7O3bMNrDEfVI1B/QV8D+Gvjl4/h0l57LxZe69rcPioaV/Yv2cFPsvnKGfeqdlJFfdsOmXEkQc30yFsYGxeP0oA1to3Y74607LdcfhWU2i3BVwL6QA/d4HFK2k3GWI1CXLfd+UcfpQBqc+lHPpWY2kzdr+b/vkf4UjaTc/Owv5AMcLtHH6UAXdpSjn5uDXFeKte/sMtCL6R7grwAo4P5ViaZ44u5Jit3PIkeMbkUdfyryKuaYWlU9lKXvFKnOWp6f5fIOWzQqluqnPWvN/ip8Qo/hX4LfxNci/1WwjwHWyRSQD/AB8jtVbUPijDaaP4WvraLUb/APt9E+zxwbP4gpLdOwJr1IyTV90S2z1Ttgpke/NN/wC+j9ea+db79qbTdN0vxbfzaTrrW/hlxDfssceEYrnIrtPEXxm8PeGfhLH8QpNUmutEe3FxHtVd0oPZcDqKYHrPPozZ96SNSz8k/nivn7Tf2mLSbUPCVpb6Brt7P4jgM1pF+7y2FZjnA9AK9b8BeOH8ZQ3hm0e80ae2laJ4LzG7I+lUB1flr2GKUDHSlooAKKKKACiiigD8/f8Agsl/yQ/wt/2E5v8A0navxZr9pv8Agsl/yQ/wt/2E5v8A0navxZoAKKKKACiiigAooooAK90/Yp/5Oa+G3/Yy6R/6X29eF17p+xT/AMnNfDb/ALGXSP8A0vt6AP6NKKKKACviHx14b8YfGLxZrWkaNo2g+FbTTpCsviNnDXKgnO5EVwRx619utwtfLfiq68RfBrxB4on03wC3iptadWS+S5Xc4xjByOKANjwvD46+FOseCNGt9YuPH3h/V5jb3uo3knmSQYRmMgYcbcgCvoOSOOZVEkaybSCNwz0Oa8g/ZL8O+ItB+EFhD4qeE6ozu5ggfesCkk7AfxNez7R6UAVvs0PJ8sEkYJI5IxjGfpTPsNt5bx/Z08t/vJtGG4xyO9XNo9KNo9KAIbe2jhXbGixr/dUYH5V4R+10x/sHwn6f2zF/6Gte+7AO1eA/tef8gHwl/wBhiL/0JaAPfZKzNNjAvLv90qfMvvWnJWXpgK3l5lNvzL/ETQBr0UUUAFFFFABRRRQAUlLRQAUmBS0UAJRS0UAZOwf2437sH93WmnXPeszAGuHA+bZ6mtOOgB9FFFABRRRQAUUUUAFFFFABRRRQAyQZWsy9VRqFoCi5Naj9KzL5d2oWpKfP65oA1aKKKACiiigAooooAKr3+9bWRoztcDINWKrag0q2UphTzZdvyr6mgD56+BP7St74+1jxdovia2g0/VNH3TweTkJcWq/LvBPcmofgN+03e/Eu88aajri2uk6BpN81rahlIlbBUDP1JNcNN+zT418R6n4T1d4YfDt/aXj22qCC6Enn2XzMvT/bAPr2qgv7O/xIXUPGE0el2ljBLryarY2yXgKXMYkQ7GA4oA+oIPjB4VuNDuNWi1VBbQy+TIrDDq54Cleoya8++Fn7SFv4k0/xLqOvXEFnY6bf/ZoGSJg8g9MGvPPFHwG8cXXiu/8AHml6dbpqV7d2U0nhlrkCEiE5Zs47mudtfgd8UBql5r8vhu2Ez6sLn+wxqS7JI/XOMUAe0+JvjRJfeOvAtpoclnqPh7XpTGbhckg/N6H2FT/HXx34++HtrqOtaImlroVhZxSk30bFpJGkwV4PpXDyfCTxNY+NPh3e2fhmx0/SNOm+0XcMV2oNr14HHPU9a9T/AGifCev+NvhLq+i+HLGDUNTutu2OScRoMHPU+9AHI+C/jzqmg2MF98RrvT7PT9SsobrS5LGB98xOfMXGeoytej3Hxm8JWuqWOnT6tHBd3ioYUmBUAsMqrHsxrxzW/hL4y1bTfhJBJoNnctoYxqSSXikQjA4HHPQVVk+B3idfiFrlvPottrGj38yT2msTXwWS0KjHEZHO32NAHsc3xS8D+Ir650OXVrS5mWNpnin4DIpwSp+tZ3gbQfAnil5NQ0a2W5RH/ihKj9a8a8A/A/xfpWhS6TqvhOxnv7FJIotWe/UvdxtJnGzGV4969L/Zv+G3iX4Z22sWGrO39lST5sIJpfOljX0Zu/41SqVIq0WZTpU5u8ke2W8KxxBVUKo4AHSnMgbrT0xjikbipeu5aXL8JQ1G+h0uze4mbZGi85NfJPxI+Lk914nuvsMUZg3fI0uSNte+fHC6uofB8ggU4dsOR/dr5eutOivFCsOV4GMivHxmNnhnaJ4+LzGpg52hudr8KPiMNR8TW1rOjQyswXzCeMV0Hjr9lfUPiZDqKa3rdqksmqQ3tnc2MLpLDHGcmMnPQ15fotr/AGfcQNaLmRGXa/fNfZ3h15JtCsHnyZpIF3luufet8HiZYmLcjrw2YTx0bz6HznrX7LXim88ReLr+x8Q6TBBrWlDToY5rV8xsMfMcHnoOtdBo3wm+JPhz4e6R4VXxNo4sbGHy55IbSQTSL6KS2K+gdvuapaqo/s+XcM9q9E74nkv7OPwY1b4R6Hq1rrOoWGqyX2ozahHJawMrKHIOMk+oFe0RfeaobWFfssQ/2R19qsKAM0AOooooAKQ9DS0UAeKeMknj8QXSy5ZuqkjrWFjy9uwluc7RXs3iLwrba+oL7o5R0Ydax9L+G9vaXBknkaUDoK/OcTktapiJT6PqdUamhJH4bXxN4Bm0i/jBgvbV4CrdAp6D/wCv1rwL9mPwd4q0/wAUX+m+J7eZNO8GPNZ6NLIMi5hkAAb3wAOTzX1XDCEQIBhR0FS+Ui/NtGfWvvqFP2NOMOyMGz4N0jXNPWP4yWd/p2pfZ9R1SGNEOlzkTLsYE/d9QK5qfwR4p0X4d+MPBuq2F9ceDvDpW40SaOFne4LKp2bepAyetfor9miznYM5z9cf/rpfs8fJ2jnr+QH9BXQQfnxJeC51z4ErIniDSIbOydri8srCbzLYmF1w3y8V9Sfs561aXVjrGmWF1rGqwW1wZv7U1e1eB5Wf+HDqCcV7EbWI4zGvA2jjtgj+ppyQpH91Qv070APooooAKKKKACiiigD8/f8Agsl/yQ/wt/2E5v8A0navxZr9pv8Agsl/yQ/wt/2E5v8A0navxZoAKKKKACiiigAooooAK90/Yp/5Oa+G3/Yy6R/6X29eF17p+xT/AMnNfDb/ALGXSP8A0vt6AP6NKKKKAE618HfGXwzr3iDxbr+qXmp+MnbS7kC+t9J3pClvjIaEIwycetfeVfDOp+IviT8PPil4+TQNV8F/2VeXKSeTrl3MHBCY4UA4HsOKAPZv2J7Sa1+DFsJrXUrctMWEmqOxmk9zk8V9AV47+zB4t1vxl8P31PXLnT7uaWc+XJpTbrfbjotexUAFFFFABXz/APtef8gHwl/2GIv/AEJa+gK+f/2vP+QD4S/7DEX/AKEtAHvslZenL/pl58m35l7k1qSVmaamy8u8pt5z94mgDWooooAKKKKACiiigAooooAKKKKACiiigDJKn+3Cdn8H3smtOOs3aP7cLbG/1Z+bP9K01FADqKKKACiiigAooooAKKKKACiiigBkn3azbxdupWmU/wDHjWlJ0rNvlDahaArlvrQBq0UUUAFFFFABRRRQAUyRQ2M9jnrin0lAFfyu2zH4/X/E0rQ/NwuB29un+AqxRQBB5TDPPWkERDZwc9OtWKKAMnWoz5UShdw35+8R/wDrrQT6k/jVLWk3xxYG75vXFX4yGA4oAXy/85qDy/QkJxgDgDHpVqigCu0ZWPB5GMGmjDdVqw3SsjXNes/Dem3F/f3C2tpbjfLMykqq5yTx6CgDVj+XqaV/mXg1wfhn4z+CvGFzDBpHiK1vnmAaPaSBJ6BWIAOa7fcNmV5Xjucc96AMvXtEh8QaTc2NyrGOQYIr578SfBnXNKunNpF9rh3fKU9K+mQu5chtw9zxTGdUjLu21QM5KkYA7niuSthoV9zgxGDhiFqeC+APgreHUor/AFceVEh3LEDjmve40EaKoGAowK4G++PHgXSbyS0u/EtrHNFIY5FwxVD6EgEfrSah8fvAOm6klhc+JbWK8aITrD8zFoyFO7gehqqNGNBWRrQw8MNGyPRGUMuQdtU9WVhYy5HmfpXL6p8WPCWlxaW95rttBDqbFLSbcNkrAsNoPrkVJ4+8faB4H0OO917Uo9Ptbh1SJp22mRm6AYrpOo6ux/484c8nbVis/S76K80+3nhJeN0BUkY4q+jbloAdRRRQAUUUUARtGc5FHfOKkoqLANHHanUUVYBRRRQAUUUUAFFFFABRRRQAUUUUAfn7/wAFkv8Akh/hb/sJzf8ApO1fizX7Tf8ABZL/AJIf4W/7Cc3/AKTtX4s0AFFFFABRRRQAUUUUAFe6fsU/8nNfDb/sZdI/9L7evC690/Yp/wCTmvht/wBjLpH/AKX29AH9GlFFFACNXwZ8RYvDl9418SRQ/s8XHjW5hlzPqxvrVC3GOVaUFa+82r5Y8Uahq3wR17xTLa/D6TxQdZkBjv4Z13Sjb/H8vHNAHbfsk+E9Q8E/CDTrLUNLg0MyszxWMMglEa5xgsvBp3jL446rb+PPE3hzQbe3dvDmjx6zdy3HKzRuzjYuOjDZ3qx+yv4W8W+FfhNZWXjGNbfVGd3FrGwZYFLcKD3/ABrn/GHwj8RWPxM8b+I9CtUvrbxPoEWktG8wUQyhpcv05+/QB38fxaF/8D18f2No04bSf7SFqvLf6rdt4965T4OftCt4+k1KS7ks7nT7WBJnvbMFYoGK5Mb5/iqPSfh34q8NfBMeAtOs1FzDoK2o1DzRh5/J2kbT/tV514H/AGXNaW8uwgm8HaVe2yfbLO3ufMSecJgvhcd/woA9k+CfxjvfilqnjeG70xtNg0PU1soBIPnkUxq27H4mvPP2vvG2iwN4R0OW+jXVjqsMotWPzbdw/wAK3f2e/grr/wAMfHHxAv8AVdSlvLLVLuNrPe+fMVYkXf7dKyf2wPDOl3EHhLVJLCB9RGqQxC5KDft3Lxn8TQB9CvqtvjHnLnGfwqhp9/bLeXmZCvOfXitE2cJbPkrnG3p2rN0+yjN1e4i5yF/CgDS/ta34/fL0yfpQNWtxjMy/MMj6U/7FBz+5XkbTx2oNjbttzEvyjaOO1ADf7Uh3AeamSMj6UHVrc9Jl6Z/Cl+w225W8pcqNo47U4WNuvSFem3p2oAZ/a1tgHzlwelB1S3YKBOu5ulH2G32qvkrhenFKLG3UqREuV6cUE3EGqW7bcTrzQNWtmUETLg5x+FKtjAuMRKPwoWxtlVVEKgL04oHdDTq1uQoEy5bpSjVrdgoEy5NOFhACpEa5XpxSLZQLtIiUH6UDEXVLcgHz1wSQPrSf2pB+7/er+8OB7Gl+w24VV8pcKdw47077Bb8fu14O4cd6AMldQgbXMiRt2MfhWkusWvy/vu+OneqcdjAut5EOG2Z696urYwHGIV67vxoARtWtwCfOXGcD60v9qQbtnmrnOM+9PbT4NoXyVwDuHHej+z4c58pc53dO9ADV1a2P/LZeuPxobVrZRkzLjOKX+zoR/wAsl67unehtOhZdpiUjOelADf7Vg3Y81c5xS/2pBz+9Xg4NL9hh3bvJXOc9KX+z4fm/dL8xyeKAGPq9vGrEyqQDihtWt1/jp5sYmUqYkx1+7QbGE7v3a0AMbV7YMw8z7vWlOrW6hiZlxT/sMR3Hyl+brxSNp8LLtMS4+lADH1S2/wCeorOvdStV1KHMnzL1/wBmtN7GH/nmv5VnX1rC2pWjG3yD1bHWgC+dWt1UkzLx1pW1a2X/AJbLTmsIW3Awr83XikNjbnrAv5UANbVYAWHmrnGaVtVgCsfMX5etOOnwlixiXPTpQdPhO4eUvzdeKAGf2vb/APPVemaUatbg4My5xmn/AGGH/nkvp0pDZQM24wrnGOlADf7Vg/56p0zQ2rWw/wCWy9M07+z4f+eS9MdKX+zrc/8ALFOmOlADf7UtsgecucZpBqsDdJF6Zp/2ODcG8lc9OlIunwr0iX06UAN/te12g+cvIJ/Kl/tSDcB5q89Kd9htsAeSvp0o+ww5U+UuV6cUAZWq6hbzLEBuZmbhVYVdh1a32xnzlwaq6vYQeXB+43bW48vitGPT7YKF8lcDpxQA3+1rfj98vPShdVgbGJVyad9ig+X9yvy9OKFsYFYEQqD9KAGNqts23Etcl8VNVsF+GfikzzRCA6bdAtIwC58vpz712AsIVxiJfyqjq/hnS9a0+WxvrCC6tJRh4pEyGBoA+Jr6+0DUP2JfB0drcW0niZba2+wLbOGn8/tnae3vxXS+D/i9458RahZRNrUOjXuji0jvNMvj8042fvAEzuZifSvpbS/g14J0VrU2PhXTLX7KQYVjtwAhHTA6VPcfCnwldeIv7dl8Oae2rKQy3nkASAjoc+tAHzZ4H+MXi7x15OvxeI4dPtZJLiG60uQZkjKOyqypncOADzXnkXxi+JN78P8AwjqFj4kPiO78UWNxHe2cbZexIRmEgx64Ar7Evvg74atV1S80jQtOtNZvUYm4EADFiCM/qa5v4B/AHTvhV4B0rRdQsbG81OxiMBvo4AGkHP5dTQB4x4V8ceHNC/Y502ext9MudVSzjW9sb4jzGuCMPuGd3JrhdU1691j436A2majoWmXlz4QcFNS5ijYog29c5/Wvsxvgz4Jmmkd/C+ms0knmv+4GGbOckU3UPgn4E1W++2XnhPSrm68vyvOktlLBcAYB7dBQB8MroOm/FT9ljwf4SW+bTdai8QzRxXVw4DeYsrndC2ckEdjxWf8AF34g3fxm+EPhzVPEKNY/2DeW1q8MxCE3wmUHg9RsJHPFfoAvwl8GLFYRL4Z04R2DF7ZRAMRMc5I9+TzVTxR8KfBusaPJbXvhfT7mASify5IAR5gx8x9TwKAOg0fULP8Asuz8l1KLEoXaQQPyrQ/tK2jUETLjODVbS9JtLfT4YYYI4YwuAqjH61bSxt9pXylweTxQA1tWtwW/fLhetA1SAAgyrkdacbOAqw8pcN14pTp8LMxMS5brxQAw6pAucyrwAT+NDatbrn98vAyae2nwtuzEp3DB4oNlbndmJfmGDxQAi6rbcgzLkDNI2qQL/wAtV6Z/Cnf2fDknyVzjHSg6fCesS9NvTtQAn9qQf89V6ZpP7Wtv+ey9M/hTvscH/PFemOlH9nwf88V6benagBrapAv/AC1Xpn8KVdUtm/5bLQdPhPWJem3p2pfsMQ/5ZL/3zQAkOpwXDqscgJYZFW1qslnFGyssSqyjAIqdSeOKAH0UUUAFFFFABRRRQB+fv/BZL/kh/hb/ALCc3/pO1fizX7Tf8Fkv+SH+Fv8AsJzf+k7V+LNABRRRQAUUUUAFFFFABXun7FP/ACc18Nv+xl0j/wBL7evC690/Yp/5Oa+G3/Yy6R/6X29AH9GlFFMkkKds0AK33TXyvrXxK034Q+LPGjeL08TXdzqTDyfJikkgK7ekIBwPwr3j4nfFTw/8I/Cdz4g8TXq2GnQjJcg7vyANfJfjX9p7x78YP7Ks/h34EjstI1S8WxtvEHiJF/duVblV5A6DtQB79+yXq/iXW/g/Y3XiayuLC4aRvJhvGzMI85G/3r2evLP2ePBfivwN4Nm0/wAZaqNZ1nzt73SgKrcdgAAPwFeqUAJRS0UAJtGc4rwH9rv/AJAPhP8A7DEX/oS17/Xz/wDtef8AIB8Jf9hiL/0JaAPfW46VmaarreXgKsvzL3rTkrM01VF5d439QeSaANaiiigApNopaKkCJvlHFRNMIY2aVgABncPSp2xUDbfLJdRgJg5pasWhzC/FPwnJFfSr4gsCli226Pm8QnOMH3zU1h8QvDeqX9vY2mt2U93cJvhhSXDSL6jPWvgLS/Ek/hv4w+NG1yyjf4Yt4nuE1K4t9peN937sS85VQfTANe6ftBfC+L4jeMPAV34G1RNL1yw064v9KnsSFSYoqlAyjqpyeuavlkuoR5Xuj6Gv/iX4W0i7u7a+1+ytrm0XfPDLMBsX1PFXb7xvoOl6Xa6hdavawWdzjybh3+R89ga+OtD8YWnxW8C/Fa51zSo9N121tlsdRjkjVTG23JZScdfas+6j1H4Kvpfw28QRya54Z1KaGbw1qjgSFDnJhdsenc5NPQdmfd1vIs6hlYMGAYfSrFVbFUS3iCqBhdo+lWqQGQo/4nj8Nu8s4Oa1FBU+1ZYX/ifHls+Wa00Xv/WgB9LRRQAUUUUAFFFFABSUtFABRRRQA1qzLwN/aFptVmH97NajVk3kY/tS1b58/U0Aa9FFFABRRRQAUUUUAFFFFABRRRQAUUUUAZWtRvIsQUN97scVox9Pes3WguIt28/N/ATWki8c0ASUUUUAFIRmlooAKKKKAEwKAMcUtFACYFNp9MoAa3FUtWH/ABL32jd+Jq7J8oyelcT4q8eWWnyS2W1pJVOCB61cYuexdKlOpKyOttObaP8A3asrXM+E/Flrr0KpE37xRgqa6eMCpkuUc4Om+WQbRUlJtFLSMwooooAKKKKACiiigAooooAKKKKACiiigAooooAKKKKAPz9/4LJf8kP8Lf8AYTm/9J2r8Wa/ab/gsl/yQ/wt/wBhOb/0navxZoAKKKKACiiigAooooAK90/Yp/5Oa+G3/Yy6R/6X29eF17p+xT/yc18Nv+xl0j/0vt6AP6NKYynfntT6KAMzVNFstc0+Wz1CzhvLWTh4ZkDKfwNeN+JP2XdNX7BceEdTn8NNYXS3tvYwk/ZjMAQGK9R1PA49q93pMD8aAOG+E6eMotGu18bPaSakJsIbPPl7cds13OainTdt9qaMtuJDAKfruoAsUVXycqucMeo7j3pcPnOMj06ZoAnrwD9rr/kBeEv+wzF/6Gte8Ln+LI7jPH4V4P8Atdf8gLwl/wBhmL/0NaAPfJKy9N+a8u/kkX61qSVm6fk3l3kP+dAGrRRRQAhpN1K3So6T2F1EkYLGzHoK848UfE6Kzma2tovP7M2cV3uqM66fNs+8F4r5pvFk+0uHO1QcP6mvlc8x9TBqKprc+lyXA08ZKXtHsbnhjwD8Ntcj1vTbjwpZxprzb79G3EXD5zuPPBz6Yr0Dwl8CfAPhDULO+0bw7bWN3ZxtFbyx7iY0IAKjJPHAry7QBK2s2mw/vRIMCvo6xJMKZ4bGTWuS46pioN1CM4wdPB1EodTk9a+EfhHxFHqqahodvcLqpVr35SpnIGASQR+lad/4D0HUNO0+wuNOhuLSyYPbxyZbyiBgEEnP610a89adX0Z88RxRoqgKMAdKlooqwMpQDrrYRwwT7x+7WkOOlZvP9vNw2PL9eK0l560APooooAKKKKACiiigAooooAKKKKAGt0rMvG/4mVrw1aT9qzLxm/tK24bPr/DQBrUUUUAFFFFABRRRQAUUUUAFFFFABRRRQBl65tCREq7fN/BWhHuwM1Q1jIji+VvvfwVfRjigCSiiigAooooAKKKKACiiigApvC9eabNMsELSOyqijJZjgVlW/iHTbjT3vYdQt5bJC265SUFOOoz0oA0Z/mjOO1eCeJrS4s9buPPJ80vnc4617dDrdhcaWdRS9t5NP2l2uklUxAD/AGqyPFkujW+ni61SW1jiYqElmcJkscDBNa058m524XE/V5XaOE+GNjLJ4gNxGG8oLliRgGvY0J+bisO1l07R9JjvDPb2tjty8zMFXB6HJrV0/UrbVIFuLSeO5tnUMksTBlYHuCKmpPn2IxFb28+exZYkU6iioOUKKKKACiiigAooooAKKKKACiiigAooooAKKKKACiiigD8/f+CyX/JD/C3/AGE5v/Sdq/Fmv2m/4LJf8kP8Lf8AYTm/9J2r8WaACiiigAooooAKKKKACvdP2Kf+Tmvht/2Mukf+l9vXhde6fsU/8nNfDb/sZdI/9L7egD+jSiiigAooooAjkIUgmvmHxl4z1bxR8XviNosWoXNhp/hfw3DqVrHA5RmnZpgScdfuLweOOlfT0yhuozXlfjD4E2niTxhq3iG01ObS73WdOXSr4woGE0CliFOc4++3IweetAGP4f8AH2reLP2W4vE0E8dvrs2gfaDcSkCPzvK3Zz9fwrzH9m/xvqfxVm8Q2DaleaW0MKC6tbqQyzO21SXhz0Xk9K9nb4Jw/wDCETeD7bVpoPDy6V/ZUNoqLiL93t37sbifqTWTof7Pk/h24k1S28Syxawth9ggvktYg0SYA6bcN0HLAmgDE/Zn8SPceLfHuhfb9UmttPvwLW21lW84R7V5BY5IyTXL/tjeI/FMOt+D9Pt/D9rN4dOowyPqr3mGV9w+XZj2r3DwN8Nj4Y1W/wBZ1G/bWNauwI5bho1U7eOPlAHYc4rz79rZ/L0Pwme51eEf+PL/AImgD2p76/25+yx/d/57Dr+VULG7vlvLv/Reyj5ph1/Kt9fm4LfpWdpe1ry82tI3zKfmoAivvEE+m2dxdXcMFvbQoXaaScBeOvaq2h+M4vFFj9t0iSy1G0XKtPb3IZNw9CBS+Ookm8I60twoMBtJMlgMDj0Jrxr9kjVtP0P9lnwjcvcW9ijWhDTMUUFy2AT83JoA9q0/xJLq4drKO3uY13Rs0c27bMP4TxVn7ZqGzd9ijzjO3zf/AK1fJ9n8YPGDWNpZ6Xe2+n3E/ie+0t5IoIhuVGXDEdO55qbQf2hvG3ijR7DQLGZB4kuLrVLVb0RjDG0n8pcoRgbutTugPqc3l9Iu02SBWX5/3nT9K4fXPhrLqt4Joo0s2kGZed1eNfEL9obxd4Q8PRXjXltNqNpppup7PTkEu9hKqlmLDgYJ6Yrq/h3458ZeNPjPrmmf2nDDoOkbWeGKOMvIpVe/J6k965a+Fo4yK9p0OnD4qrhnem9zqfDen6VoviKPS572zuNb2mRbMzBZRjpgY5rtL7xtbaHf6dYahPZ2l9fZWK3luAGcjsgxzXy3+05pN7pPxgTx9osmzUvDFvazzW6PgvAzN5pZc88AfSubm8UL8SP2ivhx8QpBKNL1S2uBY2Mjj5Vj2/Oqkg5bJp4fD0cMuWBNbEVsTLmmfcCahfeZGPsabH/i8zp+lUJfGUdnqllp12bW2vbsnyoHuAGkwGPy8c9K+co/2iPEg0fwt4whkF/pmr6zJpE+iwqN1vtaUCQH72PlHU1w2sfEjVPEPij4PfEC9vorqO+uLqZNOgRM2+23lIXA+Y8gdTXVymF0fZWpeK/7D037bqaQWNupxJLLNhV/Sp7PWru8traeK2hlhn+ZZFnGCp6Hp6V8k+IviB408YfDPUdS1xrKXwvrFis9urELJFJ34AyB9a+nfhMyt8LfCu1wV/s2D5s7j/q6YF6K8vDrgLWvBGPvHpV5NQ1DaD9ii5OP9d/9alVl/toje+AmRxWgFIAA6daAKH27UtufsSdcY30v9oah/wA+a9cffrQ75xS7T/WgDN/tDUef9BXrj79JJqGpLHuFih5xjfWntP8AWkHy9B70AZ7X+orn/QlPOPv0h1DUcyqLNMqcKd/BrRHGeO+aXOcce9AGbJfakqsRYoSP9unSX2oIpP2NDj/bq8GK5wKTsRigCi19qIaUCzT5eh39aRr7Uh5oFkhK4x8/WtDcDgYPFKPl6CgDNm1C/BJWziIH/Tb/AOtWdfXV8NSi/wBF+5284YP6V0WDtI7Vm3jf8TC05k5oAe1/qOH22UeV/wCmw/wpGvtSXd/ocfH+3V/cc55zTnHyk7eaAM/7dqPzYs0xjI+ehr/URuH2Jc4yPnrQj6AY4xijGZOlAGf9t1L/AJ9I+mfv0C+1Fulmg4zy9aDKAudvOMUv4e1AGb9u1L/nzj6Z/wBZTvtuo/8APnH0z/rKvqPmbI46UNwrEDtigDPW+1Fsf6EuMZ+/SfbtS3AfY4+Rn/WVpcBQMcdKRhgg7eelAGd9u1Lj/Q4+Rn/WUsd/qL7f9CUevz1f2nj5fal9eKAOe1S61CZYd9psG7+BjV6G+v8Aam6ziyf+mw/wp2sr+7iDNIo3f8s6vonQenSgChHfak+3/Q4x6/vKVb7Ujt3WSLk4+/Whgc/LR6cd80AZy32pHbmzjGf+mlC32pHH+hJz/t9K0WAbGVpemeOtAGab7UlUE2SE5xw9L9u1H/nyXrj79aHzbRx70Y9qAM5b7Uj1sU64+/R9u1LbkWSdcffrS6dvemhQvAB6560AZs91d3EMqS6fGyMdrK8w247k8V8BSXHib4C2Xi/XRbPq/wANfEGoXlpdWok3/YGD4EijqBj04r9Cry3S+s5IJFZopF2sAxUkH3BzXHaT8GfCmj+Db7wxBp7TaNeO8k8FxM8wdnOWOXYkZPoaAPnj4mXzal8G9A8DaJp91FDrNuLiT+zELyC0PVxggg1y994uvPjZ+xjr+k6vA1t4l0kpptz5zYnhnDLtK/ma+svDvwm8NeG/EKazp9nNHeR232RHad2RIv7gVmIA+grjte/Zi+H1zPreoS2N8k2p3AurryNQnVZZQQQxUPgdB0GKAPkXxD8SvEXjz9nXUPhzepLFqnhdHtNYu/M2uwiX5WBH94+lfaHwFmu7T4M+DlgsYcf2Xbk7H6kplj+dOv8A4AeBvEGj6naXOjsYtYjRLuSOV42lCfdyysD+Oee9dr4T8K6d4K8P2WiaVE0VjZxLDDGZGfaijAGWJJ49TQBYe91JN/8AoSHH3fnoa+1HLhbNCR9356vnJ6Cl/izjmgCh9u1HB/0JM/79I1/qI6WS9M/frQ2jcTjn60de3tQBntf6irEfYlOBnh6Pt+o8/wChLwM/frQHBzj2o9ePagDP+3ajtz9jReM8vmj7dqO7/jyXbt/v960PbHtTfwoAore6ketknTP36X7ZqPy5tI/f56v9O3tTiu7ORQBQt769kmiWS1WNWGSd3StFajHQgr7VItAC0UUUAFFFFABRRRQB+fv/AAWS/wCSH+Fv+wnN/wCk7V+LNftN/wAFkv8Akh/hb/sJzf8ApO1fizQAUUUUAFFFFABRRRQAV7p+xT/yc18Nv+xl0j/0vt68Lr3T9in/AJOa+G3/AGMukf8Apfb0Af0aUUUUAFFFFABSYHTtS0UAJiilooATArwH9rvH9h+E8/8AQYh/9DSvf68A/a6/5AnhP/sMQ/8AoSVLA96zisuxkX7VeOWZFByQ/wAoArUbiuT8QRXF1oGvx2xdrh4sR+oNaRM5Ox5z8QvjboVxFfaG9idRtJcxTDJUOp6jIwR+BrH+GPwv+EnivRodMsPC6W1vZHdHZmaTZgHP3S2K8Zvo3huZllO59xJYda9A+AtrdTeO7eWEt5CpiQDgGvo6+BpQoc6ep83Qx9apV5Wj2GP9nP4dQ+SYvDtuhhuXvE+Z+JnILP8Ae74HtTJP2Z/hvPZi0Hhm2SIXEl0ArSAiV23OwIbIyecdPavUF+XrTvL7g/NXzSsfTpux5l4k/Zx+HXiqVG1Tw7b3DJbm0G4uMxFgxVsN83IHXNbHg/4Q+E/AeqXupaFpEFnfXSqk0ysxLgYwOSfQV2/l85zSeUOaBnF6l8J/Cmq+JLvWbvSop9Su7Y2k8zs/7yI5+Urnb3POM1Uuvgb4Hv8AU9F1OXQbc3mjRiLT3G4eQoxgAA4PQdQc16Bs+bOBmkMWTnPNKyA4XS/gx4N0bU2vbTRoYpWkM2AWKBySSwQnaD8x6DvWJY/sy/DjS9Xg1SHw5bpcwSPLEd8hEbMpViq7sDKsRgDvXqqx7eAaPK75pgeXWf7Nfw7tNN1DT08PQi0vf9bD5khVh6AFuB7DFd/oeiWnhvS7XT7GIQWFrGsMKKSdqqMAZJyePWtLyRuBzzSeV6GgDOQ/8Tw/e/1fpWn/AHazFXGuH5m+5Wn6UAPooooAKKKKACkpaKACiiigBNopaKKAGsKzLwn+0bMfNj6VqNWVfMBqVn8z/lQBrUUUUAFFFFABRRRQAUlLRQAlLRRQAUUUUAZes5VYsbvvfwCtCPPes7Wm2pFuZ1+b/lnWmg465oAdRRRQAUUUUAFFFFABRRRQAg46UbR6UtFAEbqOBjj07VU1YlbJyC4PsauvVHV8fYX5agCezx9mj4H3fSpk7nuahs/+POI99tTJ3oAd0paKKACiiigAooooAKKKKACiiigApKWigAooooAKKKKACiiigD8/f+CyX/JD/C3/AGE5v/Sdq/Fmv2m/4LJf8kP8Lf8AYTm/9J2r8WaACiiigAooooAKKKKACvdP2Kf+Tmvht/2Mukf+l9vXhde6fsU/8nNfDb/sZdI/9L7egD+jSiiigAooooAKKjkYrjFcF4u+Mui+Ddak0q5M13fwW63dxFapu8mFiQHb0HymgD0GkyD0rm7jxrpcfg0+KFuVfRvsf24Tr3i27s8+1crpfx48O31tezbbm2a3iWVIZ1w06sMgr+FAHp2a8B/a4/5AfhP/ALDEX/oS13Pwy+NGj/FO41K10+K7sL/T2CXNnfRbJEz0OK4L9riQNovhVc7CNYiI5HI3JzQB771rN07D3V0Q5ck4PFaOeN3b+7WfpbBrm7wxPzZ6AcUCOU1j4MeF9a1Brqa3dZn5ZYpSoP4Ctvwp4F0rwbCyadb+Vu6yOdxroePU/dz1ojXHRccZrZ1ako8rZzxoU4y5khD83UVNtFR8e9HHvWJ0ktFRce9JuHHHXpQBLmjNRq2e9G75VOaAJM0ZqLj356c0HBbAzQBNRUXGM9qTj5aAM/K/24fnOdv3a06zFdTrRXcc7M7cD+daG+gCakzTNx2qc0mfmxmgCTNGaj3f+hYoz7mgCWiouN2KTj5qAJc0tRElVyRRx70AS0mai4/LrS7vlY5oAe1Zd9t/tK13FlrQZ9vTNZ18wXUrPDtubovrQBrZozUe773NI2B60ATUmaZgfNSc8/MKAJaTNMyf7y0mfc0AS0VHuP8AeHSk496AJaKj4pOPegCTNLUTNjvScfLQBR1rHlxfMyfN/CK0I+lZesSbUhyzD5vTNaa/MqkUAS0VCvO2l496AJaKhXB60vPy8UAS0VFx70ce9AEtFR5P95aN59R97FAElFRfiv50c+n60AOY5OKpaww+wvu3L9BVpcqWJ2/nVXVmzYSYJoAns/8Aj1iHbbU6iq1q3+jxFTuG0celTjLKQGwfwoAfmlqLd97mk4+agCakzUTYHSnZoAkpM0zA+albigB9JmmcU3A9TQBLmlqL5qdu3dwKAHZpai3ZwBgn61J3oAWiiigAooooAKKKKAPz9/4LJf8AJD/C3/YTm/8ASdq/Fmv2m/4LJf8AJD/C3/YTm/8ASdq/FmgAooooAKKKKACiiigAr3T9in/k5r4bf9jLpH/pfb14XXun7FP/ACc18Nv+xl0j/wBL7egD+jSiiigAooooAjmwOTXyf4wsbnwv8bPipfaokhtdc8Jw2mnyAHEsgaf92uB7rX1fNzgYyKrNawySKWhRiv3SygkfT060AfOXh2+fw/8AsqxeG9Vtmv8AXbfwwBLprK2cGDHl5AznH415t+z/AKlB8I7vXbzXZm13QP7OS+W/njdpbRlTAtwu3/69fa5t4S0jFFLMMFsckYxj8qaLKARmMQJ5Z4ZNo2tkY5Hf8aAPAv2c/GHhLxx4x8Sa5pd9Fe63qQE8scULosMY6LlkGT+tc9+2F4Dkutc8H+IhrN3EI9QhgOngDyidyc19RRwQxsWSJEY9SowT9cda8L/a6/5APhIZ/wCYxF/6GtAHs7aOwOftUmaqWGnNJd3YNzJ93bwAK6CSsvS23Xl5iTd8wPSgB7aKeoupemKRdEYdbuX7uPx9a1aKAMv+xW3D/SpANuCPU+tA0U97uX9K1KKAMpdFfvdyfpzSnRWzGftcgC9uK1KKAMuPRWX71zJQuittAN3KcfStSigDL/sVsxn7VJ8vahdFZeftUma1KKAMsaK23abqTFH9it8n+lScda1KKAObj0thrXN1Ifkx0FX/AOx2/wCfuTr6CjK/24ct/B0rS/xzQBnf2M20D7TIfmz+HpR/Yzbs/aZMZrUooAy/7GbJ/wBKkxmkbRHI4vJAfwrVooAyzordRdSUf2K3zf6XJz0rUooAypNEeRWH2yUHt7Uv9it83+lyc9PatSigDKOit85F3L83XpQ2iPtcC7kGenTitWigDJk0eRulzIKoahpjf2hbn7TIhk6qAOPxro25FZl9Jt1C1QNy3Vcf1oAX+xWy/wDpUmD09qT+xHbreSj8BWrRQBmf2M3P+lS8/Sm/2IcP/pUnPTpxWrRQBlNopPS5cU7+xz1+0yfStOigDK/sRv8An6k9KVtFPQXUorUooAzRo573Up/KmDRW4zdy/pWrRQBlnRWOP9LlPr0pf7FOU/0qXA69Oa06KAOc1TT3jjg/0p1Ibn5Qf51dh0ZlX/j7kxTtaZVSP59hLc8ZrQj6UAZ66Ky4/wBLl4+lJ/Yr5B+1ye4rVooAyxorLtxdy8denNH9iH/n7m/StSigDL/sVsf8fcufwoOintdS/ez26elalFAGWuinvcyfpQ2iseRcyDvjitSigDL/ALFbb/x8yZ/Cg6Kf+fuUVqUUAZMmkHn/AEmSq+qaaY7KX/SZD+FbjdKo6w22wk5K/hmgClaaQ0lvu+1SAyLx7VP/AGOXZj9qkzV2z+azjJ67amjoAz20Y7WxdSZqJdKJZs3Ug3dPatiq8kZbfhvv9PagDP8A7KLZP2mbGOue/wCVL/Zv3itzMQBkZ6H8cV8J+MPjt4k8MeNPHWmw+M9Vm8QWmvJYaJpG4eVcIXUFWOPQnrzXr8fi/wAYyftKeCND1HWLyxttQ0WS8vtLRgYkmVVPp7mgD6NGllixF1KwYYGCAAffilbSi+CLqbbjJYEfpxXi37WGqeN/DPh3QdW8CXjrrC6nFB9hB2xXSMGJVvyFYvw3+L7/ABi8b+H77T9bvLBYbcrquhMcNFMGwQw64NAH0GdMKtk3UhFOXRieftUmMVcC7VwOlTLwuO1AGcdHPa6lo/sdm63Mn5CtOigDPt9MNvIjeazY61ewadRQAUUUUAFFFFABRRRQB+fv/BZL/kh/hb/sJzf+k7V+LNftN/wWS/5If4W/7Cc3/pO1fizQAUUUUAFFFFABRRRQAV7p+xT/AMnNfDb/ALGXSP8A0vt68Lr3T9in/k5r4bf9jLpH/pfb0Af0aUUUUAFFFFABSYHWlooATA9KKWigBu0eleA/td/8gHwl/wBhiL/0Na+gK+f/ANrz/kA+Ev8AsMRf+hLQB77JWZpf/H5eYO75l7AVpyVmaaxa8u/nVuQfSgDWooooAKKKKACiiigAooooAKKKKACiiigDLyP7cPOP3fpWl6Vl8/26x3rjZjFavpQAtFFFABRRRQAUUUUAFFFFABRRRQAjVlXgzqlnk8/3cf1rVasu9JOpWYDr/u//AF6ANWiiigAooooAKKKKACiiigAooooAKKKKAMvWuI4vmVfm7jNaEfSs7WmKxxfMq/N6A1ow/dNAElFFFABRRRQAUUUUAFFFFABRRRQA1+lUtYYrYv8ANs/AGrr9KpawwWwk+bb+GaAJrP8A49Yh221OtQWePskRz/DVhaAFqo7N5bbT81W6r+tAHy9d/sby65feNr3WNft57zW78anp1xb2piksZwQQd2c9QOOntV+2/Z1+IkfxF8PeMJvHunXGp6Tp0tid+kMRIXABY/N7CvoDW9esPDthJd3s6wQgfxnBNeC+Lv2jJnuJYNHtkWP+GdgP5EVlOtGnuelhMuxGNf7qOhvXfwh8f6xqej3ur+OtPujZ6ml/LEumMiMEBARf3nHBNaWj/s96T4f+Nk3xC06c2s93aiC6tI8iOSQHO8joPwryRf2gPGCtgXcQHT/j3Fdj4P8A2kpjPFBrFvkOMNKoA/QVhHFU5M9atw7j8PHmsmj6FaTFTrnbWPpOs2evWaXNlKs8LfxA1rr93Ndas1oz5iUXCTjLdD6KKKYgooooAKKKKACiiigAooooA/P3/gsl/wAkP8Lf9hOb/wBJ2r8Wa/ab/gsl/wAkP8Lf9hOb/wBJ2r8WaACiiigAooooAKKKKACvdP2Kf+Tmvht/2Mukf+l9vXhde6fsU/8AJzXw2/7GXSP/AEvt6AP6NKKKKACiiigAopkjFeleJ+NPjnqVr4+8SeGfD9vbzTeHNHj1m+kuM/PG7ONi49NlAHt9Febx/FpL74Ijx/Z28kyPpH9qLaqAzf6rdt4965P4OfHq++Jk2pLCtrqUFvbpMLmxztjkK5MT56GgD3SvAP2uF3aH4T5/5jEX/oS11/wJ+J+pfFLwfLq1/ax2sy3EkQSM9lbGK8n/AGwfiLollfeE/Dct451ltThnEIgbbs3Dnd07CgD6lPPWsvT2LXl3ll6gcAVJ/blrtzvPTP3TVDT9ZtFursmVT/F8qGgDoqKzv7ctf77dM/dPSmrr1of+WrdM/cPSgDTorMbXrQEDzWzjP3D0p39u2n/PRumfumgDRorNTXrR8YkPIyPkNH9uWu5R5x+bp8hoA0qKzF161bbiVumfuGga9aMoIlPOcfIaANOisz+3rX5f3rfN0+Q0DXrVtuJW/wC+DQBp0VmLr1owB804JI+4aP7etfl/et8xwPkNADdw/txhlceXnpWp6Vz0esWb61xKN2zG3Yd1Xl1+0O396euPuGgDUorMbXrUKv71uuPuGl/ty1/56N1/uGgDSorN/t605/enrj7h60h121UZMrYzj7hoA06Kzf7dtv75+9j7hpP7etNzDzT8pwfkNAGnRWYdetFDEynH+4aG122G794f++DQBp0VmNr1qGYea3y9fkNB161UMTK2F6/IaANFjgVl3T7dQtFDLj6U5tbtdpLOeMfwmqN9rFmNQtj5q5Xr8hoA6Kisz+3rX/nq3AyfkNH9v2n/AD0PTP3DQBp0Vmf27a52+a2cZ+4elL/b1ptJ80/L1+Q0AaVFZn9v2n/PQ9M/cNK2uWoOPMOcZ+4aANKis3+3LXaT5p6Z+4aX+3rTbnzGxjP3TQBo0Vmrrlqf+WrdM/cNIdetTtxK3TP3D0oA06KzP7etcg+a2CM/cPSga9at0lb5unyGgBNaYLHF8yr83pmtGPGOBisHUtatJEh2yqvzfxoauprlptB81v8Avg0AalFZn9vWpxiVuenyGj+3rX5f3rf98GgDTorN/ty04/et/wB8GmjXrVsYlblsD5DQBqUVmf29a7VPmt1x9w9aP7ctv+erddv3D1oA06KzF160P/LVuuPuGhtetR/y1brj7hoA06Kzv7btf+ep67fuHrSf25a/89G6/wBw0AaD9KoawwWwl+bb+Gaa2vWYUkyHrj7hqrqWr2os5VaYIV67kNAGpZ/8ecX+7Vhcdqx7TWrVbVAZThQAfkNTjXLNc5kPH+yaANKqk0y28MkrnCqM1B/blrtJ81uOvyGsLxlrMcPh+/aFmd0h+7jFKT5UzSlD2lRRPm740ePp/FHiKW2iffYW52CPPDn1rzj8KvzaVeSTyFYg5dj1cUn9k3Py/uxy2PvCvm6s5VJWP3LAxp4XDRpxW5R4znHNIVByOxq//Yt3z8g5bA+YUi6PdMV2RhmzjbuHWsVG2x3+2pRtzM9A+CfxFm8MaxBZXcjLZzttCHkLX1pbzCaFHXowyK+D7bS7uG6VwoDrLkHeOK+zPCmuRnw7pz3LkSNbo7gKeCetezg5tppn5hxLhqdOoqsOp1VFZn9v2n/PQ9M/cNOXXLQ/8tT/AN8GvSPiTRoqhDrFvcECNySRkfKauKxOKAH0UUUAFFFFABRRRQB+fv8AwWS/5If4W/7Cc3/pO1fizX7Tf8Fkv+SH+Fv+wnN/6TtX4s0AFFFFABRRRQAUUUUAFe6fsU/8nNfDb/sZdI/9L7evC690/Yp/5Oa+G3/Yy6R/6X29AH9GlFFFABRRRQAx1LcCvnvxl8IPENj8TvHHiHQ7VL238T6BDpJVpNvkyBpct9Pn6dOa+h6aVDdRmgDwfR/hz4p8L/BA+AtNtFFzb6GtsmpNKNrz+TtI2+m78KwPgR8Edd+G/ibUNRh0ttGsbzT1F1YC5WRJ7kJjeuBwc/hX0tsTuB1z0pVQLnA6nJoA8a/Zj8E+I/Afg290/wAR6ZHp1x9skliCXAk3Kxz2Fc5+1xY27af4TuTChuF1SFBKV+bG5eM/ia+iccY7V88/tj2ett4J0i90TRp9bmsL5bqS3gGW2Lg4/QUAe/eSnTaPTpWfpkcbXN3uSP8Au8DHFfO8f7WnimSz026X4Y6sYb8AxNtOfxqh4X/au8TeINa1q1sfhxdySWMiLcR7zlc9ccc0AfVf2dP7i9Nv4UgtYx0Rem38K8B/4aG8d4yfhjqAH40f8NDeOv8AomOofkaAPfWtU3Bti5xt6dqPs8f9xemOleAt+0R46X/mmV/+tZul/tReMtWaUQ/DHUh5ZIO4NyRQB9IRW8S4wi/KMDimeTH8p2D5enFeBr+0R456f8KxvlPoWJrMm/ai8Zwarb6e3wu1ITTdDzhaAPpFYUXGEUdulIsEa7QEUbenFeAf8NDeOP8AomV9/wCPVn6L+1D4y12KWW3+F+p7I5TES2Rn3oA+kPJj+X5B8vTilWGNcYQD8K+bX/ad8Zx61/Zn/CsNTM3lGffzsx6ZpX/ad8Zx6xDprfC/UxPMMhudij60AfR4gjC7di469KPJT5fkX5eRxXzfB+1F4wn1y60lfhhqpuLeFZ3kKPsKt02nbyRVOH9rbxXLpUl+PhdrBgjuDblSh3nHfFAH0ZHEkesY2R/cznHP51eW3jOMIvBz0r5Ztf2tPE1542OjL8Nr46ibfzhEc8J611Mf7Q3jdenw0vh/31QB9Bm2jIA2L1z0pPJT+4vXPSvAf+GhvHfb4YagfzqP/hofx3zn4Y3wx9aAPoH7LG2cKvXd070rW0bLtKKRnPSvm61/ag8ZTapJYJ8MNTEsYyzYODWn/wANDeOv+iZX/wCtAHvn2dF6oOtL9lj+Y7V+bk1846r+094z0lrcT/DDUmExwNoPBq7/AMNDeOt2P+FY331yaAPoBoYmUqUGD7UnlxnPyL+VfONv+074xn1W9sF+GGpNLbKD1IDUl/8AtPeMLC8srZ/hdqrzXUmxdmSo9yaAPo/yU+Y7F+brxQ0MbKylFIbrxXzjqn7UHjHSbmyhm+F+qN9qYorR5OPc0XP7UPjC31K009vhjqf2i5zsYKdg+poA+jmhjbIKA1nXsKnUbYbY/m68V89t+1Z4u8zUkHww1NnsQDKuG7+lZF3+154lj17RrWf4a38M1/8A8eyNnLfX0oA+rltk+bKL83B4o+yp/cX8q8C/4aG8df8ARMtQ/Wj/AIaG8dZx/wAKx1DP0NAHvv2ZN27YM429O1J5MWGGwfN14rwP/hobx1/0TK//AFrJuv2nvGdrqlvYt8MNS82cZHBwv1oA+k/s8f8AcX06UeXGW3bBnp0r5/8A+GiPHPb4ZXp/4Eap6p+0x400ezkuZ/hdqTohxiMkk0AfRnlx4I2DpjpSeSm3bsXHTpXz5b/tFeN7q3jkT4X3+XGQCx4qlJ+1B4zh1SLTn+F2pi6kiMo67BjtmgD6QaJF6IvTHSkEKLjCL029O1fOWs/tPeM9FtPPn+GOosM42qGpmq/tQeM9H09rub4Y6kUyBhQ2aAPpDyUwBsXGNvTtQsKLtwijb04r5w1P9qLxlpUMEknww1KQSMFO0HjNKf2oPGS6wmnN8MNSM7RGTIB2DHbNAHvusRqEi2pGPm/jFaaRRcDYv5V8ma/+2P4i0/S7W8uvhpqNvHLceSq3AOS3pXZR/tDeN2UEfDHUOf8AeoA+gRbIu3CL8vTila3j4AVc/SvAf+GhvHX/AETLUP1psn7QnjlW3D4ZXzfiaAPfvKTj5F/KkW3RduEA28jivnHU/wBqDxlpTWhk+GGpP9pk8pFUHj3NaA/aI8csoI+GV8M9jmgD37yU4+Reu7p3pfKT+6Ou7p3r57u/2jvG9rayzN8MNQCJ33HmoNL/AGmPGusWcdzb/C7UkEnRJSQRQB9FeRH/AHF656U7yYz/AAr69K+btS/ag8ZaXPYRS/DLUt97P5CBQTt9zU91+0l41s7N7lvhfqDxqM4Rjk0AfRPkp/cHXd070eUn91euelfOP/DT3jM6KdTHwv1PYI93k85zUT/tUeLo9DGqt8L9U+zlAfL2nfz7UAfSTQxNkFF656VU1RFWzlOxS7ddwB/nXzxc/tSeMLdrBB8K9XY3hAQ7X+X/AHvl4rK8S/tb+J9L07VJ7n4Z6nDDYkCWSTOB9KAPqC3hRrVWKDDLkjFWTbxlT8qk/SvnDQ/2lPGOqaRaXcHw2vpI54w0TgnDZ9avJ+0L443YX4Z3xP8AwKgD6C+zx/MNi/N14rB8YaUNQ8P30CqPMliZRgY5rx7/AIaF8dYJPwx1AAexrM1v9pjxhpGltdXHwy1Fx/cUNSkk1qXTl7Oan2PGL+OazvJYWDJJC7LgkjmofOfj5j60vxK1jxvrmrf2np3w11JUuvndAG4PrXGNffEof80z1X/vg14FWjVT9xH7Fhc6wkqMOeWqOy85+PnPByOaFnkXADkc7vxrg7DxF8RNUhZ4PhfrA2tghkNLqXiD4haXYvdT/DPWMDoioTUewqLdHd/aeAlFNyR6Fp9tLf6hbwq25pJB8qk19w+GNNFhoNjbSDc8UKpuPPSvh34Y61400HU11XUPhpqJSP5kjKng17RpP7THjLVbUzW3wx1JI1OMSZBNethqThufnnEOOhiqihDVI+jvIj/uL6dKXykH8C/lXzXpn7VHi/U9Pnu4/hhqgijcqPMBDH8Kjk/ax8VrosWqD4Yar9nbqm07/wAq7T48+lljjhw6j7owABU0fb6V4R4I/aC8S+JPHtt4e1DwBqGlRSJ5j3z/AHEHpXu8We9AElFFFABRRRQAUUUUAfn7/wAFkv8Akh/hb/sJzf8ApO1fizX7Tf8ABZL/AJIf4W/7Cc3/AKTtX4s0AFFFFABRRRQAUUUUAFe6fsU/8nNfDb/sZdI/9L7evC690/Yp/wCTmvht/wBjLpH/AKX29AH9GlFFFABRRRQAUUUUAIVDdaWiigArF8QeItN8NaebvVryOztsiMtI3GWOK2q8Q/a2jt4/gvqBuWVdlzblZGIX/lquep9zQB6PrHjbw9oNray3+pWtpayx74WY/wAIGdwAHYVNp82j28Z1Cye1jS9IledGCmQYxn3wa+b9SkF18avBY1Z2fQG8NzGBnYGEsYvmByetdd+yzpI8TfCGKXW7aSWSLVL+K28wtnyRO3l9+m0AUAd98UPHuueE9Bm1LQrKx1GG3QSStcTFRjdjjb3rttD1CTU9LtbmWJoHljDFG6g1xPjT4PxeLLWxtrPWr/Qre3k8xo7MgrLg553Z49q7XQ9MfSdMt7RrmS7MKbDPKAGfHfjgUAaNMWJV3bRt3HccdzT6KAEpjQRsysVBZejdx+NSUUAJj/OaZHDHECEQICdx28c1JRQAzyk3bto3Yxu70eWnmCTaN4GN3tT6KAKOoXVno9pPfXLrbxRrmSZuMKP6Vinxp4eXw/HrA1K3OlTOpS4DfI7P0A96i+LUcUvw18SrOyrGbCX77bRnacc/WvkiGSST4W/BhY2X+xDq9sLhlYNHuDYAY5xigD680e/8O6239vafJbXDSL5P2yMjj/ZzVTx940l8M+C9R1nS0h1Ce0VG8uSXarZdQeR7E14/8B9Ph8QfED4u2ckPn+GodTt/sAVjs+aHMhQD/b5r17xD8MtL1zwvqGhwmXTIr5QkktofmUAgjhsjqBQBv+HtXfWNDsr+RFiM8QkKA/drTXDr1J/HFZmgaOPD+j2eno7Tx28Xl+ZJjJxWovSgAWNVYsB83TPenUUUANeNZMbhnByPrS7RjHP50tFADPKTzGcKA7DBYDk/jQ0auQSuSOntT6KAI2hRsZXOOme1HkpuDYJYdCSTipKKAMHxB4k0bw3Napqd7DZy30y28IkOPNdjhV96y/EXiXwloeqWTa1d2Vnexr5kBkILKvr04ry79rv7NHD8NJpmjWVPF9htMjhcLv8Am69q878aMZviZ8V318/uBpyjTjP08rauSvPqTQB614g+P0+keItXWGxim0HSbmOzu7oud4lcqAFHcAk17Rbzecua+cvg58FofFnw98O61r091b3l1Ek+oWPG2WUEEM2ec5Ar6NhVY12gYFAEtM8pC24jLYxnvSrIGzjtS7h60AHTpTXjWThhuHoelODBulLQA0IAABwBwMU0woZFcqC6jaG74qSkzQAxoUkXaw3D0Yk0rxJIpDLuHXDcil3r606gCJoU2AEZAIIySayvEfiHS/CelT6prF7Dp9lCjGS4mbCqv1rYk+6a8Q/bMW3H7LvxGa72bY9IlKNIQq7u2OetAHofijW/C9vp9rPrdzZx2UzB7dpwDubGeBj0rG8VfFFtIuPCraQkGq2GszmL7RvPAC5yOa8W8RyyXfxW+GX22ZpdAOgK0fmMGiM+zHJJxmp/2ffAknxC8JpPeXt5ZWmj63JJprxYKyw7eAMjpQB9Q7nwp7fWpQu4ZJOfqaiWN9oU9KsUARtCkmNy7sHcMnofan7ec/1paKAGuiyLtYZHpQsaqAFG0DoBTqKAI2hRypZdxU5BbnB9qc0auMEZHpTqKAGCFAmzHy424ycYoEShQuPlxjB6U+igCnfTQafbvczuqRQguzMfTpXOzeKPC+ueE31iS9s7rQLldxuSQYpRnGffmtrxFHDNo96lyF8poWDbyAvT1r4d0G4mb9mX4Mwwvv0j+0mS/aFgUVMsRuIPTcBQB9VeJPH0sPg2fU/A0en6uljHIGjkdkjXYMbMDoSa63wLr0/ifwnpOq3dv9kury2juJLfB/dlhnbzXzP4P8FXHxE+J3j7SrLW9Q0Pw9BNHKraY6bJLjdyo3AjHsOK+ofDOjtoGjwWDXkt8YRt86baGP4KMUAatMe3SRCjjcp7Mc1JRQA3ywPX8zQYwfX86dRQAxYUXdgY3HJwaR7dJFKsCwPUEk1JRQAzy156/maFhSMAKu0egp9FADFjRVKhcAnJAoMKMgQqNo6L2p9FADPKQtuKgtjGcc4pwGKWigAooooAKKKKACiiigD8/f8Agsl/yQ/wt/2E5v8A0navxZr9pv8Agsl/yQ/wt/2E5v8A0navxZoAKKKKACiiigAooooAK90/Yp/5Oa+G3/Yy6R/6X29eF17p+xP/AMnOfDYdv+Ek0n/0vt6AP6NKKKKACiiigAooooAKKKKACsHxN4Q0Xxlpbadremw6nZMwYw3C7gSCCD+YFb1N2j0oA5fUfh74b1K2tbe50a1litY2ihUp9xWGCAevStnTdMtdHso7aygW2toxhI4+AOv+Jq/5antRsXbtxxQAtLRRQAUUUUAFFFFABRRRQAUUUUAUtY0u01rTZ7G+gS5tJlKSRSDhge1c9b/DPwrYeH7fQ7fQ7OLSYZFljtFj+RWU5BArrSM9aNoPagDH0Lw3pnhm2a30yyisomYuyxDG4nuT1NaYba2MZqQordRShQvQUAFFLRQAUUUUAFFFFABRRRQAUUUUAcz428G+GfFcFpJ4m06zvYbGZbiF7scRyKcqw57Vi6zo/gLxFPHNfjSbwpD5JeSZDmPjg889BWh8TfAifELQo9LmvJrO2MytM0DEMyd1yOma+RvDHw10q6/bG8V+Fma6bRodDMkdt5h2rJnr1zQB9t2X2drNPsxje2K5i8vBUr6Cp9vvXy38L/jdrOga9efDTSfCt1q//CKE297qMlxk4H4V08f7UX2fxlpGh6lof9nrrElxDY+bMPPLRKpw6Y4zk0Ae6Wl5bXis1pcRXCq3luY3DYYHBHHoanaRIomkkdY0AyS5xgV8qeGP2jNN8D/Cnxh4o0nwxIbfTdauYLq3kvQzmTzmDEcccgcDit2x/aYvPEF5q2g654T/ALOu30c6vaQrehvtFuAo6gZHJPSgD6PsbiG7t1mt5UnhblZEYMCPqKsV8n6V+05a+Avgr8N9Z0Pww1zZeJJ/sdtavegvG3zdSRk9B1rtPCf7U9vqOleM38R6R/YGq+FyftVmswlDKfusGxQB75TJOFwDgngV89+A/wBqLVPFnxE0vwtdeFBatqliupWl1HdB1a3Izk8cHHarf7Rnxc8V/D3xb8N9M8O6dbXsWv61DZytO+PlbqPb8KAPb4byCa4khjnikkT70aOC6fUVdr5x8MfFCKH4lfEO2h8ONFr+k2Ru7hGvQySgenGB+Fczpn7cGo32meEdYl8EtBo3iR2t7Wf7WC3nD+HGOlAH1lJ901g+J/COi+NNGuNJ1zTbfU9NuFKS21wmUdT1BFeLaf8Atb2drpviaPxPpa6JrmiXkFnLZLN5iFpyRCd2O5U1v/CP9oJfiN4w1fw1eaUtjqVhGsytaTfaIZUYZ4fAHFAHoN18P/Dd1p9lYy6NavaWWPs8WziPAxwa19F0ay0OxgsrC2jtLSBdscUQwFFXRErdRTwoXoKAHUUUUAFFFFABRRRQAUUUUAFFFFAFbULGDUbWS3uYlmhkXayN3Fczp3wx8KaT4d/sCz8PWVvo27cLJI/3YOScgdup6V1xGetJsFAGLoPhfSfC9vLDpNhBYRSyNK6wrjcxOSTWvCo5OAD7Cn+WvpSqoXoKAFooooAKKKKACiiigAooooAKKKKACiiigAooooAKKKKACiiigD8/f+CyX/JD/C3/AGE5v/Sdq/Fmv2n/AOCyX/JC/Cx7/wBqSj/yA1fixQAUUUUAFFFFABRRRQAV7B+yV4msvCP7RXw/1XUTtsLXW7G4mOccR3Eb9fqoP4V4/U1vcSWs0UsTFJI2Dow6gjv+lAH9UO78aWvkr/gnX+1Rp/7QHwb07Sb28H/CXaDAlpdwzSbpZo1ACy+/HBr61oAKKKKACiiigAooooAKKKKACiiigAooooAKKKKACiiigAooooAKKKKACiiigAooooAKKKKACiiigAooooAKKKKACiiigCOZSy4r5m8LfBv4g6V+1hrfxDuotH/4R3ULL7EsaTsZh74r6dpMUAfPnw1+E/jjwv8AE74n67fJpsdj4kLvaSQTEujY+UkEfzryTS/2b/i7b6p4S1G7i0G+vdC1O4unvpr12nvFfAGSenQdMV9v0UAfFkX7MvxPb4T+O/DbxaCl9rmsTajAy3b7VSSRn+bj3ro9U+BfxOb4kWHiO0ttDNva+FToHltdOG3kgk9PYV9X7f8AOaKAPjC2/Zm+J1v8H/hT4WI0J7vwlqP2m5kNy+2ROehx7npUfjrwL4l+GNv8V/FniqLSDoviGCKytYlnZ9rM2B5n09a+0ZPu1j+IvDmneKdKn03VrOK/sZcF4ZRlWwcigD5B/ZjuL/wH4p8P6TqfhvS3u7qwWKO/0zUprubYox9x+FXHYYr2z9of4X+IPH9x4J1bwstlNqvhvWYdS8i9lKJIi9RkV3Pg74V+F/AWf7C0iC04KggsxAPYFicD2FdfH82M80AfM+g/Cf4k2PxO8e+KLiDQxD4g002ltDHdNwx6knFcZZfs1/E6z+Gvwx8NsuhSXXha8WWdvtb4kQdMcdfpzX2fS0AfF/ir9lf4g+NPE3xC1C5k0i2g1a6sb3TMSs+2W1ZyBIpyOS3pjmvbvhD4Z8bW8iXPi7TtC0Z4bf7OIdFRXWdsY8xm2gj6A49q9h6cUUALRRRQAUUUUAFFFFABRRRQAUUUUAFFFFABRRRQAUUUUAFFFFABRRRQAUUUUAFFFFABRRRQAUUUUAFFFFABRRRQAUUVmeIvEmmeEtDvtY1m9h0/TLGMzXN1O2EiQdyaAPzy/wCC0fjTT7P4Y+DfDnmqNVub97lVzysQXaTj3yRX4719D/twftJXH7S3xw1LXYiV0SyLWmmxNj5YR3OByT6188UAFFFFABRRRQAUUUUAFGTRRQB3Xwd+MXif4G+NrPxP4W1CTT9Qtm/gxhx6MpBBHsQa/Z/9mH/gp18OfjZZWmneJ7uHwb4pb5Xgum22zn1WQ9Pxr8Js05ZGVlIOCvSgD+pzT9TtNUgEtndwXkX/AD0gkV1/MVar+ZHwv8cvH/gtVXRPF+s6Wq9BaXrx/wAjXY/8NqfHT/orHjD/AMHlz/8AF0Af0e0V/OF/w2n8df8AorPjD/wd3P8A8XR/w2p8dP8AorHjD/wd3P8A8XQB/R7RX84X/Dafx1/6Kz4w/wDB3c//ABdH/Dafx1/6Kz4w/wDB3c//ABdAH9HtFfzhf8NqfHT/AKKx4w/8Hdz/APF0f8Np/HX/AKKz4w/8Hdz/APF0Af0e0V/OF/w2p8dP+iseMP8Awd3P/wAXR/w2n8df+is+MP8Awd3P/wAXQB/R7RX84X/Danx0/wCiseMP/B3c/wDxdH/Danx0/wCiseMP/B3c/wDxdAH9HtFfzhf8Np/HX/orPjD/AMHdz/8AF0f8NqfHT/orHjD/AMHdz/8AF0Af0e0V/OF/w2n8df8AorPjD/wd3P8A8XR/w2p8dP8AorHjD/wd3P8A8XQB/R7RX84X/Dafx1/6Kz4w/wDB3c//ABdH/Dafx1/6Kz4w/wDB3c//ABdAH9HtFfzhf8NqfHT/AKKx4w/8Hdz/APF0f8Np/HX/AKKz4w/8Hdz/APF0Af0e0V/OF/w2p8dP+iseMP8Awd3P/wAXR/w2n8df+is+MP8Awd3P/wAXQB/R7RX84X/Dafx1/wCis+MP/B3c/wDxdH/Danx0/wCiseMP/B3c/wDxdAH9HtFfzhf8Np/HX/orPjD/AMHdz/8AF0f8NqfHT/orHjD/AMHdz/8AF0Af0e0V/OF/w2n8df8AorPjD/wd3P8A8XR/w2p8dP8AorHjD/wd3P8A8XQB/R7RX84X/Danx0/6Kx4w/wDB3c//ABdH/Dafx1/6Kz4w/wDB3c//ABdAH9HtFfzhf8NqfHT/AKKx4w/8Hdz/APF0f8Np/HX/AKKz4w/8Hdz/APF0Af0e0V/OF/w2p8dP+iseMP8Awd3P/wAXR/w2n8df+is+MP8Awd3P/wAXQB/R7RX84X/Danx0/wCiseMP/B3c/wDxdH/Danx0/wCiseMP/B3c/wDxdAH9HtFfzhf8Np/HX/orPjD/AMHdz/8AF0f8NqfHT/orHjD/AMHdz/8AF0Af0e0V/OF/w2n8df8AorPjD/wd3P8A8XR/w2p8dP8AorHjD/wd3P8A8XQB/R4VDdab5YJ5r+cUftp/HUf81Z8Yf+Du5/8Ai6T/AIbS+OuMf8LZ8Yf+Dy6/+LoA/o82ihVC1/OJ/wANqfHTp/wtjxh/4O7n/wCLo/4bT+Ouc/8AC2fGH/g7uf8A4ugD+j2iv5wv+G1Pjp/0Vjxh/wCDu5/+Lo/4bT+Ov/RWfGH/AIO7n/4ugD+j2iv5wv8AhtP46/8ARWfGH/g7uf8A4uj/AIbU+On/AEVjxh/4O7n/AOLoA/o9or+cL/htP46/9FZ8Yf8Ag7uf/i6P+G1Pjp/0Vjxh/wCDu5/+LoA/o9or+cL/AIbT+Ov/AEVnxh/4O7n/AOLo/wCG1Pjp/wBFY8Yf+Du5/wDi6AP6PaK/nC/4bU+On/RWPGH/AIO7n/4uj/htP46/9FZ8Yf8Ag7uf/i6AP6PaK/nC/wCG1Pjp/wBFY8Yf+Du5/wDi6P8AhtP46/8ARWfGH/g7uf8A4ugD+j2iv5wv+G1Pjp/0Vjxh/wCDu5/+Lo/4bT+Ov/RWfGH/AIO7n/4ugD+j2iv5wv8AhtP46/8ARWfGH/g7uf8A4uj/AIbU+On/AEVjxh/4O7n/AOLoA/o9or+cL/htP46/9FZ8Yf8Ag7uf/i6P+G1Pjp/0Vjxh/wCDu5/+LoA/o9or+cL/AIbT+Ov/AEVnxh/4O7n/AOLo/wCG0/jr/wBFZ8Yf+Du5/wDi6AP6PaK/nC/4bU+On/RWPGH/AIO7n/4uj/htP46/9FZ8Yf8Ag7uf/i6AP6PaK/nC/wCG1Pjp/wBFY8Yf+Du5/wDi6P8AhtP46/8ARWfGH/g7uf8A4ugD+j2iv5wv+G1Pjp/0Vjxh/wCDu5/+Lo/4bU+On/RWPGH/AIO7n/4ugD+j2iv5wv8AhtP46/8ARWfGH/g7uf8A4uj/AIbU+On/AEVjxh/4O7n/AOLoA/o9or+cL/htP46/9FZ8Yf8Ag7uf/i6P+G1Pjp/0Vjxh/wCDu5/+LoA/o9or+cL/AIbT+Ov/AEVnxh/4O7n/AOLo/wCG1Pjp/wBFY8Yf+Du5/wDi6AP6PaK/nC/4bU+On/RWPGH/AIO7n/4uj/htP46/9FZ8Yf8Ag7uf/i6AP6PaK/nD/wCG1Pjp/wBFY8Yf+Du5/wDi6zdY/ay+MHiC3MGo/EjxPfRH+G61WaX/ANCY0Afv98Wv2mPht8D9JN94u8VWNiB0t45BLO30Rea/Hz9t3/goxr37SUknhvw3HN4e8DxtzAJP317/ALUhHb/Z6V8c6pr2pa5cm41C/uL2c/8ALSeUuf1qhuNAC7jnP40lFFABRRRQAUUUUAFFFFABRRRQAUUUUAFG4+tFFAC7j6mk3H1oooAXcfU0bj6miigBNx9aXcfU0UUAJuPrS7j6miigBNx9aNx9aKKAF3H1NJuPrRRQAu4+ppNx9aKKAF3H1NG4+poooATcfWl3H1NFFACbj60u4+poooANx9TSbj60UUALuPqaTcfWiigBdx9TSbj60UUAG4+tLuPqaKKAE3H1pdx9TRRQAm4+tLuPqaKKAE3H1o3H1oooAXcfU0m4+tFFAC7j6mk3H1oooAXcfU0bj6miigBNx9aXcfU0UUAJuPrS7j6miigA3H1NJuPrRRQAu4+ppNx9aKKAF3H1NJuPrRRQAbj60u4+poooATcfWl3H1NFFACbj60u4+poooANx9TSbj60UUALuPqaTcfWiigBdx9TRuPqaKKAE3H1pdx9TRRQAm4+tLuPqaKKAE3H1o3H1oooAXcfU0m4+tFFAC7j6mk3H1oooAXcfU0m4+tFFABuPrS7j6miigBNx9aKKKACiiigAooooAKKKKACiiigD/9k=)"
      ],
      "metadata": {
        "id": "7WyTRf2C9v9u"
      }
    },
    {
      "cell_type": "markdown",
      "source": [
        "## Automatic Machine Learning (Auto ML)"
      ],
      "metadata": {
        "id": "6dowTdtLdUQ6"
      }
    },
    {
      "cell_type": "code",
      "source": [
        "!pip install pycaret"
      ],
      "metadata": {
        "id": "V6wzRhe8-pu1"
      },
      "execution_count": null,
      "outputs": []
    },
    {
      "cell_type": "code",
      "source": [
        "#reload data and eval function\n",
        "import pandas as pd\n",
        "from sklearn.model_selection import train_test_split\n",
        "df=pd.read_csv(\"https://raw.githubusercontent.com/ogut77/DataScience/main/data/CCPP.csv\")\n",
        "X=df.drop(\"PE\",axis=1)\n",
        "Y=df.PE\n",
        "X_train,X_test,y_train,y_test=train_test_split(X,Y,test_size=0.2,random_state=123)\n",
        "def evalmetric(y,ypred):\n",
        " import numpy as np\n",
        " e = y - ypred\n",
        " mse_f = np.mean(e**2)\n",
        " rmse_f = np.sqrt(mse_f)\n",
        " mae_f = np.mean(abs(e))\n",
        " mape_f = 100*np.mean(abs(e/y))\n",
        " r2_f = 1-(sum(e**2)/sum((y-np.mean(y))**2))\n",
        " print(\"MSE:\", mse_f)\n",
        " print(\"RMSE:\", rmse_f)\n",
        " print(\"MAE:\",mae_f)\n",
        " print(\"MAPE:\",mape_f)\n",
        " print(\"R-Squared:\", r2_f)"
      ],
      "metadata": {
        "id": "rWFlcUoOtKxH"
      },
      "execution_count": 3,
      "outputs": []
    },
    {
      "cell_type": "code",
      "source": [
        "result = pd.concat([X_train, y_train], axis=1)\n",
        "result"
      ],
      "metadata": {
        "id": "F5rQB4RFdr5f",
        "outputId": "3e7e7bea-9391-4e03-c1ef-12a2e0b6282f",
        "colab": {
          "base_uri": "https://localhost:8080/",
          "height": 423
        }
      },
      "execution_count": 4,
      "outputs": [
        {
          "output_type": "execute_result",
          "data": {
            "text/plain": [
              "         AT      V       AP     RH      PE\n",
              "2678  18.95  42.23  1013.01  79.40  462.73\n",
              "370   23.19  48.60  1002.38  61.19  445.52\n",
              "6951  21.97  58.79  1010.93  86.70  448.80\n",
              "1562  26.93  72.99  1007.33  78.85  433.18\n",
              "6993  27.14  64.27  1012.71  54.40  441.68\n",
              "...     ...    ...      ...    ...     ...\n",
              "7382  13.67  38.53  1009.30  81.85  470.39\n",
              "7763  15.12  41.04  1025.95  69.67  460.58\n",
              "5218   7.91  38.56  1016.48  68.94  485.95\n",
              "1346  19.09  56.51  1015.58  92.56  449.24\n",
              "3582  25.95  59.27  1010.90  70.42  444.19\n",
              "\n",
              "[7654 rows x 5 columns]"
            ],
            "text/html": [
              "\n",
              "  <div id=\"df-707a6b0c-4257-4dab-a76c-03e8944cd5af\" class=\"colab-df-container\">\n",
              "    <div>\n",
              "<style scoped>\n",
              "    .dataframe tbody tr th:only-of-type {\n",
              "        vertical-align: middle;\n",
              "    }\n",
              "\n",
              "    .dataframe tbody tr th {\n",
              "        vertical-align: top;\n",
              "    }\n",
              "\n",
              "    .dataframe thead th {\n",
              "        text-align: right;\n",
              "    }\n",
              "</style>\n",
              "<table border=\"1\" class=\"dataframe\">\n",
              "  <thead>\n",
              "    <tr style=\"text-align: right;\">\n",
              "      <th></th>\n",
              "      <th>AT</th>\n",
              "      <th>V</th>\n",
              "      <th>AP</th>\n",
              "      <th>RH</th>\n",
              "      <th>PE</th>\n",
              "    </tr>\n",
              "  </thead>\n",
              "  <tbody>\n",
              "    <tr>\n",
              "      <th>2678</th>\n",
              "      <td>18.95</td>\n",
              "      <td>42.23</td>\n",
              "      <td>1013.01</td>\n",
              "      <td>79.40</td>\n",
              "      <td>462.73</td>\n",
              "    </tr>\n",
              "    <tr>\n",
              "      <th>370</th>\n",
              "      <td>23.19</td>\n",
              "      <td>48.60</td>\n",
              "      <td>1002.38</td>\n",
              "      <td>61.19</td>\n",
              "      <td>445.52</td>\n",
              "    </tr>\n",
              "    <tr>\n",
              "      <th>6951</th>\n",
              "      <td>21.97</td>\n",
              "      <td>58.79</td>\n",
              "      <td>1010.93</td>\n",
              "      <td>86.70</td>\n",
              "      <td>448.80</td>\n",
              "    </tr>\n",
              "    <tr>\n",
              "      <th>1562</th>\n",
              "      <td>26.93</td>\n",
              "      <td>72.99</td>\n",
              "      <td>1007.33</td>\n",
              "      <td>78.85</td>\n",
              "      <td>433.18</td>\n",
              "    </tr>\n",
              "    <tr>\n",
              "      <th>6993</th>\n",
              "      <td>27.14</td>\n",
              "      <td>64.27</td>\n",
              "      <td>1012.71</td>\n",
              "      <td>54.40</td>\n",
              "      <td>441.68</td>\n",
              "    </tr>\n",
              "    <tr>\n",
              "      <th>...</th>\n",
              "      <td>...</td>\n",
              "      <td>...</td>\n",
              "      <td>...</td>\n",
              "      <td>...</td>\n",
              "      <td>...</td>\n",
              "    </tr>\n",
              "    <tr>\n",
              "      <th>7382</th>\n",
              "      <td>13.67</td>\n",
              "      <td>38.53</td>\n",
              "      <td>1009.30</td>\n",
              "      <td>81.85</td>\n",
              "      <td>470.39</td>\n",
              "    </tr>\n",
              "    <tr>\n",
              "      <th>7763</th>\n",
              "      <td>15.12</td>\n",
              "      <td>41.04</td>\n",
              "      <td>1025.95</td>\n",
              "      <td>69.67</td>\n",
              "      <td>460.58</td>\n",
              "    </tr>\n",
              "    <tr>\n",
              "      <th>5218</th>\n",
              "      <td>7.91</td>\n",
              "      <td>38.56</td>\n",
              "      <td>1016.48</td>\n",
              "      <td>68.94</td>\n",
              "      <td>485.95</td>\n",
              "    </tr>\n",
              "    <tr>\n",
              "      <th>1346</th>\n",
              "      <td>19.09</td>\n",
              "      <td>56.51</td>\n",
              "      <td>1015.58</td>\n",
              "      <td>92.56</td>\n",
              "      <td>449.24</td>\n",
              "    </tr>\n",
              "    <tr>\n",
              "      <th>3582</th>\n",
              "      <td>25.95</td>\n",
              "      <td>59.27</td>\n",
              "      <td>1010.90</td>\n",
              "      <td>70.42</td>\n",
              "      <td>444.19</td>\n",
              "    </tr>\n",
              "  </tbody>\n",
              "</table>\n",
              "<p>7654 rows × 5 columns</p>\n",
              "</div>\n",
              "    <div class=\"colab-df-buttons\">\n",
              "\n",
              "  <div class=\"colab-df-container\">\n",
              "    <button class=\"colab-df-convert\" onclick=\"convertToInteractive('df-707a6b0c-4257-4dab-a76c-03e8944cd5af')\"\n",
              "            title=\"Convert this dataframe to an interactive table.\"\n",
              "            style=\"display:none;\">\n",
              "\n",
              "  <svg xmlns=\"http://www.w3.org/2000/svg\" height=\"24px\" viewBox=\"0 -960 960 960\">\n",
              "    <path d=\"M120-120v-720h720v720H120Zm60-500h600v-160H180v160Zm220 220h160v-160H400v160Zm0 220h160v-160H400v160ZM180-400h160v-160H180v160Zm440 0h160v-160H620v160ZM180-180h160v-160H180v160Zm440 0h160v-160H620v160Z\"/>\n",
              "  </svg>\n",
              "    </button>\n",
              "\n",
              "  <style>\n",
              "    .colab-df-container {\n",
              "      display:flex;\n",
              "      gap: 12px;\n",
              "    }\n",
              "\n",
              "    .colab-df-convert {\n",
              "      background-color: #E8F0FE;\n",
              "      border: none;\n",
              "      border-radius: 50%;\n",
              "      cursor: pointer;\n",
              "      display: none;\n",
              "      fill: #1967D2;\n",
              "      height: 32px;\n",
              "      padding: 0 0 0 0;\n",
              "      width: 32px;\n",
              "    }\n",
              "\n",
              "    .colab-df-convert:hover {\n",
              "      background-color: #E2EBFA;\n",
              "      box-shadow: 0px 1px 2px rgba(60, 64, 67, 0.3), 0px 1px 3px 1px rgba(60, 64, 67, 0.15);\n",
              "      fill: #174EA6;\n",
              "    }\n",
              "\n",
              "    .colab-df-buttons div {\n",
              "      margin-bottom: 4px;\n",
              "    }\n",
              "\n",
              "    [theme=dark] .colab-df-convert {\n",
              "      background-color: #3B4455;\n",
              "      fill: #D2E3FC;\n",
              "    }\n",
              "\n",
              "    [theme=dark] .colab-df-convert:hover {\n",
              "      background-color: #434B5C;\n",
              "      box-shadow: 0px 1px 3px 1px rgba(0, 0, 0, 0.15);\n",
              "      filter: drop-shadow(0px 1px 2px rgba(0, 0, 0, 0.3));\n",
              "      fill: #FFFFFF;\n",
              "    }\n",
              "  </style>\n",
              "\n",
              "    <script>\n",
              "      const buttonEl =\n",
              "        document.querySelector('#df-707a6b0c-4257-4dab-a76c-03e8944cd5af button.colab-df-convert');\n",
              "      buttonEl.style.display =\n",
              "        google.colab.kernel.accessAllowed ? 'block' : 'none';\n",
              "\n",
              "      async function convertToInteractive(key) {\n",
              "        const element = document.querySelector('#df-707a6b0c-4257-4dab-a76c-03e8944cd5af');\n",
              "        const dataTable =\n",
              "          await google.colab.kernel.invokeFunction('convertToInteractive',\n",
              "                                                    [key], {});\n",
              "        if (!dataTable) return;\n",
              "\n",
              "        const docLinkHtml = 'Like what you see? Visit the ' +\n",
              "          '<a target=\"_blank\" href=https://colab.research.google.com/notebooks/data_table.ipynb>data table notebook</a>'\n",
              "          + ' to learn more about interactive tables.';\n",
              "        element.innerHTML = '';\n",
              "        dataTable['output_type'] = 'display_data';\n",
              "        await google.colab.output.renderOutput(dataTable, element);\n",
              "        const docLink = document.createElement('div');\n",
              "        docLink.innerHTML = docLinkHtml;\n",
              "        element.appendChild(docLink);\n",
              "      }\n",
              "    </script>\n",
              "  </div>\n",
              "\n",
              "\n",
              "<div id=\"df-3be04b16-d875-47ca-984b-997399e95098\">\n",
              "  <button class=\"colab-df-quickchart\" onclick=\"quickchart('df-3be04b16-d875-47ca-984b-997399e95098')\"\n",
              "            title=\"Suggest charts\"\n",
              "            style=\"display:none;\">\n",
              "\n",
              "<svg xmlns=\"http://www.w3.org/2000/svg\" height=\"24px\"viewBox=\"0 0 24 24\"\n",
              "     width=\"24px\">\n",
              "    <g>\n",
              "        <path d=\"M19 3H5c-1.1 0-2 .9-2 2v14c0 1.1.9 2 2 2h14c1.1 0 2-.9 2-2V5c0-1.1-.9-2-2-2zM9 17H7v-7h2v7zm4 0h-2V7h2v10zm4 0h-2v-4h2v4z\"/>\n",
              "    </g>\n",
              "</svg>\n",
              "  </button>\n",
              "\n",
              "<style>\n",
              "  .colab-df-quickchart {\n",
              "      --bg-color: #E8F0FE;\n",
              "      --fill-color: #1967D2;\n",
              "      --hover-bg-color: #E2EBFA;\n",
              "      --hover-fill-color: #174EA6;\n",
              "      --disabled-fill-color: #AAA;\n",
              "      --disabled-bg-color: #DDD;\n",
              "  }\n",
              "\n",
              "  [theme=dark] .colab-df-quickchart {\n",
              "      --bg-color: #3B4455;\n",
              "      --fill-color: #D2E3FC;\n",
              "      --hover-bg-color: #434B5C;\n",
              "      --hover-fill-color: #FFFFFF;\n",
              "      --disabled-bg-color: #3B4455;\n",
              "      --disabled-fill-color: #666;\n",
              "  }\n",
              "\n",
              "  .colab-df-quickchart {\n",
              "    background-color: var(--bg-color);\n",
              "    border: none;\n",
              "    border-radius: 50%;\n",
              "    cursor: pointer;\n",
              "    display: none;\n",
              "    fill: var(--fill-color);\n",
              "    height: 32px;\n",
              "    padding: 0;\n",
              "    width: 32px;\n",
              "  }\n",
              "\n",
              "  .colab-df-quickchart:hover {\n",
              "    background-color: var(--hover-bg-color);\n",
              "    box-shadow: 0 1px 2px rgba(60, 64, 67, 0.3), 0 1px 3px 1px rgba(60, 64, 67, 0.15);\n",
              "    fill: var(--button-hover-fill-color);\n",
              "  }\n",
              "\n",
              "  .colab-df-quickchart-complete:disabled,\n",
              "  .colab-df-quickchart-complete:disabled:hover {\n",
              "    background-color: var(--disabled-bg-color);\n",
              "    fill: var(--disabled-fill-color);\n",
              "    box-shadow: none;\n",
              "  }\n",
              "\n",
              "  .colab-df-spinner {\n",
              "    border: 2px solid var(--fill-color);\n",
              "    border-color: transparent;\n",
              "    border-bottom-color: var(--fill-color);\n",
              "    animation:\n",
              "      spin 1s steps(1) infinite;\n",
              "  }\n",
              "\n",
              "  @keyframes spin {\n",
              "    0% {\n",
              "      border-color: transparent;\n",
              "      border-bottom-color: var(--fill-color);\n",
              "      border-left-color: var(--fill-color);\n",
              "    }\n",
              "    20% {\n",
              "      border-color: transparent;\n",
              "      border-left-color: var(--fill-color);\n",
              "      border-top-color: var(--fill-color);\n",
              "    }\n",
              "    30% {\n",
              "      border-color: transparent;\n",
              "      border-left-color: var(--fill-color);\n",
              "      border-top-color: var(--fill-color);\n",
              "      border-right-color: var(--fill-color);\n",
              "    }\n",
              "    40% {\n",
              "      border-color: transparent;\n",
              "      border-right-color: var(--fill-color);\n",
              "      border-top-color: var(--fill-color);\n",
              "    }\n",
              "    60% {\n",
              "      border-color: transparent;\n",
              "      border-right-color: var(--fill-color);\n",
              "    }\n",
              "    80% {\n",
              "      border-color: transparent;\n",
              "      border-right-color: var(--fill-color);\n",
              "      border-bottom-color: var(--fill-color);\n",
              "    }\n",
              "    90% {\n",
              "      border-color: transparent;\n",
              "      border-bottom-color: var(--fill-color);\n",
              "    }\n",
              "  }\n",
              "</style>\n",
              "\n",
              "  <script>\n",
              "    async function quickchart(key) {\n",
              "      const quickchartButtonEl =\n",
              "        document.querySelector('#' + key + ' button');\n",
              "      quickchartButtonEl.disabled = true;  // To prevent multiple clicks.\n",
              "      quickchartButtonEl.classList.add('colab-df-spinner');\n",
              "      try {\n",
              "        const charts = await google.colab.kernel.invokeFunction(\n",
              "            'suggestCharts', [key], {});\n",
              "      } catch (error) {\n",
              "        console.error('Error during call to suggestCharts:', error);\n",
              "      }\n",
              "      quickchartButtonEl.classList.remove('colab-df-spinner');\n",
              "      quickchartButtonEl.classList.add('colab-df-quickchart-complete');\n",
              "    }\n",
              "    (() => {\n",
              "      let quickchartButtonEl =\n",
              "        document.querySelector('#df-3be04b16-d875-47ca-984b-997399e95098 button');\n",
              "      quickchartButtonEl.style.display =\n",
              "        google.colab.kernel.accessAllowed ? 'block' : 'none';\n",
              "    })();\n",
              "  </script>\n",
              "</div>\n",
              "\n",
              "  <div id=\"id_6c255252-4e33-417f-b30e-604771057594\">\n",
              "    <style>\n",
              "      .colab-df-generate {\n",
              "        background-color: #E8F0FE;\n",
              "        border: none;\n",
              "        border-radius: 50%;\n",
              "        cursor: pointer;\n",
              "        display: none;\n",
              "        fill: #1967D2;\n",
              "        height: 32px;\n",
              "        padding: 0 0 0 0;\n",
              "        width: 32px;\n",
              "      }\n",
              "\n",
              "      .colab-df-generate:hover {\n",
              "        background-color: #E2EBFA;\n",
              "        box-shadow: 0px 1px 2px rgba(60, 64, 67, 0.3), 0px 1px 3px 1px rgba(60, 64, 67, 0.15);\n",
              "        fill: #174EA6;\n",
              "      }\n",
              "\n",
              "      [theme=dark] .colab-df-generate {\n",
              "        background-color: #3B4455;\n",
              "        fill: #D2E3FC;\n",
              "      }\n",
              "\n",
              "      [theme=dark] .colab-df-generate:hover {\n",
              "        background-color: #434B5C;\n",
              "        box-shadow: 0px 1px 3px 1px rgba(0, 0, 0, 0.15);\n",
              "        filter: drop-shadow(0px 1px 2px rgba(0, 0, 0, 0.3));\n",
              "        fill: #FFFFFF;\n",
              "      }\n",
              "    </style>\n",
              "    <button class=\"colab-df-generate\" onclick=\"generateWithVariable('result')\"\n",
              "            title=\"Generate code using this dataframe.\"\n",
              "            style=\"display:none;\">\n",
              "\n",
              "  <svg xmlns=\"http://www.w3.org/2000/svg\" height=\"24px\"viewBox=\"0 0 24 24\"\n",
              "       width=\"24px\">\n",
              "    <path d=\"M7,19H8.4L18.45,9,17,7.55,7,17.6ZM5,21V16.75L18.45,3.32a2,2,0,0,1,2.83,0l1.4,1.43a1.91,1.91,0,0,1,.58,1.4,1.91,1.91,0,0,1-.58,1.4L9.25,21ZM18.45,9,17,7.55Zm-12,3A5.31,5.31,0,0,0,4.9,8.1,5.31,5.31,0,0,0,1,6.5,5.31,5.31,0,0,0,4.9,4.9,5.31,5.31,0,0,0,6.5,1,5.31,5.31,0,0,0,8.1,4.9,5.31,5.31,0,0,0,12,6.5,5.46,5.46,0,0,0,6.5,12Z\"/>\n",
              "  </svg>\n",
              "    </button>\n",
              "    <script>\n",
              "      (() => {\n",
              "      const buttonEl =\n",
              "        document.querySelector('#id_6c255252-4e33-417f-b30e-604771057594 button.colab-df-generate');\n",
              "      buttonEl.style.display =\n",
              "        google.colab.kernel.accessAllowed ? 'block' : 'none';\n",
              "\n",
              "      buttonEl.onclick = () => {\n",
              "        google.colab.notebook.generateWithVariable('result');\n",
              "      }\n",
              "      })();\n",
              "    </script>\n",
              "  </div>\n",
              "\n",
              "    </div>\n",
              "  </div>\n"
            ],
            "application/vnd.google.colaboratory.intrinsic+json": {
              "type": "dataframe",
              "variable_name": "result",
              "summary": "{\n  \"name\": \"result\",\n  \"rows\": 7654,\n  \"fields\": [\n    {\n      \"column\": \"AT\",\n      \"properties\": {\n        \"dtype\": \"number\",\n        \"std\": 7.447784422004042,\n        \"min\": 1.81,\n        \"max\": 35.77,\n        \"num_unique_values\": 2650,\n        \"samples\": [\n          19.11,\n          15.1,\n          22.2\n        ],\n        \"semantic_type\": \"\",\n        \"description\": \"\"\n      }\n    },\n    {\n      \"column\": \"V\",\n      \"properties\": {\n        \"dtype\": \"number\",\n        \"std\": 12.687541786235752,\n        \"min\": 25.36,\n        \"max\": 81.56,\n        \"num_unique_values\": 625,\n        \"samples\": [\n          43.99,\n          70.83,\n          64.45\n        ],\n        \"semantic_type\": \"\",\n        \"description\": \"\"\n      }\n    },\n    {\n      \"column\": \"AP\",\n      \"properties\": {\n        \"dtype\": \"number\",\n        \"std\": 5.951509058740894,\n        \"min\": 992.89,\n        \"max\": 1033.3,\n        \"num_unique_values\": 2376,\n        \"samples\": [\n          995.45,\n          1027.1,\n          1008.71\n        ],\n        \"semantic_type\": \"\",\n        \"description\": \"\"\n      }\n    },\n    {\n      \"column\": \"RH\",\n      \"properties\": {\n        \"dtype\": \"number\",\n        \"std\": 14.545490724646461,\n        \"min\": 25.56,\n        \"max\": 100.16,\n        \"num_unique_values\": 4106,\n        \"samples\": [\n          61.07,\n          75.9,\n          69.52\n        ],\n        \"semantic_type\": \"\",\n        \"description\": \"\"\n      }\n    },\n    {\n      \"column\": \"PE\",\n      \"properties\": {\n        \"dtype\": \"number\",\n        \"std\": 17.07978555825616,\n        \"min\": 425.11,\n        \"max\": 495.76,\n        \"num_unique_values\": 4341,\n        \"samples\": [\n          459.16,\n          460.27,\n          442.48\n        ],\n        \"semantic_type\": \"\",\n        \"description\": \"\"\n      }\n    }\n  ]\n}"
            }
          },
          "metadata": {},
          "execution_count": 4
        }
      ]
    },
    {
      "cell_type": "code",
      "source": [
        "#!pip install --upgrade numpy\n",
        "from pycaret.regression import *\n",
        "s = setup(data = result, target = 'PE', session_id=123)"
      ],
      "metadata": {
        "id": "iLaSI2mFd2gG",
        "outputId": "7d596e88-45b2-4afe-96ca-4ca560daef4d",
        "colab": {
          "base_uri": "https://localhost:8080/",
          "height": 645
        }
      },
      "execution_count": 5,
      "outputs": [
        {
          "output_type": "display_data",
          "data": {
            "text/plain": [
              "<pandas.io.formats.style.Styler at 0x7ceff45bf910>"
            ],
            "text/html": [
              "<style type=\"text/css\">\n",
              "#T_1d3d8_row8_col1 {\n",
              "  background-color: lightgreen;\n",
              "}\n",
              "</style>\n",
              "<table id=\"T_1d3d8\" class=\"dataframe\">\n",
              "  <thead>\n",
              "    <tr>\n",
              "      <th class=\"blank level0\" >&nbsp;</th>\n",
              "      <th id=\"T_1d3d8_level0_col0\" class=\"col_heading level0 col0\" >Description</th>\n",
              "      <th id=\"T_1d3d8_level0_col1\" class=\"col_heading level0 col1\" >Value</th>\n",
              "    </tr>\n",
              "  </thead>\n",
              "  <tbody>\n",
              "    <tr>\n",
              "      <th id=\"T_1d3d8_level0_row0\" class=\"row_heading level0 row0\" >0</th>\n",
              "      <td id=\"T_1d3d8_row0_col0\" class=\"data row0 col0\" >Session id</td>\n",
              "      <td id=\"T_1d3d8_row0_col1\" class=\"data row0 col1\" >123</td>\n",
              "    </tr>\n",
              "    <tr>\n",
              "      <th id=\"T_1d3d8_level0_row1\" class=\"row_heading level0 row1\" >1</th>\n",
              "      <td id=\"T_1d3d8_row1_col0\" class=\"data row1 col0\" >Target</td>\n",
              "      <td id=\"T_1d3d8_row1_col1\" class=\"data row1 col1\" >PE</td>\n",
              "    </tr>\n",
              "    <tr>\n",
              "      <th id=\"T_1d3d8_level0_row2\" class=\"row_heading level0 row2\" >2</th>\n",
              "      <td id=\"T_1d3d8_row2_col0\" class=\"data row2 col0\" >Target type</td>\n",
              "      <td id=\"T_1d3d8_row2_col1\" class=\"data row2 col1\" >Regression</td>\n",
              "    </tr>\n",
              "    <tr>\n",
              "      <th id=\"T_1d3d8_level0_row3\" class=\"row_heading level0 row3\" >3</th>\n",
              "      <td id=\"T_1d3d8_row3_col0\" class=\"data row3 col0\" >Original data shape</td>\n",
              "      <td id=\"T_1d3d8_row3_col1\" class=\"data row3 col1\" >(7654, 5)</td>\n",
              "    </tr>\n",
              "    <tr>\n",
              "      <th id=\"T_1d3d8_level0_row4\" class=\"row_heading level0 row4\" >4</th>\n",
              "      <td id=\"T_1d3d8_row4_col0\" class=\"data row4 col0\" >Transformed data shape</td>\n",
              "      <td id=\"T_1d3d8_row4_col1\" class=\"data row4 col1\" >(7654, 5)</td>\n",
              "    </tr>\n",
              "    <tr>\n",
              "      <th id=\"T_1d3d8_level0_row5\" class=\"row_heading level0 row5\" >5</th>\n",
              "      <td id=\"T_1d3d8_row5_col0\" class=\"data row5 col0\" >Transformed train set shape</td>\n",
              "      <td id=\"T_1d3d8_row5_col1\" class=\"data row5 col1\" >(5357, 5)</td>\n",
              "    </tr>\n",
              "    <tr>\n",
              "      <th id=\"T_1d3d8_level0_row6\" class=\"row_heading level0 row6\" >6</th>\n",
              "      <td id=\"T_1d3d8_row6_col0\" class=\"data row6 col0\" >Transformed test set shape</td>\n",
              "      <td id=\"T_1d3d8_row6_col1\" class=\"data row6 col1\" >(2297, 5)</td>\n",
              "    </tr>\n",
              "    <tr>\n",
              "      <th id=\"T_1d3d8_level0_row7\" class=\"row_heading level0 row7\" >7</th>\n",
              "      <td id=\"T_1d3d8_row7_col0\" class=\"data row7 col0\" >Numeric features</td>\n",
              "      <td id=\"T_1d3d8_row7_col1\" class=\"data row7 col1\" >4</td>\n",
              "    </tr>\n",
              "    <tr>\n",
              "      <th id=\"T_1d3d8_level0_row8\" class=\"row_heading level0 row8\" >8</th>\n",
              "      <td id=\"T_1d3d8_row8_col0\" class=\"data row8 col0\" >Preprocess</td>\n",
              "      <td id=\"T_1d3d8_row8_col1\" class=\"data row8 col1\" >True</td>\n",
              "    </tr>\n",
              "    <tr>\n",
              "      <th id=\"T_1d3d8_level0_row9\" class=\"row_heading level0 row9\" >9</th>\n",
              "      <td id=\"T_1d3d8_row9_col0\" class=\"data row9 col0\" >Imputation type</td>\n",
              "      <td id=\"T_1d3d8_row9_col1\" class=\"data row9 col1\" >simple</td>\n",
              "    </tr>\n",
              "    <tr>\n",
              "      <th id=\"T_1d3d8_level0_row10\" class=\"row_heading level0 row10\" >10</th>\n",
              "      <td id=\"T_1d3d8_row10_col0\" class=\"data row10 col0\" >Numeric imputation</td>\n",
              "      <td id=\"T_1d3d8_row10_col1\" class=\"data row10 col1\" >mean</td>\n",
              "    </tr>\n",
              "    <tr>\n",
              "      <th id=\"T_1d3d8_level0_row11\" class=\"row_heading level0 row11\" >11</th>\n",
              "      <td id=\"T_1d3d8_row11_col0\" class=\"data row11 col0\" >Categorical imputation</td>\n",
              "      <td id=\"T_1d3d8_row11_col1\" class=\"data row11 col1\" >mode</td>\n",
              "    </tr>\n",
              "    <tr>\n",
              "      <th id=\"T_1d3d8_level0_row12\" class=\"row_heading level0 row12\" >12</th>\n",
              "      <td id=\"T_1d3d8_row12_col0\" class=\"data row12 col0\" >Fold Generator</td>\n",
              "      <td id=\"T_1d3d8_row12_col1\" class=\"data row12 col1\" >KFold</td>\n",
              "    </tr>\n",
              "    <tr>\n",
              "      <th id=\"T_1d3d8_level0_row13\" class=\"row_heading level0 row13\" >13</th>\n",
              "      <td id=\"T_1d3d8_row13_col0\" class=\"data row13 col0\" >Fold Number</td>\n",
              "      <td id=\"T_1d3d8_row13_col1\" class=\"data row13 col1\" >10</td>\n",
              "    </tr>\n",
              "    <tr>\n",
              "      <th id=\"T_1d3d8_level0_row14\" class=\"row_heading level0 row14\" >14</th>\n",
              "      <td id=\"T_1d3d8_row14_col0\" class=\"data row14 col0\" >CPU Jobs</td>\n",
              "      <td id=\"T_1d3d8_row14_col1\" class=\"data row14 col1\" >-1</td>\n",
              "    </tr>\n",
              "    <tr>\n",
              "      <th id=\"T_1d3d8_level0_row15\" class=\"row_heading level0 row15\" >15</th>\n",
              "      <td id=\"T_1d3d8_row15_col0\" class=\"data row15 col0\" >Use GPU</td>\n",
              "      <td id=\"T_1d3d8_row15_col1\" class=\"data row15 col1\" >False</td>\n",
              "    </tr>\n",
              "    <tr>\n",
              "      <th id=\"T_1d3d8_level0_row16\" class=\"row_heading level0 row16\" >16</th>\n",
              "      <td id=\"T_1d3d8_row16_col0\" class=\"data row16 col0\" >Log Experiment</td>\n",
              "      <td id=\"T_1d3d8_row16_col1\" class=\"data row16 col1\" >False</td>\n",
              "    </tr>\n",
              "    <tr>\n",
              "      <th id=\"T_1d3d8_level0_row17\" class=\"row_heading level0 row17\" >17</th>\n",
              "      <td id=\"T_1d3d8_row17_col0\" class=\"data row17 col0\" >Experiment Name</td>\n",
              "      <td id=\"T_1d3d8_row17_col1\" class=\"data row17 col1\" >reg-default-name</td>\n",
              "    </tr>\n",
              "    <tr>\n",
              "      <th id=\"T_1d3d8_level0_row18\" class=\"row_heading level0 row18\" >18</th>\n",
              "      <td id=\"T_1d3d8_row18_col0\" class=\"data row18 col0\" >USI</td>\n",
              "      <td id=\"T_1d3d8_row18_col1\" class=\"data row18 col1\" >eb52</td>\n",
              "    </tr>\n",
              "  </tbody>\n",
              "</table>\n"
            ]
          },
          "metadata": {}
        }
      ]
    },
    {
      "cell_type": "code",
      "source": [
        "best_model = compare_models()"
      ],
      "metadata": {
        "id": "1kulXJusfNUo",
        "outputId": "e557dbfd-1f93-4b1e-c019-5ae00da09932",
        "colab": {
          "base_uri": "https://localhost:8080/",
          "height": 645,
          "referenced_widgets": [
            "5ee61054eac9487db1cecb18a972af14",
            "a748832f6d794f7dbe88e0591f0f975f",
            "b88c8a936a6c4b1db55162fca942cbad",
            "49b54b3bc1324c838f979333603cf0cb",
            "55bfab32bfaf40bdbac547c2982b0ec5",
            "a2e997a969764c519691c0cfff5d8de0",
            "ef129e8add9a40669b2160a2a86c5f8e",
            "eb3d401aa54543559227c20a25f7cc61",
            "72f833783bd249b6b52c3bff68c4fd97",
            "8ff7a0cbc6f54ecfa0083efe086f571f",
            "1a030207b84b4645a15fbc74e2137f55"
          ]
        }
      },
      "execution_count": 7,
      "outputs": [
        {
          "output_type": "display_data",
          "data": {
            "text/plain": [
              "<IPython.core.display.HTML object>"
            ],
            "text/html": []
          },
          "metadata": {}
        },
        {
          "output_type": "display_data",
          "data": {
            "text/plain": [
              "<pandas.io.formats.style.Styler at 0x7cee500b84d0>"
            ],
            "text/html": [
              "<style type=\"text/css\">\n",
              "#T_0b412 th {\n",
              "  text-align: left;\n",
              "}\n",
              "#T_0b412_row0_col0, #T_0b412_row1_col0, #T_0b412_row1_col1, #T_0b412_row1_col2, #T_0b412_row1_col3, #T_0b412_row1_col4, #T_0b412_row1_col5, #T_0b412_row1_col6, #T_0b412_row2_col0, #T_0b412_row2_col1, #T_0b412_row2_col2, #T_0b412_row2_col3, #T_0b412_row2_col4, #T_0b412_row2_col5, #T_0b412_row2_col6, #T_0b412_row3_col0, #T_0b412_row3_col1, #T_0b412_row3_col2, #T_0b412_row3_col3, #T_0b412_row3_col4, #T_0b412_row3_col5, #T_0b412_row3_col6, #T_0b412_row4_col0, #T_0b412_row4_col1, #T_0b412_row4_col2, #T_0b412_row4_col3, #T_0b412_row4_col4, #T_0b412_row4_col5, #T_0b412_row4_col6, #T_0b412_row5_col0, #T_0b412_row5_col1, #T_0b412_row5_col2, #T_0b412_row5_col3, #T_0b412_row5_col4, #T_0b412_row5_col5, #T_0b412_row5_col6, #T_0b412_row6_col0, #T_0b412_row6_col1, #T_0b412_row6_col2, #T_0b412_row6_col3, #T_0b412_row6_col4, #T_0b412_row6_col5, #T_0b412_row6_col6, #T_0b412_row7_col0, #T_0b412_row7_col1, #T_0b412_row7_col2, #T_0b412_row7_col3, #T_0b412_row7_col4, #T_0b412_row7_col5, #T_0b412_row7_col6, #T_0b412_row8_col0, #T_0b412_row8_col1, #T_0b412_row8_col2, #T_0b412_row8_col3, #T_0b412_row8_col4, #T_0b412_row8_col5, #T_0b412_row8_col6, #T_0b412_row9_col0, #T_0b412_row9_col1, #T_0b412_row9_col2, #T_0b412_row9_col3, #T_0b412_row9_col4, #T_0b412_row9_col5, #T_0b412_row9_col6, #T_0b412_row10_col0, #T_0b412_row10_col1, #T_0b412_row10_col2, #T_0b412_row10_col3, #T_0b412_row10_col4, #T_0b412_row10_col5, #T_0b412_row10_col6, #T_0b412_row11_col0, #T_0b412_row11_col1, #T_0b412_row11_col2, #T_0b412_row11_col3, #T_0b412_row11_col4, #T_0b412_row11_col5, #T_0b412_row11_col6, #T_0b412_row12_col0, #T_0b412_row12_col1, #T_0b412_row12_col2, #T_0b412_row12_col3, #T_0b412_row12_col4, #T_0b412_row12_col5, #T_0b412_row12_col6, #T_0b412_row13_col0, #T_0b412_row13_col1, #T_0b412_row13_col2, #T_0b412_row13_col3, #T_0b412_row13_col4, #T_0b412_row13_col5, #T_0b412_row13_col6, #T_0b412_row14_col0, #T_0b412_row14_col1, #T_0b412_row14_col2, #T_0b412_row14_col3, #T_0b412_row14_col4, #T_0b412_row14_col5, #T_0b412_row14_col6, #T_0b412_row15_col0, #T_0b412_row15_col1, #T_0b412_row15_col2, #T_0b412_row15_col3, #T_0b412_row15_col4, #T_0b412_row15_col5, #T_0b412_row15_col6, #T_0b412_row16_col0, #T_0b412_row16_col1, #T_0b412_row16_col2, #T_0b412_row16_col3, #T_0b412_row16_col4, #T_0b412_row16_col5, #T_0b412_row16_col6, #T_0b412_row17_col0, #T_0b412_row17_col1, #T_0b412_row17_col2, #T_0b412_row17_col3, #T_0b412_row17_col4, #T_0b412_row17_col5, #T_0b412_row17_col6, #T_0b412_row18_col0, #T_0b412_row18_col1, #T_0b412_row18_col2, #T_0b412_row18_col3, #T_0b412_row18_col4, #T_0b412_row18_col5, #T_0b412_row18_col6 {\n",
              "  text-align: left;\n",
              "}\n",
              "#T_0b412_row0_col1, #T_0b412_row0_col2, #T_0b412_row0_col3, #T_0b412_row0_col4, #T_0b412_row0_col5, #T_0b412_row0_col6 {\n",
              "  text-align: left;\n",
              "  background-color: yellow;\n",
              "}\n",
              "#T_0b412_row0_col7, #T_0b412_row1_col7, #T_0b412_row2_col7, #T_0b412_row3_col7, #T_0b412_row4_col7, #T_0b412_row5_col7, #T_0b412_row6_col7, #T_0b412_row7_col7, #T_0b412_row8_col7, #T_0b412_row9_col7, #T_0b412_row10_col7, #T_0b412_row11_col7, #T_0b412_row12_col7, #T_0b412_row13_col7, #T_0b412_row14_col7, #T_0b412_row15_col7, #T_0b412_row16_col7, #T_0b412_row17_col7 {\n",
              "  text-align: left;\n",
              "  background-color: lightgrey;\n",
              "}\n",
              "#T_0b412_row18_col7 {\n",
              "  text-align: left;\n",
              "  background-color: yellow;\n",
              "  background-color: lightgrey;\n",
              "}\n",
              "</style>\n",
              "<table id=\"T_0b412\" class=\"dataframe\">\n",
              "  <thead>\n",
              "    <tr>\n",
              "      <th class=\"blank level0\" >&nbsp;</th>\n",
              "      <th id=\"T_0b412_level0_col0\" class=\"col_heading level0 col0\" >Model</th>\n",
              "      <th id=\"T_0b412_level0_col1\" class=\"col_heading level0 col1\" >MAE</th>\n",
              "      <th id=\"T_0b412_level0_col2\" class=\"col_heading level0 col2\" >MSE</th>\n",
              "      <th id=\"T_0b412_level0_col3\" class=\"col_heading level0 col3\" >RMSE</th>\n",
              "      <th id=\"T_0b412_level0_col4\" class=\"col_heading level0 col4\" >R2</th>\n",
              "      <th id=\"T_0b412_level0_col5\" class=\"col_heading level0 col5\" >RMSLE</th>\n",
              "      <th id=\"T_0b412_level0_col6\" class=\"col_heading level0 col6\" >MAPE</th>\n",
              "      <th id=\"T_0b412_level0_col7\" class=\"col_heading level0 col7\" >TT (Sec)</th>\n",
              "    </tr>\n",
              "  </thead>\n",
              "  <tbody>\n",
              "    <tr>\n",
              "      <th id=\"T_0b412_level0_row0\" class=\"row_heading level0 row0\" >xgboost</th>\n",
              "      <td id=\"T_0b412_row0_col0\" class=\"data row0 col0\" >Extreme Gradient Boosting</td>\n",
              "      <td id=\"T_0b412_row0_col1\" class=\"data row0 col1\" >2.3934</td>\n",
              "      <td id=\"T_0b412_row0_col2\" class=\"data row0 col2\" >10.8963</td>\n",
              "      <td id=\"T_0b412_row0_col3\" class=\"data row0 col3\" >3.2956</td>\n",
              "      <td id=\"T_0b412_row0_col4\" class=\"data row0 col4\" >0.9627</td>\n",
              "      <td id=\"T_0b412_row0_col5\" class=\"data row0 col5\" >0.0072</td>\n",
              "      <td id=\"T_0b412_row0_col6\" class=\"data row0 col6\" >0.0053</td>\n",
              "      <td id=\"T_0b412_row0_col7\" class=\"data row0 col7\" >0.2030</td>\n",
              "    </tr>\n",
              "    <tr>\n",
              "      <th id=\"T_0b412_level0_row1\" class=\"row_heading level0 row1\" >lightgbm</th>\n",
              "      <td id=\"T_0b412_row1_col0\" class=\"data row1 col0\" >Light Gradient Boosting Machine</td>\n",
              "      <td id=\"T_0b412_row1_col1\" class=\"data row1 col1\" >2.5360</td>\n",
              "      <td id=\"T_0b412_row1_col2\" class=\"data row1 col2\" >11.4995</td>\n",
              "      <td id=\"T_0b412_row1_col3\" class=\"data row1 col3\" >3.3871</td>\n",
              "      <td id=\"T_0b412_row1_col4\" class=\"data row1 col4\" >0.9606</td>\n",
              "      <td id=\"T_0b412_row1_col5\" class=\"data row1 col5\" >0.0074</td>\n",
              "      <td id=\"T_0b412_row1_col6\" class=\"data row1 col6\" >0.0056</td>\n",
              "      <td id=\"T_0b412_row1_col7\" class=\"data row1 col7\" >0.2510</td>\n",
              "    </tr>\n",
              "    <tr>\n",
              "      <th id=\"T_0b412_level0_row2\" class=\"row_heading level0 row2\" >rf</th>\n",
              "      <td id=\"T_0b412_row2_col0\" class=\"data row2 col0\" >Random Forest Regressor</td>\n",
              "      <td id=\"T_0b412_row2_col1\" class=\"data row2 col1\" >2.5331</td>\n",
              "      <td id=\"T_0b412_row2_col2\" class=\"data row2 col2\" >12.0510</td>\n",
              "      <td id=\"T_0b412_row2_col3\" class=\"data row2 col3\" >3.4672</td>\n",
              "      <td id=\"T_0b412_row2_col4\" class=\"data row2 col4\" >0.9587</td>\n",
              "      <td id=\"T_0b412_row2_col5\" class=\"data row2 col5\" >0.0076</td>\n",
              "      <td id=\"T_0b412_row2_col6\" class=\"data row2 col6\" >0.0056</td>\n",
              "      <td id=\"T_0b412_row2_col7\" class=\"data row2 col7\" >1.5010</td>\n",
              "    </tr>\n",
              "    <tr>\n",
              "      <th id=\"T_0b412_level0_row3\" class=\"row_heading level0 row3\" >et</th>\n",
              "      <td id=\"T_0b412_row3_col0\" class=\"data row3 col0\" >Extra Trees Regressor</td>\n",
              "      <td id=\"T_0b412_row3_col1\" class=\"data row3 col1\" >2.5255</td>\n",
              "      <td id=\"T_0b412_row3_col2\" class=\"data row3 col2\" >12.1979</td>\n",
              "      <td id=\"T_0b412_row3_col3\" class=\"data row3 col3\" >3.4888</td>\n",
              "      <td id=\"T_0b412_row3_col4\" class=\"data row3 col4\" >0.9582</td>\n",
              "      <td id=\"T_0b412_row3_col5\" class=\"data row3 col5\" >0.0077</td>\n",
              "      <td id=\"T_0b412_row3_col6\" class=\"data row3 col6\" >0.0056</td>\n",
              "      <td id=\"T_0b412_row3_col7\" class=\"data row3 col7\" >0.7840</td>\n",
              "    </tr>\n",
              "    <tr>\n",
              "      <th id=\"T_0b412_level0_row4\" class=\"row_heading level0 row4\" >gbr</th>\n",
              "      <td id=\"T_0b412_row4_col0\" class=\"data row4 col0\" >Gradient Boosting Regressor</td>\n",
              "      <td id=\"T_0b412_row4_col1\" class=\"data row4 col1\" >2.9387</td>\n",
              "      <td id=\"T_0b412_row4_col2\" class=\"data row4 col2\" >14.5904</td>\n",
              "      <td id=\"T_0b412_row4_col3\" class=\"data row4 col3\" >3.8168</td>\n",
              "      <td id=\"T_0b412_row4_col4\" class=\"data row4 col4\" >0.9500</td>\n",
              "      <td id=\"T_0b412_row4_col5\" class=\"data row4 col5\" >0.0084</td>\n",
              "      <td id=\"T_0b412_row4_col6\" class=\"data row4 col6\" >0.0065</td>\n",
              "      <td id=\"T_0b412_row4_col7\" class=\"data row4 col7\" >0.4730</td>\n",
              "    </tr>\n",
              "    <tr>\n",
              "      <th id=\"T_0b412_level0_row5\" class=\"row_heading level0 row5\" >knn</th>\n",
              "      <td id=\"T_0b412_row5_col0\" class=\"data row5 col0\" >K Neighbors Regressor</td>\n",
              "      <td id=\"T_0b412_row5_col1\" class=\"data row5 col1\" >3.0256</td>\n",
              "      <td id=\"T_0b412_row5_col2\" class=\"data row5 col2\" >16.4839</td>\n",
              "      <td id=\"T_0b412_row5_col3\" class=\"data row5 col3\" >4.0580</td>\n",
              "      <td id=\"T_0b412_row5_col4\" class=\"data row5 col4\" >0.9435</td>\n",
              "      <td id=\"T_0b412_row5_col5\" class=\"data row5 col5\" >0.0089</td>\n",
              "      <td id=\"T_0b412_row5_col6\" class=\"data row5 col6\" >0.0067</td>\n",
              "      <td id=\"T_0b412_row5_col7\" class=\"data row5 col7\" >0.0230</td>\n",
              "    </tr>\n",
              "    <tr>\n",
              "      <th id=\"T_0b412_level0_row6\" class=\"row_heading level0 row6\" >lar</th>\n",
              "      <td id=\"T_0b412_row6_col0\" class=\"data row6 col0\" >Least Angle Regression</td>\n",
              "      <td id=\"T_0b412_row6_col1\" class=\"data row6 col1\" >3.5852</td>\n",
              "      <td id=\"T_0b412_row6_col2\" class=\"data row6 col2\" >20.3169</td>\n",
              "      <td id=\"T_0b412_row6_col3\" class=\"data row6 col3\" >4.5052</td>\n",
              "      <td id=\"T_0b412_row6_col4\" class=\"data row6 col4\" >0.9304</td>\n",
              "      <td id=\"T_0b412_row6_col5\" class=\"data row6 col5\" >0.0099</td>\n",
              "      <td id=\"T_0b412_row6_col6\" class=\"data row6 col6\" >0.0079</td>\n",
              "      <td id=\"T_0b412_row6_col7\" class=\"data row6 col7\" >0.0150</td>\n",
              "    </tr>\n",
              "    <tr>\n",
              "      <th id=\"T_0b412_level0_row7\" class=\"row_heading level0 row7\" >br</th>\n",
              "      <td id=\"T_0b412_row7_col0\" class=\"data row7 col0\" >Bayesian Ridge</td>\n",
              "      <td id=\"T_0b412_row7_col1\" class=\"data row7 col1\" >3.5853</td>\n",
              "      <td id=\"T_0b412_row7_col2\" class=\"data row7 col2\" >20.3169</td>\n",
              "      <td id=\"T_0b412_row7_col3\" class=\"data row7 col3\" >4.5052</td>\n",
              "      <td id=\"T_0b412_row7_col4\" class=\"data row7 col4\" >0.9304</td>\n",
              "      <td id=\"T_0b412_row7_col5\" class=\"data row7 col5\" >0.0099</td>\n",
              "      <td id=\"T_0b412_row7_col6\" class=\"data row7 col6\" >0.0079</td>\n",
              "      <td id=\"T_0b412_row7_col7\" class=\"data row7 col7\" >0.0140</td>\n",
              "    </tr>\n",
              "    <tr>\n",
              "      <th id=\"T_0b412_level0_row8\" class=\"row_heading level0 row8\" >ridge</th>\n",
              "      <td id=\"T_0b412_row8_col0\" class=\"data row8 col0\" >Ridge Regression</td>\n",
              "      <td id=\"T_0b412_row8_col1\" class=\"data row8 col1\" >3.5852</td>\n",
              "      <td id=\"T_0b412_row8_col2\" class=\"data row8 col2\" >20.3169</td>\n",
              "      <td id=\"T_0b412_row8_col3\" class=\"data row8 col3\" >4.5052</td>\n",
              "      <td id=\"T_0b412_row8_col4\" class=\"data row8 col4\" >0.9304</td>\n",
              "      <td id=\"T_0b412_row8_col5\" class=\"data row8 col5\" >0.0099</td>\n",
              "      <td id=\"T_0b412_row8_col6\" class=\"data row8 col6\" >0.0079</td>\n",
              "      <td id=\"T_0b412_row8_col7\" class=\"data row8 col7\" >0.0140</td>\n",
              "    </tr>\n",
              "    <tr>\n",
              "      <th id=\"T_0b412_level0_row9\" class=\"row_heading level0 row9\" >lr</th>\n",
              "      <td id=\"T_0b412_row9_col0\" class=\"data row9 col0\" >Linear Regression</td>\n",
              "      <td id=\"T_0b412_row9_col1\" class=\"data row9 col1\" >3.5852</td>\n",
              "      <td id=\"T_0b412_row9_col2\" class=\"data row9 col2\" >20.3169</td>\n",
              "      <td id=\"T_0b412_row9_col3\" class=\"data row9 col3\" >4.5052</td>\n",
              "      <td id=\"T_0b412_row9_col4\" class=\"data row9 col4\" >0.9304</td>\n",
              "      <td id=\"T_0b412_row9_col5\" class=\"data row9 col5\" >0.0099</td>\n",
              "      <td id=\"T_0b412_row9_col6\" class=\"data row9 col6\" >0.0079</td>\n",
              "      <td id=\"T_0b412_row9_col7\" class=\"data row9 col7\" >0.5950</td>\n",
              "    </tr>\n",
              "    <tr>\n",
              "      <th id=\"T_0b412_level0_row10\" class=\"row_heading level0 row10\" >lasso</th>\n",
              "      <td id=\"T_0b412_row10_col0\" class=\"data row10 col0\" >Lasso Regression</td>\n",
              "      <td id=\"T_0b412_row10_col1\" class=\"data row10 col1\" >3.5941</td>\n",
              "      <td id=\"T_0b412_row10_col2\" class=\"data row10 col2\" >20.3827</td>\n",
              "      <td id=\"T_0b412_row10_col3\" class=\"data row10 col3\" >4.5123</td>\n",
              "      <td id=\"T_0b412_row10_col4\" class=\"data row10 col4\" >0.9302</td>\n",
              "      <td id=\"T_0b412_row10_col5\" class=\"data row10 col5\" >0.0099</td>\n",
              "      <td id=\"T_0b412_row10_col6\" class=\"data row10 col6\" >0.0079</td>\n",
              "      <td id=\"T_0b412_row10_col7\" class=\"data row10 col7\" >0.0150</td>\n",
              "    </tr>\n",
              "    <tr>\n",
              "      <th id=\"T_0b412_level0_row11\" class=\"row_heading level0 row11\" >llar</th>\n",
              "      <td id=\"T_0b412_row11_col0\" class=\"data row11 col0\" >Lasso Least Angle Regression</td>\n",
              "      <td id=\"T_0b412_row11_col1\" class=\"data row11 col1\" >3.5943</td>\n",
              "      <td id=\"T_0b412_row11_col2\" class=\"data row11 col2\" >20.3835</td>\n",
              "      <td id=\"T_0b412_row11_col3\" class=\"data row11 col3\" >4.5124</td>\n",
              "      <td id=\"T_0b412_row11_col4\" class=\"data row11 col4\" >0.9302</td>\n",
              "      <td id=\"T_0b412_row11_col5\" class=\"data row11 col5\" >0.0099</td>\n",
              "      <td id=\"T_0b412_row11_col6\" class=\"data row11 col6\" >0.0079</td>\n",
              "      <td id=\"T_0b412_row11_col7\" class=\"data row11 col7\" >0.0160</td>\n",
              "    </tr>\n",
              "    <tr>\n",
              "      <th id=\"T_0b412_level0_row12\" class=\"row_heading level0 row12\" >en</th>\n",
              "      <td id=\"T_0b412_row12_col0\" class=\"data row12 col0\" >Elastic Net</td>\n",
              "      <td id=\"T_0b412_row12_col1\" class=\"data row12 col1\" >3.6060</td>\n",
              "      <td id=\"T_0b412_row12_col2\" class=\"data row12 col2\" >20.4683</td>\n",
              "      <td id=\"T_0b412_row12_col3\" class=\"data row12 col3\" >4.5217</td>\n",
              "      <td id=\"T_0b412_row12_col4\" class=\"data row12 col4\" >0.9299</td>\n",
              "      <td id=\"T_0b412_row12_col5\" class=\"data row12 col5\" >0.0099</td>\n",
              "      <td id=\"T_0b412_row12_col6\" class=\"data row12 col6\" >0.0079</td>\n",
              "      <td id=\"T_0b412_row12_col7\" class=\"data row12 col7\" >0.0140</td>\n",
              "    </tr>\n",
              "    <tr>\n",
              "      <th id=\"T_0b412_level0_row13\" class=\"row_heading level0 row13\" >dt</th>\n",
              "      <td id=\"T_0b412_row13_col0\" class=\"data row13 col0\" >Decision Tree Regressor</td>\n",
              "      <td id=\"T_0b412_row13_col1\" class=\"data row13 col1\" >3.3230</td>\n",
              "      <td id=\"T_0b412_row13_col2\" class=\"data row13 col2\" >23.0635</td>\n",
              "      <td id=\"T_0b412_row13_col3\" class=\"data row13 col3\" >4.7933</td>\n",
              "      <td id=\"T_0b412_row13_col4\" class=\"data row13 col4\" >0.9209</td>\n",
              "      <td id=\"T_0b412_row13_col5\" class=\"data row13 col5\" >0.0105</td>\n",
              "      <td id=\"T_0b412_row13_col6\" class=\"data row13 col6\" >0.0073</td>\n",
              "      <td id=\"T_0b412_row13_col7\" class=\"data row13 col7\" >0.0320</td>\n",
              "    </tr>\n",
              "    <tr>\n",
              "      <th id=\"T_0b412_level0_row14\" class=\"row_heading level0 row14\" >huber</th>\n",
              "      <td id=\"T_0b412_row14_col0\" class=\"data row14 col0\" >Huber Regressor</td>\n",
              "      <td id=\"T_0b412_row14_col1\" class=\"data row14 col1\" >3.9870</td>\n",
              "      <td id=\"T_0b412_row14_col2\" class=\"data row14 col2\" >25.2007</td>\n",
              "      <td id=\"T_0b412_row14_col3\" class=\"data row14 col3\" >5.0175</td>\n",
              "      <td id=\"T_0b412_row14_col4\" class=\"data row14 col4\" >0.9137</td>\n",
              "      <td id=\"T_0b412_row14_col5\" class=\"data row14 col5\" >0.0110</td>\n",
              "      <td id=\"T_0b412_row14_col6\" class=\"data row14 col6\" >0.0088</td>\n",
              "      <td id=\"T_0b412_row14_col7\" class=\"data row14 col7\" >0.0480</td>\n",
              "    </tr>\n",
              "    <tr>\n",
              "      <th id=\"T_0b412_level0_row15\" class=\"row_heading level0 row15\" >ada</th>\n",
              "      <td id=\"T_0b412_row15_col0\" class=\"data row15 col0\" >AdaBoost Regressor</td>\n",
              "      <td id=\"T_0b412_row15_col1\" class=\"data row15 col1\" >4.0835</td>\n",
              "      <td id=\"T_0b412_row15_col2\" class=\"data row15 col2\" >26.0378</td>\n",
              "      <td id=\"T_0b412_row15_col3\" class=\"data row15 col3\" >5.1010</td>\n",
              "      <td id=\"T_0b412_row15_col4\" class=\"data row15 col4\" >0.9108</td>\n",
              "      <td id=\"T_0b412_row15_col5\" class=\"data row15 col5\" >0.0112</td>\n",
              "      <td id=\"T_0b412_row15_col6\" class=\"data row15 col6\" >0.0090</td>\n",
              "      <td id=\"T_0b412_row15_col7\" class=\"data row15 col7\" >0.1670</td>\n",
              "    </tr>\n",
              "    <tr>\n",
              "      <th id=\"T_0b412_level0_row16\" class=\"row_heading level0 row16\" >par</th>\n",
              "      <td id=\"T_0b412_row16_col0\" class=\"data row16 col0\" >Passive Aggressive Regressor</td>\n",
              "      <td id=\"T_0b412_row16_col1\" class=\"data row16 col1\" >6.3646</td>\n",
              "      <td id=\"T_0b412_row16_col2\" class=\"data row16 col2\" >64.9628</td>\n",
              "      <td id=\"T_0b412_row16_col3\" class=\"data row16 col3\" >7.4852</td>\n",
              "      <td id=\"T_0b412_row16_col4\" class=\"data row16 col4\" >0.7766</td>\n",
              "      <td id=\"T_0b412_row16_col5\" class=\"data row16 col5\" >0.0164</td>\n",
              "      <td id=\"T_0b412_row16_col6\" class=\"data row16 col6\" >0.0140</td>\n",
              "      <td id=\"T_0b412_row16_col7\" class=\"data row16 col7\" >0.0230</td>\n",
              "    </tr>\n",
              "    <tr>\n",
              "      <th id=\"T_0b412_level0_row17\" class=\"row_heading level0 row17\" >omp</th>\n",
              "      <td id=\"T_0b412_row17_col0\" class=\"data row17 col0\" >Orthogonal Matching Pursuit</td>\n",
              "      <td id=\"T_0b412_row17_col1\" class=\"data row17 col1\" >6.5473</td>\n",
              "      <td id=\"T_0b412_row17_col2\" class=\"data row17 col2\" >70.3080</td>\n",
              "      <td id=\"T_0b412_row17_col3\" class=\"data row17 col3\" >8.3828</td>\n",
              "      <td id=\"T_0b412_row17_col4\" class=\"data row17 col4\" >0.7593</td>\n",
              "      <td id=\"T_0b412_row17_col5\" class=\"data row17 col5\" >0.0182</td>\n",
              "      <td id=\"T_0b412_row17_col6\" class=\"data row17 col6\" >0.0143</td>\n",
              "      <td id=\"T_0b412_row17_col7\" class=\"data row17 col7\" >0.0150</td>\n",
              "    </tr>\n",
              "    <tr>\n",
              "      <th id=\"T_0b412_level0_row18\" class=\"row_heading level0 row18\" >dummy</th>\n",
              "      <td id=\"T_0b412_row18_col0\" class=\"data row18 col0\" >Dummy Regressor</td>\n",
              "      <td id=\"T_0b412_row18_col1\" class=\"data row18 col1\" >14.8905</td>\n",
              "      <td id=\"T_0b412_row18_col2\" class=\"data row18 col2\" >293.1494</td>\n",
              "      <td id=\"T_0b412_row18_col3\" class=\"data row18 col3\" >17.1189</td>\n",
              "      <td id=\"T_0b412_row18_col4\" class=\"data row18 col4\" >-0.0024</td>\n",
              "      <td id=\"T_0b412_row18_col5\" class=\"data row18 col5\" >0.0374</td>\n",
              "      <td id=\"T_0b412_row18_col6\" class=\"data row18 col6\" >0.0327</td>\n",
              "      <td id=\"T_0b412_row18_col7\" class=\"data row18 col7\" >0.0130</td>\n",
              "    </tr>\n",
              "  </tbody>\n",
              "</table>\n"
            ]
          },
          "metadata": {}
        },
        {
          "output_type": "display_data",
          "data": {
            "text/plain": [
              "Processing:   0%|          | 0/81 [00:00<?, ?it/s]"
            ],
            "application/vnd.jupyter.widget-view+json": {
              "version_major": 2,
              "version_minor": 0,
              "model_id": "5ee61054eac9487db1cecb18a972af14"
            }
          },
          "metadata": {
            "application/vnd.jupyter.widget-view+json": {
              "colab": {
                "custom_widget_manager": {
                  "url": "https://ssl.gstatic.com/colaboratory-static/widgets/colab-cdn-widget-manager/2b70e893a8ba7c0f/manager.min.js"
                }
              }
            }
          }
        },
        {
          "output_type": "display_data",
          "data": {
            "text/plain": [
              "<IPython.core.display.HTML object>"
            ],
            "text/html": []
          },
          "metadata": {}
        }
      ]
    },
    {
      "cell_type": "code",
      "source": [
        "tuned2 = tune_model(best_model)\n",
        "tuned_predictions = predict_model(tuned2, data=X_test)\n",
        "tuned_predictions.head()\n"
      ],
      "metadata": {
        "id": "902ZlfDyfSEs",
        "outputId": "f82c124b-44fa-4a85-c2f7-05b008f71fbe",
        "colab": {
          "base_uri": "https://localhost:8080/",
          "height": 663,
          "referenced_widgets": [
            "fc035aa2a0d344beba90786c824f736c",
            "c24640b950744ad8bd91cdef8fa3ca5a",
            "3c13dc12657248b58e724108fd7c76de",
            "e5a43e5274204294a7e90c68bcd1f9a2",
            "e92f881588c24f988df0456ce507b2cc",
            "f0ced258b53541d388052765ad39460b",
            "b75ce6367a194b119fbd15a28b437c9f",
            "2cb1fe68550c4b48bf0e951da1bacf77",
            "88421eadb01b4b38b4017c54013b4f20",
            "a5734314f40941e7bf2b95c9738f5992",
            "549f6b60617f48bfa0af529c8f7bf6b7"
          ]
        }
      },
      "execution_count": 9,
      "outputs": [
        {
          "output_type": "display_data",
          "data": {
            "text/plain": [
              "<IPython.core.display.HTML object>"
            ],
            "text/html": []
          },
          "metadata": {}
        },
        {
          "output_type": "display_data",
          "data": {
            "text/plain": [
              "<pandas.io.formats.style.Styler at 0x7cefa6f0e190>"
            ],
            "text/html": [
              "<style type=\"text/css\">\n",
              "#T_38834_row10_col0, #T_38834_row10_col1, #T_38834_row10_col2, #T_38834_row10_col3, #T_38834_row10_col4, #T_38834_row10_col5 {\n",
              "  background: yellow;\n",
              "}\n",
              "</style>\n",
              "<table id=\"T_38834\" class=\"dataframe\">\n",
              "  <thead>\n",
              "    <tr>\n",
              "      <th class=\"blank level0\" >&nbsp;</th>\n",
              "      <th id=\"T_38834_level0_col0\" class=\"col_heading level0 col0\" >MAE</th>\n",
              "      <th id=\"T_38834_level0_col1\" class=\"col_heading level0 col1\" >MSE</th>\n",
              "      <th id=\"T_38834_level0_col2\" class=\"col_heading level0 col2\" >RMSE</th>\n",
              "      <th id=\"T_38834_level0_col3\" class=\"col_heading level0 col3\" >R2</th>\n",
              "      <th id=\"T_38834_level0_col4\" class=\"col_heading level0 col4\" >RMSLE</th>\n",
              "      <th id=\"T_38834_level0_col5\" class=\"col_heading level0 col5\" >MAPE</th>\n",
              "    </tr>\n",
              "    <tr>\n",
              "      <th class=\"index_name level0\" >Fold</th>\n",
              "      <th class=\"blank col0\" >&nbsp;</th>\n",
              "      <th class=\"blank col1\" >&nbsp;</th>\n",
              "      <th class=\"blank col2\" >&nbsp;</th>\n",
              "      <th class=\"blank col3\" >&nbsp;</th>\n",
              "      <th class=\"blank col4\" >&nbsp;</th>\n",
              "      <th class=\"blank col5\" >&nbsp;</th>\n",
              "    </tr>\n",
              "  </thead>\n",
              "  <tbody>\n",
              "    <tr>\n",
              "      <th id=\"T_38834_level0_row0\" class=\"row_heading level0 row0\" >0</th>\n",
              "      <td id=\"T_38834_row0_col0\" class=\"data row0 col0\" >2.4411</td>\n",
              "      <td id=\"T_38834_row0_col1\" class=\"data row0 col1\" >11.3486</td>\n",
              "      <td id=\"T_38834_row0_col2\" class=\"data row0 col2\" >3.3688</td>\n",
              "      <td id=\"T_38834_row0_col3\" class=\"data row0 col3\" >0.9600</td>\n",
              "      <td id=\"T_38834_row0_col4\" class=\"data row0 col4\" >0.0074</td>\n",
              "      <td id=\"T_38834_row0_col5\" class=\"data row0 col5\" >0.0054</td>\n",
              "    </tr>\n",
              "    <tr>\n",
              "      <th id=\"T_38834_level0_row1\" class=\"row_heading level0 row1\" >1</th>\n",
              "      <td id=\"T_38834_row1_col0\" class=\"data row1 col0\" >2.3500</td>\n",
              "      <td id=\"T_38834_row1_col1\" class=\"data row1 col1\" >11.3710</td>\n",
              "      <td id=\"T_38834_row1_col2\" class=\"data row1 col2\" >3.3721</td>\n",
              "      <td id=\"T_38834_row1_col3\" class=\"data row1 col3\" >0.9621</td>\n",
              "      <td id=\"T_38834_row1_col4\" class=\"data row1 col4\" >0.0074</td>\n",
              "      <td id=\"T_38834_row1_col5\" class=\"data row1 col5\" >0.0052</td>\n",
              "    </tr>\n",
              "    <tr>\n",
              "      <th id=\"T_38834_level0_row2\" class=\"row_heading level0 row2\" >2</th>\n",
              "      <td id=\"T_38834_row2_col0\" class=\"data row2 col0\" >2.3951</td>\n",
              "      <td id=\"T_38834_row2_col1\" class=\"data row2 col1\" >11.7209</td>\n",
              "      <td id=\"T_38834_row2_col2\" class=\"data row2 col2\" >3.4236</td>\n",
              "      <td id=\"T_38834_row2_col3\" class=\"data row2 col3\" >0.9582</td>\n",
              "      <td id=\"T_38834_row2_col4\" class=\"data row2 col4\" >0.0075</td>\n",
              "      <td id=\"T_38834_row2_col5\" class=\"data row2 col5\" >0.0053</td>\n",
              "    </tr>\n",
              "    <tr>\n",
              "      <th id=\"T_38834_level0_row3\" class=\"row_heading level0 row3\" >3</th>\n",
              "      <td id=\"T_38834_row3_col0\" class=\"data row3 col0\" >2.5040</td>\n",
              "      <td id=\"T_38834_row3_col1\" class=\"data row3 col1\" >12.2018</td>\n",
              "      <td id=\"T_38834_row3_col2\" class=\"data row3 col2\" >3.4931</td>\n",
              "      <td id=\"T_38834_row3_col3\" class=\"data row3 col3\" >0.9572</td>\n",
              "      <td id=\"T_38834_row3_col4\" class=\"data row3 col4\" >0.0077</td>\n",
              "      <td id=\"T_38834_row3_col5\" class=\"data row3 col5\" >0.0056</td>\n",
              "    </tr>\n",
              "    <tr>\n",
              "      <th id=\"T_38834_level0_row4\" class=\"row_heading level0 row4\" >4</th>\n",
              "      <td id=\"T_38834_row4_col0\" class=\"data row4 col0\" >2.1525</td>\n",
              "      <td id=\"T_38834_row4_col1\" class=\"data row4 col1\" >8.4107</td>\n",
              "      <td id=\"T_38834_row4_col2\" class=\"data row4 col2\" >2.9001</td>\n",
              "      <td id=\"T_38834_row4_col3\" class=\"data row4 col3\" >0.9702</td>\n",
              "      <td id=\"T_38834_row4_col4\" class=\"data row4 col4\" >0.0064</td>\n",
              "      <td id=\"T_38834_row4_col5\" class=\"data row4 col5\" >0.0047</td>\n",
              "    </tr>\n",
              "    <tr>\n",
              "      <th id=\"T_38834_level0_row5\" class=\"row_heading level0 row5\" >5</th>\n",
              "      <td id=\"T_38834_row5_col0\" class=\"data row5 col0\" >2.3888</td>\n",
              "      <td id=\"T_38834_row5_col1\" class=\"data row5 col1\" >10.5041</td>\n",
              "      <td id=\"T_38834_row5_col2\" class=\"data row5 col2\" >3.2410</td>\n",
              "      <td id=\"T_38834_row5_col3\" class=\"data row5 col3\" >0.9628</td>\n",
              "      <td id=\"T_38834_row5_col4\" class=\"data row5 col4\" >0.0071</td>\n",
              "      <td id=\"T_38834_row5_col5\" class=\"data row5 col5\" >0.0053</td>\n",
              "    </tr>\n",
              "    <tr>\n",
              "      <th id=\"T_38834_level0_row6\" class=\"row_heading level0 row6\" >6</th>\n",
              "      <td id=\"T_38834_row6_col0\" class=\"data row6 col0\" >2.3700</td>\n",
              "      <td id=\"T_38834_row6_col1\" class=\"data row6 col1\" >10.0276</td>\n",
              "      <td id=\"T_38834_row6_col2\" class=\"data row6 col2\" >3.1666</td>\n",
              "      <td id=\"T_38834_row6_col3\" class=\"data row6 col3\" >0.9655</td>\n",
              "      <td id=\"T_38834_row6_col4\" class=\"data row6 col4\" >0.0069</td>\n",
              "      <td id=\"T_38834_row6_col5\" class=\"data row6 col5\" >0.0052</td>\n",
              "    </tr>\n",
              "    <tr>\n",
              "      <th id=\"T_38834_level0_row7\" class=\"row_heading level0 row7\" >7</th>\n",
              "      <td id=\"T_38834_row7_col0\" class=\"data row7 col0\" >2.4661</td>\n",
              "      <td id=\"T_38834_row7_col1\" class=\"data row7 col1\" >11.4730</td>\n",
              "      <td id=\"T_38834_row7_col2\" class=\"data row7 col2\" >3.3872</td>\n",
              "      <td id=\"T_38834_row7_col3\" class=\"data row7 col3\" >0.9627</td>\n",
              "      <td id=\"T_38834_row7_col4\" class=\"data row7 col4\" >0.0074</td>\n",
              "      <td id=\"T_38834_row7_col5\" class=\"data row7 col5\" >0.0054</td>\n",
              "    </tr>\n",
              "    <tr>\n",
              "      <th id=\"T_38834_level0_row8\" class=\"row_heading level0 row8\" >8</th>\n",
              "      <td id=\"T_38834_row8_col0\" class=\"data row8 col0\" >2.4114</td>\n",
              "      <td id=\"T_38834_row8_col1\" class=\"data row8 col1\" >10.0669</td>\n",
              "      <td id=\"T_38834_row8_col2\" class=\"data row8 col2\" >3.1728</td>\n",
              "      <td id=\"T_38834_row8_col3\" class=\"data row8 col3\" >0.9667</td>\n",
              "      <td id=\"T_38834_row8_col4\" class=\"data row8 col4\" >0.0070</td>\n",
              "      <td id=\"T_38834_row8_col5\" class=\"data row8 col5\" >0.0053</td>\n",
              "    </tr>\n",
              "    <tr>\n",
              "      <th id=\"T_38834_level0_row9\" class=\"row_heading level0 row9\" >9</th>\n",
              "      <td id=\"T_38834_row9_col0\" class=\"data row9 col0\" >2.2799</td>\n",
              "      <td id=\"T_38834_row9_col1\" class=\"data row9 col1\" >9.8306</td>\n",
              "      <td id=\"T_38834_row9_col2\" class=\"data row9 col2\" >3.1354</td>\n",
              "      <td id=\"T_38834_row9_col3\" class=\"data row9 col3\" >0.9683</td>\n",
              "      <td id=\"T_38834_row9_col4\" class=\"data row9 col4\" >0.0069</td>\n",
              "      <td id=\"T_38834_row9_col5\" class=\"data row9 col5\" >0.0050</td>\n",
              "    </tr>\n",
              "    <tr>\n",
              "      <th id=\"T_38834_level0_row10\" class=\"row_heading level0 row10\" >Mean</th>\n",
              "      <td id=\"T_38834_row10_col0\" class=\"data row10 col0\" >2.3759</td>\n",
              "      <td id=\"T_38834_row10_col1\" class=\"data row10 col1\" >10.6955</td>\n",
              "      <td id=\"T_38834_row10_col2\" class=\"data row10 col2\" >3.2661</td>\n",
              "      <td id=\"T_38834_row10_col3\" class=\"data row10 col3\" >0.9634</td>\n",
              "      <td id=\"T_38834_row10_col4\" class=\"data row10 col4\" >0.0072</td>\n",
              "      <td id=\"T_38834_row10_col5\" class=\"data row10 col5\" >0.0052</td>\n",
              "    </tr>\n",
              "    <tr>\n",
              "      <th id=\"T_38834_level0_row11\" class=\"row_heading level0 row11\" >Std</th>\n",
              "      <td id=\"T_38834_row11_col0\" class=\"data row11 col0\" >0.0951</td>\n",
              "      <td id=\"T_38834_row11_col1\" class=\"data row11 col1\" >1.0795</td>\n",
              "      <td id=\"T_38834_row11_col2\" class=\"data row11 col2\" >0.1682</td>\n",
              "      <td id=\"T_38834_row11_col3\" class=\"data row11 col3\" >0.0040</td>\n",
              "      <td id=\"T_38834_row11_col4\" class=\"data row11 col4\" >0.0004</td>\n",
              "      <td id=\"T_38834_row11_col5\" class=\"data row11 col5\" >0.0002</td>\n",
              "    </tr>\n",
              "  </tbody>\n",
              "</table>\n"
            ]
          },
          "metadata": {}
        },
        {
          "output_type": "display_data",
          "data": {
            "text/plain": [
              "Processing:   0%|          | 0/7 [00:00<?, ?it/s]"
            ],
            "application/vnd.jupyter.widget-view+json": {
              "version_major": 2,
              "version_minor": 0,
              "model_id": "fc035aa2a0d344beba90786c824f736c"
            }
          },
          "metadata": {
            "application/vnd.jupyter.widget-view+json": {
              "colab": {
                "custom_widget_manager": {
                  "url": "https://ssl.gstatic.com/colaboratory-static/widgets/colab-cdn-widget-manager/2b70e893a8ba7c0f/manager.min.js"
                }
              }
            }
          }
        },
        {
          "output_type": "stream",
          "name": "stdout",
          "text": [
            "Fitting 10 folds for each of 10 candidates, totalling 100 fits\n"
          ]
        },
        {
          "output_type": "display_data",
          "data": {
            "text/plain": [
              "<IPython.core.display.HTML object>"
            ],
            "text/html": []
          },
          "metadata": {}
        },
        {
          "output_type": "display_data",
          "data": {
            "text/plain": [
              "<IPython.core.display.HTML object>"
            ],
            "text/html": []
          },
          "metadata": {}
        },
        {
          "output_type": "execute_result",
          "data": {
            "text/plain": [
              "         AT          V           AP         RH  prediction_label\n",
              "6503  23.91  50.230000  1017.250000  68.570000        453.348724\n",
              "1586  28.40  59.270000  1012.030029  59.750000        439.176361\n",
              "7033  13.86  35.709999  1015.210022  63.160000        468.451447\n",
              "1484   8.83  36.299999  1027.079956  72.690002        480.320312\n",
              "6938  25.77  58.590000  1012.510010  55.840000        447.820190"
            ],
            "text/html": [
              "\n",
              "  <div id=\"df-7ae2aff2-4e6f-4111-8a61-83ff46005aa5\" class=\"colab-df-container\">\n",
              "    <div>\n",
              "<style scoped>\n",
              "    .dataframe tbody tr th:only-of-type {\n",
              "        vertical-align: middle;\n",
              "    }\n",
              "\n",
              "    .dataframe tbody tr th {\n",
              "        vertical-align: top;\n",
              "    }\n",
              "\n",
              "    .dataframe thead th {\n",
              "        text-align: right;\n",
              "    }\n",
              "</style>\n",
              "<table border=\"1\" class=\"dataframe\">\n",
              "  <thead>\n",
              "    <tr style=\"text-align: right;\">\n",
              "      <th></th>\n",
              "      <th>AT</th>\n",
              "      <th>V</th>\n",
              "      <th>AP</th>\n",
              "      <th>RH</th>\n",
              "      <th>prediction_label</th>\n",
              "    </tr>\n",
              "  </thead>\n",
              "  <tbody>\n",
              "    <tr>\n",
              "      <th>6503</th>\n",
              "      <td>23.91</td>\n",
              "      <td>50.230000</td>\n",
              "      <td>1017.250000</td>\n",
              "      <td>68.570000</td>\n",
              "      <td>453.348724</td>\n",
              "    </tr>\n",
              "    <tr>\n",
              "      <th>1586</th>\n",
              "      <td>28.40</td>\n",
              "      <td>59.270000</td>\n",
              "      <td>1012.030029</td>\n",
              "      <td>59.750000</td>\n",
              "      <td>439.176361</td>\n",
              "    </tr>\n",
              "    <tr>\n",
              "      <th>7033</th>\n",
              "      <td>13.86</td>\n",
              "      <td>35.709999</td>\n",
              "      <td>1015.210022</td>\n",
              "      <td>63.160000</td>\n",
              "      <td>468.451447</td>\n",
              "    </tr>\n",
              "    <tr>\n",
              "      <th>1484</th>\n",
              "      <td>8.83</td>\n",
              "      <td>36.299999</td>\n",
              "      <td>1027.079956</td>\n",
              "      <td>72.690002</td>\n",
              "      <td>480.320312</td>\n",
              "    </tr>\n",
              "    <tr>\n",
              "      <th>6938</th>\n",
              "      <td>25.77</td>\n",
              "      <td>58.590000</td>\n",
              "      <td>1012.510010</td>\n",
              "      <td>55.840000</td>\n",
              "      <td>447.820190</td>\n",
              "    </tr>\n",
              "  </tbody>\n",
              "</table>\n",
              "</div>\n",
              "    <div class=\"colab-df-buttons\">\n",
              "\n",
              "  <div class=\"colab-df-container\">\n",
              "    <button class=\"colab-df-convert\" onclick=\"convertToInteractive('df-7ae2aff2-4e6f-4111-8a61-83ff46005aa5')\"\n",
              "            title=\"Convert this dataframe to an interactive table.\"\n",
              "            style=\"display:none;\">\n",
              "\n",
              "  <svg xmlns=\"http://www.w3.org/2000/svg\" height=\"24px\" viewBox=\"0 -960 960 960\">\n",
              "    <path d=\"M120-120v-720h720v720H120Zm60-500h600v-160H180v160Zm220 220h160v-160H400v160Zm0 220h160v-160H400v160ZM180-400h160v-160H180v160Zm440 0h160v-160H620v160ZM180-180h160v-160H180v160Zm440 0h160v-160H620v160Z\"/>\n",
              "  </svg>\n",
              "    </button>\n",
              "\n",
              "  <style>\n",
              "    .colab-df-container {\n",
              "      display:flex;\n",
              "      gap: 12px;\n",
              "    }\n",
              "\n",
              "    .colab-df-convert {\n",
              "      background-color: #E8F0FE;\n",
              "      border: none;\n",
              "      border-radius: 50%;\n",
              "      cursor: pointer;\n",
              "      display: none;\n",
              "      fill: #1967D2;\n",
              "      height: 32px;\n",
              "      padding: 0 0 0 0;\n",
              "      width: 32px;\n",
              "    }\n",
              "\n",
              "    .colab-df-convert:hover {\n",
              "      background-color: #E2EBFA;\n",
              "      box-shadow: 0px 1px 2px rgba(60, 64, 67, 0.3), 0px 1px 3px 1px rgba(60, 64, 67, 0.15);\n",
              "      fill: #174EA6;\n",
              "    }\n",
              "\n",
              "    .colab-df-buttons div {\n",
              "      margin-bottom: 4px;\n",
              "    }\n",
              "\n",
              "    [theme=dark] .colab-df-convert {\n",
              "      background-color: #3B4455;\n",
              "      fill: #D2E3FC;\n",
              "    }\n",
              "\n",
              "    [theme=dark] .colab-df-convert:hover {\n",
              "      background-color: #434B5C;\n",
              "      box-shadow: 0px 1px 3px 1px rgba(0, 0, 0, 0.15);\n",
              "      filter: drop-shadow(0px 1px 2px rgba(0, 0, 0, 0.3));\n",
              "      fill: #FFFFFF;\n",
              "    }\n",
              "  </style>\n",
              "\n",
              "    <script>\n",
              "      const buttonEl =\n",
              "        document.querySelector('#df-7ae2aff2-4e6f-4111-8a61-83ff46005aa5 button.colab-df-convert');\n",
              "      buttonEl.style.display =\n",
              "        google.colab.kernel.accessAllowed ? 'block' : 'none';\n",
              "\n",
              "      async function convertToInteractive(key) {\n",
              "        const element = document.querySelector('#df-7ae2aff2-4e6f-4111-8a61-83ff46005aa5');\n",
              "        const dataTable =\n",
              "          await google.colab.kernel.invokeFunction('convertToInteractive',\n",
              "                                                    [key], {});\n",
              "        if (!dataTable) return;\n",
              "\n",
              "        const docLinkHtml = 'Like what you see? Visit the ' +\n",
              "          '<a target=\"_blank\" href=https://colab.research.google.com/notebooks/data_table.ipynb>data table notebook</a>'\n",
              "          + ' to learn more about interactive tables.';\n",
              "        element.innerHTML = '';\n",
              "        dataTable['output_type'] = 'display_data';\n",
              "        await google.colab.output.renderOutput(dataTable, element);\n",
              "        const docLink = document.createElement('div');\n",
              "        docLink.innerHTML = docLinkHtml;\n",
              "        element.appendChild(docLink);\n",
              "      }\n",
              "    </script>\n",
              "  </div>\n",
              "\n",
              "\n",
              "<div id=\"df-a55ab4b5-65a5-4a0f-9bbb-b1dc56279fd8\">\n",
              "  <button class=\"colab-df-quickchart\" onclick=\"quickchart('df-a55ab4b5-65a5-4a0f-9bbb-b1dc56279fd8')\"\n",
              "            title=\"Suggest charts\"\n",
              "            style=\"display:none;\">\n",
              "\n",
              "<svg xmlns=\"http://www.w3.org/2000/svg\" height=\"24px\"viewBox=\"0 0 24 24\"\n",
              "     width=\"24px\">\n",
              "    <g>\n",
              "        <path d=\"M19 3H5c-1.1 0-2 .9-2 2v14c0 1.1.9 2 2 2h14c1.1 0 2-.9 2-2V5c0-1.1-.9-2-2-2zM9 17H7v-7h2v7zm4 0h-2V7h2v10zm4 0h-2v-4h2v4z\"/>\n",
              "    </g>\n",
              "</svg>\n",
              "  </button>\n",
              "\n",
              "<style>\n",
              "  .colab-df-quickchart {\n",
              "      --bg-color: #E8F0FE;\n",
              "      --fill-color: #1967D2;\n",
              "      --hover-bg-color: #E2EBFA;\n",
              "      --hover-fill-color: #174EA6;\n",
              "      --disabled-fill-color: #AAA;\n",
              "      --disabled-bg-color: #DDD;\n",
              "  }\n",
              "\n",
              "  [theme=dark] .colab-df-quickchart {\n",
              "      --bg-color: #3B4455;\n",
              "      --fill-color: #D2E3FC;\n",
              "      --hover-bg-color: #434B5C;\n",
              "      --hover-fill-color: #FFFFFF;\n",
              "      --disabled-bg-color: #3B4455;\n",
              "      --disabled-fill-color: #666;\n",
              "  }\n",
              "\n",
              "  .colab-df-quickchart {\n",
              "    background-color: var(--bg-color);\n",
              "    border: none;\n",
              "    border-radius: 50%;\n",
              "    cursor: pointer;\n",
              "    display: none;\n",
              "    fill: var(--fill-color);\n",
              "    height: 32px;\n",
              "    padding: 0;\n",
              "    width: 32px;\n",
              "  }\n",
              "\n",
              "  .colab-df-quickchart:hover {\n",
              "    background-color: var(--hover-bg-color);\n",
              "    box-shadow: 0 1px 2px rgba(60, 64, 67, 0.3), 0 1px 3px 1px rgba(60, 64, 67, 0.15);\n",
              "    fill: var(--button-hover-fill-color);\n",
              "  }\n",
              "\n",
              "  .colab-df-quickchart-complete:disabled,\n",
              "  .colab-df-quickchart-complete:disabled:hover {\n",
              "    background-color: var(--disabled-bg-color);\n",
              "    fill: var(--disabled-fill-color);\n",
              "    box-shadow: none;\n",
              "  }\n",
              "\n",
              "  .colab-df-spinner {\n",
              "    border: 2px solid var(--fill-color);\n",
              "    border-color: transparent;\n",
              "    border-bottom-color: var(--fill-color);\n",
              "    animation:\n",
              "      spin 1s steps(1) infinite;\n",
              "  }\n",
              "\n",
              "  @keyframes spin {\n",
              "    0% {\n",
              "      border-color: transparent;\n",
              "      border-bottom-color: var(--fill-color);\n",
              "      border-left-color: var(--fill-color);\n",
              "    }\n",
              "    20% {\n",
              "      border-color: transparent;\n",
              "      border-left-color: var(--fill-color);\n",
              "      border-top-color: var(--fill-color);\n",
              "    }\n",
              "    30% {\n",
              "      border-color: transparent;\n",
              "      border-left-color: var(--fill-color);\n",
              "      border-top-color: var(--fill-color);\n",
              "      border-right-color: var(--fill-color);\n",
              "    }\n",
              "    40% {\n",
              "      border-color: transparent;\n",
              "      border-right-color: var(--fill-color);\n",
              "      border-top-color: var(--fill-color);\n",
              "    }\n",
              "    60% {\n",
              "      border-color: transparent;\n",
              "      border-right-color: var(--fill-color);\n",
              "    }\n",
              "    80% {\n",
              "      border-color: transparent;\n",
              "      border-right-color: var(--fill-color);\n",
              "      border-bottom-color: var(--fill-color);\n",
              "    }\n",
              "    90% {\n",
              "      border-color: transparent;\n",
              "      border-bottom-color: var(--fill-color);\n",
              "    }\n",
              "  }\n",
              "</style>\n",
              "\n",
              "  <script>\n",
              "    async function quickchart(key) {\n",
              "      const quickchartButtonEl =\n",
              "        document.querySelector('#' + key + ' button');\n",
              "      quickchartButtonEl.disabled = true;  // To prevent multiple clicks.\n",
              "      quickchartButtonEl.classList.add('colab-df-spinner');\n",
              "      try {\n",
              "        const charts = await google.colab.kernel.invokeFunction(\n",
              "            'suggestCharts', [key], {});\n",
              "      } catch (error) {\n",
              "        console.error('Error during call to suggestCharts:', error);\n",
              "      }\n",
              "      quickchartButtonEl.classList.remove('colab-df-spinner');\n",
              "      quickchartButtonEl.classList.add('colab-df-quickchart-complete');\n",
              "    }\n",
              "    (() => {\n",
              "      let quickchartButtonEl =\n",
              "        document.querySelector('#df-a55ab4b5-65a5-4a0f-9bbb-b1dc56279fd8 button');\n",
              "      quickchartButtonEl.style.display =\n",
              "        google.colab.kernel.accessAllowed ? 'block' : 'none';\n",
              "    })();\n",
              "  </script>\n",
              "</div>\n",
              "\n",
              "    </div>\n",
              "  </div>\n"
            ],
            "application/vnd.google.colaboratory.intrinsic+json": {
              "type": "dataframe",
              "variable_name": "tuned_predictions",
              "summary": "{\n  \"name\": \"tuned_predictions\",\n  \"rows\": 1914,\n  \"fields\": [\n    {\n      \"column\": \"AT\",\n      \"properties\": {\n        \"dtype\": \"float32\",\n        \"num_unique_values\": 1395,\n        \"samples\": [\n          24.09000015258789,\n          14.1899995803833,\n          32.11000061035156\n        ],\n        \"semantic_type\": \"\",\n        \"description\": \"\"\n      }\n    },\n    {\n      \"column\": \"V\",\n      \"properties\": {\n        \"dtype\": \"float32\",\n        \"num_unique_values\": 543,\n        \"samples\": [\n          63.130001068115234,\n          58.86000061035156,\n          44.77000045776367\n        ],\n        \"semantic_type\": \"\",\n        \"description\": \"\"\n      }\n    },\n    {\n      \"column\": \"AP\",\n      \"properties\": {\n        \"dtype\": \"float32\",\n        \"num_unique_values\": 1268,\n        \"samples\": [\n          1018.0800170898438,\n          1019.219970703125,\n          1012.1599731445312\n        ],\n        \"semantic_type\": \"\",\n        \"description\": \"\"\n      }\n    },\n    {\n      \"column\": \"RH\",\n      \"properties\": {\n        \"dtype\": \"float32\",\n        \"num_unique_values\": 1597,\n        \"samples\": [\n          74.80000305175781,\n          85.0199966430664,\n          85.94999694824219\n        ],\n        \"semantic_type\": \"\",\n        \"description\": \"\"\n      }\n    },\n    {\n      \"column\": \"prediction_label\",\n      \"properties\": {\n        \"dtype\": \"float32\",\n        \"num_unique_values\": 1908,\n        \"samples\": [\n          473.0259094238281,\n          471.8809509277344,\n          437.6609802246094\n        ],\n        \"semantic_type\": \"\",\n        \"description\": \"\"\n      }\n    }\n  ]\n}"
            }
          },
          "metadata": {},
          "execution_count": 9
        }
      ]
    },
    {
      "cell_type": "code",
      "source": [
        "evalmetric(y_test,tuned_predictions['prediction_label'])"
      ],
      "metadata": {
        "id": "M_B-Iw_duY08",
        "outputId": "bf6c9b47-bb5f-4ca6-d8e5-138fc833102b",
        "colab": {
          "base_uri": "https://localhost:8080/"
        }
      },
      "execution_count": 10,
      "outputs": [
        {
          "output_type": "stream",
          "name": "stdout",
          "text": [
            "MSE: 12.006757004130034\n",
            "RMSE: 3.465076767422337\n",
            "MAE: 2.409436308762123\n",
            "MAPE: 0.5318081094263715\n",
            "R-Squared: 0.9585136240699935\n"
          ]
        }
      ]
    }
  ]
}