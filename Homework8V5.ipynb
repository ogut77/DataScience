{
  "nbformat": 4,
  "nbformat_minor": 0,
  "metadata": {
    "colab": {
      "provenance": [],
      "include_colab_link": true
    },
    "kernelspec": {
      "name": "python3",
      "display_name": "Python 3"
    },
    "language_info": {
      "name": "python"
    }
  },
  "cells": [
    {
      "cell_type": "markdown",
      "metadata": {
        "id": "view-in-github",
        "colab_type": "text"
      },
      "source": [
        "<a href=\"https://colab.research.google.com/github/ogut77/DataScience/blob/main/Homework8V5.ipynb\" target=\"_parent\"><img src=\"https://colab.research.google.com/assets/colab-badge.svg\" alt=\"Open In Colab\"/></a>"
      ]
    },
    {
      "cell_type": "markdown",
      "source": [
        "Question 1 (30 Points)\n",
        "\n",
        "A sample of 30 respondents was interviewed using mall intercept interviewing. The respondents were asked to indicate their degree of agreement with the following statements using a seven-point scale (1 = strongly disagree, 7 = strongly agree).\n",
        "\n",
        "•\tV1 = It is important to buy a toothpaste that prevents cavities\n",
        "\n",
        "•\tV2 = I like a toothpaste that gives a shiny teeth\n",
        "\n",
        "•\tV3 = A toothpaste should strengthen your gums teeth\n",
        "\n",
        "•\tV4 = I prefer a toothpaste that freshens breath\n",
        "\n",
        "•\tV5 = Prevention of tooth decay is not an important benefit offered by a toothpaste\n",
        "\n",
        "•\tV6 = The most important consideration in buying a toothpaste is attractive teeth\n",
        "\n",
        "By using the variables,\n",
        "\n",
        "(1) How many factors is extracted from data for principal component analysis?\n",
        "\n",
        "(2) What is the total percentage of variance explained by these principal components?\n",
        "\n",
        "(3)Which variables are included in the same factors ? How can you name these factors?\n",
        "\n",
        "You can find the data at\n",
        "\n",
        "https://raw.githubusercontent.com/ogut77/DataScience/main/data/Toothpaste.csv"
      ],
      "metadata": {
        "id": "W8bGx04UMftc"
      }
    },
    {
      "cell_type": "code",
      "execution_count": 13,
      "metadata": {
        "id": "F0fOzKP-43mA",
        "outputId": "8b50d201-2531-41ef-b2e4-0e60049ed9a9",
        "colab": {
          "base_uri": "https://localhost:8080/"
        }
      },
      "outputs": [
        {
          "output_type": "stream",
          "name": "stdout",
          "text": [
            "<class 'pandas.core.frame.DataFrame'>\n",
            "RangeIndex: 9240 entries, 0 to 9239\n",
            "Data columns (total 37 columns):\n",
            " #   Column                                         Non-Null Count  Dtype  \n",
            "---  ------                                         --------------  -----  \n",
            " 0   Prospect ID                                    9240 non-null   object \n",
            " 1   Lead Number                                    9240 non-null   int64  \n",
            " 2   Lead Origin                                    9240 non-null   object \n",
            " 3   Lead Source                                    9204 non-null   object \n",
            " 4   Do Not Email                                   9240 non-null   object \n",
            " 5   Do Not Call                                    9240 non-null   object \n",
            " 6   Converted                                      9240 non-null   int64  \n",
            " 7   TotalVisits                                    9103 non-null   float64\n",
            " 8   Total Time Spent on Website                    9240 non-null   int64  \n",
            " 9   Page Views Per Visit                           9103 non-null   float64\n",
            " 10  Last Activity                                  9137 non-null   object \n",
            " 11  Country                                        6779 non-null   object \n",
            " 12  Specialization                                 7802 non-null   object \n",
            " 13  How did you hear about X Education             7033 non-null   object \n",
            " 14  What is your current occupation                6550 non-null   object \n",
            " 15  What matters most to you in choosing a course  6531 non-null   object \n",
            " 16  Search                                         9240 non-null   object \n",
            " 17  Magazine                                       9240 non-null   object \n",
            " 18  Newspaper Article                              9240 non-null   object \n",
            " 19  X Education Forums                             9240 non-null   object \n",
            " 20  Newspaper                                      9240 non-null   object \n",
            " 21  Digital Advertisement                          9240 non-null   object \n",
            " 22  Through Recommendations                        9240 non-null   object \n",
            " 23  Receive More Updates About Our Courses         9240 non-null   object \n",
            " 24  Tags                                           5887 non-null   object \n",
            " 25  Lead Quality                                   4473 non-null   object \n",
            " 26  Update me on Supply Chain Content              9240 non-null   object \n",
            " 27  Get updates on DM Content                      9240 non-null   object \n",
            " 28  Lead Profile                                   6531 non-null   object \n",
            " 29  City                                           7820 non-null   object \n",
            " 30  Asymmetrique Activity Index                    5022 non-null   object \n",
            " 31  Asymmetrique Profile Index                     5022 non-null   object \n",
            " 32  Asymmetrique Activity Score                    5022 non-null   float64\n",
            " 33  Asymmetrique Profile Score                     5022 non-null   float64\n",
            " 34  I agree to pay the amount through cheque       9240 non-null   object \n",
            " 35  A free copy of Mastering The Interview         9240 non-null   object \n",
            " 36  Last Notable Activity                          9240 non-null   object \n",
            "dtypes: float64(4), int64(3), object(30)\n",
            "memory usage: 2.6+ MB\n"
          ]
        }
      ],
      "source": [
        "#Q2 and Q3 is below\n",
        "# Data description is provided below\n",
        "import pandas as pd\n",
        "import numpy as np\n",
        "df = pd.read_csv('https://raw.githubusercontent.com/ogut77/DataScience/main/data/Leads.csv')\n",
        "df.info()"
      ]
    },
    {
      "cell_type": "code",
      "source": [
        " #There are missing values in the Lead data .\n",
        "# Replace missing variables with the mean  if variable is numeric or mode if variable is categorical.\n",
        "for col in df.columns:\n",
        "    if ((df[col].dtype == 'float64') or (df[col].dtype == 'float64')) :\n",
        "        df[col] = df[col].fillna(df[col].mean())\n",
        "    else:\n",
        "        df[col] = df[col].fillna(df[col].mode()[0])\n"
      ],
      "metadata": {
        "id": "ihog3y2T9uKN"
      },
      "execution_count": 14,
      "outputs": []
    },
    {
      "cell_type": "code",
      "source": [
        "#Check that there are no missing data\n",
        "df.isnull().sum()"
      ],
      "metadata": {
        "id": "MekOuGEPHK0x"
      },
      "execution_count": null,
      "outputs": []
    },
    {
      "cell_type": "code",
      "source": [
        "from sklearn.preprocessing import LabelEncoder\n",
        "from sklearn.model_selection import train_test_split\n",
        "\n",
        "\n",
        "\n",
        "df = df.drop(columns=['Prospect ID','Lead Number'])\n",
        "y = df['Converted']\n",
        "X = df.drop(columns=['Converted'])\n",
        "\n",
        "X_train, X_test, y_train, y_test = train_test_split(X, y, test_size=0.30)"
      ],
      "metadata": {
        "id": "DKJ3NU0X_Gch"
      },
      "execution_count": 16,
      "outputs": []
    },
    {
      "cell_type": "code",
      "source": [
        "def eval(yact,ypred):\n",
        " from sklearn import metrics\n",
        " print(\"Accuracy:\",metrics.accuracy_score(yact, ypred))\n",
        " print(\"Precision:\",metrics.precision_score(yact, ypred))\n",
        " print(\"Recall:\",metrics.recall_score(yact, ypred))\n",
        "\n",
        " cnf_matrix = metrics.confusion_matrix(yact, ypred)\n",
        " import numpy as np\n",
        " import matplotlib.pyplot as plt\n",
        " import seaborn as sns\n",
        " %matplotlib inline\n",
        " class_names=[0,1] # name  of classes\n",
        " fig, ax = plt.subplots()\n",
        " tick_marks = np.arange(len(class_names))\n",
        " plt.xticks(tick_marks, class_names)\n",
        " plt.yticks(tick_marks, class_names)\n",
        " # create heatmap\n",
        " sns.heatmap(pd.DataFrame(cnf_matrix), annot=True, cmap=\"YlGnBu\" ,fmt='g')\n",
        " ax.xaxis.set_label_position(\"top\")\n",
        " plt.tight_layout()\n",
        " plt.title('Confusion matrix', y=1.1)\n",
        " plt.ylabel('Actual label')\n",
        " plt.xlabel('Predicted label')\n"
      ],
      "metadata": {
        "id": "qyiN6tHuE4Zl"
      },
      "execution_count": 17,
      "outputs": []
    },
    {
      "cell_type": "code",
      "source": [
        "#Q2)Using pycaret AutoML tools,make prediction on test data and evaluate performance of prediction using eval function defined above."
      ],
      "metadata": {
        "id": "vTf67JtDK-dP"
      },
      "execution_count": null,
      "outputs": []
    },
    {
      "cell_type": "code",
      "source": [
        "#Q3)Using Autogluon  AutoML tools,make prediction on test data and evaluate performance of prediction using eval function defined above."
      ],
      "metadata": {
        "id": "R1SvLYWmL8AM"
      },
      "execution_count": null,
      "outputs": []
    }
  ]
}