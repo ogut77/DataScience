{
  "nbformat": 4,
  "nbformat_minor": 0,
  "metadata": {
    "colab": {
      "name": "Homework6.ipynb",
      "provenance": [],
      "authorship_tag": "ABX9TyOQ6BCheIKOD1Gwh3uh5GbY",
      "include_colab_link": true
    },
    "kernelspec": {
      "name": "python3",
      "display_name": "Python 3"
    },
    "language_info": {
      "name": "python"
    }
  },
  "cells": [
    {
      "cell_type": "markdown",
      "metadata": {
        "id": "view-in-github",
        "colab_type": "text"
      },
      "source": [
        "<a href=\"https://colab.research.google.com/github/ogut77/DataScience/blob/main/Homework7a.ipynb\" target=\"_parent\"><img src=\"https://colab.research.google.com/assets/colab-badge.svg\" alt=\"Open In Colab\"/></a>"
      ]
    },
    {
      "cell_type": "markdown",
      "source": [
        "Question 1 (30 Points)\n",
        "\n",
        "A sample of 30 respondents was interviewed using mall intercept interviewing. The respondents were asked to indicate their degree of agreement with the following statements using a seven-point scale (1 = strongly disagree, 7 = strongly agree).\n",
        "\n",
        "•\tV1 = It is important to buy a toothpaste that prevents cavities\n",
        "\n",
        "•\tV2 = I like a toothpaste that gives a shiny teeth\n",
        "\n",
        "•\tV3 = A toothpaste should strengthen your gums teeth\n",
        "\n",
        "•\tV4 = I prefer a toothpaste that freshens breath\n",
        "\n",
        "•\tV5 = Prevention of tooth decay is not an important benefit offered by a toothpaste\n",
        "\n",
        "•\tV6 = The most important consideration in buying a toothpaste is attractive teeth\n",
        "\n",
        "By using the variables,\n",
        "\n",
        "(1) How many factors is extracted from data for principal component analysis?\n",
        "\n",
        "(2) What is the total percentage of variance explained by these principal components?\n",
        "\n",
        "(3)Which variables are included in the same factors ? How can you name these factors?\n",
        "\n",
        "You can find the data at \n",
        "\n",
        "https://raw.githubusercontent.com/ogut77/DataScience/main/data/Toothpaste.csv"
      ],
      "metadata": {
        "id": "54_BmoeeZfYk"
      }
    },
    {
      "cell_type": "code",
      "source": [
        "#Q2\n",
        "import pandas as pd\n",
        "breast_dataset=pd.read_csv('https://raw.githubusercontent.com/ogut77/DataScience/main/data/Bcancer.csv')\n",
        "breast_dataset\n",
        "y=breast_dataset['label']\n",
        "X=breast_dataset.drop(['label'], axis = 1)\n",
        "X"
      ],
      "metadata": {
        "id": "M-SHEIK8i9Cx"
      },
      "execution_count": null,
      "outputs": []
    },
    {
      "cell_type": "markdown",
      "source": [
        "Q2) (70 points)Using breast cancer data above, \n",
        "\n",
        "(1) split the data two : training (65%) and testing (35%)\n",
        "\n",
        "(2) Using logistic regression model in train data, get the performance metric on test data(accuracy,recall, precision confusuion matrix)\n",
        "\n",
        "(3)Using knn model in train data(choose k based on CV), get the performance metric on test data(accuracy,recall, precision confusuion matrix). What is the k value chosen based on k?\n",
        "\n",
        "(4)Using naive  model in train data, get the performance metric on test data(accuracy,recall, precision confusuion matrix)\n",
        "\n",
        "(5)Using SVM with parameter tuning(you can use optuna) in train data ,get the performance metric on test data(accuracy,recall, precision confusuion matrix)"
      ],
      "metadata": {
        "id": "zC7aVfnCjG09"
      }
    }
  ]
}