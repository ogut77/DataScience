{
  "nbformat": 4,
  "nbformat_minor": 0,
  "metadata": {
    "colab": {
      "provenance": [],
      "authorship_tag": "ABX9TyPwqEXPQJg6htu/1FxzlpJH",
      "include_colab_link": true
    },
    "kernelspec": {
      "name": "ir",
      "display_name": "R"
    },
    "language_info": {
      "name": "R"
    }
  },
  "cells": [
    {
      "cell_type": "markdown",
      "metadata": {
        "id": "view-in-github",
        "colab_type": "text"
      },
      "source": [
        "<a href=\"https://colab.research.google.com/github/ogut77/DataScience/blob/main/Chapter7R.ipynb\" target=\"_parent\"><img src=\"https://colab.research.google.com/assets/colab-badge.svg\" alt=\"Open In Colab\"/></a>"
      ]
    },
    {
      "cell_type": "code",
      "execution_count": 31,
      "metadata": {
        "colab": {
          "base_uri": "https://localhost:8080/",
          "height": 864
        },
        "id": "im9ipz3Vej1F",
        "outputId": "86e4248b-89ea-4827-c7d2-855572ba7e61"
      },
      "outputs": [
        {
          "output_type": "stream",
          "name": "stderr",
          "text": [
            "\u001b[1mRows: \u001b[22m\u001b[34m20\u001b[39m \u001b[1mColumns: \u001b[22m\u001b[34m3\u001b[39m\n",
            "\u001b[36m──\u001b[39m \u001b[1mColumn specification\u001b[22m \u001b[36m────────────────────────────────────────────────────────\u001b[39m\n",
            "\u001b[1mDelimiter:\u001b[22m \",\"\n",
            "\u001b[31mchr\u001b[39m (1): Purchase\n",
            "\u001b[32mdbl\u001b[39m (2): Age, Income\n",
            "\n",
            "\u001b[36mℹ\u001b[39m Use `spec()` to retrieve the full column specification for this data.\n",
            "\u001b[36mℹ\u001b[39m Specify the column types or set `show_col_types = FALSE` to quiet this message.\n"
          ]
        },
        {
          "output_type": "display_data",
          "data": {
            "text/html": [
              "<table class=\"dataframe\">\n",
              "<caption>A spec_tbl_df: 20 × 3</caption>\n",
              "<thead>\n",
              "\t<tr><th scope=col>Age</th><th scope=col>Income</th><th scope=col>Purchase</th></tr>\n",
              "\t<tr><th scope=col>&lt;dbl&gt;</th><th scope=col>&lt;dbl&gt;</th><th scope=col>&lt;chr&gt;</th></tr>\n",
              "</thead>\n",
              "<tbody>\n",
              "\t<tr><td>25</td><td>150</td><td>Yes</td></tr>\n",
              "\t<tr><td>34</td><td>220</td><td>No </td></tr>\n",
              "\t<tr><td>27</td><td>210</td><td>No </td></tr>\n",
              "\t<tr><td>28</td><td>250</td><td>Yes</td></tr>\n",
              "\t<tr><td>21</td><td>100</td><td>No </td></tr>\n",
              "\t<tr><td>31</td><td>220</td><td>No </td></tr>\n",
              "\t<tr><td>36</td><td>300</td><td>Yes</td></tr>\n",
              "\t<tr><td>20</td><td>100</td><td>No </td></tr>\n",
              "\t<tr><td>29</td><td>220</td><td>No </td></tr>\n",
              "\t<tr><td>32</td><td>250</td><td>Yes</td></tr>\n",
              "\t<tr><td>37</td><td>400</td><td>Yes</td></tr>\n",
              "\t<tr><td>24</td><td>120</td><td>No </td></tr>\n",
              "\t<tr><td>33</td><td>350</td><td>No </td></tr>\n",
              "\t<tr><td>30</td><td>180</td><td>Yes</td></tr>\n",
              "\t<tr><td>38</td><td>350</td><td>Yes</td></tr>\n",
              "\t<tr><td>32</td><td>250</td><td>No </td></tr>\n",
              "\t<tr><td>28</td><td>240</td><td>No </td></tr>\n",
              "\t<tr><td>22</td><td>220</td><td>No </td></tr>\n",
              "\t<tr><td>39</td><td>450</td><td>Yes</td></tr>\n",
              "\t<tr><td>26</td><td>150</td><td>No </td></tr>\n",
              "</tbody>\n",
              "</table>\n"
            ],
            "text/markdown": "\nA spec_tbl_df: 20 × 3\n\n| Age &lt;dbl&gt; | Income &lt;dbl&gt; | Purchase &lt;chr&gt; |\n|---|---|---|\n| 25 | 150 | Yes |\n| 34 | 220 | No  |\n| 27 | 210 | No  |\n| 28 | 250 | Yes |\n| 21 | 100 | No  |\n| 31 | 220 | No  |\n| 36 | 300 | Yes |\n| 20 | 100 | No  |\n| 29 | 220 | No  |\n| 32 | 250 | Yes |\n| 37 | 400 | Yes |\n| 24 | 120 | No  |\n| 33 | 350 | No  |\n| 30 | 180 | Yes |\n| 38 | 350 | Yes |\n| 32 | 250 | No  |\n| 28 | 240 | No  |\n| 22 | 220 | No  |\n| 39 | 450 | Yes |\n| 26 | 150 | No  |\n\n",
            "text/latex": "A spec\\_tbl\\_df: 20 × 3\n\\begin{tabular}{lll}\n Age & Income & Purchase\\\\\n <dbl> & <dbl> & <chr>\\\\\n\\hline\n\t 25 & 150 & Yes\\\\\n\t 34 & 220 & No \\\\\n\t 27 & 210 & No \\\\\n\t 28 & 250 & Yes\\\\\n\t 21 & 100 & No \\\\\n\t 31 & 220 & No \\\\\n\t 36 & 300 & Yes\\\\\n\t 20 & 100 & No \\\\\n\t 29 & 220 & No \\\\\n\t 32 & 250 & Yes\\\\\n\t 37 & 400 & Yes\\\\\n\t 24 & 120 & No \\\\\n\t 33 & 350 & No \\\\\n\t 30 & 180 & Yes\\\\\n\t 38 & 350 & Yes\\\\\n\t 32 & 250 & No \\\\\n\t 28 & 240 & No \\\\\n\t 22 & 220 & No \\\\\n\t 39 & 450 & Yes\\\\\n\t 26 & 150 & No \\\\\n\\end{tabular}\n",
            "text/plain": [
              "   Age Income Purchase\n",
              "1  25  150    Yes     \n",
              "2  34  220    No      \n",
              "3  27  210    No      \n",
              "4  28  250    Yes     \n",
              "5  21  100    No      \n",
              "6  31  220    No      \n",
              "7  36  300    Yes     \n",
              "8  20  100    No      \n",
              "9  29  220    No      \n",
              "10 32  250    Yes     \n",
              "11 37  400    Yes     \n",
              "12 24  120    No      \n",
              "13 33  350    No      \n",
              "14 30  180    Yes     \n",
              "15 38  350    Yes     \n",
              "16 32  250    No      \n",
              "17 28  240    No      \n",
              "18 22  220    No      \n",
              "19 39  450    Yes     \n",
              "20 26  150    No      "
            ]
          },
          "metadata": {}
        }
      ],
      "source": [
        "\n",
        "customer <- read_csv('https://raw.githubusercontent.com/ogut77/DataScience/refs/heads/main/PurchaseByCredit20_Continuous.csv')\n",
        "customer\n"
      ]
    },
    {
      "cell_type": "code",
      "source": [
        "\n"
      ],
      "metadata": {
        "id": "HSSReVnkfD3P"
      },
      "execution_count": 21,
      "outputs": []
    },
    {
      "cell_type": "code",
      "source": [
        "install.packages('MASS')\n",
        "library(MASS)"
      ],
      "metadata": {
        "colab": {
          "base_uri": "https://localhost:8080/"
        },
        "id": "U1NYHubo0faG",
        "outputId": "1fe9feee-88f0-4a7e-e9ee-90060e937eb7"
      },
      "execution_count": 33,
      "outputs": [
        {
          "output_type": "stream",
          "name": "stderr",
          "text": [
            "Installing package into ‘/usr/local/lib/R/site-library’\n",
            "(as ‘lib’ is unspecified)\n",
            "\n",
            "\n",
            "Attaching package: ‘MASS’\n",
            "\n",
            "\n",
            "The following object is masked from ‘package:dplyr’:\n",
            "\n",
            "    select\n",
            "\n",
            "\n"
          ]
        }
      ]
    },
    {
      "cell_type": "code",
      "source": [
        " ldamodel <- lda(Purchase ~ ., customer)\n",
        " ldamodel"
      ],
      "metadata": {
        "id": "CsW-sHLg0bSI"
      },
      "execution_count": 34,
      "outputs": []
    },
    {
      "cell_type": "code",
      "source": [
        "\n",
        " pred <- predict(ldamodel, customer)"
      ],
      "metadata": {
        "colab": {
          "base_uri": "https://localhost:8080/",
          "height": 295
        },
        "id": "s4RnhmIs0nsw",
        "outputId": "93db4c73-666f-4802-c0ab-910b4bf4987d"
      },
      "execution_count": 36,
      "outputs": [
        {
          "output_type": "display_data",
          "data": {
            "text/plain": [
              "Call:\n",
              "lda(Purchase ~ ., data = customer)\n",
              "\n",
              "Prior probabilities of groups:\n",
              " No Yes \n",
              "0.6 0.4 \n",
              "\n",
              "Group means:\n",
              "       Age Income\n",
              "No  27.250 200.00\n",
              "Yes 33.125 291.25\n",
              "\n",
              "Coefficients of linear discriminants:\n",
              "               LD1\n",
              "Age    0.173328870\n",
              "Income 0.001994526"
            ]
          },
          "metadata": {}
        }
      ]
    },
    {
      "cell_type": "code",
      "source": [
        "pred$class"
      ],
      "metadata": {
        "colab": {
          "base_uri": "https://localhost:8080/",
          "height": 52
        },
        "id": "pt1ubeWa0ukF",
        "outputId": "d1dd7170-86a2-42d8-aef9-17e8d80d46eb"
      },
      "execution_count": 37,
      "outputs": [
        {
          "output_type": "display_data",
          "data": {
            "text/html": [
              "<style>\n",
              ".list-inline {list-style: none; margin:0; padding: 0}\n",
              ".list-inline>li {display: inline-block}\n",
              ".list-inline>li:not(:last-child)::after {content: \"\\00b7\"; padding: 0 .5ex}\n",
              "</style>\n",
              "<ol class=list-inline><li>No</li><li>Yes</li><li>No</li><li>No</li><li>No</li><li>No</li><li>Yes</li><li>No</li><li>No</li><li>No</li><li>Yes</li><li>No</li><li>Yes</li><li>No</li><li>Yes</li><li>No</li><li>No</li><li>No</li><li>Yes</li><li>No</li></ol>\n",
              "\n",
              "<details>\n",
              "\t<summary style=display:list-item;cursor:pointer>\n",
              "\t\t<strong>Levels</strong>:\n",
              "\t</summary>\n",
              "\t<style>\n",
              "\t.list-inline {list-style: none; margin:0; padding: 0}\n",
              "\t.list-inline>li {display: inline-block}\n",
              "\t.list-inline>li:not(:last-child)::after {content: \"\\00b7\"; padding: 0 .5ex}\n",
              "\t</style>\n",
              "\t<ol class=list-inline><li>'No'</li><li>'Yes'</li></ol>\n",
              "</details>"
            ],
            "text/markdown": "1. No\n2. Yes\n3. No\n4. No\n5. No\n6. No\n7. Yes\n8. No\n9. No\n10. No\n11. Yes\n12. No\n13. Yes\n14. No\n15. Yes\n16. No\n17. No\n18. No\n19. Yes\n20. No\n\n\n\n**Levels**: 1. 'No'\n2. 'Yes'\n\n\n",
            "text/latex": "\\begin{enumerate*}\n\\item No\n\\item Yes\n\\item No\n\\item No\n\\item No\n\\item No\n\\item Yes\n\\item No\n\\item No\n\\item No\n\\item Yes\n\\item No\n\\item Yes\n\\item No\n\\item Yes\n\\item No\n\\item No\n\\item No\n\\item Yes\n\\item No\n\\end{enumerate*}\n\n\\emph{Levels}: \\begin{enumerate*}\n\\item 'No'\n\\item 'Yes'\n\\end{enumerate*}\n",
            "text/plain": [
              " [1] No  Yes No  No  No  No  Yes No  No  No  Yes No  Yes No  Yes No  No  No  Yes\n",
              "[20] No \n",
              "Levels: No Yes"
            ]
          },
          "metadata": {}
        }
      ]
    },
    {
      "cell_type": "code",
      "source": [
        "classtable <- table(Purchase,pred$class)\n",
        "classtable"
      ],
      "metadata": {
        "colab": {
          "base_uri": "https://localhost:8080/",
          "height": 86
        },
        "id": "qZEEHdRr0xm4",
        "outputId": "92c01df8-e7e8-4231-c0d4-5dabfcb1b0f4"
      },
      "execution_count": 39,
      "outputs": [
        {
          "output_type": "display_data",
          "data": {
            "text/plain": [
              "        \n",
              "Purchase No Yes\n",
              "     No  10   2\n",
              "     Yes  4   4"
            ]
          },
          "metadata": {}
        }
      ]
    },
    {
      "cell_type": "code",
      "source": [
        " sum(diag(classtable)) / sum(classtable)"
      ],
      "metadata": {
        "colab": {
          "base_uri": "https://localhost:8080/",
          "height": 34
        },
        "id": "SkiJvB7V03gG",
        "outputId": "8605016d-df5b-4b24-c5c6-a0c9fa012dd9"
      },
      "execution_count": 40,
      "outputs": [
        {
          "output_type": "display_data",
          "data": {
            "text/html": [
              "0.7"
            ],
            "text/markdown": "0.7",
            "text/latex": "0.7",
            "text/plain": [
              "[1] 0.7"
            ]
          },
          "metadata": {}
        }
      ]
    },
    {
      "cell_type": "code",
      "source": [
        "# prompt: write logistic regression in r\n",
        "\n",
        "customer$Purchase <- ifelse(customer$Purchase == \"Yes\", 1, 0)\n",
        "\n",
        "\n",
        "# Train a logistic regression model\n",
        "logitmodel <- glm(Purchase ~ ., data = customer, family = binomial)\n",
        "logitmodel"
      ],
      "metadata": {
        "colab": {
          "base_uri": "https://localhost:8080/",
          "height": 191
        },
        "id": "lGaG3E-r0-td",
        "outputId": "ec139b56-88dd-4fd8-f3fd-47fe44e0bd1f"
      },
      "execution_count": 41,
      "outputs": [
        {
          "output_type": "display_data",
          "data": {
            "text/plain": [
              "\n",
              "Call:  glm(formula = Purchase ~ ., family = binomial, data = customer)\n",
              "\n",
              "Coefficients:\n",
              "(Intercept)          Age       Income  \n",
              "  -7.629959     0.223517     0.001918  \n",
              "\n",
              "Degrees of Freedom: 19 Total (i.e. Null);  17 Residual\n",
              "Null Deviance:\t    26.92 \n",
              "Residual Deviance: 20.68 \tAIC: 26.68"
            ]
          },
          "metadata": {}
        }
      ]
    },
    {
      "cell_type": "markdown",
      "source": [
        "Nearest **Neigbor**"
      ],
      "metadata": {
        "id": "W7diTU8r1dOQ"
      }
    },
    {
      "cell_type": "code",
      "source": [
        "install.packages('DMwR2')"
      ],
      "metadata": {
        "colab": {
          "base_uri": "https://localhost:8080/"
        },
        "id": "MUOtWtIv1gGl",
        "outputId": "7d6a930e-b86e-4db0-c4f4-c6a6cfc07478"
      },
      "execution_count": 42,
      "outputs": [
        {
          "output_type": "stream",
          "name": "stderr",
          "text": [
            "Installing package into ‘/usr/local/lib/R/site-library’\n",
            "(as ‘lib’ is unspecified)\n",
            "\n"
          ]
        }
      ]
    },
    {
      "cell_type": "code",
      "source": [
        "customer <- read_csv('https://raw.githubusercontent.com/ogut77/DataScience/refs/heads/main/PurchaseByCredit20_Continuous.csv')\n",
        "attach(customer)"
      ],
      "metadata": {
        "colab": {
          "base_uri": "https://localhost:8080/"
        },
        "id": "pIOzReXh1ucQ",
        "outputId": "d5f38780-5d2f-4385-b4d8-be8aa4a1ae36"
      },
      "execution_count": 44,
      "outputs": [
        {
          "output_type": "stream",
          "name": "stderr",
          "text": [
            "\u001b[1mRows: \u001b[22m\u001b[34m20\u001b[39m \u001b[1mColumns: \u001b[22m\u001b[34m3\u001b[39m\n",
            "\u001b[36m──\u001b[39m \u001b[1mColumn specification\u001b[22m \u001b[36m────────────────────────────────────────────────────────\u001b[39m\n",
            "\u001b[1mDelimiter:\u001b[22m \",\"\n",
            "\u001b[31mchr\u001b[39m (1): Purchase\n",
            "\u001b[32mdbl\u001b[39m (2): Age, Income\n",
            "\n",
            "\u001b[36mℹ\u001b[39m Use `spec()` to retrieve the full column specification for this data.\n",
            "\u001b[36mℹ\u001b[39m Specify the column types or set `show_col_types = FALSE` to quiet this message.\n",
            "The following objects are masked from customer (pos = 7):\n",
            "\n",
            "    Age, Income, Purchase\n",
            "\n",
            "\n",
            "The following objects are masked from customer (pos = 8):\n",
            "\n",
            "    Age, Income, Purchase\n",
            "\n",
            "\n",
            "The following objects are masked from customer (pos = 9):\n",
            "\n",
            "    Age, Income, Purchase\n",
            "\n",
            "\n",
            "The following objects are masked from customer (pos = 10):\n",
            "\n",
            "    Age, Income, Purchase\n",
            "\n",
            "\n"
          ]
        }
      ]
    },
    {
      "cell_type": "code",
      "source": [
        "Purchase"
      ],
      "metadata": {
        "colab": {
          "base_uri": "https://localhost:8080/",
          "height": 52
        },
        "id": "g3UYdf_R131S",
        "outputId": "669092d2-b69a-421b-b8cc-4378f1ecc699"
      },
      "execution_count": 45,
      "outputs": [
        {
          "output_type": "display_data",
          "data": {
            "text/html": [
              "<style>\n",
              ".list-inline {list-style: none; margin:0; padding: 0}\n",
              ".list-inline>li {display: inline-block}\n",
              ".list-inline>li:not(:last-child)::after {content: \"\\00b7\"; padding: 0 .5ex}\n",
              "</style>\n",
              "<ol class=list-inline><li>'Yes'</li><li>'No'</li><li>'No'</li><li>'Yes'</li><li>'No'</li><li>'No'</li><li>'Yes'</li><li>'No'</li><li>'No'</li><li>'Yes'</li><li>'Yes'</li><li>'No'</li><li>'No'</li><li>'Yes'</li><li>'Yes'</li><li>'No'</li><li>'No'</li><li>'No'</li><li>'Yes'</li><li>'No'</li></ol>\n"
            ],
            "text/markdown": "1. 'Yes'\n2. 'No'\n3. 'No'\n4. 'Yes'\n5. 'No'\n6. 'No'\n7. 'Yes'\n8. 'No'\n9. 'No'\n10. 'Yes'\n11. 'Yes'\n12. 'No'\n13. 'No'\n14. 'Yes'\n15. 'Yes'\n16. 'No'\n17. 'No'\n18. 'No'\n19. 'Yes'\n20. 'No'\n\n\n",
            "text/latex": "\\begin{enumerate*}\n\\item 'Yes'\n\\item 'No'\n\\item 'No'\n\\item 'Yes'\n\\item 'No'\n\\item 'No'\n\\item 'Yes'\n\\item 'No'\n\\item 'No'\n\\item 'Yes'\n\\item 'Yes'\n\\item 'No'\n\\item 'No'\n\\item 'Yes'\n\\item 'Yes'\n\\item 'No'\n\\item 'No'\n\\item 'No'\n\\item 'Yes'\n\\item 'No'\n\\end{enumerate*}\n",
            "text/plain": [
              " [1] \"Yes\" \"No\"  \"No\"  \"Yes\" \"No\"  \"No\"  \"Yes\" \"No\"  \"No\"  \"Yes\" \"Yes\" \"No\" \n",
              "[13] \"No\"  \"Yes\" \"Yes\" \"No\"  \"No\"  \"No\"  \"Yes\" \"No\" "
            ]
          },
          "metadata": {}
        }
      ]
    },
    {
      "cell_type": "code",
      "source": [
        "library(DMwR2)\n",
        " nn <- kNN(Purchase ~ ., customer, customer, k=5)"
      ],
      "metadata": {
        "colab": {
          "base_uri": "https://localhost:8080/",
          "height": 315
        },
        "id": "-cXAx7k91kX4",
        "outputId": "db938b5d-7485-4212-f402-b6d403cf3ca1"
      },
      "execution_count": 46,
      "outputs": [
        {
          "output_type": "error",
          "ename": "ERROR",
          "evalue": "Error in class::knn(train[, -tgtCol], test[, -tgtCol], train[, tgtCol], : 'train' and 'class' have different lengths\n",
          "traceback": [
            "Error in class::knn(train[, -tgtCol], test[, -tgtCol], train[, tgtCol], : 'train' and 'class' have different lengths\nTraceback:\n",
            "1. class::knn(train[, -tgtCol], test[, -tgtCol], train[, tgtCol], \n .     ...)",
            "2. stop(\"'train' and 'class' have different lengths\")",
            "3. .handleSimpleError(function (cnd) \n . {\n .     watcher$capture_plot_and_output()\n .     cnd <- sanitize_call(cnd)\n .     watcher$push(cnd)\n .     switch(on_error, continue = invokeRestart(\"eval_continue\"), \n .         stop = invokeRestart(\"eval_stop\"), error = NULL)\n . }, \"'train' and 'class' have different lengths\", base::quote(class::knn(train[, \n .     -tgtCol], test[, -tgtCol], train[, tgtCol], ...)))"
          ]
        }
      ]
    },
    {
      "cell_type": "code",
      "source": [
        "classtable <- table(Purchase, nn)\n",
        "sum(diag(classtable)) / sum(classtable)"
      ],
      "metadata": {
        "colab": {
          "base_uri": "https://localhost:8080/",
          "height": 228
        },
        "id": "fDKRdnf619Q6",
        "outputId": "dbe27e78-ad24-46ca-e2a9-aec4882180e6"
      },
      "execution_count": 47,
      "outputs": [
        {
          "output_type": "error",
          "ename": "ERROR",
          "evalue": "Error: object 'nn' not found\n",
          "traceback": [
            "Error: object 'nn' not found\nTraceback:\n",
            "1. .handleSimpleError(function (cnd) \n . {\n .     watcher$capture_plot_and_output()\n .     cnd <- sanitize_call(cnd)\n .     watcher$push(cnd)\n .     switch(on_error, continue = invokeRestart(\"eval_continue\"), \n .         stop = invokeRestart(\"eval_stop\"), error = NULL)\n . }, \"object 'nn' not found\", base::quote(eval(expr, envir)))"
          ]
        }
      ]
    },
    {
      "cell_type": "markdown",
      "source": [
        "**Neural Network**"
      ],
      "metadata": {
        "id": "a9WGR7wz2Nu9"
      }
    },
    {
      "cell_type": "code",
      "source": [
        " install.packages('nnet')\n",
        " library(nnet)\n",
        " singleNNdata <- read.csv('singleNN.csv', header=T, as.is=FALSE)\n",
        " attach(signleNNdata)"
      ],
      "metadata": {
        "id": "GVbbJH032Q_L"
      },
      "execution_count": null,
      "outputs": []
    },
    {
      "cell_type": "code",
      "source": [
        " singleNNdata"
      ],
      "metadata": {
        "id": "W8WGUCku3Azk"
      },
      "execution_count": null,
      "outputs": []
    },
    {
      "cell_type": "code",
      "source": [
        "# create a training data using the 8 data.\n",
        "train <- singleNNdata[1:8,]\n",
        "# create a testing data using the same 8 data\n",
        "test <- singleNNdata[1:8,]\n",
        "train.nnet <- nnet(y~x1+x2+x3,data=train, size=2, rang=0.1, decay=5e-4, maxit=100)\n",
        "summary(train.nnet)"
      ],
      "metadata": {
        "id": "Wk36dEzA3Epi"
      },
      "execution_count": null,
      "outputs": []
    },
    {
      "cell_type": "code",
      "source": [
        "predict(train.nnet,test)\n",
        "nnetpred <- (predict(train.nnet,test) >= 0.01)\n",
        "table(nnetpred,y)"
      ],
      "metadata": {
        "id": "XuwGRPch3RKD"
      },
      "execution_count": null,
      "outputs": []
    }
  ]
}