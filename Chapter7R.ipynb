{
  "nbformat": 4,
  "nbformat_minor": 0,
  "metadata": {
    "colab": {
      "provenance": [],
      "authorship_tag": "ABX9TyN6jR5598pIWHlYEmKBmzt7",
      "include_colab_link": true
    },
    "kernelspec": {
      "name": "ir",
      "display_name": "R"
    },
    "language_info": {
      "name": "R"
    }
  },
  "cells": [
    {
      "cell_type": "markdown",
      "metadata": {
        "id": "view-in-github",
        "colab_type": "text"
      },
      "source": [
        "<a href=\"https://colab.research.google.com/github/ogut77/DataScience/blob/main/Chapter7R.ipynb\" target=\"_parent\"><img src=\"https://colab.research.google.com/assets/colab-badge.svg\" alt=\"Open In Colab\"/></a>"
      ]
    },
    {
      "cell_type": "code",
      "execution_count": 31,
      "metadata": {
        "colab": {
          "base_uri": "https://localhost:8080/",
          "height": 864
        },
        "id": "im9ipz3Vej1F",
        "outputId": "86e4248b-89ea-4827-c7d2-855572ba7e61"
      },
      "outputs": [
        {
          "output_type": "stream",
          "name": "stderr",
          "text": [
            "\u001b[1mRows: \u001b[22m\u001b[34m20\u001b[39m \u001b[1mColumns: \u001b[22m\u001b[34m3\u001b[39m\n",
            "\u001b[36m──\u001b[39m \u001b[1mColumn specification\u001b[22m \u001b[36m────────────────────────────────────────────────────────\u001b[39m\n",
            "\u001b[1mDelimiter:\u001b[22m \",\"\n",
            "\u001b[31mchr\u001b[39m (1): Purchase\n",
            "\u001b[32mdbl\u001b[39m (2): Age, Income\n",
            "\n",
            "\u001b[36mℹ\u001b[39m Use `spec()` to retrieve the full column specification for this data.\n",
            "\u001b[36mℹ\u001b[39m Specify the column types or set `show_col_types = FALSE` to quiet this message.\n"
          ]
        },
        {
          "output_type": "display_data",
          "data": {
            "text/html": [
              "<table class=\"dataframe\">\n",
              "<caption>A spec_tbl_df: 20 × 3</caption>\n",
              "<thead>\n",
              "\t<tr><th scope=col>Age</th><th scope=col>Income</th><th scope=col>Purchase</th></tr>\n",
              "\t<tr><th scope=col>&lt;dbl&gt;</th><th scope=col>&lt;dbl&gt;</th><th scope=col>&lt;chr&gt;</th></tr>\n",
              "</thead>\n",
              "<tbody>\n",
              "\t<tr><td>25</td><td>150</td><td>Yes</td></tr>\n",
              "\t<tr><td>34</td><td>220</td><td>No </td></tr>\n",
              "\t<tr><td>27</td><td>210</td><td>No </td></tr>\n",
              "\t<tr><td>28</td><td>250</td><td>Yes</td></tr>\n",
              "\t<tr><td>21</td><td>100</td><td>No </td></tr>\n",
              "\t<tr><td>31</td><td>220</td><td>No </td></tr>\n",
              "\t<tr><td>36</td><td>300</td><td>Yes</td></tr>\n",
              "\t<tr><td>20</td><td>100</td><td>No </td></tr>\n",
              "\t<tr><td>29</td><td>220</td><td>No </td></tr>\n",
              "\t<tr><td>32</td><td>250</td><td>Yes</td></tr>\n",
              "\t<tr><td>37</td><td>400</td><td>Yes</td></tr>\n",
              "\t<tr><td>24</td><td>120</td><td>No </td></tr>\n",
              "\t<tr><td>33</td><td>350</td><td>No </td></tr>\n",
              "\t<tr><td>30</td><td>180</td><td>Yes</td></tr>\n",
              "\t<tr><td>38</td><td>350</td><td>Yes</td></tr>\n",
              "\t<tr><td>32</td><td>250</td><td>No </td></tr>\n",
              "\t<tr><td>28</td><td>240</td><td>No </td></tr>\n",
              "\t<tr><td>22</td><td>220</td><td>No </td></tr>\n",
              "\t<tr><td>39</td><td>450</td><td>Yes</td></tr>\n",
              "\t<tr><td>26</td><td>150</td><td>No </td></tr>\n",
              "</tbody>\n",
              "</table>\n"
            ],
            "text/markdown": "\nA spec_tbl_df: 20 × 3\n\n| Age &lt;dbl&gt; | Income &lt;dbl&gt; | Purchase &lt;chr&gt; |\n|---|---|---|\n| 25 | 150 | Yes |\n| 34 | 220 | No  |\n| 27 | 210 | No  |\n| 28 | 250 | Yes |\n| 21 | 100 | No  |\n| 31 | 220 | No  |\n| 36 | 300 | Yes |\n| 20 | 100 | No  |\n| 29 | 220 | No  |\n| 32 | 250 | Yes |\n| 37 | 400 | Yes |\n| 24 | 120 | No  |\n| 33 | 350 | No  |\n| 30 | 180 | Yes |\n| 38 | 350 | Yes |\n| 32 | 250 | No  |\n| 28 | 240 | No  |\n| 22 | 220 | No  |\n| 39 | 450 | Yes |\n| 26 | 150 | No  |\n\n",
            "text/latex": "A spec\\_tbl\\_df: 20 × 3\n\\begin{tabular}{lll}\n Age & Income & Purchase\\\\\n <dbl> & <dbl> & <chr>\\\\\n\\hline\n\t 25 & 150 & Yes\\\\\n\t 34 & 220 & No \\\\\n\t 27 & 210 & No \\\\\n\t 28 & 250 & Yes\\\\\n\t 21 & 100 & No \\\\\n\t 31 & 220 & No \\\\\n\t 36 & 300 & Yes\\\\\n\t 20 & 100 & No \\\\\n\t 29 & 220 & No \\\\\n\t 32 & 250 & Yes\\\\\n\t 37 & 400 & Yes\\\\\n\t 24 & 120 & No \\\\\n\t 33 & 350 & No \\\\\n\t 30 & 180 & Yes\\\\\n\t 38 & 350 & Yes\\\\\n\t 32 & 250 & No \\\\\n\t 28 & 240 & No \\\\\n\t 22 & 220 & No \\\\\n\t 39 & 450 & Yes\\\\\n\t 26 & 150 & No \\\\\n\\end{tabular}\n",
            "text/plain": [
              "   Age Income Purchase\n",
              "1  25  150    Yes     \n",
              "2  34  220    No      \n",
              "3  27  210    No      \n",
              "4  28  250    Yes     \n",
              "5  21  100    No      \n",
              "6  31  220    No      \n",
              "7  36  300    Yes     \n",
              "8  20  100    No      \n",
              "9  29  220    No      \n",
              "10 32  250    Yes     \n",
              "11 37  400    Yes     \n",
              "12 24  120    No      \n",
              "13 33  350    No      \n",
              "14 30  180    Yes     \n",
              "15 38  350    Yes     \n",
              "16 32  250    No      \n",
              "17 28  240    No      \n",
              "18 22  220    No      \n",
              "19 39  450    Yes     \n",
              "20 26  150    No      "
            ]
          },
          "metadata": {}
        }
      ],
      "source": [
        "\n",
        "customer <- read_csv('https://raw.githubusercontent.com/ogut77/DataScience/refs/heads/main/PurchaseByCredit20_Continuous.csv')\n",
        "customer\n"
      ]
    },
    {
      "cell_type": "code",
      "source": [
        "\n"
      ],
      "metadata": {
        "id": "HSSReVnkfD3P"
      },
      "execution_count": 21,
      "outputs": []
    },
    {
      "cell_type": "code",
      "source": [
        "install.packages('MASS')\n",
        "library(MASS)"
      ],
      "metadata": {
        "colab": {
          "base_uri": "https://localhost:8080/"
        },
        "id": "U1NYHubo0faG",
        "outputId": "1fe9feee-88f0-4a7e-e9ee-90060e937eb7"
      },
      "execution_count": 33,
      "outputs": [
        {
          "output_type": "stream",
          "name": "stderr",
          "text": [
            "Installing package into ‘/usr/local/lib/R/site-library’\n",
            "(as ‘lib’ is unspecified)\n",
            "\n",
            "\n",
            "Attaching package: ‘MASS’\n",
            "\n",
            "\n",
            "The following object is masked from ‘package:dplyr’:\n",
            "\n",
            "    select\n",
            "\n",
            "\n"
          ]
        }
      ]
    },
    {
      "cell_type": "code",
      "source": [
        " ldamodel <- lda(Purchase ~ ., customer)\n",
        " ldamodel"
      ],
      "metadata": {
        "id": "CsW-sHLg0bSI"
      },
      "execution_count": 34,
      "outputs": []
    },
    {
      "cell_type": "code",
      "source": [
        "\n",
        " pred <- predict(ldamodel, customer)"
      ],
      "metadata": {
        "colab": {
          "base_uri": "https://localhost:8080/",
          "height": 295
        },
        "id": "s4RnhmIs0nsw",
        "outputId": "93db4c73-666f-4802-c0ab-910b4bf4987d"
      },
      "execution_count": 36,
      "outputs": [
        {
          "output_type": "display_data",
          "data": {
            "text/plain": [
              "Call:\n",
              "lda(Purchase ~ ., data = customer)\n",
              "\n",
              "Prior probabilities of groups:\n",
              " No Yes \n",
              "0.6 0.4 \n",
              "\n",
              "Group means:\n",
              "       Age Income\n",
              "No  27.250 200.00\n",
              "Yes 33.125 291.25\n",
              "\n",
              "Coefficients of linear discriminants:\n",
              "               LD1\n",
              "Age    0.173328870\n",
              "Income 0.001994526"
            ]
          },
          "metadata": {}
        }
      ]
    },
    {
      "cell_type": "code",
      "source": [
        "pred$class"
      ],
      "metadata": {
        "colab": {
          "base_uri": "https://localhost:8080/",
          "height": 52
        },
        "id": "pt1ubeWa0ukF",
        "outputId": "d1dd7170-86a2-42d8-aef9-17e8d80d46eb"
      },
      "execution_count": 37,
      "outputs": [
        {
          "output_type": "display_data",
          "data": {
            "text/html": [
              "<style>\n",
              ".list-inline {list-style: none; margin:0; padding: 0}\n",
              ".list-inline>li {display: inline-block}\n",
              ".list-inline>li:not(:last-child)::after {content: \"\\00b7\"; padding: 0 .5ex}\n",
              "</style>\n",
              "<ol class=list-inline><li>No</li><li>Yes</li><li>No</li><li>No</li><li>No</li><li>No</li><li>Yes</li><li>No</li><li>No</li><li>No</li><li>Yes</li><li>No</li><li>Yes</li><li>No</li><li>Yes</li><li>No</li><li>No</li><li>No</li><li>Yes</li><li>No</li></ol>\n",
              "\n",
              "<details>\n",
              "\t<summary style=display:list-item;cursor:pointer>\n",
              "\t\t<strong>Levels</strong>:\n",
              "\t</summary>\n",
              "\t<style>\n",
              "\t.list-inline {list-style: none; margin:0; padding: 0}\n",
              "\t.list-inline>li {display: inline-block}\n",
              "\t.list-inline>li:not(:last-child)::after {content: \"\\00b7\"; padding: 0 .5ex}\n",
              "\t</style>\n",
              "\t<ol class=list-inline><li>'No'</li><li>'Yes'</li></ol>\n",
              "</details>"
            ],
            "text/markdown": "1. No\n2. Yes\n3. No\n4. No\n5. No\n6. No\n7. Yes\n8. No\n9. No\n10. No\n11. Yes\n12. No\n13. Yes\n14. No\n15. Yes\n16. No\n17. No\n18. No\n19. Yes\n20. No\n\n\n\n**Levels**: 1. 'No'\n2. 'Yes'\n\n\n",
            "text/latex": "\\begin{enumerate*}\n\\item No\n\\item Yes\n\\item No\n\\item No\n\\item No\n\\item No\n\\item Yes\n\\item No\n\\item No\n\\item No\n\\item Yes\n\\item No\n\\item Yes\n\\item No\n\\item Yes\n\\item No\n\\item No\n\\item No\n\\item Yes\n\\item No\n\\end{enumerate*}\n\n\\emph{Levels}: \\begin{enumerate*}\n\\item 'No'\n\\item 'Yes'\n\\end{enumerate*}\n",
            "text/plain": [
              " [1] No  Yes No  No  No  No  Yes No  No  No  Yes No  Yes No  Yes No  No  No  Yes\n",
              "[20] No \n",
              "Levels: No Yes"
            ]
          },
          "metadata": {}
        }
      ]
    },
    {
      "cell_type": "code",
      "source": [
        "classtable <- table(Purchase,pred$class)\n",
        "classtable"
      ],
      "metadata": {
        "colab": {
          "base_uri": "https://localhost:8080/",
          "height": 86
        },
        "id": "qZEEHdRr0xm4",
        "outputId": "92c01df8-e7e8-4231-c0d4-5dabfcb1b0f4"
      },
      "execution_count": 39,
      "outputs": [
        {
          "output_type": "display_data",
          "data": {
            "text/plain": [
              "        \n",
              "Purchase No Yes\n",
              "     No  10   2\n",
              "     Yes  4   4"
            ]
          },
          "metadata": {}
        }
      ]
    },
    {
      "cell_type": "code",
      "source": [
        " sum(diag(classtable)) / sum(classtable)"
      ],
      "metadata": {
        "colab": {
          "base_uri": "https://localhost:8080/",
          "height": 34
        },
        "id": "SkiJvB7V03gG",
        "outputId": "8605016d-df5b-4b24-c5c6-a0c9fa012dd9"
      },
      "execution_count": 40,
      "outputs": [
        {
          "output_type": "display_data",
          "data": {
            "text/html": [
              "0.7"
            ],
            "text/markdown": "0.7",
            "text/latex": "0.7",
            "text/plain": [
              "[1] 0.7"
            ]
          },
          "metadata": {}
        }
      ]
    },
    {
      "cell_type": "code",
      "source": [
        "# prompt: write logistic regression in r\n",
        "\n",
        "customer$Purchase <- ifelse(customer$Purchase == \"Yes\", 1, 0)\n",
        "\n",
        "\n",
        "# Train a logistic regression model\n",
        "logitmodel <- glm(Purchase ~ ., data = customer, family = binomial)\n",
        "logitmodel"
      ],
      "metadata": {
        "colab": {
          "base_uri": "https://localhost:8080/",
          "height": 191
        },
        "id": "lGaG3E-r0-td",
        "outputId": "ec139b56-88dd-4fd8-f3fd-47fe44e0bd1f"
      },
      "execution_count": 41,
      "outputs": [
        {
          "output_type": "display_data",
          "data": {
            "text/plain": [
              "\n",
              "Call:  glm(formula = Purchase ~ ., family = binomial, data = customer)\n",
              "\n",
              "Coefficients:\n",
              "(Intercept)          Age       Income  \n",
              "  -7.629959     0.223517     0.001918  \n",
              "\n",
              "Degrees of Freedom: 19 Total (i.e. Null);  17 Residual\n",
              "Null Deviance:\t    26.92 \n",
              "Residual Deviance: 20.68 \tAIC: 26.68"
            ]
          },
          "metadata": {}
        }
      ]
    },
    {
      "cell_type": "markdown",
      "source": [
        "Nearest **Neigbor**"
      ],
      "metadata": {
        "id": "W7diTU8r1dOQ"
      }
    },
    {
      "cell_type": "code",
      "source": [
        "install.packages('DMwR')"
      ],
      "metadata": {
        "colab": {
          "base_uri": "https://localhost:8080/"
        },
        "id": "MUOtWtIv1gGl",
        "outputId": "f5b65636-f89c-4456-e6c3-0955b1ae32ab"
      },
      "execution_count": 32,
      "outputs": [
        {
          "output_type": "stream",
          "name": "stderr",
          "text": [
            "Installing package into ‘/usr/local/lib/R/site-library’\n",
            "(as ‘lib’ is unspecified)\n",
            "\n",
            "Warning message:\n",
            "“package ‘DMwR’ is not available for this version of R\n",
            "\n",
            "A version of this package for your version of R might be available elsewhere,\n",
            "see the ideas at\n",
            "https://cran.r-project.org/doc/manuals/r-patched/R-admin.html#Installing-packages”\n"
          ]
        }
      ]
    },
    {
      "cell_type": "code",
      "source": [
        "library(readr)\n",
        "customer <- read_csv('https://raw.githubusercontent.com/ogut77/DataScience/refs/heads/main/PurchaseByCredit20_Continuous.csv')\n",
        "customer"
      ],
      "metadata": {
        "colab": {
          "base_uri": "https://localhost:8080/",
          "height": 864
        },
        "id": "pIOzReXh1ucQ",
        "outputId": "c9774a37-4706-4395-8742-1b1c5439d436"
      },
      "execution_count": 33,
      "outputs": [
        {
          "output_type": "stream",
          "name": "stderr",
          "text": [
            "\u001b[1mRows: \u001b[22m\u001b[34m20\u001b[39m \u001b[1mColumns: \u001b[22m\u001b[34m3\u001b[39m\n",
            "\u001b[36m──\u001b[39m \u001b[1mColumn specification\u001b[22m \u001b[36m────────────────────────────────────────────────────────\u001b[39m\n",
            "\u001b[1mDelimiter:\u001b[22m \",\"\n",
            "\u001b[31mchr\u001b[39m (1): Purchase\n",
            "\u001b[32mdbl\u001b[39m (2): Age, Income\n",
            "\n",
            "\u001b[36mℹ\u001b[39m Use `spec()` to retrieve the full column specification for this data.\n",
            "\u001b[36mℹ\u001b[39m Specify the column types or set `show_col_types = FALSE` to quiet this message.\n"
          ]
        },
        {
          "output_type": "display_data",
          "data": {
            "text/html": [
              "<table class=\"dataframe\">\n",
              "<caption>A spec_tbl_df: 20 × 3</caption>\n",
              "<thead>\n",
              "\t<tr><th scope=col>Age</th><th scope=col>Income</th><th scope=col>Purchase</th></tr>\n",
              "\t<tr><th scope=col>&lt;dbl&gt;</th><th scope=col>&lt;dbl&gt;</th><th scope=col>&lt;chr&gt;</th></tr>\n",
              "</thead>\n",
              "<tbody>\n",
              "\t<tr><td>25</td><td>150</td><td>Yes</td></tr>\n",
              "\t<tr><td>34</td><td>220</td><td>No </td></tr>\n",
              "\t<tr><td>27</td><td>210</td><td>No </td></tr>\n",
              "\t<tr><td>28</td><td>250</td><td>Yes</td></tr>\n",
              "\t<tr><td>21</td><td>100</td><td>No </td></tr>\n",
              "\t<tr><td>31</td><td>220</td><td>No </td></tr>\n",
              "\t<tr><td>36</td><td>300</td><td>Yes</td></tr>\n",
              "\t<tr><td>20</td><td>100</td><td>No </td></tr>\n",
              "\t<tr><td>29</td><td>220</td><td>No </td></tr>\n",
              "\t<tr><td>32</td><td>250</td><td>Yes</td></tr>\n",
              "\t<tr><td>37</td><td>400</td><td>Yes</td></tr>\n",
              "\t<tr><td>24</td><td>120</td><td>No </td></tr>\n",
              "\t<tr><td>33</td><td>350</td><td>No </td></tr>\n",
              "\t<tr><td>30</td><td>180</td><td>Yes</td></tr>\n",
              "\t<tr><td>38</td><td>350</td><td>Yes</td></tr>\n",
              "\t<tr><td>32</td><td>250</td><td>No </td></tr>\n",
              "\t<tr><td>28</td><td>240</td><td>No </td></tr>\n",
              "\t<tr><td>22</td><td>220</td><td>No </td></tr>\n",
              "\t<tr><td>39</td><td>450</td><td>Yes</td></tr>\n",
              "\t<tr><td>26</td><td>150</td><td>No </td></tr>\n",
              "</tbody>\n",
              "</table>\n"
            ],
            "text/markdown": "\nA spec_tbl_df: 20 × 3\n\n| Age &lt;dbl&gt; | Income &lt;dbl&gt; | Purchase &lt;chr&gt; |\n|---|---|---|\n| 25 | 150 | Yes |\n| 34 | 220 | No  |\n| 27 | 210 | No  |\n| 28 | 250 | Yes |\n| 21 | 100 | No  |\n| 31 | 220 | No  |\n| 36 | 300 | Yes |\n| 20 | 100 | No  |\n| 29 | 220 | No  |\n| 32 | 250 | Yes |\n| 37 | 400 | Yes |\n| 24 | 120 | No  |\n| 33 | 350 | No  |\n| 30 | 180 | Yes |\n| 38 | 350 | Yes |\n| 32 | 250 | No  |\n| 28 | 240 | No  |\n| 22 | 220 | No  |\n| 39 | 450 | Yes |\n| 26 | 150 | No  |\n\n",
            "text/latex": "A spec\\_tbl\\_df: 20 × 3\n\\begin{tabular}{lll}\n Age & Income & Purchase\\\\\n <dbl> & <dbl> & <chr>\\\\\n\\hline\n\t 25 & 150 & Yes\\\\\n\t 34 & 220 & No \\\\\n\t 27 & 210 & No \\\\\n\t 28 & 250 & Yes\\\\\n\t 21 & 100 & No \\\\\n\t 31 & 220 & No \\\\\n\t 36 & 300 & Yes\\\\\n\t 20 & 100 & No \\\\\n\t 29 & 220 & No \\\\\n\t 32 & 250 & Yes\\\\\n\t 37 & 400 & Yes\\\\\n\t 24 & 120 & No \\\\\n\t 33 & 350 & No \\\\\n\t 30 & 180 & Yes\\\\\n\t 38 & 350 & Yes\\\\\n\t 32 & 250 & No \\\\\n\t 28 & 240 & No \\\\\n\t 22 & 220 & No \\\\\n\t 39 & 450 & Yes\\\\\n\t 26 & 150 & No \\\\\n\\end{tabular}\n",
            "text/plain": [
              "   Age Income Purchase\n",
              "1  25  150    Yes     \n",
              "2  34  220    No      \n",
              "3  27  210    No      \n",
              "4  28  250    Yes     \n",
              "5  21  100    No      \n",
              "6  31  220    No      \n",
              "7  36  300    Yes     \n",
              "8  20  100    No      \n",
              "9  29  220    No      \n",
              "10 32  250    Yes     \n",
              "11 37  400    Yes     \n",
              "12 24  120    No      \n",
              "13 33  350    No      \n",
              "14 30  180    Yes     \n",
              "15 38  350    Yes     \n",
              "16 32  250    No      \n",
              "17 28  240    No      \n",
              "18 22  220    No      \n",
              "19 39  450    Yes     \n",
              "20 26  150    No      "
            ]
          },
          "metadata": {}
        }
      ]
    },
    {
      "cell_type": "code",
      "source": [
        "attach(customer)"
      ],
      "metadata": {
        "colab": {
          "base_uri": "https://localhost:8080/"
        },
        "id": "oEllRVYHMjy5",
        "outputId": "7bebf5ba-05af-4946-8443-68bcce116be9"
      },
      "execution_count": 34,
      "outputs": [
        {
          "output_type": "stream",
          "name": "stderr",
          "text": [
            "The following objects are masked from customer (pos = 4):\n",
            "\n",
            "    Age, Income, Purchase\n",
            "\n",
            "\n"
          ]
        }
      ]
    },
    {
      "cell_type": "code",
      "source": [
        "Purchase"
      ],
      "metadata": {
        "colab": {
          "base_uri": "https://localhost:8080/",
          "height": 52
        },
        "id": "g3UYdf_R131S",
        "outputId": "8fe14d27-887e-4323-f35f-af3bc1499e90"
      },
      "execution_count": 35,
      "outputs": [
        {
          "output_type": "display_data",
          "data": {
            "text/html": [
              "<style>\n",
              ".list-inline {list-style: none; margin:0; padding: 0}\n",
              ".list-inline>li {display: inline-block}\n",
              ".list-inline>li:not(:last-child)::after {content: \"\\00b7\"; padding: 0 .5ex}\n",
              "</style>\n",
              "<ol class=list-inline><li>'Yes'</li><li>'No'</li><li>'No'</li><li>'Yes'</li><li>'No'</li><li>'No'</li><li>'Yes'</li><li>'No'</li><li>'No'</li><li>'Yes'</li><li>'Yes'</li><li>'No'</li><li>'No'</li><li>'Yes'</li><li>'Yes'</li><li>'No'</li><li>'No'</li><li>'No'</li><li>'Yes'</li><li>'No'</li></ol>\n"
            ],
            "text/markdown": "1. 'Yes'\n2. 'No'\n3. 'No'\n4. 'Yes'\n5. 'No'\n6. 'No'\n7. 'Yes'\n8. 'No'\n9. 'No'\n10. 'Yes'\n11. 'Yes'\n12. 'No'\n13. 'No'\n14. 'Yes'\n15. 'Yes'\n16. 'No'\n17. 'No'\n18. 'No'\n19. 'Yes'\n20. 'No'\n\n\n",
            "text/latex": "\\begin{enumerate*}\n\\item 'Yes'\n\\item 'No'\n\\item 'No'\n\\item 'Yes'\n\\item 'No'\n\\item 'No'\n\\item 'Yes'\n\\item 'No'\n\\item 'No'\n\\item 'Yes'\n\\item 'Yes'\n\\item 'No'\n\\item 'No'\n\\item 'Yes'\n\\item 'Yes'\n\\item 'No'\n\\item 'No'\n\\item 'No'\n\\item 'Yes'\n\\item 'No'\n\\end{enumerate*}\n",
            "text/plain": [
              " [1] \"Yes\" \"No\"  \"No\"  \"Yes\" \"No\"  \"No\"  \"Yes\" \"No\"  \"No\"  \"Yes\" \"Yes\" \"No\" \n",
              "[13] \"No\"  \"Yes\" \"Yes\" \"No\"  \"No\"  \"No\"  \"Yes\" \"No\" "
            ]
          },
          "metadata": {}
        }
      ]
    },
    {
      "cell_type": "code",
      "source": [
        "library(DMwR2)\n",
        " nn <- kNN(Purchase ~ ., customer, customer, k=5)"
      ],
      "metadata": {
        "colab": {
          "base_uri": "https://localhost:8080/",
          "height": 315
        },
        "id": "-cXAx7k91kX4",
        "outputId": "6241a27b-a34b-4700-bc59-84a6d77e9bb2"
      },
      "execution_count": 36,
      "outputs": [
        {
          "output_type": "error",
          "ename": "ERROR",
          "evalue": "Error in class::knn(train[, -tgtCol], test[, -tgtCol], train[, tgtCol], : 'train' and 'class' have different lengths\n",
          "traceback": [
            "Error in class::knn(train[, -tgtCol], test[, -tgtCol], train[, tgtCol], : 'train' and 'class' have different lengths\nTraceback:\n",
            "1. class::knn(train[, -tgtCol], test[, -tgtCol], train[, tgtCol], \n .     ...)",
            "2. stop(\"'train' and 'class' have different lengths\")",
            "3. .handleSimpleError(function (cnd) \n . {\n .     watcher$capture_plot_and_output()\n .     cnd <- sanitize_call(cnd)\n .     watcher$push(cnd)\n .     switch(on_error, continue = invokeRestart(\"eval_continue\"), \n .         stop = invokeRestart(\"eval_stop\"), error = NULL)\n . }, \"'train' and 'class' have different lengths\", base::quote(class::knn(train[, \n .     -tgtCol], test[, -tgtCol], train[, tgtCol], ...)))"
          ]
        }
      ]
    },
    {
      "cell_type": "code",
      "source": [
        "classtable <- table(Purchase, nn)\n",
        "sum(diag(classtable)) / sum(classtable)"
      ],
      "metadata": {
        "colab": {
          "base_uri": "https://localhost:8080/",
          "height": 228
        },
        "id": "fDKRdnf619Q6",
        "outputId": "dbe27e78-ad24-46ca-e2a9-aec4882180e6"
      },
      "execution_count": 47,
      "outputs": [
        {
          "output_type": "error",
          "ename": "ERROR",
          "evalue": "Error: object 'nn' not found\n",
          "traceback": [
            "Error: object 'nn' not found\nTraceback:\n",
            "1. .handleSimpleError(function (cnd) \n . {\n .     watcher$capture_plot_and_output()\n .     cnd <- sanitize_call(cnd)\n .     watcher$push(cnd)\n .     switch(on_error, continue = invokeRestart(\"eval_continue\"), \n .         stop = invokeRestart(\"eval_stop\"), error = NULL)\n . }, \"object 'nn' not found\", base::quote(eval(expr, envir)))"
          ]
        }
      ]
    },
    {
      "cell_type": "markdown",
      "source": [
        "**Neural Network**"
      ],
      "metadata": {
        "id": "a9WGR7wz2Nu9"
      }
    },
    {
      "cell_type": "code",
      "source": [
        " install.packages('nnet')\n",
        " library(nnet)\n",
        " singleNNdata <- read.csv('https://raw.githubusercontent.com/ogut77/DataScience/refs/heads/main/singleNN.csv')\n"
      ],
      "metadata": {
        "colab": {
          "base_uri": "https://localhost:8080/"
        },
        "id": "GVbbJH032Q_L",
        "outputId": "818f0ea5-146e-4f82-929b-d5e4b4061f8d"
      },
      "execution_count": 11,
      "outputs": [
        {
          "output_type": "stream",
          "name": "stderr",
          "text": [
            "Installing package into ‘/usr/local/lib/R/site-library’\n",
            "(as ‘lib’ is unspecified)\n",
            "\n"
          ]
        }
      ]
    },
    {
      "cell_type": "code",
      "source": [
        "attach(singleNNdata)"
      ],
      "metadata": {
        "id": "td7kHHyQK6FS"
      },
      "execution_count": 16,
      "outputs": []
    },
    {
      "cell_type": "code",
      "source": [
        " singleNNdata"
      ],
      "metadata": {
        "colab": {
          "base_uri": "https://localhost:8080/",
          "height": 349
        },
        "id": "W8WGUCku3Azk",
        "outputId": "ffb9778c-341f-4c43-cff5-fd5039b04acc"
      },
      "execution_count": 17,
      "outputs": [
        {
          "output_type": "display_data",
          "data": {
            "text/html": [
              "<table class=\"dataframe\">\n",
              "<caption>A data.frame: 8 × 4</caption>\n",
              "<thead>\n",
              "\t<tr><th scope=col>x1</th><th scope=col>x2</th><th scope=col>x3</th><th scope=col>y</th></tr>\n",
              "\t<tr><th scope=col>&lt;int&gt;</th><th scope=col>&lt;int&gt;</th><th scope=col>&lt;int&gt;</th><th scope=col>&lt;int&gt;</th></tr>\n",
              "</thead>\n",
              "<tbody>\n",
              "\t<tr><td>0</td><td>0</td><td>0</td><td>-1</td></tr>\n",
              "\t<tr><td>0</td><td>0</td><td>1</td><td>-1</td></tr>\n",
              "\t<tr><td>0</td><td>1</td><td>0</td><td>-1</td></tr>\n",
              "\t<tr><td>0</td><td>1</td><td>1</td><td> 1</td></tr>\n",
              "\t<tr><td>1</td><td>0</td><td>0</td><td>-1</td></tr>\n",
              "\t<tr><td>1</td><td>0</td><td>1</td><td> 1</td></tr>\n",
              "\t<tr><td>1</td><td>1</td><td>0</td><td> 1</td></tr>\n",
              "\t<tr><td>1</td><td>1</td><td>1</td><td> 1</td></tr>\n",
              "</tbody>\n",
              "</table>\n"
            ],
            "text/markdown": "\nA data.frame: 8 × 4\n\n| x1 &lt;int&gt; | x2 &lt;int&gt; | x3 &lt;int&gt; | y &lt;int&gt; |\n|---|---|---|---|\n| 0 | 0 | 0 | -1 |\n| 0 | 0 | 1 | -1 |\n| 0 | 1 | 0 | -1 |\n| 0 | 1 | 1 |  1 |\n| 1 | 0 | 0 | -1 |\n| 1 | 0 | 1 |  1 |\n| 1 | 1 | 0 |  1 |\n| 1 | 1 | 1 |  1 |\n\n",
            "text/latex": "A data.frame: 8 × 4\n\\begin{tabular}{llll}\n x1 & x2 & x3 & y\\\\\n <int> & <int> & <int> & <int>\\\\\n\\hline\n\t 0 & 0 & 0 & -1\\\\\n\t 0 & 0 & 1 & -1\\\\\n\t 0 & 1 & 0 & -1\\\\\n\t 0 & 1 & 1 &  1\\\\\n\t 1 & 0 & 0 & -1\\\\\n\t 1 & 0 & 1 &  1\\\\\n\t 1 & 1 & 0 &  1\\\\\n\t 1 & 1 & 1 &  1\\\\\n\\end{tabular}\n",
            "text/plain": [
              "  x1 x2 x3 y \n",
              "1 0  0  0  -1\n",
              "2 0  0  1  -1\n",
              "3 0  1  0  -1\n",
              "4 0  1  1   1\n",
              "5 1  0  0  -1\n",
              "6 1  0  1   1\n",
              "7 1  1  0   1\n",
              "8 1  1  1   1"
            ]
          },
          "metadata": {}
        }
      ]
    },
    {
      "cell_type": "code",
      "source": [
        "# create a training data using the 8 data.\n",
        "train <- singleNNdata[1:8,]\n",
        "# create a testing data using the same 8 data\n",
        "test <- singleNNdata[1:8,]\n",
        "train.nnet <- nnet(y~x1+x2+x3,data=train, size=2, rang=0.1, decay=5e-4, maxit=100)\n",
        "summary(train.nnet)"
      ],
      "metadata": {
        "colab": {
          "base_uri": "https://localhost:8080/",
          "height": 399
        },
        "id": "Wk36dEzA3Epi",
        "outputId": "9faa8faa-7694-42c3-dbe1-8f32deb0290b"
      },
      "execution_count": 18,
      "outputs": [
        {
          "output_type": "stream",
          "name": "stdout",
          "text": [
            "# weights:  11\n",
            "initial  value 9.945813 \n",
            "iter  10 value 7.902015\n",
            "iter  20 value 6.775085\n",
            "iter  30 value 4.152398\n",
            "iter  40 value 4.130085\n",
            "iter  50 value 4.129914\n",
            "iter  60 value 4.129832\n",
            "iter  70 value 4.129705\n",
            "iter  80 value 4.129659\n",
            "iter  90 value 4.129641\n",
            "iter 100 value 4.129632\n",
            "final  value 4.129632 \n",
            "stopped after 100 iterations\n"
          ]
        },
        {
          "output_type": "display_data",
          "data": {
            "text/plain": [
              "a 3-2-1 network with 11 weights\n",
              "options were - decay=5e-04\n",
              " b->h1 i1->h1 i2->h1 i3->h1 \n",
              "  4.22  -3.11  -3.11  -3.11 \n",
              " b->h2 i1->h2 i2->h2 i3->h2 \n",
              "  3.99  -2.97  -2.96  -2.97 \n",
              " b->o h1->o h2->o \n",
              " 4.61 -7.50 -7.02 "
            ]
          },
          "metadata": {}
        }
      ]
    },
    {
      "cell_type": "code",
      "source": [
        "predict(train.nnet,test)\n",
        "nnetpred <- (predict(train.nnet,test) >= 0.01)\n"
      ],
      "metadata": {
        "colab": {
          "base_uri": "https://localhost:8080/",
          "height": 303
        },
        "id": "XuwGRPch3RKD",
        "outputId": "d7c5a255-65f9-4056-974e-f935593065a7"
      },
      "execution_count": 20,
      "outputs": [
        {
          "output_type": "display_data",
          "data": {
            "text/html": [
              "<table class=\"dataframe\">\n",
              "<caption>A matrix: 8 × 1 of type dbl</caption>\n",
              "<tbody>\n",
              "\t<tr><th scope=row>1</th><td>6.327925e-05</td></tr>\n",
              "\t<tr><th scope=row>2</th><td>2.057801e-03</td></tr>\n",
              "\t<tr><th scope=row>3</th><td>2.038969e-03</td></tr>\n",
              "\t<tr><th scope=row>4</th><td>9.446234e-01</td></tr>\n",
              "\t<tr><th scope=row>5</th><td>2.074247e-03</td></tr>\n",
              "\t<tr><th scope=row>6</th><td>9.451265e-01</td></tr>\n",
              "\t<tr><th scope=row>7</th><td>9.448574e-01</td></tr>\n",
              "\t<tr><th scope=row>8</th><td>9.891801e-01</td></tr>\n",
              "</tbody>\n",
              "</table>\n"
            ],
            "text/markdown": "\nA matrix: 8 × 1 of type dbl\n\n| 1 | 6.327925e-05 |\n| 2 | 2.057801e-03 |\n| 3 | 2.038969e-03 |\n| 4 | 9.446234e-01 |\n| 5 | 2.074247e-03 |\n| 6 | 9.451265e-01 |\n| 7 | 9.448574e-01 |\n| 8 | 9.891801e-01 |\n\n",
            "text/latex": "A matrix: 8 × 1 of type dbl\n\\begin{tabular}{r|l}\n\t1 & 6.327925e-05\\\\\n\t2 & 2.057801e-03\\\\\n\t3 & 2.038969e-03\\\\\n\t4 & 9.446234e-01\\\\\n\t5 & 2.074247e-03\\\\\n\t6 & 9.451265e-01\\\\\n\t7 & 9.448574e-01\\\\\n\t8 & 9.891801e-01\\\\\n\\end{tabular}\n",
            "text/plain": [
              "  [,1]        \n",
              "1 6.327925e-05\n",
              "2 2.057801e-03\n",
              "3 2.038969e-03\n",
              "4 9.446234e-01\n",
              "5 2.074247e-03\n",
              "6 9.451265e-01\n",
              "7 9.448574e-01\n",
              "8 9.891801e-01"
            ]
          },
          "metadata": {}
        }
      ]
    },
    {
      "cell_type": "code",
      "source": [
        "table(nnetpred,y)"
      ],
      "metadata": {
        "colab": {
          "base_uri": "https://localhost:8080/",
          "height": 86
        },
        "id": "Cs3Bd51LLJrC",
        "outputId": "e5ed6c71-aeaf-4eb1-80f8-a1eba3ec171a"
      },
      "execution_count": 21,
      "outputs": [
        {
          "output_type": "display_data",
          "data": {
            "text/plain": [
              "        y\n",
              "nnetpred -1 1\n",
              "   FALSE  4 0\n",
              "   TRUE   0 4"
            ]
          },
          "metadata": {}
        }
      ]
    },
    {
      "cell_type": "markdown",
      "source": [
        "# **Support Vector Machine**"
      ],
      "metadata": {
        "id": "C77qEfX63vYL"
      }
    },
    {
      "cell_type": "code",
      "source": [
        "install.packages('e1071')\n",
        "library(e1071)\n",
        "svmdata <- read.csv('https://raw.githubusercontent.com/ogut77/DataScience/refs/heads/main/svmdata.csv', header=T, as.is=FALSE)\n",
        "attach(svmdata)\n",
        "svmdata"
      ],
      "metadata": {
        "colab": {
          "base_uri": "https://localhost:8080/",
          "height": 574
        },
        "id": "unXSaH3r35D4",
        "outputId": "5dcea40d-fdcb-4bdd-801d-4e8c4f8d271c"
      },
      "execution_count": 40,
      "outputs": [
        {
          "output_type": "stream",
          "name": "stderr",
          "text": [
            "Installing package into ‘/usr/local/lib/R/site-library’\n",
            "(as ‘lib’ is unspecified)\n",
            "\n",
            "The following objects are masked from svmdata (pos = 7):\n",
            "\n",
            "    x1, x2, y\n",
            "\n",
            "\n",
            "The following objects are masked from singleNNdata:\n",
            "\n",
            "    x1, x2, y\n",
            "\n",
            "\n"
          ]
        },
        {
          "output_type": "display_data",
          "data": {
            "text/html": [
              "<table class=\"dataframe\">\n",
              "<caption>A data.frame: 8 × 3</caption>\n",
              "<thead>\n",
              "\t<tr><th scope=col>x1</th><th scope=col>x2</th><th scope=col>y</th></tr>\n",
              "\t<tr><th scope=col>&lt;int&gt;</th><th scope=col>&lt;int&gt;</th><th scope=col>&lt;int&gt;</th></tr>\n",
              "</thead>\n",
              "<tbody>\n",
              "\t<tr><td>25</td><td>150</td><td>-1</td></tr>\n",
              "\t<tr><td>34</td><td>220</td><td> 1</td></tr>\n",
              "\t<tr><td>26</td><td>210</td><td>-1</td></tr>\n",
              "\t<tr><td>28</td><td>250</td><td> 1</td></tr>\n",
              "\t<tr><td>21</td><td>100</td><td>-1</td></tr>\n",
              "\t<tr><td>31</td><td>220</td><td> 1</td></tr>\n",
              "\t<tr><td>36</td><td>300</td><td> 1</td></tr>\n",
              "\t<tr><td>20</td><td>100</td><td>-1</td></tr>\n",
              "</tbody>\n",
              "</table>\n"
            ],
            "text/markdown": "\nA data.frame: 8 × 3\n\n| x1 &lt;int&gt; | x2 &lt;int&gt; | y &lt;int&gt; |\n|---|---|---|\n| 25 | 150 | -1 |\n| 34 | 220 |  1 |\n| 26 | 210 | -1 |\n| 28 | 250 |  1 |\n| 21 | 100 | -1 |\n| 31 | 220 |  1 |\n| 36 | 300 |  1 |\n| 20 | 100 | -1 |\n\n",
            "text/latex": "A data.frame: 8 × 3\n\\begin{tabular}{lll}\n x1 & x2 & y\\\\\n <int> & <int> & <int>\\\\\n\\hline\n\t 25 & 150 & -1\\\\\n\t 34 & 220 &  1\\\\\n\t 26 & 210 & -1\\\\\n\t 28 & 250 &  1\\\\\n\t 21 & 100 & -1\\\\\n\t 31 & 220 &  1\\\\\n\t 36 & 300 &  1\\\\\n\t 20 & 100 & -1\\\\\n\\end{tabular}\n",
            "text/plain": [
              "  x1 x2  y \n",
              "1 25 150 -1\n",
              "2 34 220  1\n",
              "3 26 210 -1\n",
              "4 28 250  1\n",
              "5 21 100 -1\n",
              "6 31 220  1\n",
              "7 36 300  1\n",
              "8 20 100 -1"
            ]
          },
          "metadata": {}
        }
      ]
    },
    {
      "cell_type": "code",
      "source": [
        "# create a training data using the 8 data.\n",
        "train <- svmdata[1:8,]\n",
        "# create a testing data using the same 8 data\n",
        "test <- svmdata[1:8,]"
      ],
      "metadata": {
        "id": "PeBxjifu4KsG"
      },
      "execution_count": 41,
      "outputs": []
    },
    {
      "cell_type": "code",
      "source": [
        "train.svm = svm(y~x1+x2,type=\"C-classification\", data=train)\n",
        "train.svm"
      ],
      "metadata": {
        "colab": {
          "base_uri": "https://localhost:8080/",
          "height": 208
        },
        "id": "kxrIzreF4QcD",
        "outputId": "bd0873b8-42fc-4339-96fe-66857efca200"
      },
      "execution_count": 42,
      "outputs": [
        {
          "output_type": "display_data",
          "data": {
            "text/plain": [
              "\n",
              "Call:\n",
              "svm(formula = y ~ x1 + x2, data = train, type = \"C-classification\")\n",
              "\n",
              "\n",
              "Parameters:\n",
              "   SVM-Type:  C-classification \n",
              " SVM-Kernel:  radial \n",
              "       cost:  1 \n",
              "\n",
              "Number of Support Vectors:  6\n"
            ]
          },
          "metadata": {}
        }
      ]
    },
    {
      "cell_type": "code",
      "source": [
        "svmpred = predict(train.svm,test)\n",
        "svmpred"
      ],
      "metadata": {
        "colab": {
          "base_uri": "https://localhost:8080/",
          "height": 52
        },
        "id": "Kpp7TQw24Vlz",
        "outputId": "c655bf00-afa2-4320-d3d2-3cd5bfde9181"
      },
      "execution_count": 43,
      "outputs": [
        {
          "output_type": "display_data",
          "data": {
            "text/html": [
              "<style>\n",
              ".dl-inline {width: auto; margin:0; padding: 0}\n",
              ".dl-inline>dt, .dl-inline>dd {float: none; width: auto; display: inline-block}\n",
              ".dl-inline>dt::after {content: \":\\0020\"; padding-right: .5ex}\n",
              ".dl-inline>dt:not(:first-of-type) {padding-left: .5ex}\n",
              "</style><dl class=dl-inline><dt>1</dt><dd>-1</dd><dt>2</dt><dd>1</dd><dt>3</dt><dd>-1</dd><dt>4</dt><dd>1</dd><dt>5</dt><dd>-1</dd><dt>6</dt><dd>1</dd><dt>7</dt><dd>1</dd><dt>8</dt><dd>-1</dd></dl>\n",
              "\n",
              "<details>\n",
              "\t<summary style=display:list-item;cursor:pointer>\n",
              "\t\t<strong>Levels</strong>:\n",
              "\t</summary>\n",
              "\t<style>\n",
              "\t.list-inline {list-style: none; margin:0; padding: 0}\n",
              "\t.list-inline>li {display: inline-block}\n",
              "\t.list-inline>li:not(:last-child)::after {content: \"\\00b7\"; padding: 0 .5ex}\n",
              "\t</style>\n",
              "\t<ol class=list-inline><li>'-1'</li><li>'1'</li></ol>\n",
              "</details>"
            ],
            "text/markdown": "1\n:   -12\n:   13\n:   -14\n:   15\n:   -16\n:   17\n:   18\n:   -1\n\n\n**Levels**: 1. '-1'\n2. '1'\n\n\n",
            "text/latex": "\\begin{description*}\n\\item[1] -1\n\\item[2] 1\n\\item[3] -1\n\\item[4] 1\n\\item[5] -1\n\\item[6] 1\n\\item[7] 1\n\\item[8] -1\n\\end{description*}\n\n\\emph{Levels}: \\begin{enumerate*}\n\\item '-1'\n\\item '1'\n\\end{enumerate*}\n",
            "text/plain": [
              " 1  2  3  4  5  6  7  8 \n",
              "-1  1 -1  1 -1  1  1 -1 \n",
              "Levels: -1 1"
            ]
          },
          "metadata": {}
        }
      ]
    },
    {
      "cell_type": "code",
      "source": [
        "z = table(svmpred,y)\n",
        "z"
      ],
      "metadata": {
        "colab": {
          "base_uri": "https://localhost:8080/",
          "height": 86
        },
        "id": "GTIH7xfB4Xy-",
        "outputId": "1d104f89-4ac6-4b47-fac5-448d5f6ea5c4"
      },
      "execution_count": 44,
      "outputs": [
        {
          "output_type": "display_data",
          "data": {
            "text/plain": [
              "       y\n",
              "svmpred -1 1\n",
              "     -1  4 0\n",
              "     1   0 4"
            ]
          },
          "metadata": {}
        }
      ]
    },
    {
      "cell_type": "code",
      "source": [
        "plot(x1,x2,pch=y)"
      ],
      "metadata": {
        "colab": {
          "base_uri": "https://localhost:8080/",
          "height": 715
        },
        "id": "bVoCh5_s4mAd",
        "outputId": "465b58be-ed21-4bc3-8cf3-a142622f582b"
      },
      "execution_count": 45,
      "outputs": [
        {
          "output_type": "stream",
          "name": "stderr",
          "text": [
            "Warning message in plot.xy(xy, type, ...):\n",
            "“font width unknown for character 0x01 in encoding latin1”\n",
            "Warning message in plot.xy(xy, type, ...):\n",
            "“font metrics unknown for character 0x01 in encoding latin1”\n",
            "Warning message in plot.xy(xy, type, ...):\n",
            "“font width unknown for character 0x01 in encoding latin1”\n",
            "Warning message in plot.xy(xy, type, ...):\n",
            "“font metrics unknown for character 0x01 in encoding latin1”\n",
            "Warning message in plot.xy(xy, type, ...):\n",
            "“font width unknown for character 0x01 in encoding latin1”\n",
            "Warning message in plot.xy(xy, type, ...):\n",
            "“font metrics unknown for character 0x01 in encoding latin1”\n",
            "Warning message in plot.xy(xy, type, ...):\n",
            "“font width unknown for character 0x01 in encoding latin1”\n",
            "Warning message in plot.xy(xy, type, ...):\n",
            "“font metrics unknown for character 0x01 in encoding latin1”\n"
          ]
        },
        {
          "output_type": "display_data",
          "data": {
            "text/plain": [
              "plot without title"
            ],
            "image/png": "[encoded data removed]"
          },
          "metadata": {
            "image/png": {
              "width": 420,
              "height": 420
            }
          }
        }
      ]
    },
    {
      "cell_type": "code",
      "source": [
        "abline(500,-10)"
      ],
      "metadata": {
        "colab": {
          "base_uri": "https://localhost:8080/",
          "height": 280
        },
        "id": "cV0IXc2F4clO",
        "outputId": "1a8f6f3f-0716-4b63-faa6-79dcbbab1fa7"
      },
      "execution_count": 46,
      "outputs": [
        {
          "output_type": "error",
          "ename": "ERROR",
          "evalue": "Error in int_abline(a = a, b = b, h = h, v = v, untf = untf, ...): plot.new has not been called yet\n",
          "traceback": [
            "Error in int_abline(a = a, b = b, h = h, v = v, untf = untf, ...): plot.new has not been called yet\nTraceback:\n",
            "1. int_abline(a = a, b = b, h = h, v = v, untf = untf, ...)",
            "2. .handleSimpleError(function (cnd) \n . {\n .     watcher$capture_plot_and_output()\n .     cnd <- sanitize_call(cnd)\n .     watcher$push(cnd)\n .     switch(on_error, continue = invokeRestart(\"eval_continue\"), \n .         stop = invokeRestart(\"eval_stop\"), error = NULL)\n . }, \"plot.new has not been called yet\", base::quote(int_abline(a = a, \n .     b = b, h = h, v = v, untf = untf, ...)))"
          ]
        }
      ]
    },
    {
      "cell_type": "markdown",
      "source": [
        "# **Ensemble model**"
      ],
      "metadata": {
        "id": "MNIWgzVl4tMn"
      }
    },
    {
      "cell_type": "markdown",
      "source": [
        "## Bagging"
      ],
      "metadata": {
        "id": "b93J-ytVqhpP"
      }
    },
    {
      "cell_type": "code",
      "source": [
        "install.packages('adabag')\n",
        "library(adabag)\n"
      ],
      "metadata": {
        "colab": {
          "base_uri": "https://localhost:8080/"
        },
        "id": "yGgK__h2k82X",
        "outputId": "a39a64ef-6bd2-4e77-a0a2-6e9306d8eea4"
      },
      "execution_count": 3,
      "outputs": [
        {
          "output_type": "stream",
          "name": "stderr",
          "text": [
            "Installing package into ‘/usr/local/lib/R/site-library’\n",
            "(as ‘lib’ is unspecified)\n",
            "\n",
            "also installing the dependencies ‘listenv’, ‘parallelly’, ‘future’, ‘globals’, ‘shape’, ‘future.apply’, ‘numDeriv’, ‘progressr’, ‘SQUAREM’, ‘diagram’, ‘lava’, ‘prodlim’, ‘clock’, ‘gower’, ‘hardhat’, ‘ipred’, ‘sparsevctrs’, ‘timeDate’, ‘XML’, ‘e1071’, ‘ModelMetrics’, ‘plyr’, ‘pROC’, ‘recipes’, ‘reshape2’, ‘iterators’, ‘rgl’, ‘rlist’, ‘proxy’, ‘gtools’, ‘caret’, ‘foreach’, ‘doParallel’, ‘ConsRank’\n",
            "\n",
            "\n",
            "Loading required package: rpart\n",
            "\n",
            "Loading required package: caret\n",
            "\n",
            "Loading required package: ggplot2\n",
            "\n",
            "Loading required package: lattice\n",
            "\n",
            "Loading required package: foreach\n",
            "\n",
            "Loading required package: doParallel\n",
            "\n",
            "Loading required package: iterators\n",
            "\n",
            "Loading required package: parallel\n",
            "\n"
          ]
        }
      ]
    },
    {
      "cell_type": "code",
      "source": [
        "data(iris)\n",
        "# mfinal is an integer which is the number of iterations for which boosting is run\n",
        "iris.bagging <- bagging(Species~., data=iris, mfinal = 10)\n",
        "# list the importance of variable in the classification\n",
        "iris.bagging$importance"
      ],
      "metadata": {
        "colab": {
          "base_uri": "https://localhost:8080/",
          "height": 52
        },
        "id": "FDWahTh3lyH5",
        "outputId": "49d47a31-b91e-4eaf-a8c5-13dee545859a"
      },
      "execution_count": 4,
      "outputs": [
        {
          "output_type": "display_data",
          "data": {
            "text/html": [
              "<style>\n",
              ".dl-inline {width: auto; margin:0; padding: 0}\n",
              ".dl-inline>dt, .dl-inline>dd {float: none; width: auto; display: inline-block}\n",
              ".dl-inline>dt::after {content: \":\\0020\"; padding-right: .5ex}\n",
              ".dl-inline>dt:not(:first-of-type) {padding-left: .5ex}\n",
              "</style><dl class=dl-inline><dt>Petal.Length</dt><dd>81.2417522362464</dd><dt>Petal.Width</dt><dd>18.7582477637536</dd><dt>Sepal.Length</dt><dd>0</dd><dt>Sepal.Width</dt><dd>0</dd></dl>\n"
            ],
            "text/markdown": "Petal.Length\n:   81.2417522362464Petal.Width\n:   18.7582477637536Sepal.Length\n:   0Sepal.Width\n:   0\n\n",
            "text/latex": "\\begin{description*}\n\\item[Petal.Length] 81.2417522362464\n\\item[Petal.Width] 18.7582477637536\n\\item[Sepal.Length] 0\n\\item[Sepal.Width] 0\n\\end{description*}\n",
            "text/plain": [
              "Petal.Length  Petal.Width Sepal.Length  Sepal.Width \n",
              "    81.24175     18.75825      0.00000      0.00000 "
            ]
          },
          "metadata": {}
        }
      ]
    },
    {
      "cell_type": "code",
      "source": [
        "# list the trees grown along the iterations.\n",
        "iris.bagging$trees"
      ],
      "metadata": {
        "colab": {
          "base_uri": "https://localhost:8080/",
          "height": 1000
        },
        "id": "FqDFh39dm4kU",
        "outputId": "87dc0481-9e3a-444b-fda5-15d4fda2c5b8"
      },
      "execution_count": 5,
      "outputs": [
        {
          "output_type": "display_data",
          "data": {
            "text/plain": [
              "[[1]]\n",
              "n= 150 \n",
              "\n",
              "node), split, n, loss, yval, (yprob)\n",
              "      * denotes terminal node\n",
              "\n",
              "1) root 150 92 virginica (0.24000000 0.37333333 0.38666667)  \n",
              "  2) Petal.Width< 1.75 96 40 versicolor (0.37500000 0.58333333 0.04166667)  \n",
              "    4) Petal.Length< 2.45 36  0 setosa (1.00000000 0.00000000 0.00000000) *\n",
              "    5) Petal.Length>=2.45 60  4 versicolor (0.00000000 0.93333333 0.06666667) *\n",
              "  3) Petal.Width>=1.75 54  0 virginica (0.00000000 0.00000000 1.00000000) *\n",
              "\n",
              "[[2]]\n",
              "n= 150 \n",
              "\n",
              "node), split, n, loss, yval, (yprob)\n",
              "      * denotes terminal node\n",
              "\n",
              "1) root 150 97 versicolor (0.34000000 0.35333333 0.30666667)  \n",
              "  2) Petal.Length< 2.5 51  0 setosa (1.00000000 0.00000000 0.00000000) *\n",
              "  3) Petal.Length>=2.5 99 46 versicolor (0.00000000 0.53535354 0.46464646)  \n",
              "    6) Petal.Length< 4.85 52  2 versicolor (0.00000000 0.96153846 0.03846154) *\n",
              "    7) Petal.Length>=4.85 47  3 virginica (0.00000000 0.06382979 0.93617021) *\n",
              "\n",
              "[[3]]\n",
              "n= 150 \n",
              "\n",
              "node), split, n, loss, yval, (yprob)\n",
              "      * denotes terminal node\n",
              "\n",
              "1) root 150 89 virginica (0.2800000 0.3133333 0.4066667)  \n",
              "  2) Petal.Length< 4.85 86 42 versicolor (0.4883721 0.5116279 0.0000000)  \n",
              "    4) Petal.Length< 2.45 42  0 setosa (1.0000000 0.0000000 0.0000000) *\n",
              "    5) Petal.Length>=2.45 44  0 versicolor (0.0000000 1.0000000 0.0000000) *\n",
              "  3) Petal.Length>=4.85 64  3 virginica (0.0000000 0.0468750 0.9531250) *\n",
              "\n",
              "[[4]]\n",
              "n= 150 \n",
              "\n",
              "node), split, n, loss, yval, (yprob)\n",
              "      * denotes terminal node\n",
              "\n",
              "1) root 150 97 setosa (0.35333333 0.30666667 0.34000000)  \n",
              "  2) Petal.Length< 2.6 53  0 setosa (1.00000000 0.00000000 0.00000000) *\n",
              "  3) Petal.Length>=2.6 97 46 virginica (0.00000000 0.47422680 0.52577320)  \n",
              "    6) Petal.Length< 4.85 47  2 versicolor (0.00000000 0.95744681 0.04255319) *\n",
              "    7) Petal.Length>=4.85 50  1 virginica (0.00000000 0.02000000 0.98000000) *\n",
              "\n",
              "[[5]]\n",
              "n= 150 \n",
              "\n",
              "node), split, n, loss, yval, (yprob)\n",
              "      * denotes terminal node\n",
              "\n",
              "1) root 150 95 setosa (0.36666667 0.29333333 0.34000000)  \n",
              "  2) Petal.Length< 2.45 55  0 setosa (1.00000000 0.00000000 0.00000000) *\n",
              "  3) Petal.Length>=2.45 95 44 virginica (0.00000000 0.46315789 0.53684211)  \n",
              "    6) Petal.Width< 1.75 48  4 versicolor (0.00000000 0.91666667 0.08333333) *\n",
              "    7) Petal.Width>=1.75 47  0 virginica (0.00000000 0.00000000 1.00000000) *\n",
              "\n",
              "[[6]]\n",
              "n= 150 \n",
              "\n",
              "node), split, n, loss, yval, (yprob)\n",
              "      * denotes terminal node\n",
              "\n",
              "1) root 150 96 versicolor (0.30666667 0.36000000 0.33333333)  \n",
              "  2) Petal.Length< 2.6 46  0 setosa (1.00000000 0.00000000 0.00000000) *\n",
              "  3) Petal.Length>=2.6 104 50 versicolor (0.00000000 0.51923077 0.48076923)  \n",
              "    6) Petal.Length< 4.75 50  0 versicolor (0.00000000 1.00000000 0.00000000) *\n",
              "    7) Petal.Length>=4.75 54  4 virginica (0.00000000 0.07407407 0.92592593) *\n",
              "\n",
              "[[7]]\n",
              "n= 150 \n",
              "\n",
              "node), split, n, loss, yval, (yprob)\n",
              "      * denotes terminal node\n",
              "\n",
              "1) root 150 94 virginica (0.26666667 0.36000000 0.37333333)  \n",
              "  2) Petal.Length< 4.75 90 40 versicolor (0.44444444 0.55555556 0.00000000)  \n",
              "    4) Petal.Length< 2.45 40  0 setosa (1.00000000 0.00000000 0.00000000) *\n",
              "    5) Petal.Length>=2.45 50  0 versicolor (0.00000000 1.00000000 0.00000000) *\n",
              "  3) Petal.Length>=4.75 60  4 virginica (0.00000000 0.06666667 0.93333333) *\n",
              "\n",
              "[[8]]\n",
              "n= 150 \n",
              "\n",
              "node), split, n, loss, yval, (yprob)\n",
              "      * denotes terminal node\n",
              "\n",
              "1) root 150 91 virginica (0.29333333 0.31333333 0.39333333)  \n",
              "  2) Petal.Length< 2.45 44  0 setosa (1.00000000 0.00000000 0.00000000) *\n",
              "  3) Petal.Length>=2.45 106 47 virginica (0.00000000 0.44339623 0.55660377)  \n",
              "    6) Petal.Width< 1.75 48  3 versicolor (0.00000000 0.93750000 0.06250000) *\n",
              "    7) Petal.Width>=1.75 58  2 virginica (0.00000000 0.03448276 0.96551724) *\n",
              "\n",
              "[[9]]\n",
              "n= 150 \n",
              "\n",
              "node), split, n, loss, yval, (yprob)\n",
              "      * denotes terminal node\n",
              "\n",
              "1) root 150 86 virginica (0.28666667 0.28666667 0.42666667)  \n",
              "  2) Petal.Length< 4.75 83 40 setosa (0.51807229 0.48192771 0.00000000)  \n",
              "    4) Petal.Length< 2.6 43  0 setosa (1.00000000 0.00000000 0.00000000) *\n",
              "    5) Petal.Length>=2.6 40  0 versicolor (0.00000000 1.00000000 0.00000000) *\n",
              "  3) Petal.Length>=4.75 67  3 virginica (0.00000000 0.04477612 0.95522388) *\n",
              "\n",
              "[[10]]\n",
              "n= 150 \n",
              "\n",
              "node), split, n, loss, yval, (yprob)\n",
              "      * denotes terminal node\n",
              "\n",
              "1) root 150 100 setosa (0.33333333 0.33333333 0.33333333)  \n",
              "  2) Petal.Length< 2.3 50   0 setosa (1.00000000 0.00000000 0.00000000) *\n",
              "  3) Petal.Length>=2.3 100  50 versicolor (0.00000000 0.50000000 0.50000000)  \n",
              "    6) Petal.Width< 1.75 55   5 versicolor (0.00000000 0.90909091 0.09090909) *\n",
              "    7) Petal.Width>=1.75 45   0 virginica (0.00000000 0.00000000 1.00000000) *\n"
            ]
          },
          "metadata": {}
        }
      ]
    },
    {
      "cell_type": "code",
      "source": [
        "# plot the decision tree after iteration 10 data\n",
        "plot(iris.bagging$trees[[10]])"
      ],
      "metadata": {
        "colab": {
          "base_uri": "https://localhost:8080/",
          "height": 437
        },
        "id": "UROSCP4am-iN",
        "outputId": "1c617661-6ff9-4a47-d862-1c367f375c51"
      },
      "execution_count": 6,
      "outputs": [
        {
          "output_type": "display_data",
          "data": {
            "text/plain": [
              "plot without title"
            ],
            "image/png": "[encoded data removed]"
          },
          "metadata": {
            "image/png": {
              "width": 420,
              "height": 420
            }
          }
        }
      ]
    },
    {
      "cell_type": "code",
      "source": [
        "# classify the iris data using the bagging model\n",
        "baggingpred <- predict(iris.bagging, newdata=iris)\n",
        "table(baggingpred$class, iris[,5])"
      ],
      "metadata": {
        "colab": {
          "base_uri": "https://localhost:8080/",
          "height": 104
        },
        "id": "EwdN8noFnDU2",
        "outputId": "1a7fc27a-b6ba-4a63-8f77-c7d35041473d"
      },
      "execution_count": 7,
      "outputs": [
        {
          "output_type": "display_data",
          "data": {
            "text/plain": [
              "            \n",
              "             setosa versicolor virginica\n",
              "  setosa         50          0         0\n",
              "  versicolor      0         45         1\n",
              "  virginica       0          5        49"
            ]
          },
          "metadata": {}
        }
      ]
    },
    {
      "cell_type": "code",
      "source": [
        "# calculate the misclassification error\n",
        "baggingtb <- table(baggingpred$class, iris[,5])\n",
        "baggingerror.rpart <- 1-(sum(diag(baggingtb))/sum(baggingtb))\n",
        "# misclassification error is 2.67%\n",
        "baggingerror.rpart"
      ],
      "metadata": {
        "colab": {
          "base_uri": "https://localhost:8080/",
          "height": 34
        },
        "id": "NA4R17VKnKUx",
        "outputId": "94d09983-d9db-49bf-d3dd-301ef457b7d0"
      },
      "execution_count": 8,
      "outputs": [
        {
          "output_type": "display_data",
          "data": {
            "text/html": [
              "0.04"
            ],
            "text/markdown": "0.04",
            "text/latex": "0.04",
            "text/plain": [
              "[1] 0.04"
            ]
          },
          "metadata": {}
        }
      ]
    },
    {
      "cell_type": "markdown",
      "source": [
        "## Boosting"
      ],
      "metadata": {
        "id": "IjZKMLBfqEl1"
      }
    },
    {
      "cell_type": "code",
      "source": [
        "# mfinal is an integer which is the number of iterations for which boosting is run\n",
        "iris.adaboost <- boosting(Species~., data = iris, boos = TRUE, mfinal = 10)"
      ],
      "metadata": {
        "id": "stGQvKu1r58Z"
      },
      "execution_count": 9,
      "outputs": []
    },
    {
      "cell_type": "code",
      "source": [
        "# list the importance of variable in the classification\n",
        "iris.adaboost$importance"
      ],
      "metadata": {
        "colab": {
          "base_uri": "https://localhost:8080/",
          "height": 52
        },
        "id": "tyREaFa0r-0U",
        "outputId": "c825b423-57fe-4ef3-c520-3a0bfdefc907"
      },
      "execution_count": 10,
      "outputs": [
        {
          "output_type": "display_data",
          "data": {
            "text/html": [
              "<style>\n",
              ".dl-inline {width: auto; margin:0; padding: 0}\n",
              ".dl-inline>dt, .dl-inline>dd {float: none; width: auto; display: inline-block}\n",
              ".dl-inline>dt::after {content: \":\\0020\"; padding-right: .5ex}\n",
              ".dl-inline>dt:not(:first-of-type) {padding-left: .5ex}\n",
              "</style><dl class=dl-inline><dt>Petal.Length</dt><dd>61.4668090561001</dd><dt>Petal.Width</dt><dd>23.7402558531382</dd><dt>Sepal.Length</dt><dd>6.09757648180498</dd><dt>Sepal.Width</dt><dd>8.69535860895679</dd></dl>\n"
            ],
            "text/markdown": "Petal.Length\n:   61.4668090561001Petal.Width\n:   23.7402558531382Sepal.Length\n:   6.09757648180498Sepal.Width\n:   8.69535860895679\n\n",
            "text/latex": "\\begin{description*}\n\\item[Petal.Length] 61.4668090561001\n\\item[Petal.Width] 23.7402558531382\n\\item[Sepal.Length] 6.09757648180498\n\\item[Sepal.Width] 8.69535860895679\n\\end{description*}\n",
            "text/plain": [
              "Petal.Length  Petal.Width Sepal.Length  Sepal.Width \n",
              "   61.466809    23.740256     6.097576     8.695359 "
            ]
          },
          "metadata": {}
        }
      ]
    },
    {
      "cell_type": "code",
      "source": [
        "# list the trees grown along the iterations.\n",
        "iris.adaboost$trees"
      ],
      "metadata": {
        "colab": {
          "base_uri": "https://localhost:8080/",
          "height": 1000
        },
        "id": "soU00emAsB3H",
        "outputId": "964be131-e2df-425d-f991-9786a852e378"
      },
      "execution_count": 11,
      "outputs": [
        {
          "output_type": "display_data",
          "data": {
            "text/plain": [
              "[[1]]\n",
              "n= 150 \n",
              "\n",
              "node), split, n, loss, yval, (yprob)\n",
              "      * denotes terminal node\n",
              "\n",
              "1) root 150 96 setosa (0.36000000 0.34666667 0.29333333)  \n",
              "  2) Petal.Length< 2.45 54  0 setosa (1.00000000 0.00000000 0.00000000) *\n",
              "  3) Petal.Length>=2.45 96 44 versicolor (0.00000000 0.54166667 0.45833333)  \n",
              "    6) Petal.Length< 4.85 51  1 versicolor (0.00000000 0.98039216 0.01960784) *\n",
              "    7) Petal.Length>=4.85 45  2 virginica (0.00000000 0.04444444 0.95555556) *\n",
              "\n",
              "[[2]]\n",
              "n= 150 \n",
              "\n",
              "node), split, n, loss, yval, (yprob)\n",
              "      * denotes terminal node\n",
              "\n",
              "1) root 150 96 versicolor (0.3400000 0.3600000 0.3000000)  \n",
              "  2) Petal.Length< 2.45 51  0 setosa (1.0000000 0.0000000 0.0000000) *\n",
              "  3) Petal.Length>=2.45 99 45 versicolor (0.0000000 0.5454545 0.4545455)  \n",
              "    6) Petal.Width< 1.75 61  7 versicolor (0.0000000 0.8852459 0.1147541) *\n",
              "    7) Petal.Width>=1.75 38  0 virginica (0.0000000 0.0000000 1.0000000) *\n",
              "\n",
              "[[3]]\n",
              "n= 150 \n",
              "\n",
              "node), split, n, loss, yval, (yprob)\n",
              "      * denotes terminal node\n",
              "\n",
              " 1) root 150 83 virginica (0.2400000 0.3133333 0.4466667)  \n",
              "   2) Petal.Length< 2.85 36  0 setosa (1.0000000 0.0000000 0.0000000) *\n",
              "   3) Petal.Length>=2.85 114 47 virginica (0.0000000 0.4122807 0.5877193)  \n",
              "     6) Petal.Width< 1.65 48 10 versicolor (0.0000000 0.7916667 0.2083333)  \n",
              "      12) Petal.Length< 4.95 33  0 versicolor (0.0000000 1.0000000 0.0000000) *\n",
              "      13) Petal.Length>=4.95 15  5 virginica (0.0000000 0.3333333 0.6666667) *\n",
              "     7) Petal.Width>=1.65 66  9 virginica (0.0000000 0.1363636 0.8636364)  \n",
              "      14) Sepal.Width>=2.95 32  9 virginica (0.0000000 0.2812500 0.7187500)  \n",
              "        28) Petal.Length< 5.05 11  2 versicolor (0.0000000 0.8181818 0.1818182) *\n",
              "        29) Petal.Length>=5.05 21  0 virginica (0.0000000 0.0000000 1.0000000) *\n",
              "      15) Sepal.Width< 2.95 34  0 virginica (0.0000000 0.0000000 1.0000000) *\n",
              "\n",
              "[[4]]\n",
              "n= 150 \n",
              "\n",
              "node), split, n, loss, yval, (yprob)\n",
              "      * denotes terminal node\n",
              "\n",
              " 1) root 150 86 virginica (0.1866667 0.3866667 0.4266667)  \n",
              "   2) Petal.Length< 2.6 28  0 setosa (1.0000000 0.0000000 0.0000000) *\n",
              "   3) Petal.Length>=2.6 122 58 virginica (0.0000000 0.4754098 0.5245902)  \n",
              "     6) Petal.Width< 1.65 60 10 versicolor (0.0000000 0.8333333 0.1666667)  \n",
              "      12) Petal.Length< 4.95 37  0 versicolor (0.0000000 1.0000000 0.0000000) *\n",
              "      13) Petal.Length>=4.95 23 10 versicolor (0.0000000 0.5652174 0.4347826)  \n",
              "        26) Sepal.Length< 6.05 15  2 versicolor (0.0000000 0.8666667 0.1333333) *\n",
              "        27) Sepal.Length>=6.05 8  0 virginica (0.0000000 0.0000000 1.0000000) *\n",
              "     7) Petal.Width>=1.65 62  8 virginica (0.0000000 0.1290323 0.8709677)  \n",
              "      14) Petal.Length< 5.05 33  8 virginica (0.0000000 0.2424242 0.7575758)  \n",
              "        28) Sepal.Length>=6.1 8  3 versicolor (0.0000000 0.6250000 0.3750000) *\n",
              "        29) Sepal.Length< 6.1 25  3 virginica (0.0000000 0.1200000 0.8800000) *\n",
              "      15) Petal.Length>=5.05 29  0 virginica (0.0000000 0.0000000 1.0000000) *\n",
              "\n",
              "[[5]]\n",
              "n= 150 \n",
              "\n",
              "node), split, n, loss, yval, (yprob)\n",
              "      * denotes terminal node\n",
              "\n",
              " 1) root 150 79 virginica (0.2000000 0.3266667 0.4733333)  \n",
              "   2) Petal.Length< 2.45 30  0 setosa (1.0000000 0.0000000 0.0000000) *\n",
              "   3) Petal.Length>=2.45 120 49 virginica (0.0000000 0.4083333 0.5916667)  \n",
              "     6) Petal.Width< 1.65 50 10 versicolor (0.0000000 0.8000000 0.2000000)  \n",
              "      12) Sepal.Width>=2.25 42  4 versicolor (0.0000000 0.9047619 0.0952381) *\n",
              "      13) Sepal.Width< 2.25 8  2 virginica (0.0000000 0.2500000 0.7500000) *\n",
              "     7) Petal.Width>=1.65 70  9 virginica (0.0000000 0.1285714 0.8714286) *\n",
              "\n",
              "[[6]]\n",
              "n= 150 \n",
              "\n",
              "node), split, n, loss, yval, (yprob)\n",
              "      * denotes terminal node\n",
              "\n",
              " 1) root 150 71 virginica (0.06666667 0.40666667 0.52666667)  \n",
              "   2) Petal.Length< 4.45 34 10 versicolor (0.29411765 0.70588235 0.00000000)  \n",
              "     4) Sepal.Width>=3.05 10  0 setosa (1.00000000 0.00000000 0.00000000) *\n",
              "     5) Sepal.Width< 3.05 24  0 versicolor (0.00000000 1.00000000 0.00000000) *\n",
              "   3) Petal.Length>=4.45 116 37 virginica (0.00000000 0.31896552 0.68103448)  \n",
              "     6) Sepal.Width>=3.15 20  5 versicolor (0.00000000 0.75000000 0.25000000)  \n",
              "      12) Sepal.Length< 6.1 13  0 versicolor (0.00000000 1.00000000 0.00000000) *\n",
              "      13) Sepal.Length>=6.1 7  2 virginica (0.00000000 0.28571429 0.71428571) *\n",
              "     7) Sepal.Width< 3.15 96 22 virginica (0.00000000 0.22916667 0.77083333)  \n",
              "      14) Petal.Width< 1.75 55 22 virginica (0.00000000 0.40000000 0.60000000)  \n",
              "        28) Sepal.Width>=2.65 27  9 versicolor (0.00000000 0.66666667 0.33333333)  \n",
              "          56) Sepal.Length< 6.15 12  0 versicolor (0.00000000 1.00000000 0.00000000) *\n",
              "          57) Sepal.Length>=6.15 15  6 virginica (0.00000000 0.40000000 0.60000000) *\n",
              "        29) Sepal.Width< 2.65 28  4 virginica (0.00000000 0.14285714 0.85714286) *\n",
              "      15) Petal.Width>=1.75 41  0 virginica (0.00000000 0.00000000 1.00000000) *\n",
              "\n",
              "[[7]]\n",
              "n= 150 \n",
              "\n",
              "node), split, n, loss, yval, (yprob)\n",
              "      * denotes terminal node\n",
              "\n",
              "  1) root 150 72 versicolor (0.12666667 0.52000000 0.35333333)  \n",
              "    2) Petal.Length< 2.6 19  0 setosa (1.00000000 0.00000000 0.00000000) *\n",
              "    3) Petal.Length>=2.6 131 53 versicolor (0.00000000 0.59541985 0.40458015)  \n",
              "      6) Petal.Length< 5.15 110 32 versicolor (0.00000000 0.70909091 0.29090909)  \n",
              "       12) Sepal.Width>=3.05 30  0 versicolor (0.00000000 1.00000000 0.00000000) *\n",
              "       13) Sepal.Width< 3.05 80 32 versicolor (0.00000000 0.60000000 0.40000000)  \n",
              "         26) Petal.Width< 1.75 64 16 versicolor (0.00000000 0.75000000 0.25000000)  \n",
              "           52) Sepal.Width>=2.55 39  3 versicolor (0.00000000 0.92307692 0.07692308) *\n",
              "           53) Sepal.Width< 2.55 25 12 virginica (0.00000000 0.48000000 0.52000000)  \n",
              "            106) Sepal.Length>=6.1 9  0 versicolor (0.00000000 1.00000000 0.00000000) *\n",
              "            107) Sepal.Length< 6.1 16  3 virginica (0.00000000 0.18750000 0.81250000) *\n",
              "         27) Petal.Width>=1.75 16  0 virginica (0.00000000 0.00000000 1.00000000) *\n",
              "      7) Petal.Length>=5.15 21  0 virginica (0.00000000 0.00000000 1.00000000) *\n",
              "\n",
              "[[8]]\n",
              "n= 150 \n",
              "\n",
              "node), split, n, loss, yval, (yprob)\n",
              "      * denotes terminal node\n",
              "\n",
              " 1) root 150 76 versicolor (0.14666667 0.49333333 0.36000000)  \n",
              "   2) Petal.Length< 2.35 22  0 setosa (1.00000000 0.00000000 0.00000000) *\n",
              "   3) Petal.Length>=2.35 128 54 versicolor (0.00000000 0.57812500 0.42187500)  \n",
              "     6) Petal.Length< 5.05 89 19 versicolor (0.00000000 0.78651685 0.21348315)  \n",
              "      12) Sepal.Length>=4.95 81 13 versicolor (0.00000000 0.83950617 0.16049383)  \n",
              "        24) Sepal.Width>=2.25 71  7 versicolor (0.00000000 0.90140845 0.09859155)  \n",
              "          48) Petal.Width< 1.75 50  0 versicolor (0.00000000 1.00000000 0.00000000) *\n",
              "          49) Petal.Width>=1.75 21  7 versicolor (0.00000000 0.66666667 0.33333333)  \n",
              "            98) Sepal.Length< 5.95 14  0 versicolor (0.00000000 1.00000000 0.00000000) *\n",
              "            99) Sepal.Length>=5.95 7  0 virginica (0.00000000 0.00000000 1.00000000) *\n",
              "        25) Sepal.Width< 2.25 10  4 virginica (0.00000000 0.40000000 0.60000000) *\n",
              "      13) Sepal.Length< 4.95 8  2 virginica (0.00000000 0.25000000 0.75000000) *\n",
              "     7) Petal.Length>=5.05 39  4 virginica (0.00000000 0.10256410 0.89743590)  \n",
              "      14) Sepal.Length< 6.05 7  3 versicolor (0.00000000 0.57142857 0.42857143) *\n",
              "      15) Sepal.Length>=6.05 32  0 virginica (0.00000000 0.00000000 1.00000000) *\n",
              "\n",
              "[[9]]\n",
              "n= 150 \n",
              "\n",
              "node), split, n, loss, yval, (yprob)\n",
              "      * denotes terminal node\n",
              "\n",
              " 1) root 150 69 versicolor (0.1133333 0.5400000 0.3466667)  \n",
              "   2) Petal.Length< 2.5 17  0 setosa (1.0000000 0.0000000 0.0000000) *\n",
              "   3) Petal.Length>=2.5 133 52 versicolor (0.0000000 0.6090226 0.3909774)  \n",
              "     6) Petal.Length< 4.85 82 15 versicolor (0.0000000 0.8170732 0.1829268)  \n",
              "      12) Petal.Width< 1.6 51  0 versicolor (0.0000000 1.0000000 0.0000000) *\n",
              "      13) Petal.Width>=1.6 31 15 versicolor (0.0000000 0.5161290 0.4838710)  \n",
              "        26) Sepal.Width>=3.1 16  0 versicolor (0.0000000 1.0000000 0.0000000) *\n",
              "        27) Sepal.Width< 3.1 15  0 virginica (0.0000000 0.0000000 1.0000000) *\n",
              "     7) Petal.Length>=4.85 51 14 virginica (0.0000000 0.2745098 0.7254902)  \n",
              "      14) Sepal.Length>=6.55 16  7 versicolor (0.0000000 0.5625000 0.4375000) *\n",
              "      15) Sepal.Length< 6.55 35  5 virginica (0.0000000 0.1428571 0.8571429) *\n",
              "\n",
              "[[10]]\n",
              "n= 150 \n",
              "\n",
              "node), split, n, loss, yval, (yprob)\n",
              "      * denotes terminal node\n",
              "\n",
              " 1) root 150 68 versicolor (0.07333333 0.54666667 0.38000000)  \n",
              "   2) Petal.Width< 1.75 103 28 versicolor (0.10679612 0.72815534 0.16504854)  \n",
              "     4) Petal.Length< 2.35 11  0 setosa (1.00000000 0.00000000 0.00000000) *\n",
              "     5) Petal.Length>=2.35 92 17 versicolor (0.00000000 0.81521739 0.18478261)  \n",
              "      10) Petal.Length< 4.95 62  3 versicolor (0.00000000 0.95161290 0.04838710) *\n",
              "      11) Petal.Length>=4.95 30 14 versicolor (0.00000000 0.53333333 0.46666667)  \n",
              "        22) Petal.Width>=1.55 17  1 versicolor (0.00000000 0.94117647 0.05882353) *\n",
              "        23) Petal.Width< 1.55 13  0 virginica (0.00000000 0.00000000 1.00000000) *\n",
              "   3) Petal.Width>=1.75 47  7 virginica (0.00000000 0.14893617 0.85106383)  \n",
              "     6) Sepal.Width>=3.15 13  6 versicolor (0.00000000 0.53846154 0.46153846) *\n",
              "     7) Sepal.Width< 3.15 34  0 virginica (0.00000000 0.00000000 1.00000000) *\n"
            ]
          },
          "metadata": {}
        }
      ]
    },
    {
      "cell_type": "code",
      "source": [
        "# plot the decision tree after iteration 10 data\n",
        "plot(iris.adaboost$trees[[10]])"
      ],
      "metadata": {
        "colab": {
          "base_uri": "https://localhost:8080/",
          "height": 437
        },
        "id": "wNePch6rsFkG",
        "outputId": "7a28541c-8d3b-4f2e-c96b-13ca6c9812e2"
      },
      "execution_count": 12,
      "outputs": [
        {
          "output_type": "display_data",
          "data": {
            "text/plain": [
              "plot without title"
            ],
            "image/png": "[encoded data removed]"
          },
          "metadata": {
            "image/png": {
              "width": 420,
              "height": 420
            }
          }
        }
      ]
    },
    {
      "cell_type": "code",
      "source": [
        "text(iris.adaboost$trees[[10]])"
      ],
      "metadata": {
        "colab": {
          "base_uri": "https://localhost:8080/",
          "height": 245
        },
        "id": "aKInXLEFsJFm",
        "outputId": "84ac21bf-d296-4ff7-c4e0-5fe0778965f9"
      },
      "execution_count": 1,
      "outputs": [
        {
          "output_type": "error",
          "ename": "ERROR",
          "evalue": "Error: object 'iris.adaboost' not found\n",
          "traceback": [
            "Error: object 'iris.adaboost' not found\nTraceback:\n",
            "1. .handleSimpleError(function (cnd) \n . {\n .     watcher$capture_plot_and_output()\n .     cnd <- sanitize_call(cnd)\n .     watcher$push(cnd)\n .     switch(on_error, continue = invokeRestart(\"eval_continue\"), \n .         stop = invokeRestart(\"eval_stop\"), error = NULL)\n . }, \"object 'iris.adaboost' not found\", base::quote(eval(expr, \n .     envir)))"
          ]
        }
      ]
    },
    {
      "cell_type": "code",
      "source": [
        "# classify the iris data using the adaboosting model\n",
        "adaboostpred <- predict(iris.adaboost, newdata=iris)"
      ],
      "metadata": {
        "id": "iEdp0xp2sOTH"
      },
      "execution_count": 14,
      "outputs": []
    },
    {
      "cell_type": "code",
      "source": [
        "table(adaboostpred$class, iris[,5])"
      ],
      "metadata": {
        "colab": {
          "base_uri": "https://localhost:8080/",
          "height": 104
        },
        "id": "yy_00kyfsRkT",
        "outputId": "80a85231-199a-4321-92ec-8555fa025416"
      },
      "execution_count": 15,
      "outputs": [
        {
          "output_type": "display_data",
          "data": {
            "text/plain": [
              "            \n",
              "             setosa versicolor virginica\n",
              "  setosa         50          0         0\n",
              "  versicolor      0         50         0\n",
              "  virginica       0          0        50"
            ]
          },
          "metadata": {}
        }
      ]
    },
    {
      "cell_type": "code",
      "source": [
        "# calculate the misclassification error\n",
        "adaboosttb <- table(adaboostpred$class, iris[,5])"
      ],
      "metadata": {
        "id": "HedgUvemsafJ"
      },
      "execution_count": 16,
      "outputs": []
    },
    {
      "cell_type": "code",
      "source": [
        "adaboosterror <- 1-(sum(diag(adaboosttb))/sum(adaboosttb))"
      ],
      "metadata": {
        "id": "9MUomdoEtEke"
      },
      "execution_count": 17,
      "outputs": []
    },
    {
      "cell_type": "code",
      "source": [
        "# misclassification error is 0%\n",
        "adaboosterror"
      ],
      "metadata": {
        "colab": {
          "base_uri": "https://localhost:8080/",
          "height": 34
        },
        "id": "Nkf7MasttH84",
        "outputId": "621191fc-fcb4-4892-d5d5-1f19d8458713"
      },
      "execution_count": 18,
      "outputs": [
        {
          "output_type": "display_data",
          "data": {
            "text/html": [
              "0"
            ],
            "text/markdown": "0",
            "text/latex": "0",
            "text/plain": [
              "[1] 0"
            ]
          },
          "metadata": {}
        }
      ]
    },
    {
      "cell_type": "markdown",
      "source": [
        "# Random Forest"
      ],
      "metadata": {
        "id": "DzIYmT68sala"
      }
    },
    {
      "cell_type": "code",
      "source": [
        "install.packages('randomForest')\n",
        "library(randomForest)\n",
        "data(iris)"
      ],
      "metadata": {
        "colab": {
          "base_uri": "https://localhost:8080/"
        },
        "id": "NucpOIQquWwX",
        "outputId": "950debef-2c5d-43e0-bb8f-1b58deebbb2a"
      },
      "execution_count": 2,
      "outputs": [
        {
          "output_type": "stream",
          "name": "stderr",
          "text": [
            "Installing package into ‘/usr/local/lib/R/site-library’\n",
            "(as ‘lib’ is unspecified)\n",
            "\n",
            "randomForest 4.7-1.2\n",
            "\n",
            "Type rfNews() to see new features/changes/bug fixes.\n",
            "\n"
          ]
        }
      ]
    },
    {
      "cell_type": "code",
      "source": [
        " iris.forest <- randomForest(Species~., data=iris, ntree = 100, proximity=TRUE)"
      ],
      "metadata": {
        "id": "dwI2i6CfHhmP"
      },
      "execution_count": 3,
      "outputs": []
    },
    {
      "cell_type": "code",
      "source": [
        "# classify the iris data using the bagging model\n",
        "table(predict(iris.forest), iris[,5])"
      ],
      "metadata": {
        "colab": {
          "base_uri": "https://localhost:8080/",
          "height": 104
        },
        "id": "LHN40-hvue80",
        "outputId": "85239c60-66de-428f-fed5-61fc061929dd"
      },
      "execution_count": 4,
      "outputs": [
        {
          "output_type": "display_data",
          "data": {
            "text/plain": [
              "            \n",
              "             setosa versicolor virginica\n",
              "  setosa         50          0         0\n",
              "  versicolor      0         47         3\n",
              "  virginica       0          3        47"
            ]
          },
          "metadata": {}
        }
      ]
    },
    {
      "cell_type": "code",
      "source": [
        "foresttb <- table(predict(iris.forest), iris[,5])"
      ],
      "metadata": {
        "id": "447U7j8JHlNV"
      },
      "execution_count": 5,
      "outputs": []
    },
    {
      "cell_type": "code",
      "source": [
        "foresterror <- 1-(sum(diag(foresttb))/sum(foresttb))"
      ],
      "metadata": {
        "id": "nBnf5yjjHnaK"
      },
      "execution_count": 6,
      "outputs": []
    },
    {
      "cell_type": "code",
      "source": [
        "foresterror"
      ],
      "metadata": {
        "colab": {
          "base_uri": "https://localhost:8080/",
          "height": 34
        },
        "id": "hYZGpATyHpg3",
        "outputId": "9b3fe757-89a7-46f8-ef7e-756983139dde"
      },
      "execution_count": 7,
      "outputs": [
        {
          "output_type": "display_data",
          "data": {
            "text/html": [
              "0.04"
            ],
            "text/markdown": "0.04",
            "text/latex": "0.04",
            "text/plain": [
              "[1] 0.04"
            ]
          },
          "metadata": {}
        }
      ]
    }
  ]
}