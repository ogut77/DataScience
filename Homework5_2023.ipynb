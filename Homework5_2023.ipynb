{
  "nbformat": 4,
  "nbformat_minor": 0,
  "metadata": {
    "colab": {
      "provenance": [],
      "authorship_tag": "ABX9TyOoTb9XChByhbBZO70Bk5LZ",
      "include_colab_link": true
    },
    "kernelspec": {
      "name": "python3",
      "display_name": "Python 3"
    },
    "language_info": {
      "name": "python"
    }
  },
  "cells": [
    {
      "cell_type": "markdown",
      "metadata": {
        "id": "view-in-github",
        "colab_type": "text"
      },
      "source": [
        "<a href=\"https://colab.research.google.com/github/ogut77/DataScience/blob/main/Homework5_2023.ipynb\" target=\"_parent\"><img src=\"https://colab.research.google.com/assets/colab-badge.svg\" alt=\"Open In Colab\"/></a>"
      ]
    },
    {
      "cell_type": "code",
      "execution_count": null,
      "metadata": {
        "id": "F0fOzKP-43mA"
      },
      "outputs": [],
      "source": [
        "# Data description is provided below\n",
        "import pandas as pd\n",
        "import numpy as np\n",
        "df = pd.read_csv('https://raw.githubusercontent.com/ogut77/DataScience/main/data/Leads.csv')\n",
        "df.info()"
      ]
    },
    {
      "cell_type": "code",
      "source": [
        " #There are missing values in the Lead data .\n",
        "# Replace missing variables with the mean  if variable is numeric or mode if variable is categorical.\n",
        "for col in df.columns:\n",
        "    if ((df[col].dtype == 'float64') or (df[col].dtype == 'float64')) :\n",
        "        df[col] = df[col].fillna(df[col].mean())\n",
        "    else:\n",
        "        df[col] = df[col].fillna(df[col].mode()[0])\n"
      ],
      "metadata": {
        "id": "ihog3y2T9uKN"
      },
      "execution_count": null,
      "outputs": []
    },
    {
      "cell_type": "code",
      "source": [
        "#Check that there are no missing data\n",
        "df.isnull().sum()"
      ],
      "metadata": {
        "id": "MekOuGEPHK0x"
      },
      "execution_count": null,
      "outputs": []
    },
    {
      "cell_type": "code",
      "source": [
        "from sklearn.preprocessing import LabelEncoder\n",
        "from sklearn.model_selection import train_test_split\n",
        "\n",
        "le = LabelEncoder()\n",
        "for col in df.columns:\n",
        "    if df[col].dtype == 'object':\n",
        "        df[col] = le.fit_transform(df[col])\n",
        "\n",
        "df = df.drop(columns=['Prospect ID','Lead Number'])\n",
        "y = df['Converted']\n",
        "X = df.drop(columns=['Converted'])\n",
        "\n",
        "X_train, X_test, y_train, y_test = train_test_split(X, y, test_size=0.30)"
      ],
      "metadata": {
        "id": "DKJ3NU0X_Gch"
      },
      "execution_count": null,
      "outputs": []
    },
    {
      "cell_type": "code",
      "source": [
        "def eval(yact,ypred):\n",
        " from sklearn import metrics\n",
        " print(\"Accuracy:\",metrics.accuracy_score(yact, ypred))\n",
        " print(\"Precision:\",metrics.precision_score(yact, ypred))\n",
        " print(\"Recall:\",metrics.recall_score(yact, ypred))\n",
        " \n",
        " cnf_matrix = metrics.confusion_matrix(yact, ypred)\n",
        " import numpy as np\n",
        " import matplotlib.pyplot as plt\n",
        " import seaborn as sns\n",
        " %matplotlib inline\n",
        " class_names=[0,1] # name  of classes\n",
        " fig, ax = plt.subplots()\n",
        " tick_marks = np.arange(len(class_names))\n",
        " plt.xticks(tick_marks, class_names)\n",
        " plt.yticks(tick_marks, class_names)\n",
        " # create heatmap\n",
        " sns.heatmap(pd.DataFrame(cnf_matrix), annot=True, cmap=\"YlGnBu\" ,fmt='g')\n",
        " ax.xaxis.set_label_position(\"top\")\n",
        " plt.tight_layout()\n",
        " plt.title('Confusion matrix', y=1.1)\n",
        " plt.ylabel('Actual label')\n",
        " plt.xlabel('Predicted label')\n"
      ],
      "metadata": {
        "id": "qyiN6tHuE4Zl"
      },
      "execution_count": null,
      "outputs": []
    },
    {
      "cell_type": "code",
      "source": [
        "#1)With optuna method and using train data  choose best method among Random Forest\",\"XGBoost\", \"LightGBM\",\"GradientBoostingClassifier\"\n",
        "#and optimeze these method based on following parameters.\n",
        "#max_depth = trial.suggest_int(\"max_depth\", 2,X_train.shape[1])\n",
        "#max_features = trial.suggest_int(\"max_features\", 2,X_train.shape[1])\n",
        "#Evaluate performance of the best method on test data using eval function defined above.\n",
        "#Note: This should be similar to what we have done in the exercises in class. "
      ],
      "metadata": {
        "id": "g2gxBq6kCdWa"
      },
      "execution_count": null,
      "outputs": []
    },
    {
      "cell_type": "code",
      "source": [
        "#2)Using pycaret AutoML tools,make prediction on test data and evaluate performance of prediction using eval function defined above."
      ],
      "metadata": {
        "id": "vTf67JtDK-dP"
      },
      "execution_count": null,
      "outputs": []
    },
    {
      "cell_type": "code",
      "source": [
        "#3) Using Autogluon  AutoML tools,make prediction on test data and evaluate performance of prediction using eval function defined above."
      ],
      "metadata": {
        "id": "R1SvLYWmL8AM"
      },
      "execution_count": null,
      "outputs": []
    }
  ]
}